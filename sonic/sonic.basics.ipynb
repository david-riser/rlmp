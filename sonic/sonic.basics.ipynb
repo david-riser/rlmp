{
 "cells": [
  {
   "cell_type": "markdown",
   "metadata": {},
   "source": [
    "### Technical Things To Do\n",
    "- Setup nuts/bolts and try imitation learning on one level (done)\n",
    "- Optimize imitation learning training on one level\n",
    "- Setup nuts/bolts and try imitation learning on all levels, test generalization (not strictly necessary for the goal of this work)\n",
    "- Specify a generic evaluation protocol that can be used for all agents\n",
    "    - Fixed frame score over a number of evaluation attempts at the same level, mean.\n",
    "- Try learning from scratch with an RL, record the mean episodic reward throughout training.\n",
    "- Use the same agent but pre-trained with human demonstrations, record the mean episodic reward throughout training."
   ]
  },
  {
   "cell_type": "code",
   "execution_count": 1,
   "metadata": {},
   "outputs": [],
   "source": [
    "import base64\n",
    "import gym\n",
    "import io\n",
    "import matplotlib.pyplot as plt\n",
    "import numpy as np\n",
    "import os\n",
    "import pandas as pd\n",
    "import retro\n",
    "import tensorflow as tf\n",
    "import time\n",
    "\n",
    "from gym import wrappers\n",
    "from IPython.display import clear_output\n",
    "from sklearn.model_selection import train_test_split\n",
    "from sklearn.preprocessing import LabelEncoder\n",
    "\n",
    "%matplotlib inline"
   ]
  },
  {
   "cell_type": "code",
   "execution_count": 2,
   "metadata": {},
   "outputs": [],
   "source": [
    "levels = [\n",
    "    'MarbleZone.Act1','MarbleZone.Act2','MarbleZone.Act3',\n",
    "    'GreenHillZone.Act1','GreenHillZone.Act2','GreenHillZone.Act3',\n",
    "    'LabyrinthZone.Act1','LabyrinthZone.Act2','LabyrinthZone.Act3', \n",
    "    'SpringYardZone.Act1','SpringYardZone.Act2','SpringYardZone.Act3', \n",
    "    'StarLightZone.Act1','StarLightZone.Act2','StarLightZone.Act3',\n",
    "    'ScrapBrainZone.Act1','ScrapBrainZone.Act2' \n",
    "]\n",
    "\n",
    "config = {}\n",
    "config['data_path'] = os.path.abspath(\"./data/human\")\n",
    "config['level'] = 'GreenHillZone.Act1'\n",
    "\n",
    "config['epochs'] = 20\n",
    "config['batches_per_epoch'] = 40\n",
    "config['batch_size'] = 32\n",
    "config['patience'] = 5"
   ]
  },
  {
   "cell_type": "code",
   "execution_count": 3,
   "metadata": {},
   "outputs": [],
   "source": [
    "def extract_human_data(movie_path):\n",
    "    \"\"\" Given a path to a replay file, load it and \n",
    "        extract the series of state-action pairs.\n",
    "    \"\"\"\n",
    "    movie = retro.Movie(movie_path)\n",
    "    movie.step()\n",
    "\n",
    "    env = retro.make(game=movie.get_game(), state=retro.State.NONE, \n",
    "                     use_restricted_actions=retro.Actions.ALL)\n",
    "    env.initial_state = movie.get_state()\n",
    "    state = env.reset()\n",
    "\n",
    "    states, actions, next_states, rewards, dones = [], [], [], [], []\n",
    "    while movie.step():\n",
    "        keys = []\n",
    "        for i in range(len(env.buttons)):\n",
    "            keys.append(movie.get_key(i, 0))\n",
    "            \n",
    "        next_state, reward, done, info = env.step(keys)\n",
    "        actions.append(np.int8(keys))\n",
    "        states.append(state)\n",
    "        next_states.append(next_state)\n",
    "        rewards.append(reward)\n",
    "        dones.append(done)\n",
    "        \n",
    "        state = next_state\n",
    "        \n",
    "    return states, actions, next_states, rewards, dones"
   ]
  },
  {
   "cell_type": "code",
   "execution_count": 4,
   "metadata": {},
   "outputs": [],
   "source": [
    "states, actions, next_states, rewards, dones = extract_human_data(f\"data/human/SonicTheHedgehog-Genesis-{config['level']}-0000.bk2\")"
   ]
  },
  {
   "cell_type": "code",
   "execution_count": 5,
   "metadata": {},
   "outputs": [
    {
     "name": "stdout",
     "output_type": "stream",
     "text": [
      "[[0 0 0 0 0 0 0 1 0 0 0 0]\n",
      " [0 0 0 0 0 0 0 0 0 0 0 0]\n",
      " [0 1 0 0 0 0 0 1 0 0 0 0]\n",
      " [0 0 0 0 0 0 1 0 0 0 0 0]\n",
      " [0 0 0 0 1 0 1 0 0 0 0 0]\n",
      " [0 1 0 0 0 0 0 0 0 0 0 0]\n",
      " [0 1 0 0 0 0 1 0 0 0 0 0]\n",
      " [0 0 0 0 0 1 0 0 0 0 0 0]\n",
      " [0 0 0 0 0 1 1 0 0 0 0 0]\n",
      " [0 0 0 0 0 1 0 1 0 0 0 0]\n",
      " [0 1 0 0 1 0 0 1 0 0 0 0]\n",
      " [0 0 0 0 1 0 0 0 0 0 0 0]] [1841  881  224  139   38   21   18   16    5    4    3    1]\n"
     ]
    }
   ],
   "source": [
    "unique_actions, counts = np.unique(actions, axis=0, return_counts=True)\n",
    "\n",
    "ordering = np.argsort(counts)[::-1]\n",
    "unique_actions = unique_actions[ordering]\n",
    "counts = counts[ordering]\n",
    "print(unique_actions, counts)"
   ]
  },
  {
   "cell_type": "code",
   "execution_count": 6,
   "metadata": {},
   "outputs": [
    {
     "name": "stdout",
     "output_type": "stream",
     "text": [
      "Identified 12 unique actions of 4096 possible.\n"
     ]
    }
   ],
   "source": [
    "print(f\"Identified {len(counts)} unique actions of {2**12} possible.\")"
   ]
  },
  {
   "cell_type": "markdown",
   "metadata": {},
   "source": [
    "### Reduced Action Space\n",
    "Humans are only displaying a very limited subset of the total number of actions possible.  Lets take advantage of this by encoding the action space into a simple integer."
   ]
  },
  {
   "cell_type": "code",
   "execution_count": 7,
   "metadata": {},
   "outputs": [],
   "source": [
    "def encode_actions(actions):\n",
    "    \"\"\" Cast actions to a string and then use a label encoder to \n",
    "        transform the vector into a simple integer.  \n",
    "    \"\"\"\n",
    "    str_actions = [\"\".join(str(action)) for action in actions]\n",
    "    encoder = LabelEncoder()\n",
    "    return encoder.fit_transform(str_actions)"
   ]
  },
  {
   "cell_type": "code",
   "execution_count": 8,
   "metadata": {},
   "outputs": [
    {
     "name": "stdout",
     "output_type": "stream",
     "text": [
      "12\n"
     ]
    }
   ],
   "source": [
    "actions = encode_actions(actions)\n",
    "n_actions = len(np.unique(actions))\n",
    "print(n_actions)"
   ]
  },
  {
   "cell_type": "code",
   "execution_count": 9,
   "metadata": {},
   "outputs": [],
   "source": [
    "inputs = tf.keras.layers.Input(states[0].shape)\n",
    "last_layer = tf.keras.layers.Conv2D(filters=16, kernel_size=3, strides=1, activation='relu')(inputs)\n",
    "last_layer = tf.keras.layers.Conv2D(filters=16, kernel_size=3, strides=3, activation='relu')(last_layer)\n",
    "last_layer = tf.keras.layers.Conv2D(filters=16, kernel_size=3, strides=1, activation='relu')(last_layer)\n",
    "last_layer = tf.keras.layers.Conv2D(filters=16, kernel_size=3, strides=3, activation='relu')(last_layer)\n",
    "last_layer = tf.keras.layers.Conv2D(filters=16, kernel_size=3, strides=1, activation='relu')(last_layer)\n",
    "last_layer = tf.keras.layers.Conv2D(filters=16, kernel_size=3, strides=3, activation='relu')(last_layer)\n",
    "flat_layer = tf.keras.layers.Flatten()(last_layer)\n",
    "last_layer = tf.keras.layers.Dense(256, activation='relu')(flat_layer)\n",
    "outputs = tf.keras.layers.Dense(n_actions, activation='softmax')(last_layer)\n",
    "model = tf.keras.Model(inputs, outputs)"
   ]
  },
  {
   "cell_type": "code",
   "execution_count": 10,
   "metadata": {},
   "outputs": [
    {
     "name": "stdout",
     "output_type": "stream",
     "text": [
      "Model: \"model\"\n",
      "_________________________________________________________________\n",
      "Layer (type)                 Output Shape              Param #   \n",
      "=================================================================\n",
      "input_1 (InputLayer)         [(None, 224, 320, 3)]     0         \n",
      "_________________________________________________________________\n",
      "conv2d (Conv2D)              (None, 222, 318, 16)      448       \n",
      "_________________________________________________________________\n",
      "conv2d_1 (Conv2D)            (None, 74, 106, 16)       2320      \n",
      "_________________________________________________________________\n",
      "conv2d_2 (Conv2D)            (None, 72, 104, 16)       2320      \n",
      "_________________________________________________________________\n",
      "conv2d_3 (Conv2D)            (None, 24, 34, 16)        2320      \n",
      "_________________________________________________________________\n",
      "conv2d_4 (Conv2D)            (None, 22, 32, 16)        2320      \n",
      "_________________________________________________________________\n",
      "conv2d_5 (Conv2D)            (None, 7, 10, 16)         2320      \n",
      "_________________________________________________________________\n",
      "flatten (Flatten)            (None, 1120)              0         \n",
      "_________________________________________________________________\n",
      "dense (Dense)                (None, 256)               286976    \n",
      "_________________________________________________________________\n",
      "dense_1 (Dense)              (None, 12)                3084      \n",
      "=================================================================\n",
      "Total params: 302,108\n",
      "Trainable params: 302,108\n",
      "Non-trainable params: 0\n",
      "_________________________________________________________________\n",
      "None\n"
     ]
    }
   ],
   "source": [
    "model.compile(\n",
    "    optimizer=tf.keras.optimizers.Adam(1e-3), \n",
    "    loss='sparse_categorical_crossentropy'\n",
    ")\n",
    "print(model.summary())"
   ]
  },
  {
   "cell_type": "code",
   "execution_count": 11,
   "metadata": {},
   "outputs": [],
   "source": [
    "class ModelTrainer:\n",
    "    \n",
    "    def __init__(self, max_epochs=10, batch_size=32, \n",
    "                 batches_per_epoch=100, patience=4):\n",
    "        self.max_epochs = max_epochs\n",
    "        self.batch_size = batch_size\n",
    "        self.batches_per_epoch = batches_per_epoch\n",
    "        self.train_loss = []\n",
    "        self.test_loss = []\n",
    "        self.best_loss = np.inf\n",
    "        self.best_weights = None\n",
    "        self.patience = patience\n",
    "        \n",
    "    def train(self, model, x_train, y_train, x_test, y_test):  \n",
    "        \n",
    "        down_rounds = 0\n",
    "        for epoch in range(self.max_epochs):\n",
    "            epoch_loss = 0\n",
    "            for batch in range(self.batches_per_epoch):\n",
    "                indices = np.random.choice(np.arange(x_train.shape[0]), self.batch_size)\n",
    "                loss = model.train_on_batch(x_train[indices], y_train[indices])\n",
    "                epoch_loss += loss / self.batches_per_epoch\n",
    "        \n",
    "            epoch_test_loss = model.evaluate(x_test, y_test)\n",
    "            self.train_loss.append(epoch_loss)\n",
    "            self.test_loss.append(epoch_test_loss)\n",
    "            print(\"Epoch loss: \", epoch_loss)\n",
    "            print(\"Dev. loss: \", epoch_test_loss)\n",
    "            \n",
    "            if epoch_test_loss > self.best_loss:\n",
    "                down_rounds += 1\n",
    "            else:\n",
    "                self.best_loss = epoch_test_loss\n",
    "                self.best_weights = model.get_weights()\n",
    "                down_rounds = 0\n",
    "                \n",
    "            if down_rounds >= self.patience:\n",
    "                return"
   ]
  },
  {
   "cell_type": "code",
   "execution_count": 12,
   "metadata": {
    "scrolled": false
   },
   "outputs": [
    {
     "name": "stdout",
     "output_type": "stream",
     "text": [
      "798/798 [==============================] - 1s 791us/sample - loss: 1.0605\n",
      "Epoch loss:  1.3870005920529367\n",
      "Dev. loss:  1.0605337022241195\n",
      "798/798 [==============================] - 0s 528us/sample - loss: 0.9586\n",
      "Epoch loss:  0.7874593630433081\n",
      "Dev. loss:  0.9586434014757773\n",
      "798/798 [==============================] - 0s 523us/sample - loss: 0.8633\n",
      "Epoch loss:  0.6253519490361212\n",
      "Dev. loss:  0.8632723577040479\n",
      "798/798 [==============================] - 0s 527us/sample - loss: 0.7640\n",
      "Epoch loss:  0.41440807580947875\n",
      "Dev. loss:  0.7640444830545506\n",
      "798/798 [==============================] - 0s 527us/sample - loss: 0.7290\n",
      "Epoch loss:  0.39366494938731195\n",
      "Dev. loss:  0.728963992051911\n",
      "798/798 [==============================] - 0s 534us/sample - loss: 0.6632\n",
      "Epoch loss:  0.30408192612230783\n",
      "Dev. loss:  0.6632122887405836\n",
      "798/798 [==============================] - 0s 532us/sample - loss: 0.5436\n",
      "Epoch loss:  0.19394124317914246\n",
      "Dev. loss:  0.5435722948315748\n",
      "798/798 [==============================] - 0s 521us/sample - loss: 0.5415\n",
      "Epoch loss:  0.17872789893299346\n",
      "Dev. loss:  0.5415477149916771\n",
      "798/798 [==============================] - 0s 528us/sample - loss: 0.7035\n",
      "Epoch loss:  0.11961138658225538\n",
      "Dev. loss:  0.7034769126944673\n",
      "798/798 [==============================] - 0s 527us/sample - loss: 0.6104\n",
      "Epoch loss:  0.12294472735375164\n",
      "Dev. loss:  0.6103961613393367\n",
      "798/798 [==============================] - 0s 523us/sample - loss: 0.5853\n",
      "Epoch loss:  0.1053288206923753\n",
      "Dev. loss:  0.5852927195099661\n",
      "798/798 [==============================] - 0s 524us/sample - loss: 0.5888\n",
      "Epoch loss:  0.16890363353304566\n",
      "Dev. loss:  0.5887751532975295\n",
      "798/798 [==============================] - 0s 527us/sample - loss: 0.6192\n",
      "Epoch loss:  0.1045202625566162\n",
      "Dev. loss:  0.6192346224211213\n"
     ]
    }
   ],
   "source": [
    "x_train, x_test, y_train, y_test = train_test_split(np.array(states), np.array(actions))\n",
    "\n",
    "trainer = ModelTrainer(\n",
    "    max_epochs=config['epochs'],\n",
    "    batch_size=config['batch_size'],\n",
    "    batches_per_epoch=config['batches_per_epoch'],\n",
    "    patience=config['patience']\n",
    ")\n",
    "trainer.train(model, x_train, y_train, x_test, y_test)"
   ]
  },
  {
   "cell_type": "code",
   "execution_count": 13,
   "metadata": {},
   "outputs": [],
   "source": [
    "model.set_weights(trainer.best_weights)"
   ]
  },
  {
   "cell_type": "code",
   "execution_count": 14,
   "metadata": {},
   "outputs": [
    {
     "data": {
      "image/png": "[encoded data removed]",
      "text/plain": [
       "<Figure size 864x360 with 1 Axes>"
      ]
     },
     "metadata": {
      "needs_background": "light"
     },
     "output_type": "display_data"
    }
   ],
   "source": [
    "plt.figure(figsize=(12,5))\n",
    "plt.plot(trainer.train_loss, color='blue', label='Train')\n",
    "plt.plot(trainer.test_loss, color='red', label='Test')\n",
    "plt.grid(alpha=0.2)\n",
    "plt.xlabel(\"Epoch\")\n",
    "plt.ylabel(\"Loss\")\n",
    "plt.savefig(\"imitation_losses.png\", bbox_inches=\"tight\")"
   ]
  },
  {
   "cell_type": "code",
   "execution_count": 15,
   "metadata": {},
   "outputs": [],
   "source": [
    "env = retro.make(game='SonicTheHedgehog-Genesis', \n",
    "                 state=config['level'])"
   ]
  },
  {
   "cell_type": "code",
   "execution_count": 16,
   "metadata": {},
   "outputs": [],
   "source": [
    "def record_imitation_game(env, model, rnd_steps=50, max_frames=10000):\n",
    "    \"\"\" Docstring.\n",
    "    \"\"\"\n",
    "    \n",
    "    state = env.reset()\n",
    "    frames = []\n",
    "    frames.append(env.render(mode='rgb_array'))\n",
    "    for step in range(rnd_steps):\n",
    "        state, _, _, _ = env.step(env.action_space.sample())\n",
    "        frames.append(env.render(mode='rgb_array'))\n",
    "        \n",
    "    done = False\n",
    "    while not done:\n",
    "        \n",
    "        # Act according to our policy most of the time.  It \n",
    "        # seems to get stuck so I am trying to add some random\n",
    "        # elements to get Sonic unstuck.\n",
    "        if step % 5 == 0:\n",
    "            new_state, reward, done, info = env.step(env.action_space.sample())\n",
    "            state = new_state\n",
    "        \n",
    "        else:\n",
    "            action = model.predict(state.reshape(1, *state.shape))\n",
    "            action = np.round(action[0])\n",
    "            action = np.array(action, dtype=np.int8)\n",
    "            new_state, reward, done, info = env.step(action)\n",
    "            state = new_state\n",
    "            \n",
    "        frames.append(env.render(mode='rgb_array'))\n",
    "        if len(frames) % 500 == 0:\n",
    "            print(\"Collected {} frames\".format(len(frames)))\n",
    "        \n",
    "        if len(frames) >= max_frames:\n",
    "            return frames\n",
    "        \n",
    "    return frames"
   ]
  },
  {
   "cell_type": "code",
   "execution_count": 17,
   "metadata": {},
   "outputs": [
    {
     "name": "stdout",
     "output_type": "stream",
     "text": [
      "Collected 500 frames\n",
      "Collected 1000 frames\n",
      "Collected 1500 frames\n",
      "Collected 2000 frames\n",
      "Collected 2500 frames\n",
      "Collected 3000 frames\n",
      "Collected 3500 frames\n",
      "Collected 4000 frames\n",
      "Collected 4500 frames\n",
      "Collected 5000 frames\n",
      "Collected 5500 frames\n",
      "Collected 6000 frames\n",
      "Collected 6500 frames\n",
      "Collected 7000 frames\n",
      "Collected 7500 frames\n"
     ]
    }
   ],
   "source": [
    "frames = record_imitation_game(env, model, rnd_steps=50, max_frames=7500)"
   ]
  },
  {
   "cell_type": "code",
   "execution_count": 18,
   "metadata": {},
   "outputs": [],
   "source": [
    "try:\n",
    "    import imageio\n",
    "except:\n",
    "    !pip install imageio\n",
    "    !pip install imageio-ffmpeg\n",
    "    import imageio"
   ]
  },
  {
   "cell_type": "code",
   "execution_count": 19,
   "metadata": {},
   "outputs": [],
   "source": [
    "imageio.mimwrite(\n",
    "    \"imitation_agent_{}.mp4\".format(config[\"level\"]), \n",
    "    frames, fps=30)"
   ]
  },
  {
   "cell_type": "code",
   "execution_count": 21,
   "metadata": {},
   "outputs": [],
   "source": [
    "x = tf.Variable([1., 2., 3.])\n",
    "y = tf.Variable([2., 0., 3.])"
   ]
  },
  {
   "cell_type": "code",
   "execution_count": 22,
   "metadata": {},
   "outputs": [
    {
     "data": {
      "text/plain": [
       "<tf.Tensor: shape=(3,), dtype=float32, numpy=array([3., 2., 6.], dtype=float32)>"
      ]
     },
     "execution_count": 22,
     "metadata": {},
     "output_type": "execute_result"
    }
   ],
   "source": [
    "tf.math.add(x, y)"
   ]
  },
  {
   "cell_type": "code",
   "execution_count": 23,
   "metadata": {},
   "outputs": [
    {
     "data": {
      "text/plain": [
       "<tf.Tensor: shape=(3,), dtype=float32, numpy=array([1., 4., 0.], dtype=float32)>"
      ]
     },
     "execution_count": 23,
     "metadata": {},
     "output_type": "execute_result"
    }
   ],
   "source": [
    "tf.math.squared_difference(x, y)"
   ]
  },
  {
   "cell_type": "code",
   "execution_count": 24,
   "metadata": {},
   "outputs": [
    {
     "data": {
      "text/plain": [
       "<tf.Tensor: shape=(), dtype=float32, numpy=1.6666666>"
      ]
     },
     "execution_count": 24,
     "metadata": {},
     "output_type": "execute_result"
    }
   ],
   "source": [
    "tf.math.reduce_mean(tf.math.squared_difference(x, y))"
   ]
  },
  {
   "cell_type": "code",
   "execution_count": 25,
   "metadata": {},
   "outputs": [],
   "source": [
    "x_mat = tf.Variable([[1., 2., 3.], [3., 6., -1.]])\n",
    "y_mat = tf.Variable([[4., -2., 3.], [0., 2., 4.]])"
   ]
  },
  {
   "cell_type": "code",
   "execution_count": 26,
   "metadata": {},
   "outputs": [
    {
     "data": {
      "text/plain": [
       "<tf.Tensor: shape=(2, 3), dtype=float32, numpy=\n",
       "array([[5., 0., 6.],\n",
       "       [3., 8., 3.]], dtype=float32)>"
      ]
     },
     "execution_count": 26,
     "metadata": {},
     "output_type": "execute_result"
    }
   ],
   "source": [
    "tf.math.add(x_mat, y_mat)"
   ]
  },
  {
   "cell_type": "code",
   "execution_count": 131,
   "metadata": {},
   "outputs": [],
   "source": [
    "states = tf.random.uniform(shape=(4, 10))\n",
    "next_states = tf.random.uniform(shape=(4, 10))\n",
    "actions = tf.constant(np.random.randint(0, 4, size=(4,1)))\n",
    "rewards = tf.random.uniform(shape=(4,1))\n",
    "dones = tf.constant([False, False, True, False])"
   ]
  },
  {
   "cell_type": "code",
   "execution_count": 132,
   "metadata": {},
   "outputs": [],
   "source": [
    "fake_inputs = tf.keras.layers.Input(10)\n",
    "fake_outputs = tf.keras.layers.Dense(4)(fake_inputs)\n",
    "fake_model = tf.keras.Model(fake_inputs, fake_outputs)"
   ]
  },
  {
   "cell_type": "code",
   "execution_count": 133,
   "metadata": {},
   "outputs": [
    {
     "data": {
      "text/plain": [
       "array([[-0.4171334 ,  0.6635723 , -0.88306516, -0.22167009],\n",
       "       [-0.8014855 ,  0.19262055, -0.52876467, -0.6003244 ],\n",
       "       [-1.0505676 ,  0.46929562, -1.3963273 , -0.92107165],\n",
       "       [-1.1203967 ,  0.309789  , -1.3208236 , -1.0710857 ]],\n",
       "      dtype=float32)"
      ]
     },
     "execution_count": 133,
     "metadata": {},
     "output_type": "execute_result"
    }
   ],
   "source": [
    "fake_model.predict(states)"
   ]
  },
  {
   "cell_type": "code",
   "execution_count": 134,
   "metadata": {},
   "outputs": [],
   "source": [
    "q_pred_states = fake_model.predict(states)\n",
    "q_next_states = fake_model.predict(next_states)"
   ]
  },
  {
   "cell_type": "code",
   "execution_count": 135,
   "metadata": {},
   "outputs": [
    {
     "data": {
      "text/plain": [
       "<tf.Tensor: shape=(4, 1), dtype=float32, numpy=\n",
       "array([[0.42383397],\n",
       "       [0.23711133],\n",
       "       [0.80573773],\n",
       "       [0.31680262]], dtype=float32)>"
      ]
     },
     "execution_count": 135,
     "metadata": {},
     "output_type": "execute_result"
    }
   ],
   "source": [
    "rewards"
   ]
  },
  {
   "cell_type": "code",
   "execution_count": 136,
   "metadata": {},
   "outputs": [],
   "source": [
    "not_terminals = tf.reshape((1. - tf.cast(dones, dtype=tf.float32)), (4,1))"
   ]
  },
  {
   "cell_type": "code",
   "execution_count": 137,
   "metadata": {},
   "outputs": [
    {
     "data": {
      "text/plain": [
       "<tf.Tensor: shape=(4, 1), dtype=float32, numpy=\n",
       "array([[0.42383397],\n",
       "       [0.23711133],\n",
       "       [0.        ],\n",
       "       [0.31680262]], dtype=float32)>"
      ]
     },
     "execution_count": 137,
     "metadata": {},
     "output_type": "execute_result"
    }
   ],
   "source": [
    "rewards * not_terminals"
   ]
  },
  {
   "cell_type": "code",
   "execution_count": 138,
   "metadata": {},
   "outputs": [
    {
     "data": {
      "text/plain": [
       "array([[-1.0539377 ,  0.37638736, -0.9314213 , -1.2616074 ],\n",
       "       [-0.08313143,  1.4039065 , -0.91746664, -0.77965534],\n",
       "       [-0.6801462 ,  0.3467161 , -1.3542186 , -0.7677697 ],\n",
       "       [-0.6651447 ,  0.66179264, -1.271966  , -1.2616999 ]],\n",
       "      dtype=float32)"
      ]
     },
     "execution_count": 138,
     "metadata": {},
     "output_type": "execute_result"
    }
   ],
   "source": [
    "q_next_states"
   ]
  },
  {
   "cell_type": "code",
   "execution_count": 139,
   "metadata": {},
   "outputs": [
    {
     "data": {
      "text/plain": [
       "<tf.Tensor: shape=(4,), dtype=int64, numpy=array([1, 1, 1, 1])>"
      ]
     },
     "execution_count": 139,
     "metadata": {},
     "output_type": "execute_result"
    }
   ],
   "source": [
    "tf.math.argmax(q_next_states, axis=1)"
   ]
  },
  {
   "cell_type": "code",
   "execution_count": 140,
   "metadata": {},
   "outputs": [],
   "source": [
    "indices = tf.math.argmax(q_next_states, axis=1)"
   ]
  },
  {
   "cell_type": "code",
   "execution_count": 141,
   "metadata": {},
   "outputs": [
    {
     "data": {
      "text/plain": [
       "array([[0.37638736, 0.37638736, 0.37638736, 0.37638736],\n",
       "       [1.4039065 , 1.4039065 , 1.4039065 , 1.4039065 ],\n",
       "       [0.3467161 , 0.3467161 , 0.3467161 , 0.3467161 ],\n",
       "       [0.66179264, 0.66179264, 0.66179264, 0.66179264]], dtype=float32)"
      ]
     },
     "execution_count": 141,
     "metadata": {},
     "output_type": "execute_result"
    }
   ],
   "source": [
    "q_next_states[:,indices]"
   ]
  },
  {
   "cell_type": "code",
   "execution_count": 142,
   "metadata": {},
   "outputs": [
    {
     "data": {
      "text/plain": [
       "<tf.Tensor: shape=(4,), dtype=float32, numpy=array([0.37638736, 1.4039065 , 0.3467161 , 0.66179264], dtype=float32)>"
      ]
     },
     "execution_count": 142,
     "metadata": {},
     "output_type": "execute_result"
    }
   ],
   "source": [
    "tf.math.reduce_max(q_next_states, axis=1)"
   ]
  },
  {
   "cell_type": "code",
   "execution_count": 143,
   "metadata": {},
   "outputs": [
    {
     "data": {
      "text/plain": [
       "<tf.Tensor: shape=(4, 4), dtype=float32, numpy=\n",
       "array([[0.7964574 , 1.8137014 , 0.7670829 , 1.0790087 ],\n",
       "       [0.6097348 , 1.6269788 , 0.5803603 , 0.89228606],\n",
       "       [0.37262347, 1.3898674 , 0.34324893, 0.65517473],\n",
       "       [0.68942606, 1.70667   , 0.6600516 , 0.97197735]], dtype=float32)>"
      ]
     },
     "execution_count": 143,
     "metadata": {},
     "output_type": "execute_result"
    }
   ],
   "source": [
    "rewards * not_terminals + 0.99 * tf.math.reduce_max(q_next_states, axis=1)"
   ]
  },
  {
   "cell_type": "code",
   "execution_count": 144,
   "metadata": {},
   "outputs": [
    {
     "data": {
      "text/plain": [
       "<tf.Tensor: shape=(4, 4), dtype=float32, numpy=\n",
       "array([[-0.4171334 ,  0.6635723 , -0.88306516, -0.22167009],\n",
       "       [-0.4171334 ,  0.6635723 , -0.88306516, -0.22167009],\n",
       "       [-0.4171334 ,  0.6635723 , -0.88306516, -0.22167009],\n",
       "       [-0.4171334 ,  0.6635723 , -0.88306516, -0.22167009]],\n",
       "      dtype=float32)>"
      ]
     },
     "execution_count": 144,
     "metadata": {},
     "output_type": "execute_result"
    }
   ],
   "source": [
    "tf.gather(q_pred_states, tf.math.argmax(actions, axis=1))"
   ]
  },
  {
   "cell_type": "code",
   "execution_count": 145,
   "metadata": {},
   "outputs": [
    {
     "data": {
      "text/plain": [
       "<tf.Tensor: shape=(4, 1), dtype=int64, numpy=\n",
       "array([[3],\n",
       "       [3],\n",
       "       [2],\n",
       "       [3]])>"
      ]
     },
     "execution_count": 145,
     "metadata": {},
     "output_type": "execute_result"
    }
   ],
   "source": [
    "actions"
   ]
  },
  {
   "cell_type": "code",
   "execution_count": 146,
   "metadata": {},
   "outputs": [
    {
     "name": "stdout",
     "output_type": "stream",
     "text": [
      "tf.Tensor([0 0 0 0], shape=(4,), dtype=int64)\n"
     ]
    }
   ],
   "source": [
    "indices = tf.math.argmax(actions, axis=1)\n",
    "print(indices)"
   ]
  },
  {
   "cell_type": "code",
   "execution_count": 147,
   "metadata": {},
   "outputs": [
    {
     "data": {
      "text/plain": [
       "array([[-0.4171334 ,  0.6635723 , -0.88306516, -0.22167009],\n",
       "       [-0.8014855 ,  0.19262055, -0.52876467, -0.6003244 ],\n",
       "       [-1.0505676 ,  0.46929562, -1.3963273 , -0.92107165],\n",
       "       [-1.1203967 ,  0.309789  , -1.3208236 , -1.0710857 ]],\n",
       "      dtype=float32)"
      ]
     },
     "execution_count": 147,
     "metadata": {},
     "output_type": "execute_result"
    }
   ],
   "source": [
    "q_pred_states"
   ]
  },
  {
   "cell_type": "code",
   "execution_count": 148,
   "metadata": {},
   "outputs": [
    {
     "data": {
      "text/plain": [
       "<tf.Tensor: shape=(4, 4), dtype=float32, numpy=\n",
       "array([[-0.4171334, -0.4171334, -0.4171334, -0.4171334],\n",
       "       [-0.8014855, -0.8014855, -0.8014855, -0.8014855],\n",
       "       [-1.0505676, -1.0505676, -1.0505676, -1.0505676],\n",
       "       [-1.1203967, -1.1203967, -1.1203967, -1.1203967]], dtype=float32)>"
      ]
     },
     "execution_count": 148,
     "metadata": {},
     "output_type": "execute_result"
    }
   ],
   "source": [
    "tf.gather(q_pred_states, indices, axis=1)"
   ]
  },
  {
   "cell_type": "code",
   "execution_count": 149,
   "metadata": {},
   "outputs": [
    {
     "data": {
      "text/plain": [
       "<tf.Tensor: shape=(4, 4), dtype=float32, numpy=\n",
       "array([[-0.4171334, -0.4171334, -0.4171334, -0.4171334],\n",
       "       [-0.8014855, -0.8014855, -0.8014855, -0.8014855],\n",
       "       [-1.0505676, -1.0505676, -1.0505676, -1.0505676],\n",
       "       [-1.1203967, -1.1203967, -1.1203967, -1.1203967]], dtype=float32)>"
      ]
     },
     "execution_count": 149,
     "metadata": {},
     "output_type": "execute_result"
    }
   ],
   "source": [
    "tf.gather(q_pred_states, indices, axis=1)"
   ]
  },
  {
   "cell_type": "code",
   "execution_count": 150,
   "metadata": {},
   "outputs": [
    {
     "data": {
      "text/plain": [
       "<tf.Tensor: shape=(4, 1, 4), dtype=float32, numpy=\n",
       "array([[[-0.4171334 ,  0.6635723 , -0.88306516, -0.22167009]],\n",
       "\n",
       "       [[-0.4171334 ,  0.6635723 , -0.88306516, -0.22167009]],\n",
       "\n",
       "       [[-0.4171334 ,  0.6635723 , -0.88306516, -0.22167009]],\n",
       "\n",
       "       [[-0.4171334 ,  0.6635723 , -0.88306516, -0.22167009]]],\n",
       "      dtype=float32)>"
      ]
     },
     "execution_count": 150,
     "metadata": {},
     "output_type": "execute_result"
    }
   ],
   "source": [
    "tf.gather(q_pred_states, tf.expand_dims(indices, axis=1), axis=0)"
   ]
  },
  {
   "cell_type": "code",
   "execution_count": 151,
   "metadata": {},
   "outputs": [
    {
     "data": {
      "text/plain": [
       "array([[-1.0539377 ,  0.37638736, -0.9314213 , -1.2616074 ],\n",
       "       [-0.08313143,  1.4039065 , -0.91746664, -0.77965534],\n",
       "       [-0.6801462 ,  0.3467161 , -1.3542186 , -0.7677697 ],\n",
       "       [-0.6651447 ,  0.66179264, -1.271966  , -1.2616999 ]],\n",
       "      dtype=float32)"
      ]
     },
     "execution_count": 151,
     "metadata": {},
     "output_type": "execute_result"
    }
   ],
   "source": [
    "q_next_states"
   ]
  },
  {
   "cell_type": "code",
   "execution_count": 152,
   "metadata": {},
   "outputs": [
    {
     "name": "stdout",
     "output_type": "stream",
     "text": [
      "tf.Tensor([1 1 1 1], shape=(4,), dtype=int64)\n"
     ]
    }
   ],
   "source": [
    "indices = tf.math.argmax(q_next_states, axis=1)\n",
    "print(indices)"
   ]
  },
  {
   "cell_type": "code",
   "execution_count": 153,
   "metadata": {},
   "outputs": [
    {
     "data": {
      "text/plain": [
       "<tf.Tensor: shape=(4, 4), dtype=float32, numpy=\n",
       "array([[-0.08313143,  1.4039065 , -0.91746664, -0.77965534],\n",
       "       [-0.08313143,  1.4039065 , -0.91746664, -0.77965534],\n",
       "       [-0.08313143,  1.4039065 , -0.91746664, -0.77965534],\n",
       "       [-0.08313143,  1.4039065 , -0.91746664, -0.77965534]],\n",
       "      dtype=float32)>"
      ]
     },
     "execution_count": 153,
     "metadata": {},
     "output_type": "execute_result"
    }
   ],
   "source": [
    "tf.gather(q_next_states, indices)"
   ]
  },
  {
   "cell_type": "code",
   "execution_count": 154,
   "metadata": {},
   "outputs": [
    {
     "data": {
      "text/plain": [
       "(4, 4)"
      ]
     },
     "execution_count": 154,
     "metadata": {},
     "output_type": "execute_result"
    }
   ],
   "source": [
    "q_next_states.shape"
   ]
  },
  {
   "cell_type": "code",
   "execution_count": 155,
   "metadata": {},
   "outputs": [
    {
     "data": {
      "text/plain": [
       "<tf.Tensor: shape=(4, 4), dtype=float32, numpy=\n",
       "array([[-0.08313143,  1.4039065 , -0.91746664, -0.77965534],\n",
       "       [-0.08313143,  1.4039065 , -0.91746664, -0.77965534],\n",
       "       [-0.08313143,  1.4039065 , -0.91746664, -0.77965534],\n",
       "       [-0.08313143,  1.4039065 , -0.91746664, -0.77965534]],\n",
       "      dtype=float32)>"
      ]
     },
     "execution_count": 155,
     "metadata": {},
     "output_type": "execute_result"
    }
   ],
   "source": [
    "tf.gather_nd(q_next_states, tf.expand_dims(indices, axis=1))"
   ]
  },
  {
   "cell_type": "code",
   "execution_count": 156,
   "metadata": {},
   "outputs": [
    {
     "data": {
      "text/plain": [
       "<tf.Tensor: shape=(4,), dtype=int64, numpy=array([1, 1, 1, 1])>"
      ]
     },
     "execution_count": 156,
     "metadata": {},
     "output_type": "execute_result"
    }
   ],
   "source": [
    "indices"
   ]
  },
  {
   "cell_type": "code",
   "execution_count": 157,
   "metadata": {},
   "outputs": [
    {
     "data": {
      "text/plain": [
       "<tf.Tensor: shape=(4, 4), dtype=float32, numpy=\n",
       "array([[-0.08313143,  1.4039065 , -0.91746664, -0.77965534],\n",
       "       [-0.6801462 ,  0.3467161 , -1.3542186 , -0.7677697 ],\n",
       "       [-0.6801462 ,  0.3467161 , -1.3542186 , -0.7677697 ],\n",
       "       [-0.08313143,  1.4039065 , -0.91746664, -0.77965534]],\n",
       "      dtype=float32)>"
      ]
     },
     "execution_count": 157,
     "metadata": {},
     "output_type": "execute_result"
    }
   ],
   "source": [
    "tf.gather_nd(q_next_states, [[1],[2], [2], [1]])"
   ]
  },
  {
   "cell_type": "code",
   "execution_count": 158,
   "metadata": {},
   "outputs": [
    {
     "data": {
      "text/plain": [
       "array([[0.37638736, 0.37638736, 0.37638736, 0.37638736],\n",
       "       [1.4039065 , 1.4039065 , 1.4039065 , 1.4039065 ],\n",
       "       [0.3467161 , 0.3467161 , 0.3467161 , 0.3467161 ],\n",
       "       [0.66179264, 0.66179264, 0.66179264, 0.66179264]], dtype=float32)"
      ]
     },
     "execution_count": 158,
     "metadata": {},
     "output_type": "execute_result"
    }
   ],
   "source": [
    "q_next_states[:,indices]"
   ]
  },
  {
   "cell_type": "code",
   "execution_count": 159,
   "metadata": {},
   "outputs": [],
   "source": [
    "# prepare row indices\n",
    "indices = tf.cast(indices, tf.int32)\n",
    "row_indices = tf.range(tf.shape(indices)[0])\n",
    "\n",
    "# zip row indices with column indices\n",
    "full_indices = tf.stack([row_indices, indices], axis=1)"
   ]
  },
  {
   "cell_type": "code",
   "execution_count": 108,
   "metadata": {},
   "outputs": [
    {
     "data": {
      "text/plain": [
       "<tf.Tensor: shape=(4, 2), dtype=int32, numpy=\n",
       "array([[0, 1],\n",
       "       [1, 2],\n",
       "       [2, 2],\n",
       "       [3, 1]], dtype=int32)>"
      ]
     },
     "execution_count": 108,
     "metadata": {},
     "output_type": "execute_result"
    }
   ],
   "source": [
    "full_indices"
   ]
  },
  {
   "cell_type": "code",
   "execution_count": 115,
   "metadata": {},
   "outputs": [
    {
     "data": {
      "text/plain": [
       "array([[-1.1398852 ,  0.6970059 ,  0.6675799 , -0.0247772 ],\n",
       "       [-1.7801754 ,  0.47129062,  1.1793231 , -0.7775614 ],\n",
       "       [-1.5888344 , -0.04008031,  0.9824762 , -0.17618082],\n",
       "       [-1.150228  ,  0.19246128,  0.17176041, -0.68164104]],\n",
       "      dtype=float32)"
      ]
     },
     "execution_count": 115,
     "metadata": {},
     "output_type": "execute_result"
    }
   ],
   "source": [
    "q_next_states"
   ]
  },
  {
   "cell_type": "code",
   "execution_count": 114,
   "metadata": {},
   "outputs": [
    {
     "data": {
      "text/plain": [
       "<tf.Tensor: shape=(4,), dtype=float32, numpy=array([0.6970059 , 1.1793231 , 0.9824762 , 0.19246128], dtype=float32)>"
      ]
     },
     "execution_count": 114,
     "metadata": {},
     "output_type": "execute_result"
    }
   ],
   "source": [
    "tf.gather_nd(q_next_states, full_indices)"
   ]
  },
  {
   "cell_type": "code",
   "execution_count": 171,
   "metadata": {},
   "outputs": [],
   "source": [
    "def td_loss(online_model, target_model, states, actions, next_states, rewards, dones, gamma):\n",
    "    \"\"\" Calculate the temporal difference loss. \"\"\"\n",
    "    \n",
    "    print(\"Actions: \", actions)\n",
    "    \n",
    "    # Predict the value of the current and next states using the appropriate \n",
    "    # networks for each. \n",
    "    q_pred_states = online_model.predict(states)\n",
    "    q_next_states = target_model.predict(next_states)\n",
    "    \n",
    "    # If the current state is the terminal state, the reward for the transition\n",
    "    # is provided by there is no future reward.  The state value is zero regardless \n",
    "    # which action would be chosen.  \n",
    "    not_terminals = tf.reshape((1. - tf.cast(dones, dtype=tf.float32)), (-1,1))\n",
    "    \n",
    "    # Select the target indices for update based on the actions \n",
    "    # taken by the agent.\n",
    "    batch_size = tf.shape(dones)[0]\n",
    "    row_indices = tf.range(batch_size)\n",
    "    print(\"Row indices: \", row_indices)\n",
    "    update_indices = tf.stack([row_indices, tf.squeeze(tf.cast(actions, tf.int32))], axis=1)\n",
    "    \n",
    "    # Select maximum actions from the next state for the TD upate.\n",
    "    indices = tf.stack([row_indices, tf.cast(tf.argmax(q_next_states), tf.int32)])\n",
    "    q_max_next_states = q_next_states[indices]\n",
    "    \n",
    "    # Finally, we can build the target Q-value for the current state\n",
    "    # based on the TD-error.\n",
    "    print(\"Update indices: \", update_indices)\n",
    "    print(\"Q-next: \", q_next_states)\n",
    "    q_target_states = q_next_states\n",
    "    q_target_states[update_indices] = rewards + not_terminals * q_max_next_states * gamma\n",
    "    print(\"Q target: \", q_target_states)\n",
    "    \n",
    "    # Calculate the temporal difference loss \n",
    "    # loss = tf.reduce_mean(tf.squared_difference(q_pred_states, q_target_states))"
   ]
  },
  {
   "cell_type": "code",
   "execution_count": 172,
   "metadata": {},
   "outputs": [
    {
     "name": "stdout",
     "output_type": "stream",
     "text": [
      "Actions:  tf.Tensor(\n",
      "[[3]\n",
      " [3]\n",
      " [2]\n",
      " [3]], shape=(4, 1), dtype=int64)\n",
      "Row indices:  tf.Tensor([0 1 2 3], shape=(4,), dtype=int32)\n",
      "Update indices:  tf.Tensor(\n",
      "[[0 3]\n",
      " [1 3]\n",
      " [2 2]\n",
      " [3 3]], shape=(4, 2), dtype=int32)\n",
      "Q-next:  [[-1.0539377   0.37638736 -0.9314213  -1.2616074 ]\n",
      " [-0.08313143  1.4039065  -0.91746664 -0.77965534]\n",
      " [-0.6801462   0.3467161  -1.3542186  -0.7677697 ]\n",
      " [-0.6651447   0.66179264 -1.271966   -1.2616999 ]]\n"
     ]
    },
    {
     "name": "stderr",
     "output_type": "stream",
     "text": [
      "/home/ubuntu/anaconda3/envs/tensorflow2_p36/lib/python3.6/site-packages/ipykernel/__main__.py:25: FutureWarning: Using a non-tuple sequence for multidimensional indexing is deprecated; use `arr[tuple(seq)]` instead of `arr[seq]`. In the future this will be interpreted as an array index, `arr[np.array(seq)]`, which will result either in an error or a different result.\n",
      "/home/ubuntu/anaconda3/envs/tensorflow2_p36/lib/python3.6/site-packages/ipykernel/__main__.py:32: FutureWarning: Using a non-tuple sequence for multidimensional indexing is deprecated; use `arr[tuple(seq)]` instead of `arr[seq]`. In the future this will be interpreted as an array index, `arr[np.array(seq)]`, which will result either in an error or a different result.\n"
     ]
    },
    {
     "ename": "IndexError",
     "evalue": "too many indices for array",
     "output_type": "error",
     "traceback": [
      "\u001b[0;31m---------------------------------------------------------------------------\u001b[0m",
      "\u001b[0;31mIndexError\u001b[0m                                Traceback (most recent call last)",
      "\u001b[0;32m<ipython-input-172-b92a60e533a0>\u001b[0m in \u001b[0;36m<module>\u001b[0;34m\u001b[0m\n\u001b[0;32m----> 1\u001b[0;31m \u001b[0mtd_loss\u001b[0m\u001b[0;34m(\u001b[0m\u001b[0mfake_model\u001b[0m\u001b[0;34m,\u001b[0m \u001b[0mfake_model\u001b[0m\u001b[0;34m,\u001b[0m \u001b[0mstates\u001b[0m\u001b[0;34m,\u001b[0m \u001b[0mactions\u001b[0m\u001b[0;34m,\u001b[0m \u001b[0mnext_states\u001b[0m\u001b[0;34m,\u001b[0m \u001b[0mrewards\u001b[0m\u001b[0;34m,\u001b[0m \u001b[0mdones\u001b[0m\u001b[0;34m,\u001b[0m \u001b[0mgamma\u001b[0m\u001b[0;34m=\u001b[0m\u001b[0;36m0.99\u001b[0m\u001b[0;34m)\u001b[0m\u001b[0;34m\u001b[0m\u001b[0;34m\u001b[0m\u001b[0m\n\u001b[0m",
      "\u001b[0;32m<ipython-input-171-57c324eafb61>\u001b[0m in \u001b[0;36mtd_loss\u001b[0;34m(online_model, target_model, states, actions, next_states, rewards, dones, gamma)\u001b[0m\n\u001b[1;32m     30\u001b[0m     \u001b[0mprint\u001b[0m\u001b[0;34m(\u001b[0m\u001b[0;34m\"Q-next: \"\u001b[0m\u001b[0;34m,\u001b[0m \u001b[0mq_next_states\u001b[0m\u001b[0;34m)\u001b[0m\u001b[0;34m\u001b[0m\u001b[0;34m\u001b[0m\u001b[0m\n\u001b[1;32m     31\u001b[0m     \u001b[0mq_target_states\u001b[0m \u001b[0;34m=\u001b[0m \u001b[0mq_next_states\u001b[0m\u001b[0;34m\u001b[0m\u001b[0;34m\u001b[0m\u001b[0m\n\u001b[0;32m---> 32\u001b[0;31m     \u001b[0mq_target_states\u001b[0m\u001b[0;34m[\u001b[0m\u001b[0mupdate_indices\u001b[0m\u001b[0;34m]\u001b[0m \u001b[0;34m=\u001b[0m \u001b[0mrewards\u001b[0m \u001b[0;34m+\u001b[0m \u001b[0mnot_terminals\u001b[0m \u001b[0;34m*\u001b[0m \u001b[0mq_max_next_states\u001b[0m \u001b[0;34m*\u001b[0m \u001b[0mgamma\u001b[0m\u001b[0;34m\u001b[0m\u001b[0;34m\u001b[0m\u001b[0m\n\u001b[0m\u001b[1;32m     33\u001b[0m     \u001b[0mprint\u001b[0m\u001b[0;34m(\u001b[0m\u001b[0;34m\"Q target: \"\u001b[0m\u001b[0;34m,\u001b[0m \u001b[0mq_target_states\u001b[0m\u001b[0;34m)\u001b[0m\u001b[0;34m\u001b[0m\u001b[0;34m\u001b[0m\u001b[0m\n\u001b[1;32m     34\u001b[0m \u001b[0;34m\u001b[0m\u001b[0m\n",
      "\u001b[0;31mIndexError\u001b[0m: too many indices for array"
     ]
    }
   ],
   "source": [
    "td_loss(fake_model, fake_model, states, actions, next_states, rewards, dones, gamma=0.99)"
   ]
  },
  {
   "cell_type": "code",
   "execution_count": 173,
   "metadata": {},
   "outputs": [
    {
     "data": {
      "text/plain": [
       "array([[-1.0539377 ,  0.37638736, -0.9314213 , -1.2616074 ],\n",
       "       [-0.08313143,  1.4039065 , -0.91746664, -0.77965534],\n",
       "       [-0.6801462 ,  0.3467161 , -1.3542186 , -0.7677697 ],\n",
       "       [-0.6651447 ,  0.66179264, -1.271966  , -1.2616999 ]],\n",
       "      dtype=float32)"
      ]
     },
     "execution_count": 173,
     "metadata": {},
     "output_type": "execute_result"
    }
   ],
   "source": [
    "q_next_states"
   ]
  },
  {
   "cell_type": "code",
   "execution_count": 174,
   "metadata": {},
   "outputs": [
    {
     "data": {
      "text/plain": [
       "array([[-0.4171334 ,  0.6635723 , -0.88306516, -0.22167009],\n",
       "       [-0.8014855 ,  0.19262055, -0.52876467, -0.6003244 ],\n",
       "       [-1.0505676 ,  0.46929562, -1.3963273 , -0.92107165],\n",
       "       [-1.1203967 ,  0.309789  , -1.3208236 , -1.0710857 ]],\n",
       "      dtype=float32)"
      ]
     },
     "execution_count": 174,
     "metadata": {},
     "output_type": "execute_result"
    }
   ],
   "source": [
    "q_pred_states"
   ]
  },
  {
   "cell_type": "code",
   "execution_count": 175,
   "metadata": {},
   "outputs": [
    {
     "data": {
      "text/plain": [
       "<tf.Tensor: shape=(4, 1), dtype=int64, numpy=\n",
       "array([[3],\n",
       "       [3],\n",
       "       [2],\n",
       "       [3]])>"
      ]
     },
     "execution_count": 175,
     "metadata": {},
     "output_type": "execute_result"
    }
   ],
   "source": [
    "actions"
   ]
  },
  {
   "cell_type": "code",
   "execution_count": 176,
   "metadata": {},
   "outputs": [
    {
     "ename": "NameError",
     "evalue": "name 'update_indices' is not defined",
     "output_type": "error",
     "traceback": [
      "\u001b[0;31m---------------------------------------------------------------------------\u001b[0m",
      "\u001b[0;31mNameError\u001b[0m                                 Traceback (most recent call last)",
      "\u001b[0;32m<ipython-input-176-b067283ab33a>\u001b[0m in \u001b[0;36m<module>\u001b[0;34m\u001b[0m\n\u001b[0;32m----> 1\u001b[0;31m \u001b[0mupdate_indices\u001b[0m\u001b[0;34m\u001b[0m\u001b[0;34m\u001b[0m\u001b[0m\n\u001b[0m",
      "\u001b[0;31mNameError\u001b[0m: name 'update_indices' is not defined"
     ]
    }
   ],
   "source": [
    "def keras_td_loss(online_model, target_model, states, actions, next_states, rewards, dones, gamma):\n",
    "    \"\"\" Docstring. \"\"\"\n",
    "    \n",
    "    # Predict state-action values for the current state and \n",
    "    # the next state using the online and target networks. \n",
    "    q_pred_states = online_model.predict(states)\n",
    "    q_next_states = target_model.predict(next_states)\n",
    "    \n",
    "    # Compute the TD-error\n",
    "    "
   ]
  },
  {
   "cell_type": "code",
   "execution_count": 180,
   "metadata": {},
   "outputs": [
    {
     "data": {
      "text/plain": [
       "array([[-0.4171334 ,  0.6635723 , -0.88306516, -0.22167009],\n",
       "       [-0.8014855 ,  0.19262055, -0.52876467, -0.6003244 ],\n",
       "       [-1.0505676 ,  0.46929562, -1.3963273 , -0.92107165],\n",
       "       [-1.1203967 ,  0.309789  , -1.3208236 , -1.0710857 ]],\n",
       "      dtype=float32)"
      ]
     },
     "execution_count": 180,
     "metadata": {},
     "output_type": "execute_result"
    }
   ],
   "source": [
    "q_pred_states"
   ]
  },
  {
   "cell_type": "code",
   "execution_count": 181,
   "metadata": {},
   "outputs": [
    {
     "data": {
      "text/plain": [
       "array([[-1.0539377 ,  0.37638736, -0.9314213 , -1.2616074 ],\n",
       "       [-0.08313143,  1.4039065 , -0.91746664, -0.77965534],\n",
       "       [-0.6801462 ,  0.3467161 , -1.3542186 , -0.7677697 ],\n",
       "       [-0.6651447 ,  0.66179264, -1.271966  , -1.2616999 ]],\n",
       "      dtype=float32)"
      ]
     },
     "execution_count": 181,
     "metadata": {},
     "output_type": "execute_result"
    }
   ],
   "source": [
    "q_next_states"
   ]
  },
  {
   "cell_type": "code",
   "execution_count": 186,
   "metadata": {},
   "outputs": [
    {
     "data": {
      "text/plain": [
       "array([[3],\n",
       "       [3],\n",
       "       [2],\n",
       "       [3]])"
      ]
     },
     "execution_count": 186,
     "metadata": {},
     "output_type": "execute_result"
    }
   ],
   "source": [
    "actions.numpy()"
   ]
  },
  {
   "cell_type": "code",
   "execution_count": 191,
   "metadata": {},
   "outputs": [],
   "source": [
    "row_indices = np.arange(q_next_states.shape[0])"
   ]
  },
  {
   "cell_type": "code",
   "execution_count": 194,
   "metadata": {},
   "outputs": [
    {
     "name": "stdout",
     "output_type": "stream",
     "text": [
      "[0 1 2 3] [[3]\n",
      " [3]\n",
      " [2]\n",
      " [3]]\n"
     ]
    }
   ],
   "source": [
    "print(row_indices, actions.numpy())"
   ]
  },
  {
   "cell_type": "code",
   "execution_count": 188,
   "metadata": {},
   "outputs": [
    {
     "data": {
      "text/plain": [
       "array([[[-1.2616074 ],\n",
       "        [-1.2616074 ],\n",
       "        [-0.9314213 ],\n",
       "        [-1.2616074 ]],\n",
       "\n",
       "       [[-0.77965534],\n",
       "        [-0.77965534],\n",
       "        [-0.91746664],\n",
       "        [-0.77965534]],\n",
       "\n",
       "       [[-0.7677697 ],\n",
       "        [-0.7677697 ],\n",
       "        [-1.3542186 ],\n",
       "        [-0.7677697 ]],\n",
       "\n",
       "       [[-1.2616999 ],\n",
       "        [-1.2616999 ],\n",
       "        [-1.271966  ],\n",
       "        [-1.2616999 ]]], dtype=float32)"
      ]
     },
     "execution_count": 188,
     "metadata": {},
     "output_type": "execute_result"
    }
   ],
   "source": [
    "q_next_states[:, actions.numpy()]"
   ]
  },
  {
   "cell_type": "code",
   "execution_count": null,
   "metadata": {},
   "outputs": [],
   "source": []
  }
 ],
 "metadata": {
  "kernelspec": {
   "display_name": "Environment (conda_tensorflow2_p36)",
   "language": "python",
   "name": "conda_tensorflow2_p36"
  },
  "language_info": {
   "codemirror_mode": {
    "name": "ipython",
    "version": 3
   },
   "file_extension": ".py",
   "mimetype": "text/x-python",
   "name": "python",
   "nbconvert_exporter": "python",
   "pygments_lexer": "ipython3",
   "version": "3.6.10"
  }
 },
 "nbformat": 4,
 "nbformat_minor": 4
}
