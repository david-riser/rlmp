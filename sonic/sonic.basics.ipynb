{
 "cells": [
  {
   "cell_type": "markdown",
   "metadata": {},
   "source": [
    "### Technical Things To Do\n",
    "- Setup nuts/bolts and try imitation learning on one level (done)\n",
    "- Optimize imitation learning training on one level\n",
    "- Setup nuts/bolts and try imitation learning on all levels, test generalization (not strictly necessary for the goal of this work)\n",
    "- Specify a generic evaluation protocol that can be used for all agents\n",
    "    - Fixed frame score over a number of evaluation attempts at the same level, mean.\n",
    "- Try learning from scratch with an RL, record the mean episodic reward throughout training.\n",
    "- Use the same agent but pre-trained with human demonstrations, record the mean episodic reward throughout training."
   ]
  },
  {
   "cell_type": "code",
   "execution_count": 46,
   "metadata": {},
   "outputs": [],
   "source": [
    "import base64\n",
    "import gym\n",
    "import io\n",
    "import matplotlib.pyplot as plt\n",
    "import numpy as np\n",
    "import os\n",
    "import pandas as pd\n",
    "import retro\n",
    "import tensorflow as tf\n",
    "import time\n",
    "\n",
    "from gym import wrappers\n",
    "from IPython.display import clear_output\n",
    "from sklearn.model_selection import train_test_split\n",
    "from sklearn.preprocessing import LabelEncoder\n",
    "\n",
    "%matplotlib inline"
   ]
  },
  {
   "cell_type": "code",
   "execution_count": 26,
   "metadata": {},
   "outputs": [],
   "source": [
    "levels = [\n",
    "    'MarbleZone.Act1','MarbleZone.Act2','MarbleZone.Act3',\n",
    "    'GreenHillZone.Act1','GreenHillZone.Act2','GreenHillZone.Act3',\n",
    "    'LabyrinthZone.Act1','LabyrinthZone.Act2','LabyrinthZone.Act3', \n",
    "    'SpringYardZone.Act1','SpringYardZone.Act2','SpringYardZone.Act3', \n",
    "    'StarLightZone.Act1','StarLightZone.Act2','StarLightZone.Act3',\n",
    "    'ScrapBrainZone.Act1','ScrapBrainZone.Act2' \n",
    "]\n",
    "\n",
    "config = {}\n",
    "config['data_path'] = os.path.abspath(\"./data/human\")\n",
    "config['level'] = 'GreenHillZone.Act1'\n",
    "\n",
    "config['epochs'] = 20\n",
    "config['batches_per_epoch'] = 40\n",
    "config['batch_size'] = 32\n",
    "config['patience'] = 5"
   ]
  },
  {
   "cell_type": "code",
   "execution_count": 3,
   "metadata": {},
   "outputs": [],
   "source": [
    "def extract_human_data(movie_path):\n",
    "    \"\"\" Given a path to a replay file, load it and \n",
    "        extract the series of state-action pairs.\n",
    "    \"\"\"\n",
    "    movie = retro.Movie(movie_path)\n",
    "    movie.step()\n",
    "\n",
    "    env = retro.make(game=movie.get_game(), state=retro.State.NONE, \n",
    "                     use_restricted_actions=retro.Actions.ALL)\n",
    "    env.initial_state = movie.get_state()\n",
    "    state = env.reset()\n",
    "\n",
    "    states, actions, next_states, rewards, dones = [], [], [], [], []\n",
    "    while movie.step():\n",
    "        keys = []\n",
    "        for i in range(len(env.buttons)):\n",
    "            keys.append(movie.get_key(i, 0))\n",
    "            \n",
    "        next_state, reward, done, info = env.step(keys)\n",
    "        actions.append(np.int8(keys))\n",
    "        states.append(state)\n",
    "        next_states.append(next_state)\n",
    "        rewards.append(reward)\n",
    "        dones.append(done)\n",
    "        \n",
    "        state = next_state\n",
    "        \n",
    "    return states, actions, next_states, rewards, dones"
   ]
  },
  {
   "cell_type": "code",
   "execution_count": 4,
   "metadata": {},
   "outputs": [],
   "source": [
    "states, actions, next_states, rewards, dones = extract_human_data(f\"data/human/SonicTheHedgehog-Genesis-{config['level']}-0000.bk2\")"
   ]
  },
  {
   "cell_type": "code",
   "execution_count": 5,
   "metadata": {},
   "outputs": [
    {
     "name": "stdout",
     "output_type": "stream",
     "text": [
      "[[0 0 0 0 0 0 0 1 0 0 0 0]\n",
      " [0 0 0 0 0 0 0 0 0 0 0 0]\n",
      " [0 1 0 0 0 0 0 1 0 0 0 0]\n",
      " [0 0 0 0 0 0 1 0 0 0 0 0]\n",
      " [0 0 0 0 1 0 1 0 0 0 0 0]\n",
      " [0 1 0 0 0 0 0 0 0 0 0 0]\n",
      " [0 1 0 0 0 0 1 0 0 0 0 0]\n",
      " [0 0 0 0 0 1 0 0 0 0 0 0]\n",
      " [0 0 0 0 0 1 1 0 0 0 0 0]\n",
      " [0 0 0 0 0 1 0 1 0 0 0 0]\n",
      " [0 1 0 0 1 0 0 1 0 0 0 0]\n",
      " [0 0 0 0 1 0 0 0 0 0 0 0]] [1841  881  224  139   38   21   18   16    5    4    3    1]\n"
     ]
    }
   ],
   "source": [
    "unique_actions, counts = np.unique(actions, axis=0, return_counts=True)\n",
    "\n",
    "ordering = np.argsort(counts)[::-1]\n",
    "unique_actions = unique_actions[ordering]\n",
    "counts = counts[ordering]\n",
    "print(unique_actions, counts)"
   ]
  },
  {
   "cell_type": "code",
   "execution_count": 6,
   "metadata": {},
   "outputs": [
    {
     "name": "stdout",
     "output_type": "stream",
     "text": [
      "Identified 12 unique actions of 4096 possible.\n"
     ]
    }
   ],
   "source": [
    "print(f\"Identified {len(counts)} unique actions of {2**12} possible.\")"
   ]
  },
  {
   "cell_type": "markdown",
   "metadata": {},
   "source": [
    "### Reduced Action Space\n",
    "Humans are only displaying a very limited subset of the total number of actions possible.  Lets take advantage of this by encoding the action space into a simple integer."
   ]
  },
  {
   "cell_type": "code",
   "execution_count": 50,
   "metadata": {},
   "outputs": [],
   "source": [
    "def encode_actions(actions):\n",
    "    \"\"\" Cast actions to a string and then use a label encoder to \n",
    "        transform the vector into a simple integer.  \n",
    "    \"\"\"\n",
    "    str_actions = [\"\".join(str(action)) for action in actions]\n",
    "    encoder = LabelEncoder()\n",
    "    return encoder.fit_transform(str_actions)"
   ]
  },
  {
   "cell_type": "code",
   "execution_count": 52,
   "metadata": {},
   "outputs": [
    {
     "name": "stdout",
     "output_type": "stream",
     "text": [
      "12\n"
     ]
    }
   ],
   "source": [
    "actions = encode_actions(actions)\n",
    "n_actions = len(np.unique(actions))\n",
    "print(n_actions)"
   ]
  },
  {
   "cell_type": "code",
   "execution_count": 75,
   "metadata": {},
   "outputs": [],
   "source": [
    "inputs = tf.keras.layers.Input(states[0].shape)\n",
    "last_layer = tf.keras.layers.Conv2D(filters=16, kernel_size=3, strides=1, activation='relu')(inputs)\n",
    "last_layer = tf.keras.layers.Conv2D(filters=16, kernel_size=3, strides=3, activation='relu')(last_layer)\n",
    "last_layer = tf.keras.layers.Conv2D(filters=16, kernel_size=3, strides=1, activation='relu')(last_layer)\n",
    "last_layer = tf.keras.layers.Conv2D(filters=16, kernel_size=3, strides=3, activation='relu')(last_layer)\n",
    "last_layer = tf.keras.layers.Conv2D(filters=16, kernel_size=3, strides=1, activation='relu')(last_layer)\n",
    "last_layer = tf.keras.layers.Conv2D(filters=16, kernel_size=3, strides=3, activation='relu')(last_layer)\n",
    "flat_layer = tf.keras.layers.Flatten()(last_layer)\n",
    "last_layer = tf.keras.layers.Dense(256, activation='relu')(flat_layer)\n",
    "outputs = tf.keras.layers.Dense(n_actions, activation='softmax')(last_layer)\n",
    "model = tf.keras.Model(inputs, outputs)"
   ]
  },
  {
   "cell_type": "code",
   "execution_count": 76,
   "metadata": {},
   "outputs": [
    {
     "name": "stdout",
     "output_type": "stream",
     "text": [
      "Model: \"model_3\"\n",
      "_________________________________________________________________\n",
      "Layer (type)                 Output Shape              Param #   \n",
      "=================================================================\n",
      "input_4 (InputLayer)         [(None, 224, 320, 3)]     0         \n",
      "_________________________________________________________________\n",
      "conv2d_18 (Conv2D)           (None, 222, 318, 16)      448       \n",
      "_________________________________________________________________\n",
      "conv2d_19 (Conv2D)           (None, 74, 106, 16)       2320      \n",
      "_________________________________________________________________\n",
      "conv2d_20 (Conv2D)           (None, 72, 104, 16)       2320      \n",
      "_________________________________________________________________\n",
      "conv2d_21 (Conv2D)           (None, 24, 34, 16)        2320      \n",
      "_________________________________________________________________\n",
      "conv2d_22 (Conv2D)           (None, 22, 32, 16)        2320      \n",
      "_________________________________________________________________\n",
      "conv2d_23 (Conv2D)           (None, 7, 10, 16)         2320      \n",
      "_________________________________________________________________\n",
      "flatten_3 (Flatten)          (None, 1120)              0         \n",
      "_________________________________________________________________\n",
      "dense_6 (Dense)              (None, 256)               286976    \n",
      "_________________________________________________________________\n",
      "dense_7 (Dense)              (None, 12)                3084      \n",
      "=================================================================\n",
      "Total params: 302,108\n",
      "Trainable params: 302,108\n",
      "Non-trainable params: 0\n",
      "_________________________________________________________________\n",
      "None\n"
     ]
    }
   ],
   "source": [
    "model.compile(\n",
    "    optimizer=tf.keras.optimizers.Adam(1e-3), \n",
    "    loss='sparse_categorical_crossentropy'\n",
    ")\n",
    "print(model.summary())"
   ]
  },
  {
   "cell_type": "code",
   "execution_count": 64,
   "metadata": {},
   "outputs": [],
   "source": [
    "class ModelTrainer:\n",
    "    \n",
    "    def __init__(self, max_epochs=10, batch_size=32, \n",
    "                 batches_per_epoch=100, patience=4):\n",
    "        self.max_epochs = max_epochs\n",
    "        self.batch_size = batch_size\n",
    "        self.batches_per_epoch = batches_per_epoch\n",
    "        self.train_loss = []\n",
    "        self.test_loss = []\n",
    "        self.best_loss = np.inf\n",
    "        self.best_weights = None\n",
    "        self.patience = patience\n",
    "        \n",
    "    def train(self, model, x_train, y_train, x_test, y_test):  \n",
    "        \n",
    "        down_rounds = 0\n",
    "        for epoch in range(self.max_epochs):\n",
    "            epoch_loss = 0\n",
    "            for batch in range(self.batches_per_epoch):\n",
    "                indices = np.random.choice(np.arange(x_train.shape[0]), self.batch_size)\n",
    "                loss = model.train_on_batch(x_train[indices], y_train[indices])\n",
    "                epoch_loss += loss / self.batches_per_epoch\n",
    "        \n",
    "            epoch_test_loss = model.evaluate(x_test, y_test)\n",
    "            self.train_loss.append(epoch_loss)\n",
    "            self.test_loss.append(epoch_test_loss)\n",
    "            print(\"Epoch loss: \", epoch_loss)\n",
    "            print(\"Dev. loss: \", epoch_test_loss)\n",
    "            \n",
    "            if epoch_test_loss > self.best_loss:\n",
    "                down_rounds += 1\n",
    "            else:\n",
    "                self.best_loss = epoch_test_loss\n",
    "                self.best_weights = model.get_weights()\n",
    "                down_rounds = 0\n",
    "                \n",
    "            if down_rounds >= self.patience:\n",
    "                return"
   ]
  },
  {
   "cell_type": "code",
   "execution_count": 65,
   "metadata": {
    "scrolled": false
   },
   "outputs": [
    {
     "name": "stdout",
     "output_type": "stream",
     "text": [
      "798/798 [==============================] - 1s 752us/sample - loss: 1.2100\n",
      "Epoch loss:  1.9374111413955684\n",
      "Dev. loss:  1.2099682403387582\n",
      "798/798 [==============================] - 0s 574us/sample - loss: 1.3040\n",
      "Epoch loss:  1.058494110405445\n",
      "Dev. loss:  1.3039848380220265\n",
      "798/798 [==============================] - 0s 568us/sample - loss: 1.0003\n",
      "Epoch loss:  0.9203243598341941\n",
      "Dev. loss:  1.0003156198893572\n",
      "798/798 [==============================] - 0s 568us/sample - loss: 0.9271\n",
      "Epoch loss:  0.7416496716439722\n",
      "Dev. loss:  0.9271060146185988\n",
      "798/798 [==============================] - 0s 572us/sample - loss: 0.8459\n",
      "Epoch loss:  0.6086639314889909\n",
      "Dev. loss:  0.8459220845298958\n",
      "798/798 [==============================] - 0s 567us/sample - loss: 0.7947\n",
      "Epoch loss:  0.4992151029407978\n",
      "Dev. loss:  0.7946521229014958\n",
      "798/798 [==============================] - 0s 572us/sample - loss: 0.8084\n",
      "Epoch loss:  0.3750499803572894\n",
      "Dev. loss:  0.8083788037001339\n",
      "798/798 [==============================] - 0s 567us/sample - loss: 0.7986\n",
      "Epoch loss:  0.36557486802339545\n",
      "Dev. loss:  0.7985747251893046\n",
      "798/798 [==============================] - 0s 563us/sample - loss: 0.8050\n",
      "Epoch loss:  0.28451895415782935\n",
      "Dev. loss:  0.8050222801684138\n",
      "798/798 [==============================] - 0s 570us/sample - loss: 0.7448\n",
      "Epoch loss:  0.23313002251088624\n",
      "Dev. loss:  0.7448416362728989\n",
      "798/798 [==============================] - 0s 582us/sample - loss: 0.8184\n",
      "Epoch loss:  0.17752777468413114\n",
      "Dev. loss:  0.8183761572180536\n",
      "798/798 [==============================] - 0s 573us/sample - loss: 0.7510\n",
      "Epoch loss:  0.16242957580834624\n",
      "Dev. loss:  0.750987036036967\n",
      "798/798 [==============================] - 0s 574us/sample - loss: 0.7179\n",
      "Epoch loss:  0.15195573507808152\n",
      "Dev. loss:  0.7179014649905059\n",
      "798/798 [==============================] - 0s 569us/sample - loss: 0.8208\n",
      "Epoch loss:  0.15151222348213195\n",
      "Dev. loss:  0.8207635901924363\n",
      "798/798 [==============================] - 0s 568us/sample - loss: 0.6399\n",
      "Epoch loss:  0.11218648226931692\n",
      "Dev. loss:  0.6398818185156151\n",
      "798/798 [==============================] - 0s 569us/sample - loss: 0.7513\n",
      "Epoch loss:  0.09372335840016606\n",
      "Dev. loss:  0.7512988832062647\n",
      "798/798 [==============================] - 0s 565us/sample - loss: 0.5541\n",
      "Epoch loss:  0.14838045858195983\n",
      "Dev. loss:  0.5540648637558883\n",
      "798/798 [==============================] - 0s 566us/sample - loss: 0.6039\n",
      "Epoch loss:  0.11737951091490684\n",
      "Dev. loss:  0.6038990967853326\n",
      "798/798 [==============================] - 0s 568us/sample - loss: 0.7136\n",
      "Epoch loss:  0.1088610987178981\n",
      "Dev. loss:  0.7136263086981044\n",
      "798/798 [==============================] - 0s 567us/sample - loss: 0.8844\n",
      "Epoch loss:  0.05589296027610547\n",
      "Dev. loss:  0.8843958037240165\n"
     ]
    }
   ],
   "source": [
    "x_train, x_test, y_train, y_test = train_test_split(np.array(states), np.array(actions))\n",
    "\n",
    "trainer = ModelTrainer(\n",
    "    max_epochs=config['epochs'],\n",
    "    batch_size=config['batch_size'],\n",
    "    batches_per_epoch=config['batches_per_epoch'],\n",
    "    patience=config['patience']\n",
    ")\n",
    "trainer.train(model, x_train, y_train, x_test, y_test)"
   ]
  },
  {
   "cell_type": "code",
   "execution_count": 68,
   "metadata": {},
   "outputs": [],
   "source": [
    "model.set_weights(trainer.best_weights)"
   ]
  },
  {
   "cell_type": "code",
   "execution_count": 69,
   "metadata": {},
   "outputs": [
    {
     "data": {
      "image/png": "[encoded data removed]",
      "text/plain": [
       "<Figure size 864x360 with 1 Axes>"
      ]
     },
     "metadata": {
      "needs_background": "light"
     },
     "output_type": "display_data"
    }
   ],
   "source": [
    "plt.figure(figsize=(12,5))\n",
    "plt.plot(trainer.train_loss, color='blue', label='Train')\n",
    "plt.plot(trainer.test_loss, color='red', label='Test')\n",
    "plt.grid(alpha=0.2)\n",
    "plt.xlabel(\"Epoch\")\n",
    "plt.ylabel(\"Loss\")\n",
    "plt.savefig(\"imitation_losses.png\", bbox_inches=\"tight\")"
   ]
  },
  {
   "cell_type": "code",
   "execution_count": 70,
   "metadata": {},
   "outputs": [
    {
     "ename": "RuntimeError",
     "evalue": "Cannot create multiple emulator instances per process, make sure to call env.close() on each environment before creating a new one",
     "output_type": "error",
     "traceback": [
      "\u001b[0;31m---------------------------------------------------------------------------\u001b[0m",
      "\u001b[0;31mRuntimeError\u001b[0m                              Traceback (most recent call last)",
      "\u001b[0;32m<ipython-input-70-73380e791feb>\u001b[0m in \u001b[0;36m<module>\u001b[0;34m\u001b[0m\n\u001b[1;32m      1\u001b[0m env = retro.make(game='SonicTheHedgehog-Genesis', \n\u001b[0;32m----> 2\u001b[0;31m                  state=config['level'])\n\u001b[0m",
      "\u001b[0;32m~/anaconda3/envs/tensorflow2_p36/lib/python3.6/site-packages/retro/__init__.py\u001b[0m in \u001b[0;36mmake\u001b[0;34m(game, state, inttype, **kwargs)\u001b[0m\n\u001b[1;32m     53\u001b[0m         \u001b[0;32melse\u001b[0m\u001b[0;34m:\u001b[0m\u001b[0;34m\u001b[0m\u001b[0;34m\u001b[0m\u001b[0m\n\u001b[1;32m     54\u001b[0m             \u001b[0;32mraise\u001b[0m \u001b[0mFileNotFoundError\u001b[0m\u001b[0;34m(\u001b[0m\u001b[0;34m'Game not found: %s. Did you make sure to import the ROM?'\u001b[0m \u001b[0;34m%\u001b[0m \u001b[0mgame\u001b[0m\u001b[0;34m)\u001b[0m\u001b[0;34m\u001b[0m\u001b[0;34m\u001b[0m\u001b[0m\n\u001b[0;32m---> 55\u001b[0;31m     \u001b[0;32mreturn\u001b[0m \u001b[0mRetroEnv\u001b[0m\u001b[0;34m(\u001b[0m\u001b[0mgame\u001b[0m\u001b[0;34m,\u001b[0m \u001b[0mstate\u001b[0m\u001b[0;34m,\u001b[0m \u001b[0minttype\u001b[0m\u001b[0;34m=\u001b[0m\u001b[0minttype\u001b[0m\u001b[0;34m,\u001b[0m \u001b[0;34m**\u001b[0m\u001b[0mkwargs\u001b[0m\u001b[0;34m)\u001b[0m\u001b[0;34m\u001b[0m\u001b[0;34m\u001b[0m\u001b[0m\n\u001b[0m",
      "\u001b[0;32m~/anaconda3/envs/tensorflow2_p36/lib/python3.6/site-packages/retro/retro_env.py\u001b[0m in \u001b[0;36m__init__\u001b[0;34m(self, game, state, scenario, info, use_restricted_actions, record, players, inttype, obs_type)\u001b[0m\n\u001b[1;32m     85\u001b[0m         \u001b[0;31m# emulator, ensure that unused ones are garbage-collected\u001b[0m\u001b[0;34m\u001b[0m\u001b[0;34m\u001b[0m\u001b[0;34m\u001b[0m\u001b[0m\n\u001b[1;32m     86\u001b[0m         \u001b[0mgc\u001b[0m\u001b[0;34m.\u001b[0m\u001b[0mcollect\u001b[0m\u001b[0;34m(\u001b[0m\u001b[0;34m)\u001b[0m\u001b[0;34m\u001b[0m\u001b[0;34m\u001b[0m\u001b[0m\n\u001b[0;32m---> 87\u001b[0;31m         \u001b[0mself\u001b[0m\u001b[0;34m.\u001b[0m\u001b[0mem\u001b[0m \u001b[0;34m=\u001b[0m \u001b[0mretro\u001b[0m\u001b[0;34m.\u001b[0m\u001b[0mRetroEmulator\u001b[0m\u001b[0;34m(\u001b[0m\u001b[0mrom_path\u001b[0m\u001b[0;34m)\u001b[0m\u001b[0;34m\u001b[0m\u001b[0;34m\u001b[0m\u001b[0m\n\u001b[0m\u001b[1;32m     88\u001b[0m         \u001b[0mself\u001b[0m\u001b[0;34m.\u001b[0m\u001b[0mem\u001b[0m\u001b[0;34m.\u001b[0m\u001b[0mconfigure_data\u001b[0m\u001b[0;34m(\u001b[0m\u001b[0mself\u001b[0m\u001b[0;34m.\u001b[0m\u001b[0mdata\u001b[0m\u001b[0;34m)\u001b[0m\u001b[0;34m\u001b[0m\u001b[0;34m\u001b[0m\u001b[0m\n\u001b[1;32m     89\u001b[0m         \u001b[0mself\u001b[0m\u001b[0;34m.\u001b[0m\u001b[0mem\u001b[0m\u001b[0;34m.\u001b[0m\u001b[0mstep\u001b[0m\u001b[0;34m(\u001b[0m\u001b[0;34m)\u001b[0m\u001b[0;34m\u001b[0m\u001b[0;34m\u001b[0m\u001b[0m\n",
      "\u001b[0;31mRuntimeError\u001b[0m: Cannot create multiple emulator instances per process, make sure to call env.close() on each environment before creating a new one"
     ]
    }
   ],
   "source": [
    "env = retro.make(game='SonicTheHedgehog-Genesis', \n",
    "                 state=config['level'])"
   ]
  },
  {
   "cell_type": "code",
   "execution_count": 71,
   "metadata": {},
   "outputs": [],
   "source": [
    "def record_imitation_game(env, model, rnd_steps=50, max_frames=10000):\n",
    "    \"\"\" Docstring.\n",
    "    \"\"\"\n",
    "    \n",
    "    state = env.reset()\n",
    "    frames = []\n",
    "    frames.append(env.render(mode='rgb_array'))\n",
    "    for step in range(rnd_steps):\n",
    "        state, _, _, _ = env.step(env.action_space.sample())\n",
    "        frames.append(env.render(mode='rgb_array'))\n",
    "        \n",
    "    done = False\n",
    "    while not done:\n",
    "        \n",
    "        # Act according to our policy most of the time.  It \n",
    "        # seems to get stuck so I am trying to add some random\n",
    "        # elements to get Sonic unstuck.\n",
    "        if step % 5 == 0:\n",
    "            new_state, reward, done, info = env.step(env.action_space.sample())\n",
    "            state = new_state\n",
    "        \n",
    "        else:\n",
    "            action = model.predict(state.reshape(1, *state.shape))\n",
    "            action = np.round(action[0])\n",
    "            action = np.array(action, dtype=np.int8)\n",
    "            new_state, reward, done, info = env.step(action)\n",
    "            state = new_state\n",
    "            \n",
    "        frames.append(env.render(mode='rgb_array'))\n",
    "        if len(frames) % 500 == 0:\n",
    "            print(\"Collected {} frames\".format(len(frames)))\n",
    "        \n",
    "        if len(frames) >= max_frames:\n",
    "            return frames\n",
    "        \n",
    "    return frames"
   ]
  },
  {
   "cell_type": "code",
   "execution_count": 72,
   "metadata": {},
   "outputs": [
    {
     "name": "stdout",
     "output_type": "stream",
     "text": [
      "Collected 500 frames\n",
      "Collected 1000 frames\n",
      "Collected 1500 frames\n",
      "Collected 2000 frames\n",
      "Collected 2500 frames\n",
      "Collected 3000 frames\n",
      "Collected 3500 frames\n",
      "Collected 4000 frames\n",
      "Collected 4500 frames\n",
      "Collected 5000 frames\n",
      "Collected 5500 frames\n",
      "Collected 6000 frames\n",
      "Collected 6500 frames\n",
      "Collected 7000 frames\n",
      "Collected 7500 frames\n"
     ]
    }
   ],
   "source": [
    "frames = record_imitation_game(env, model, rnd_steps=50, max_frames=7500)"
   ]
  },
  {
   "cell_type": "code",
   "execution_count": 73,
   "metadata": {},
   "outputs": [],
   "source": [
    "try:\n",
    "    import imageio\n",
    "except:\n",
    "    !pip install imageio\n",
    "    !pip install imageio-ffmpeg\n",
    "    import imageio"
   ]
  },
  {
   "cell_type": "code",
   "execution_count": 74,
   "metadata": {},
   "outputs": [],
   "source": [
    "imageio.mimwrite(\n",
    "    \"imitation_agent_{}.mp4\".format(config[\"level\"]), \n",
    "    frames, fps=30)"
   ]
  },
  {
   "cell_type": "code",
   "execution_count": null,
   "metadata": {},
   "outputs": [],
   "source": [
    "def td_loss(online_model, target_model, states, actions, next_states, rewards, dones, gamma):\n",
    "    \"\"\" Calculate the temporal difference loss. \"\"\"\n",
    "    \n",
    "    # Predict the value of the current and next states using the appropriate \n",
    "    # networks for each. \n",
    "    q_pred_states = online_model.predict(states)\n",
    "    q_next_states = target_model.predict(next_states)\n",
    "    \n",
    "    # If the current state is the terminal state, the reward for the transition\n",
    "    # is provided by there is no future reward.  The state value is zero regardless \n",
    "    # which action would be chosen.  \n",
    "    q_target_states = rewards + (1. - dones) * q_next_states * gamma\n",
    "    \n",
    "    # Calculate the temporal difference loss \n",
    "    loss = tf.reduce_mean(tf.squared_difference(q_pred_states, q_target_states))"
   ]
  },
  {
   "cell_type": "code",
   "execution_count": 82,
   "metadata": {},
   "outputs": [],
   "source": [
    "x = tf.Variable([1., 2., 3.])\n",
    "y = tf.Variable([2., 0., 3.])"
   ]
  },
  {
   "cell_type": "code",
   "execution_count": 83,
   "metadata": {},
   "outputs": [
    {
     "data": {
      "text/plain": [
       "<tf.Tensor: shape=(3,), dtype=float32, numpy=array([3., 2., 6.], dtype=float32)>"
      ]
     },
     "execution_count": 83,
     "metadata": {},
     "output_type": "execute_result"
    }
   ],
   "source": [
    "tf.math.add(x, y)"
   ]
  },
  {
   "cell_type": "code",
   "execution_count": 84,
   "metadata": {},
   "outputs": [
    {
     "data": {
      "text/plain": [
       "<tf.Tensor: shape=(3,), dtype=float32, numpy=array([1., 4., 0.], dtype=float32)>"
      ]
     },
     "execution_count": 84,
     "metadata": {},
     "output_type": "execute_result"
    }
   ],
   "source": [
    "tf.math.squared_difference(x, y)"
   ]
  },
  {
   "cell_type": "code",
   "execution_count": 87,
   "metadata": {},
   "outputs": [
    {
     "data": {
      "text/plain": [
       "<tf.Tensor: shape=(), dtype=float32, numpy=1.6666666>"
      ]
     },
     "execution_count": 87,
     "metadata": {},
     "output_type": "execute_result"
    }
   ],
   "source": [
    "tf.math.reduce_mean(tf.math.squared_difference(x, y))"
   ]
  },
  {
   "cell_type": "code",
   "execution_count": 88,
   "metadata": {},
   "outputs": [],
   "source": [
    "x_mat = tf.Variable([[1., 2., 3.], [3., 6., -1.]])\n",
    "y_mat = tf.Variable([[4., -2., 3.], [0., 2., 4.]])"
   ]
  },
  {
   "cell_type": "code",
   "execution_count": 89,
   "metadata": {},
   "outputs": [
    {
     "data": {
      "text/plain": [
       "<tf.Tensor: shape=(2, 3), dtype=float32, numpy=\n",
       "array([[5., 0., 6.],\n",
       "       [3., 8., 3.]], dtype=float32)>"
      ]
     },
     "execution_count": 89,
     "metadata": {},
     "output_type": "execute_result"
    }
   ],
   "source": [
    "tf.math.add(x_mat, y_mat)"
   ]
  },
  {
   "cell_type": "code",
   "execution_count": 104,
   "metadata": {},
   "outputs": [],
   "source": [
    "states = tf.random.uniform(shape=(4, 10))\n",
    "next_states = tf.random.uniform(shape=(4, 10))\n",
    "actions = tf.random.uniform(shape=(4,4))\n",
    "rewards = tf.random.uniform(shape=(4,1))\n",
    "dones = tf.constant([False, False, True, False])"
   ]
  },
  {
   "cell_type": "code",
   "execution_count": 106,
   "metadata": {},
   "outputs": [],
   "source": [
    "fake_inputs = tf.keras.layers.Input(10)\n",
    "fake_outputs = tf.keras.layers.Dense(4)(fake_inputs)\n",
    "fake_model = tf.keras.Model(fake_inputs, fake_outputs)"
   ]
  },
  {
   "cell_type": "code",
   "execution_count": 109,
   "metadata": {},
   "outputs": [
    {
     "data": {
      "text/plain": [
       "array([[-1.1901877 , -0.07872343,  0.4335228 , -0.16154078],\n",
       "       [-0.41681114, -0.07505834,  1.0296772 ,  0.5533242 ],\n",
       "       [-0.6660771 , -0.08979653,  0.8676951 ,  0.20546907],\n",
       "       [ 0.4268281 , -0.27037898,  0.90648675,  0.3769319 ]],\n",
       "      dtype=float32)"
      ]
     },
     "execution_count": 109,
     "metadata": {},
     "output_type": "execute_result"
    }
   ],
   "source": [
    "fake_model.predict(states)"
   ]
  },
  {
   "cell_type": "code",
   "execution_count": 110,
   "metadata": {},
   "outputs": [],
   "source": [
    "q_pred_states = fake_model.predict(states)\n",
    "q_next_states = fake_model.predict(next_states)"
   ]
  },
  {
   "cell_type": "code",
   "execution_count": 116,
   "metadata": {},
   "outputs": [
    {
     "data": {
      "text/plain": [
       "<tf.Tensor: shape=(4, 1), dtype=float32, numpy=\n",
       "array([[0.12180459],\n",
       "       [0.6212076 ],\n",
       "       [0.5242357 ],\n",
       "       [0.42379415]], dtype=float32)>"
      ]
     },
     "execution_count": 116,
     "metadata": {},
     "output_type": "execute_result"
    }
   ],
   "source": [
    "rewards"
   ]
  },
  {
   "cell_type": "code",
   "execution_count": 121,
   "metadata": {},
   "outputs": [],
   "source": [
    "not_terminals = tf.reshape((1. - tf.cast(dones, dtype=tf.float32)), (4,1))"
   ]
  },
  {
   "cell_type": "code",
   "execution_count": 122,
   "metadata": {},
   "outputs": [
    {
     "data": {
      "text/plain": [
       "<tf.Tensor: shape=(4, 1), dtype=float32, numpy=\n",
       "array([[0.12180459],\n",
       "       [0.6212076 ],\n",
       "       [0.        ],\n",
       "       [0.42379415]], dtype=float32)>"
      ]
     },
     "execution_count": 122,
     "metadata": {},
     "output_type": "execute_result"
    }
   ],
   "source": [
    "rewards * not_terminals"
   ]
  },
  {
   "cell_type": "code",
   "execution_count": 130,
   "metadata": {},
   "outputs": [
    {
     "data": {
      "text/plain": [
       "array([[-0.42670256,  0.34052387,  0.9048572 , -0.2614753 ],\n",
       "       [-0.25095928,  0.395523  ,  1.3792517 ,  0.22554184],\n",
       "       [ 0.16946548,  0.129127  ,  1.5479536 ,  0.5296062 ],\n",
       "       [ 0.17742717, -0.4112731 ,  0.71148586,  0.64879465]],\n",
       "      dtype=float32)"
      ]
     },
     "execution_count": 130,
     "metadata": {},
     "output_type": "execute_result"
    }
   ],
   "source": [
    "q_next_states"
   ]
  },
  {
   "cell_type": "code",
   "execution_count": 131,
   "metadata": {},
   "outputs": [
    {
     "data": {
      "text/plain": [
       "<tf.Tensor: shape=(4,), dtype=int64, numpy=array([2, 2, 2, 2])>"
      ]
     },
     "execution_count": 131,
     "metadata": {},
     "output_type": "execute_result"
    }
   ],
   "source": [
    "tf.math.argmax(q_next_states, axis=1)"
   ]
  },
  {
   "cell_type": "code",
   "execution_count": 132,
   "metadata": {},
   "outputs": [],
   "source": [
    "indices = tf.math.argmax(q_next_states, axis=1)"
   ]
  },
  {
   "cell_type": "code",
   "execution_count": 138,
   "metadata": {},
   "outputs": [
    {
     "data": {
      "text/plain": [
       "array([[0.9048572 , 0.9048572 , 0.9048572 , 0.9048572 ],\n",
       "       [1.3792517 , 1.3792517 , 1.3792517 , 1.3792517 ],\n",
       "       [1.5479536 , 1.5479536 , 1.5479536 , 1.5479536 ],\n",
       "       [0.71148586, 0.71148586, 0.71148586, 0.71148586]], dtype=float32)"
      ]
     },
     "execution_count": 138,
     "metadata": {},
     "output_type": "execute_result"
    }
   ],
   "source": [
    "q_next_states[:,indices]"
   ]
  },
  {
   "cell_type": "code",
   "execution_count": 141,
   "metadata": {},
   "outputs": [
    {
     "data": {
      "text/plain": [
       "<tf.Tensor: shape=(4,), dtype=float32, numpy=array([0.9048572 , 1.3792517 , 1.5479536 , 0.71148586], dtype=float32)>"
      ]
     },
     "execution_count": 141,
     "metadata": {},
     "output_type": "execute_result"
    }
   ],
   "source": [
    "tf.math.reduce_max(q_next_states, axis=1)"
   ]
  },
  {
   "cell_type": "code",
   "execution_count": 148,
   "metadata": {},
   "outputs": [
    {
     "data": {
      "text/plain": [
       "<tf.Tensor: shape=(4, 4), dtype=float32, numpy=\n",
       "array([[1.0176132 , 1.4872638 , 1.6542786 , 0.82617563],\n",
       "       [1.5170162 , 1.9866668 , 2.1536818 , 1.3255787 ],\n",
       "       [0.89580864, 1.3654592 , 1.532474  , 0.70437104],\n",
       "       [1.3196027 , 1.7892534 , 1.9562682 , 1.1281652 ]], dtype=float32)>"
      ]
     },
     "execution_count": 148,
     "metadata": {},
     "output_type": "execute_result"
    }
   ],
   "source": [
    "rewards * not_terminals + 0.99 * tf.math.reduce_max(q_next_states, axis=1)"
   ]
  },
  {
   "cell_type": "code",
   "execution_count": 159,
   "metadata": {},
   "outputs": [
    {
     "data": {
      "text/plain": [
       "<tf.Tensor: shape=(4, 4), dtype=float32, numpy=\n",
       "array([[-0.6660771 , -0.08979653,  0.8676951 ,  0.20546907],\n",
       "       [ 0.4268281 , -0.27037898,  0.90648675,  0.3769319 ],\n",
       "       [-0.41681114, -0.07505834,  1.0296772 ,  0.5533242 ],\n",
       "       [-0.41681114, -0.07505834,  1.0296772 ,  0.5533242 ]],\n",
       "      dtype=float32)>"
      ]
     },
     "execution_count": 159,
     "metadata": {},
     "output_type": "execute_result"
    }
   ],
   "source": [
    "tf.gather(q_pred_states, tf.math.argmax(actions, axis=1))"
   ]
  },
  {
   "cell_type": "code",
   "execution_count": 198,
   "metadata": {},
   "outputs": [
    {
     "data": {
      "text/plain": [
       "<tf.Tensor: shape=(4, 4), dtype=float32, numpy=\n",
       "array([[0.05731583, 0.80769527, 0.9163829 , 0.19478476],\n",
       "       [0.12631977, 0.27955568, 0.10889566, 0.94712746],\n",
       "       [0.6077219 , 0.8633058 , 0.44763017, 0.04832292],\n",
       "       [0.06946802, 0.7975805 , 0.01151669, 0.53970826]], dtype=float32)>"
      ]
     },
     "execution_count": 198,
     "metadata": {},
     "output_type": "execute_result"
    }
   ],
   "source": [
    "actions"
   ]
  },
  {
   "cell_type": "code",
   "execution_count": 199,
   "metadata": {},
   "outputs": [
    {
     "name": "stdout",
     "output_type": "stream",
     "text": [
      "tf.Tensor([2 3 1 1], shape=(4,), dtype=int64)\n"
     ]
    }
   ],
   "source": [
    "indices = tf.math.argmax(actions, axis=1)\n",
    "print(indices)"
   ]
  },
  {
   "cell_type": "code",
   "execution_count": 200,
   "metadata": {},
   "outputs": [
    {
     "data": {
      "text/plain": [
       "array([[-1.1901877 , -0.07872343,  0.4335228 , -0.16154078],\n",
       "       [-0.41681114, -0.07505834,  1.0296772 ,  0.5533242 ],\n",
       "       [-0.6660771 , -0.08979653,  0.8676951 ,  0.20546907],\n",
       "       [ 0.4268281 , -0.27037898,  0.90648675,  0.3769319 ]],\n",
       "      dtype=float32)"
      ]
     },
     "execution_count": 200,
     "metadata": {},
     "output_type": "execute_result"
    }
   ],
   "source": [
    "q_pred_states"
   ]
  },
  {
   "cell_type": "code",
   "execution_count": 209,
   "metadata": {},
   "outputs": [
    {
     "data": {
      "text/plain": [
       "<tf.Tensor: shape=(4, 4), dtype=float32, numpy=\n",
       "array([[ 0.4335228 , -0.16154078, -0.07872343, -0.07872343],\n",
       "       [ 1.0296772 ,  0.5533242 , -0.07505834, -0.07505834],\n",
       "       [ 0.8676951 ,  0.20546907, -0.08979653, -0.08979653],\n",
       "       [ 0.90648675,  0.3769319 , -0.27037898, -0.27037898]],\n",
       "      dtype=float32)>"
      ]
     },
     "execution_count": 209,
     "metadata": {},
     "output_type": "execute_result"
    }
   ],
   "source": [
    "tf.gather(q_pred_states, indices, axis=1)"
   ]
  },
  {
   "cell_type": "code",
   "execution_count": 211,
   "metadata": {},
   "outputs": [
    {
     "data": {
      "text/plain": [
       "<tf.Tensor: shape=(4, 4), dtype=float32, numpy=\n",
       "array([[ 0.4335228 , -0.16154078, -0.07872343, -0.07872343],\n",
       "       [ 1.0296772 ,  0.5533242 , -0.07505834, -0.07505834],\n",
       "       [ 0.8676951 ,  0.20546907, -0.08979653, -0.08979653],\n",
       "       [ 0.90648675,  0.3769319 , -0.27037898, -0.27037898]],\n",
       "      dtype=float32)>"
      ]
     },
     "execution_count": 211,
     "metadata": {},
     "output_type": "execute_result"
    }
   ],
   "source": [
    "tf.gather(q_pred_states, indices, axis=1)"
   ]
  },
  {
   "cell_type": "code",
   "execution_count": 228,
   "metadata": {},
   "outputs": [
    {
     "data": {
      "text/plain": [
       "<tf.Tensor: shape=(4, 1, 4), dtype=float32, numpy=\n",
       "array([[[-0.6660771 , -0.08979653,  0.8676951 ,  0.20546907]],\n",
       "\n",
       "       [[ 0.4268281 , -0.27037898,  0.90648675,  0.3769319 ]],\n",
       "\n",
       "       [[-0.41681114, -0.07505834,  1.0296772 ,  0.5533242 ]],\n",
       "\n",
       "       [[-0.41681114, -0.07505834,  1.0296772 ,  0.5533242 ]]],\n",
       "      dtype=float32)>"
      ]
     },
     "execution_count": 228,
     "metadata": {},
     "output_type": "execute_result"
    }
   ],
   "source": [
    "tf.gather(q_pred_states, tf.expand_dims(indices, axis=1), axis=0)"
   ]
  },
  {
   "cell_type": "code",
   "execution_count": null,
   "metadata": {},
   "outputs": [],
   "source": []
  }
 ],
 "metadata": {
  "kernelspec": {
   "display_name": "Environment (conda_tensorflow2_p36)",
   "language": "python",
   "name": "conda_tensorflow2_p36"
  },
  "language_info": {
   "codemirror_mode": {
    "name": "ipython",
    "version": 3
   },
   "file_extension": ".py",
   "mimetype": "text/x-python",
   "name": "python",
   "nbconvert_exporter": "python",
   "pygments_lexer": "ipython3",
   "version": "3.6.10"
  }
 },
 "nbformat": 4,
 "nbformat_minor": 4
}
