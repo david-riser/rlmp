{
 "cells": [
  {
   "cell_type": "markdown",
   "metadata": {},
   "source": [
    "### Technical Things To Do\n",
    "- Setup nuts/bolts and try imitation learning on one level (done)\n",
    "- Optimize imitation learning training on one level\n",
    "- Setup nuts/bolts and try imitation learning on all levels, test generalization (not strictly necessary for the goal of this work)\n",
    "- Specify a generic evaluation protocol that can be used for all agents\n",
    "    - Fixed frame score over a number of evaluation attempts at the same level, mean.\n",
    "- Try learning from scratch with an RL, record the mean episodic reward throughout training.\n",
    "- Use the same agent but pre-trained with human demonstrations, record the mean episodic reward throughout training."
   ]
  },
  {
   "cell_type": "code",
   "execution_count": 1,
   "metadata": {},
   "outputs": [],
   "source": [
    "import base64\n",
    "import gym\n",
    "import matplotlib.pyplot as plt\n",
    "import numpy as np\n",
    "import os\n",
    "import retro\n",
    "import io\n",
    "import time\n",
    "import pandas as pd\n",
    "\n",
    "from gym import wrappers\n",
    "from IPython.display import clear_output\n",
    "\n",
    "%matplotlib inline"
   ]
  },
  {
   "cell_type": "code",
   "execution_count": 47,
   "metadata": {},
   "outputs": [],
   "source": [
    "levels = [\n",
    "    'MarbleZone.Act1','MarbleZone.Act2','MarbleZone.Act3',\n",
    "    'GreenHillZone.Act1','GreenHillZone.Act2','GreenHillZone.Act3',\n",
    "    'LabyrinthZone.Act1','LabyrinthZone.Act2','LabyrinthZone.Act3', \n",
    "    'SpringYardZone.Act1','SpringYardZone.Act2','SpringYardZone.Act3', \n",
    "    'StarLightZone.Act1','StarLightZone.Act2','StarLightZone.Act3',\n",
    "    'ScrapBrainZone.Act1','ScrapBrainZone.Act2' \n",
    "]\n",
    "\n",
    "config = {}\n",
    "config['train_levels'] = [level for level in levels if 'Act1' in level]\n",
    "config['dev_levels'] = [level for level in levels if 'Act3' in level]\n",
    "config['data_path'] = os.path.abspath(\"./data/human\")"
   ]
  },
  {
   "cell_type": "code",
   "execution_count": 48,
   "metadata": {},
   "outputs": [
    {
     "data": {
      "text/plain": [
       "['MarbleZone.Act1',\n",
       " 'GreenHillZone.Act1',\n",
       " 'LabyrinthZone.Act1',\n",
       " 'SpringYardZone.Act1',\n",
       " 'StarLightZone.Act1',\n",
       " 'ScrapBrainZone.Act1']"
      ]
     },
     "execution_count": 48,
     "metadata": {},
     "output_type": "execute_result"
    }
   ],
   "source": [
    "config['train_levels']"
   ]
  },
  {
   "cell_type": "code",
   "execution_count": 49,
   "metadata": {},
   "outputs": [
    {
     "data": {
      "text/plain": [
       "['MarbleZone.Act3',\n",
       " 'GreenHillZone.Act3',\n",
       " 'LabyrinthZone.Act3',\n",
       " 'SpringYardZone.Act3',\n",
       " 'StarLightZone.Act3']"
      ]
     },
     "execution_count": 49,
     "metadata": {},
     "output_type": "execute_result"
    }
   ],
   "source": [
    "config['dev_levels']"
   ]
  },
  {
   "cell_type": "code",
   "execution_count": 3,
   "metadata": {},
   "outputs": [],
   "source": [
    "def extract_human_data(movie_path):\n",
    "    \"\"\" Given a path to a replay file, load it and \n",
    "        extract the series of state-action pairs.\n",
    "    \"\"\"\n",
    "    movie = retro.Movie(movie_path)\n",
    "    movie.step()\n",
    "\n",
    "    env = retro.make(game=movie.get_game(), state=retro.State.NONE, \n",
    "                     use_restricted_actions=retro.Actions.ALL)\n",
    "    env.initial_state = movie.get_state()\n",
    "    state = env.reset()\n",
    "\n",
    "    states, actions, next_states, rewards, dones = [], [], [], [], []\n",
    "    while movie.step():\n",
    "        keys = []\n",
    "        for i in range(len(env.buttons)):\n",
    "            keys.append(movie.get_key(i, 0))\n",
    "            \n",
    "        next_state, reward, done, info = env.step(keys)\n",
    "        actions.append(np.int8(keys))\n",
    "        states.append(state)\n",
    "        next_states.append(next_state)\n",
    "        rewards.append(reward)\n",
    "        dones.append(done)\n",
    "        \n",
    "        state = next_state\n",
    "        \n",
    "    return states, actions, next_states, rewards, dones"
   ]
  },
  {
   "cell_type": "code",
   "execution_count": 8,
   "metadata": {},
   "outputs": [],
   "source": [
    "states, actions, next_states, rewards, dones = extract_human_data(\"data/human/SonicTheHedgehog-Genesis-LabyrinthZone.Act1-0000.bk2\")"
   ]
  },
  {
   "cell_type": "code",
   "execution_count": 9,
   "metadata": {},
   "outputs": [
    {
     "name": "stdout",
     "output_type": "stream",
     "text": [
      "[[0 0 0 0 0 0 0 0 0 0 0 0]\n",
      " [0 0 0 0 0 0 0 1 0 0 0 0]\n",
      " [0 0 0 0 0 0 1 0 0 0 0 0]\n",
      " [0 1 0 0 0 0 0 1 0 0 0 0]\n",
      " [0 1 0 0 0 0 0 0 0 0 0 0]\n",
      " [0 1 0 0 0 0 1 0 0 0 0 0]\n",
      " [0 0 0 0 0 1 0 1 0 0 0 0]\n",
      " [0 0 0 0 0 1 0 0 0 0 0 0]\n",
      " [0 0 0 0 0 1 1 0 0 0 0 0]\n",
      " [0 1 0 0 0 1 0 1 0 0 0 0]\n",
      " [0 0 0 0 1 0 1 0 0 0 0 0]\n",
      " [0 1 0 0 1 0 1 0 0 0 0 0]\n",
      " [0 0 0 0 1 0 0 0 0 0 0 0]\n",
      " [0 1 0 0 1 0 0 0 0 0 0 0]\n",
      " [0 1 0 0 1 0 0 1 0 0 0 0]\n",
      " [0 1 0 0 0 1 0 0 0 0 0 0]] [6070 4300 2459 1910  783  532  126   94   35   20   20   10    8    2\n",
      "    1    1]\n"
     ]
    }
   ],
   "source": [
    "unique_actions, counts = np.unique(actions, axis=0, return_counts=True)\n",
    "\n",
    "ordering = np.argsort(counts)[::-1]\n",
    "unique_actions = unique_actions[ordering]\n",
    "counts = counts[ordering]\n",
    "print(unique_actions, counts)"
   ]
  },
  {
   "cell_type": "code",
   "execution_count": 10,
   "metadata": {},
   "outputs": [
    {
     "name": "stdout",
     "output_type": "stream",
     "text": [
      "Identified 16 unique actions of 4096 possible.\n"
     ]
    }
   ],
   "source": [
    "print(f\"Identified {len(counts)} unique actions of {2**12} possible.\")"
   ]
  },
  {
   "cell_type": "code",
   "execution_count": 11,
   "metadata": {},
   "outputs": [],
   "source": [
    "from sklearn.preprocessing import LabelEncoder"
   ]
  },
  {
   "cell_type": "code",
   "execution_count": 12,
   "metadata": {},
   "outputs": [],
   "source": [
    "str_actions = [\"\".join(str(a)) for a in actions]\n",
    "encoded_actions = LabelEncoder().fit_transform(str_actions)"
   ]
  },
  {
   "cell_type": "code",
   "execution_count": 13,
   "metadata": {},
   "outputs": [
    {
     "data": {
      "text/plain": [
       "16371"
      ]
     },
     "execution_count": 13,
     "metadata": {},
     "output_type": "execute_result"
    }
   ],
   "source": [
    "len(encoded_actions)"
   ]
  },
  {
   "cell_type": "code",
   "execution_count": 14,
   "metadata": {},
   "outputs": [
    {
     "data": {
      "text/plain": [
       "array([ 0,  1,  2,  3,  4,  5,  6,  7,  8,  9, 10, 11, 12, 13, 14, 15])"
      ]
     },
     "execution_count": 14,
     "metadata": {},
     "output_type": "execute_result"
    }
   ],
   "source": [
    "np.unique(encoded_actions)"
   ]
  },
  {
   "cell_type": "code",
   "execution_count": 13,
   "metadata": {},
   "outputs": [],
   "source": [
    "transition_matrix = np.zeros((16,16), dtype=np.int16)\n",
    "\n",
    "for i in range(len(actions) - 1):\n",
    "    transition_matrix[encoded_actions[i], encoded_actions[i+1]] += 1 "
   ]
  },
  {
   "cell_type": "code",
   "execution_count": 14,
   "metadata": {},
   "outputs": [],
   "source": [
    "import seaborn as sns"
   ]
  },
  {
   "cell_type": "code",
   "execution_count": 15,
   "metadata": {},
   "outputs": [
    {
     "data": {
      "text/plain": [
       "<matplotlib.axes._subplots.AxesSubplot at 0x7f3b3d74dc88>"
      ]
     },
     "execution_count": 15,
     "metadata": {},
     "output_type": "execute_result"
    },
    {
     "data": {
      "image/png": "[encoded data removed]",
      "text/plain": [
       "<Figure size 864x576 with 2 Axes>"
      ]
     },
     "metadata": {
      "needs_background": "light"
     },
     "output_type": "display_data"
    }
   ],
   "source": [
    "plt.figure(figsize=(12,8))\n",
    "sns.heatmap(transition_matrix, annot=True, fmt='d')"
   ]
  },
  {
   "cell_type": "code",
   "execution_count": 16,
   "metadata": {},
   "outputs": [],
   "source": [
    "def watch_human_game(states):\n",
    "    \"\"\" Pass in the states and watch a human\n",
    "        game replay.\n",
    "    \"\"\"\n",
    "\n",
    "    plt.figure(figsize=(12,12))\n",
    "    for state in states:\n",
    "        plt.imshow(state)\n",
    "        plt.xticks([])\n",
    "        plt.yticks([])\n",
    "        plt.show()\n",
    "        time.sleep(0.00002)\n",
    "        clear_output(wait=True)"
   ]
  },
  {
   "cell_type": "code",
   "execution_count": 17,
   "metadata": {},
   "outputs": [],
   "source": [
    "# This takes some time.  The framerate is \n",
    "# significantly slower than realtime.\n",
    "# watch_human_game(states)"
   ]
  },
  {
   "cell_type": "code",
   "execution_count": 18,
   "metadata": {},
   "outputs": [],
   "source": [
    "import tensorflow as tf"
   ]
  },
  {
   "cell_type": "code",
   "execution_count": 19,
   "metadata": {},
   "outputs": [],
   "source": [
    "inputs = tf.keras.layers.Input(states[0].shape)\n",
    "last_layer = tf.keras.layers.Conv2D(filters=16, kernel_size=3, strides=1, activation='relu')(inputs)\n",
    "last_layer = tf.keras.layers.Conv2D(filters=16, kernel_size=3, strides=3, activation='relu')(last_layer)\n",
    "last_layer = tf.keras.layers.Conv2D(filters=16, kernel_size=3, strides=1, activation='relu')(last_layer)\n",
    "last_layer = tf.keras.layers.Conv2D(filters=16, kernel_size=3, strides=3, activation='relu')(last_layer)\n",
    "last_layer = tf.keras.layers.Conv2D(filters=16, kernel_size=3, strides=1, activation='relu')(last_layer)\n",
    "last_layer = tf.keras.layers.Conv2D(filters=16, kernel_size=3, strides=3, activation='relu')(last_layer)\n",
    "flat_layer = tf.keras.layers.Flatten()(last_layer)\n",
    "last_layer = tf.keras.layers.Dense(256, activation='relu')(flat_layer)\n",
    "outputs = tf.keras.layers.Dense(actions[0].shape[0], activation='sigmoid')(last_layer)\n",
    "model = tf.keras.Model(inputs, outputs)"
   ]
  },
  {
   "cell_type": "code",
   "execution_count": 20,
   "metadata": {},
   "outputs": [
    {
     "name": "stdout",
     "output_type": "stream",
     "text": [
      "Model: \"model\"\n",
      "_________________________________________________________________\n",
      "Layer (type)                 Output Shape              Param #   \n",
      "=================================================================\n",
      "input_1 (InputLayer)         [(None, 224, 320, 3)]     0         \n",
      "_________________________________________________________________\n",
      "conv2d (Conv2D)              (None, 222, 318, 16)      448       \n",
      "_________________________________________________________________\n",
      "conv2d_1 (Conv2D)            (None, 74, 106, 16)       2320      \n",
      "_________________________________________________________________\n",
      "conv2d_2 (Conv2D)            (None, 72, 104, 16)       2320      \n",
      "_________________________________________________________________\n",
      "conv2d_3 (Conv2D)            (None, 24, 34, 16)        2320      \n",
      "_________________________________________________________________\n",
      "conv2d_4 (Conv2D)            (None, 22, 32, 16)        2320      \n",
      "_________________________________________________________________\n",
      "conv2d_5 (Conv2D)            (None, 7, 10, 16)         2320      \n",
      "_________________________________________________________________\n",
      "flatten (Flatten)            (None, 1120)              0         \n",
      "_________________________________________________________________\n",
      "dense (Dense)                (None, 256)               286976    \n",
      "_________________________________________________________________\n",
      "dense_1 (Dense)              (None, 12)                3084      \n",
      "=================================================================\n",
      "Total params: 302,108\n",
      "Trainable params: 302,108\n",
      "Non-trainable params: 0\n",
      "_________________________________________________________________\n",
      "None\n"
     ]
    }
   ],
   "source": [
    "model.compile(\n",
    "    optimizer=tf.keras.optimizers.Adam(1e-3), \n",
    "    loss='binary_crossentropy'\n",
    ")\n",
    "print(model.summary())"
   ]
  },
  {
   "cell_type": "code",
   "execution_count": 21,
   "metadata": {},
   "outputs": [],
   "source": [
    "from sklearn.model_selection import train_test_split"
   ]
  },
  {
   "cell_type": "code",
   "execution_count": 22,
   "metadata": {},
   "outputs": [],
   "source": [
    "x_train, x_test, y_train, y_test = train_test_split(np.array(states), np.array(actions))"
   ]
  },
  {
   "cell_type": "code",
   "execution_count": 23,
   "metadata": {},
   "outputs": [
    {
     "data": {
      "text/plain": [
       "1.6960676"
      ]
     },
     "execution_count": 23,
     "metadata": {},
     "output_type": "execute_result"
    }
   ],
   "source": [
    "model.train_on_batch(x_train[:32], y_train[:32])"
   ]
  },
  {
   "cell_type": "code",
   "execution_count": 24,
   "metadata": {
    "scrolled": false
   },
   "outputs": [
    {
     "name": "stdout",
     "output_type": "stream",
     "text": [
      "Epoch loss:  0.1446262334287167\n",
      "4093/4093 [==============================] - 2s 575us/sample - loss: 0.1222\n",
      "Dev. loss:  0.12216122137533258\n",
      "Epoch loss:  0.11104777757078409\n",
      "4093/4093 [==============================] - 2s 520us/sample - loss: 0.1166\n",
      "Dev. loss:  0.11662853009145067\n",
      "Epoch loss:  0.09603700570762154\n",
      "4093/4093 [==============================] - 2s 519us/sample - loss: 0.1050\n",
      "Dev. loss:  0.10504605307275848\n",
      "Epoch loss:  0.09055924732238056\n",
      "4093/4093 [==============================] - 2s 539us/sample - loss: 0.1013\n",
      "Dev. loss:  0.10125396364829722\n",
      "Epoch loss:  0.08032281097024682\n",
      "4093/4093 [==============================] - 2s 515us/sample - loss: 0.1017\n",
      "Dev. loss:  0.10169052515218056\n",
      "Epoch loss:  0.07303433906286953\n",
      "4093/4093 [==============================] - 2s 519us/sample - loss: 0.0909\n",
      "Dev. loss:  0.09086318179735658\n",
      "Epoch loss:  0.06606416456401348\n",
      "4093/4093 [==============================] - 2s 516us/sample - loss: 0.0852\n",
      "Dev. loss:  0.08520847850044812\n",
      "Epoch loss:  0.05782225832343101\n",
      "4093/4093 [==============================] - 2s 517us/sample - loss: 0.0816\n",
      "Dev. loss:  0.08159386108119943\n",
      "Epoch loss:  0.0508005512692034\n",
      "4093/4093 [==============================] - 2s 514us/sample - loss: 0.0900\n",
      "Dev. loss:  0.08999904034162773\n",
      "Epoch loss:  0.04696349207311868\n",
      "4093/4093 [==============================] - 2s 516us/sample - loss: 0.0813\n",
      "Dev. loss:  0.08134567641557326\n"
     ]
    }
   ],
   "source": [
    "for epoch in range(10):\n",
    "    epoch_loss = 0\n",
    "    for batch in range(100):\n",
    "        indices = np.random.choice(np.arange(x_train.shape[0]), 32)\n",
    "        loss = model.train_on_batch(x_train[indices], y_train[indices])\n",
    "        epoch_loss += loss / 100\n",
    "        \n",
    "    print(\"Epoch loss: \", epoch_loss)\n",
    "    print(\"Dev. loss: \", model.evaluate(x_test, y_test))"
   ]
  },
  {
   "cell_type": "code",
   "execution_count": 25,
   "metadata": {},
   "outputs": [],
   "source": [
    "def watch_imitation_game(env, model, max_steps=200, rnd_steps=50):\n",
    "    \"\"\" Docstring.\n",
    "    \"\"\"\n",
    "\n",
    "    plt.figure(figsize=(12,12))\n",
    "    \n",
    "    state = env.reset()\n",
    "    for step in range(rnd_steps):\n",
    "        state, _, _, _ = env.step(env.action_space.sample())\n",
    "    \n",
    "    for step in range(max_steps):\n",
    "        \n",
    "        # Act according to our policy most of the time.  It \n",
    "        # seems to get stuck so I am trying to add some random\n",
    "        # elements to get Sonic unstuck.\n",
    "        if step % 10 == 0:\n",
    "            new_state, reward, done, info = env.step(env.action_space.sample())\n",
    "            state = new_state\n",
    "        else:\n",
    "            action = model.predict(state.reshape(1, *state.shape))\n",
    "            action = np.round(action[0])\n",
    "            action = np.array(action, dtype=np.int8)\n",
    "            new_state, reward, done, info = env.step(action)\n",
    "        \n",
    "        screen = env.render(mode='rgb_array')\n",
    "        \n",
    "        # Draw to the screen and wait a moment\n",
    "        # so the user can see it. \n",
    "        plt.imshow(screen)\n",
    "        plt.xticks([])\n",
    "        plt.yticks([])\n",
    "        plt.show()\n",
    "        time.sleep(0.0002)\n",
    "        clear_output(wait=True)\n",
    "    \n",
    "        if done:\n",
    "            break"
   ]
  },
  {
   "cell_type": "code",
   "execution_count": 26,
   "metadata": {},
   "outputs": [],
   "source": [
    "env.close()\n",
    "env = retro.make(game='SonicTheHedgehog-Genesis', state='LabyrinthZone.Act1')\n",
    "# watch_imitation_game(env, model, max_steps=10000, rnd_steps=100)"
   ]
  },
  {
   "cell_type": "code",
   "execution_count": 42,
   "metadata": {},
   "outputs": [],
   "source": [
    "class BaseAgent:\n",
    "    \"\"\" Docstring. \"\"\"\n",
    "    \n",
    "    def __init__(self, config):\n",
    "        self.config = config\n",
    "        \n",
    "    def act(self, state):\n",
    "        raise NotImplementedException"
   ]
  },
  {
   "cell_type": "code",
   "execution_count": 27,
   "metadata": {},
   "outputs": [],
   "source": [
    "def record_imitation_game(env, model, rnd_steps=50, max_frames=10000):\n",
    "    \"\"\" Docstring.\n",
    "    \"\"\"\n",
    "    \n",
    "    \n",
    "    state = env.reset()\n",
    "    frames = []\n",
    "    frames.append(env.render(mode='rgb_array'))\n",
    "    for step in range(rnd_steps):\n",
    "        state, _, _, _ = env.step(env.action_space.sample())\n",
    "        frames.append(env.render(mode='rgb_array'))\n",
    "        \n",
    "    done = False\n",
    "    while not done:\n",
    "        \n",
    "        # Act according to our policy most of the time.  It \n",
    "        # seems to get stuck so I am trying to add some random\n",
    "        # elements to get Sonic unstuck.\n",
    "        if step % 5 == 0:\n",
    "            new_state, reward, done, info = env.step(env.action_space.sample())\n",
    "            state = new_state\n",
    "        \n",
    "        else:\n",
    "            action = model.predict(state.reshape(1, *state.shape))\n",
    "            action = np.round(action[0])\n",
    "            action = np.array(action, dtype=np.int8)\n",
    "            new_state, reward, done, info = env.step(action)\n",
    "            state = new_state\n",
    "            \n",
    "        frames.append(env.render(mode='rgb_array'))\n",
    "        if len(frames) % 500 == 0:\n",
    "            print(\"Collected {} frames\".format(len(frames)))\n",
    "        \n",
    "        if len(frames) >= max_frames:\n",
    "            return frames\n",
    "        \n",
    "    return frames"
   ]
  },
  {
   "cell_type": "code",
   "execution_count": 28,
   "metadata": {},
   "outputs": [
    {
     "name": "stdout",
     "output_type": "stream",
     "text": [
      "Collected 500 frames\n",
      "Collected 1000 frames\n",
      "Collected 1500 frames\n",
      "Collected 2000 frames\n",
      "Collected 2500 frames\n",
      "Collected 3000 frames\n",
      "Collected 3500 frames\n",
      "Collected 4000 frames\n",
      "Collected 4500 frames\n",
      "Collected 5000 frames\n"
     ]
    },
    {
     "data": {
      "text/plain": [
       "<Figure size 864x864 with 0 Axes>"
      ]
     },
     "metadata": {},
     "output_type": "display_data"
    }
   ],
   "source": [
    "frames = record_imitation_game(env, model, rnd_steps=50, max_frames=3000)"
   ]
  },
  {
   "cell_type": "code",
   "execution_count": 29,
   "metadata": {},
   "outputs": [],
   "source": [
    "try:\n",
    "    import imageio\n",
    "except:\n",
    "    !pip install imageio\n",
    "    !pip install imageio-ffmpeg\n",
    "    import imageio"
   ]
  },
  {
   "cell_type": "code",
   "execution_count": 30,
   "metadata": {},
   "outputs": [],
   "source": [
    "imageio.mimwrite(\"imitation_agent.mp4\", frames, fps=30)"
   ]
  },
  {
   "cell_type": "code",
   "execution_count": 31,
   "metadata": {},
   "outputs": [
    {
     "name": "stdout",
     "output_type": "stream",
     "text": [
      "['SonicTheHedgehog-Genesis-MarbleZone.Act2-0000.bk2', 'SonicTheHedgehog-Genesis-GreenHillZone.Act2-0000.bk2', 'SonicTheHedgehog-Genesis-LabyrinthZone.Act3-0000.bk2', 'SonicTheHedgehog-Genesis-MarbleZone.Act1-0000.bk2', 'SonicTheHedgehog-Genesis-SpringYardZone.Act3-0000.bk2', 'SonicTheHedgehog-Genesis-StarLightZone.Act1-0000.bk2', 'SonicTheHedgehog-Genesis-GreenHillZone.Act1-0000.bk2', 'SonicTheHedgehog-Genesis-SpringYardZone.Act2-0000.bk2', 'SonicTheHedgehog-Genesis-LabyrinthZone.Act1-0000.bk2', 'SonicTheHedgehog-Genesis-StarLightZone.Act2-0000.bk2', 'SonicTheHedgehog-Genesis-SpringYardZone.Act1-0000.bk2', 'SonicTheHedgehog-Genesis-ScrapBrainZone.Act2-0000.bk2', 'SonicTheHedgehog-Genesis-GreenHillZone.Act3-0000.bk2', 'SonicTheHedgehog-Genesis-ScrapBrainZone.Act1-0000.bk2', 'SonicTheHedgehog-Genesis-LabyrinthZone.Act2-0000.bk2', 'SonicTheHedgehog-Genesis-MarbleZone.Act3-0000.bk2', 'SonicTheHedgehog-Genesis-StarLightZone.Act3-0000.bk2']\n"
     ]
    }
   ],
   "source": [
    "print(os.listdir('data/human'))"
   ]
  },
  {
   "cell_type": "code",
   "execution_count": 53,
   "metadata": {},
   "outputs": [],
   "source": [
    "def format_demo_name(level):\n",
    "    return 'SonicTheHedgehog-Genesis-{}-0000.bk2'.format(level)"
   ]
  },
  {
   "cell_type": "code",
   "execution_count": 54,
   "metadata": {},
   "outputs": [
    {
     "name": "stdout",
     "output_type": "stream",
     "text": [
      "Extracting MarbleZone.Act1\n",
      "Extracting GreenHillZone.Act1\n",
      "Extracting LabyrinthZone.Act1\n",
      "Extracting SpringYardZone.Act1\n",
      "Extracting StarLightZone.Act1\n",
      "Extracting ScrapBrainZone.Act1\n"
     ]
    }
   ],
   "source": [
    "env.close()\n",
    "_states, _actions, _next_states, _rewards, _dones = [], [], [], [], []\n",
    "\n",
    "for demo in config['train_levels']:\n",
    "    print(f\"Extracting {demo}\")\n",
    "    s, a, ns, r, d = extract_human_data(os.path.join(config['data_path'], format_demo_name(demo)))\n",
    "        \n",
    "    _states.extend(s)\n",
    "    _actions.extend(a)\n",
    "    _next_states.extend(ns)\n",
    "    _rewards.extend(r)\n",
    "    _dones.extend(d)"
   ]
  },
  {
   "cell_type": "code",
   "execution_count": 55,
   "metadata": {},
   "outputs": [
    {
     "name": "stdout",
     "output_type": "stream",
     "text": [
      "Model: \"model_2\"\n",
      "_________________________________________________________________\n",
      "Layer (type)                 Output Shape              Param #   \n",
      "=================================================================\n",
      "input_3 (InputLayer)         [(None, 224, 320, 3)]     0         \n",
      "_________________________________________________________________\n",
      "conv2d_12 (Conv2D)           (None, 222, 318, 16)      448       \n",
      "_________________________________________________________________\n",
      "conv2d_13 (Conv2D)           (None, 74, 106, 16)       2320      \n",
      "_________________________________________________________________\n",
      "conv2d_14 (Conv2D)           (None, 72, 104, 16)       2320      \n",
      "_________________________________________________________________\n",
      "conv2d_15 (Conv2D)           (None, 24, 34, 16)        2320      \n",
      "_________________________________________________________________\n",
      "conv2d_16 (Conv2D)           (None, 22, 32, 16)        2320      \n",
      "_________________________________________________________________\n",
      "conv2d_17 (Conv2D)           (None, 7, 10, 16)         2320      \n",
      "_________________________________________________________________\n",
      "flatten_2 (Flatten)          (None, 1120)              0         \n",
      "_________________________________________________________________\n",
      "dense_4 (Dense)              (None, 256)               286976    \n",
      "_________________________________________________________________\n",
      "dense_5 (Dense)              (None, 12)                3084      \n",
      "=================================================================\n",
      "Total params: 302,108\n",
      "Trainable params: 302,108\n",
      "Non-trainable params: 0\n",
      "_________________________________________________________________\n",
      "None\n"
     ]
    }
   ],
   "source": [
    "inputs = tf.keras.layers.Input(states[0].shape)\n",
    "last_layer = tf.keras.layers.Conv2D(filters=16, kernel_size=3, strides=1, activation='relu')(inputs)\n",
    "last_layer = tf.keras.layers.Conv2D(filters=16, kernel_size=3, strides=3, activation='relu')(last_layer)\n",
    "last_layer = tf.keras.layers.Conv2D(filters=16, kernel_size=3, strides=1, activation='relu')(last_layer)\n",
    "last_layer = tf.keras.layers.Conv2D(filters=16, kernel_size=3, strides=3, activation='relu')(last_layer)\n",
    "last_layer = tf.keras.layers.Conv2D(filters=16, kernel_size=3, strides=1, activation='relu')(last_layer)\n",
    "last_layer = tf.keras.layers.Conv2D(filters=16, kernel_size=3, strides=3, activation='relu')(last_layer)\n",
    "flat_layer = tf.keras.layers.Flatten()(last_layer)\n",
    "last_layer = tf.keras.layers.Dense(256, activation='relu')(flat_layer)\n",
    "outputs = tf.keras.layers.Dense(actions[0].shape[0], activation='sigmoid')(last_layer)\n",
    "model = tf.keras.Model(inputs, outputs)\n",
    "\n",
    "model.compile(\n",
    "    optimizer=tf.keras.optimizers.Adam(1e-3), \n",
    "    loss='binary_crossentropy'\n",
    ")\n",
    "print(model.summary())"
   ]
  },
  {
   "cell_type": "code",
   "execution_count": 56,
   "metadata": {},
   "outputs": [],
   "source": [
    "class ModelTrainer:\n",
    "    \n",
    "    def __init__(self, max_epochs=10, batch_size=32, \n",
    "                 steps_per_epoch=100, patience=4):\n",
    "        self.max_epochs = max_epochs\n",
    "        self.batch_size = batch_size\n",
    "        self.steps_per_epoch = steps_per_epoch\n",
    "        self.train_loss = []\n",
    "        self.test_loss = []\n",
    "        self.best_loss = np.inf\n",
    "        self.best_weights = None\n",
    "        self.patience = patience\n",
    "        \n",
    "    def train(self, model, x_train, y_train, x_test, y_test):  \n",
    "        \n",
    "        down_rounds = 0\n",
    "        for epoch in range(self.max_epochs):\n",
    "            epoch_loss = 0\n",
    "            for batch in range(self.steps_per_epoch):\n",
    "                indices = np.random.choice(np.arange(x_train.shape[0]), self.batch_size)\n",
    "                loss = model.train_on_batch(x_train[indices], y_train[indices])\n",
    "                epoch_loss += loss / self.steps_per_epoch\n",
    "        \n",
    "            epoch_test_loss = model.evaluate(x_test, y_test)\n",
    "            self.train_loss.append(epoch_loss)\n",
    "            self.test_loss.append(epoch_test_loss)\n",
    "            print(\"Epoch loss: \", epoch_loss)\n",
    "            print(\"Dev. loss: \", epoch_test_loss)\n",
    "            \n",
    "            if epoch_test_loss > self.best_loss:\n",
    "                down_rounds += 1\n",
    "            else:\n",
    "                self.best_loss = epoch_test_loss\n",
    "                self.best_weights = model.get_weights()\n",
    "                down_rounds = 0\n",
    "                \n",
    "            if down_rounds >= self.patience:\n",
    "                return"
   ]
  },
  {
   "cell_type": "code",
   "execution_count": null,
   "metadata": {},
   "outputs": [
    {
     "name": "stdout",
     "output_type": "stream",
     "text": [
      "4093/4093 [==============================] - 2s 546us/sample - loss: 0.1455\n",
      "Epoch loss:  0.31878157816827307\n",
      "Dev. loss:  0.1455061479933303\n",
      "4093/4093 [==============================] - 2s 520us/sample - loss: 0.1355\n",
      "Epoch loss:  0.14371035397052764\n",
      "Dev. loss:  0.13547449005959292\n",
      "4093/4093 [==============================] - 2s 523us/sample - loss: 0.1307\n",
      "Epoch loss:  0.12961007598787547\n",
      "Dev. loss:  0.13074200166602779\n",
      "4093/4093 [==============================] - 2s 520us/sample - loss: 0.1248\n",
      "Epoch loss:  0.12097926586866377\n",
      "Dev. loss:  0.12484145395124625\n",
      "4093/4093 [==============================] - 2s 516us/sample - loss: 0.1170\n",
      "Epoch loss:  0.11825458761304614\n",
      "Dev. loss:  0.11701451029356377\n",
      "4093/4093 [==============================] - 2s 519us/sample - loss: 0.1192\n",
      "Epoch loss:  0.10753378942608835\n",
      "Dev. loss:  0.11920929772402994\n",
      "4093/4093 [==============================] - 2s 523us/sample - loss: 0.1090\n",
      "Epoch loss:  0.10889252126216886\n",
      "Dev. loss:  0.10896811583151073\n",
      "4093/4093 [==============================] - 2s 518us/sample - loss: 0.1117\n",
      "Epoch loss:  0.10108230076730253\n",
      "Dev. loss:  0.11169819168122101\n",
      "4093/4093 [==============================] - 2s 520us/sample - loss: 0.1048\n",
      "Epoch loss:  0.0938660927116871\n",
      "Dev. loss:  0.10480577283512256\n",
      "4093/4093 [==============================] - 2s 527us/sample - loss: 0.0982\n",
      "Epoch loss:  0.09386677928268906\n",
      "Dev. loss:  0.09815786366805802\n",
      "4093/4093 [==============================] - 2s 520us/sample - loss: 0.1070\n",
      "Epoch loss:  0.08668177044019104\n",
      "Dev. loss:  0.10700409855232126\n",
      "4093/4093 [==============================] - 2s 520us/sample - loss: 0.0943\n",
      "Epoch loss:  0.08812258150428535\n",
      "Dev. loss:  0.09434242669066094\n",
      "4093/4093 [==============================] - 2s 522us/sample - loss: 0.0929\n",
      "Epoch loss:  0.07835016930475833\n",
      "Dev. loss:  0.09294943210950785\n",
      "4093/4093 [==============================] - 2s 519us/sample - loss: 0.0874\n",
      "Epoch loss:  0.08129104813560843\n",
      "Dev. loss:  0.08742535230242883\n",
      "4093/4093 [==============================] - 2s 518us/sample - loss: 0.0881\n",
      "Epoch loss:  0.07379583325237037\n",
      "Dev. loss:  0.0881084449117789\n",
      "4093/4093 [==============================] - 2s 525us/sample - loss: 0.0846\n",
      "Epoch loss:  0.06987145375460385\n",
      "Dev. loss:  0.08462863199043297\n",
      "4093/4093 [==============================] - 2s 570us/sample - loss: 0.0829\n",
      "Epoch loss:  0.06685536755248905\n",
      "Dev. loss:  0.08288111774518908\n",
      "4093/4093 [==============================] - 2s 520us/sample - loss: 0.0828\n",
      "Epoch loss:  0.06387754324823616\n",
      "Dev. loss:  0.08284697726263325\n",
      "4093/4093 [==============================] - 2s 523us/sample - loss: 0.0766\n",
      "Epoch loss:  0.05854162154719232\n",
      "Dev. loss:  0.07656062177580142\n",
      "4093/4093 [==============================] - 2s 522us/sample - loss: 0.0761\n",
      "Epoch loss:  0.055114228092134\n",
      "Dev. loss:  0.07611407598058723\n",
      "4093/4093 [==============================] - 2s 518us/sample - loss: 0.0713\n",
      "Epoch loss:  0.057362727448344225\n",
      "Dev. loss:  0.07125259561961593\n",
      "4093/4093 [==============================] - 2s 520us/sample - loss: 0.0777\n",
      "Epoch loss:  0.053268055664375424\n",
      "Dev. loss:  0.07773507304349447\n",
      "4093/4093 [==============================] - 2s 524us/sample - loss: 0.0752\n",
      "Epoch loss:  0.04684319184161722\n",
      "Dev. loss:  0.07519142301750888\n",
      "4093/4093 [==============================] - 2s 520us/sample - loss: 0.0670\n",
      "Epoch loss:  0.04543069940991699\n",
      "Dev. loss:  0.0670292812519935\n",
      "4093/4093 [==============================] - 2s 520us/sample - loss: 0.0648\n",
      "Epoch loss:  0.0451212139800191\n",
      "Dev. loss:  0.06479889144604462\n",
      "4093/4093 [==============================] - 2s 562us/sample - loss: 0.0619\n",
      "Epoch loss:  0.04228645716793835\n",
      "Dev. loss:  0.061924521134829075\n",
      "4093/4093 [==============================] - 2s 521us/sample - loss: 0.0687\n",
      "Epoch loss:  0.039432492130436\n",
      "Dev. loss:  0.06872228099974799\n",
      "4093/4093 [==============================] - 2s 521us/sample - loss: 0.0708\n",
      "Epoch loss:  0.03958174213767052\n",
      "Dev. loss:  0.07078841790436767\n",
      "4093/4093 [==============================] - 2s 520us/sample - loss: 0.0623\n",
      "Epoch loss:  0.03426086260005832\n",
      "Dev. loss:  0.062315999190083\n",
      "4093/4093 [==============================] - 2s 519us/sample - loss: 0.0578\n",
      "Epoch loss:  0.043250864883884785\n",
      "Dev. loss:  0.05781684770739635\n",
      "4093/4093 [==============================] - 2s 520us/sample - loss: 0.0575\n",
      "Epoch loss:  0.034557806700468055\n",
      "Dev. loss:  0.05745029638867462\n",
      "4093/4093 [==============================] - 2s 520us/sample - loss: 0.0554\n",
      "Epoch loss:  0.030442533525638284\n",
      "Dev. loss:  0.05536260984195435\n",
      "4093/4093 [==============================] - 2s 528us/sample - loss: 0.0526\n",
      "Epoch loss:  0.0336618266068399\n",
      "Dev. loss:  0.052565649607792884\n",
      "4093/4093 [==============================] - 2s 519us/sample - loss: 0.0548\n",
      "Epoch loss:  0.03423621403053403\n",
      "Dev. loss:  0.054802113992425766\n",
      "4093/4093 [==============================] - 2s 517us/sample - loss: 0.0543\n",
      "Epoch loss:  0.02974953448865562\n",
      "Dev. loss:  0.054274098976314314\n",
      "4093/4093 [==============================] - 2s 528us/sample - loss: 0.0519\n",
      "Epoch loss:  0.027847346197813743\n",
      "Dev. loss:  0.05190018904134868\n",
      "4093/4093 [==============================] - 2s 520us/sample - loss: 0.0549\n",
      "Epoch loss:  0.027118896436877545\n",
      "Dev. loss:  0.05492680586716117\n",
      "4093/4093 [==============================] - 2s 519us/sample - loss: 0.0491\n",
      "Epoch loss:  0.0260840471368283\n",
      "Dev. loss:  0.0491142552277729\n",
      "4093/4093 [==============================] - 2s 524us/sample - loss: 0.0516\n",
      "Epoch loss:  0.024015912506729357\n",
      "Dev. loss:  0.05155333015051093\n",
      "4093/4093 [==============================] - 2s 520us/sample - loss: 0.0484\n",
      "Epoch loss:  0.02450871639885008\n",
      "Dev. loss:  0.04841518529431178\n",
      "4093/4093 [==============================] - 2s 520us/sample - loss: 0.0458\n",
      "Epoch loss:  0.026267965091392398\n",
      "Dev. loss:  0.045787889483998465\n",
      "4093/4093 [==============================] - 2s 519us/sample - loss: 0.0489\n",
      "Epoch loss:  0.025094743026420476\n",
      "Dev. loss:  0.04887369250791771\n"
     ]
    }
   ],
   "source": [
    "trainer = ModelTrainer(20, 32, 40)\n",
    "trainer.train(model, x_train, y_train, x_test, y_test)"
   ]
  },
  {
   "cell_type": "code",
   "execution_count": null,
   "metadata": {},
   "outputs": [],
   "source": [
    "plt.plot(trainer.train_loss, label='Train')\n",
    "plt.plot(trainer.test_loss, label='Dev')\n",
    "plt.grid(alpha=0.2)\n",
    "plt.xlabel(\"Epoch\")\n",
    "plt.ylabel(\"Loss\")\n",
    "plt.legend(frameon=False)"
   ]
  },
  {
   "cell_type": "code",
   "execution_count": 37,
   "metadata": {},
   "outputs": [
    {
     "name": "stdout",
     "output_type": "stream",
     "text": [
      "Collected 500 frames\n",
      "Collected 1000 frames\n",
      "Collected 1500 frames\n",
      "Collected 2000 frames\n",
      "Collected 2500 frames\n",
      "Collected 3000 frames\n",
      "Collected 3500 frames\n",
      "Collected 4000 frames\n",
      "Collected 4500 frames\n",
      "Collected 5000 frames\n"
     ]
    },
    {
     "data": {
      "text/plain": [
       "<Figure size 864x864 with 0 Axes>"
      ]
     },
     "metadata": {},
     "output_type": "display_data"
    }
   ],
   "source": [
    "env.close()\n",
    "env = retro.make(game='SonicTheHedgehog-Genesis', state='LabyrinthZone.Act1')\n",
    "frames = record_imitation_game(env, model, rnd_steps=50, max_frames=5000)\n",
    "imageio.mimwrite(\"imitation_agent_generalization.mp4\", frames, fps=30)"
   ]
  },
  {
   "cell_type": "code",
   "execution_count": null,
   "metadata": {},
   "outputs": [],
   "source": []
  }
 ],
 "metadata": {
  "kernelspec": {
   "display_name": "Environment (conda_tensorflow2_p36)",
   "language": "python",
   "name": "conda_tensorflow2_p36"
  },
  "language_info": {
   "codemirror_mode": {
    "name": "ipython",
    "version": 3
   },
   "file_extension": ".py",
   "mimetype": "text/x-python",
   "name": "python",
   "nbconvert_exporter": "python",
   "pygments_lexer": "ipython3",
   "version": "3.6.10"
  }
 },
 "nbformat": 4,
 "nbformat_minor": 4
}
