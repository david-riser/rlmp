{
 "cells": [
  {
   "cell_type": "markdown",
   "metadata": {},
   "source": [
    "### Sonic Basics: PyTorch Edition\n",
    "In this notebook an imitation learning agent is trained to reproduce\n",
    "the behaviour of an expert demonstrator."
   ]
  },
  {
   "cell_type": "code",
   "execution_count": 1,
   "metadata": {},
   "outputs": [],
   "source": [
    "import gym\n",
    "import imageio\n",
    "import matplotlib.pyplot as plt\n",
    "import numpy as np\n",
    "import os\n",
    "import retro\n",
    "import sys\n",
    "import time\n",
    "\n",
    "from gym import wrappers\n",
    "from sklearn.model_selection import train_test_split\n",
    "from sklearn.preprocessing import LabelEncoder, OneHotEncoder\n",
    "\n",
    "%matplotlib inline"
   ]
  },
  {
   "cell_type": "code",
   "execution_count": 2,
   "metadata": {},
   "outputs": [],
   "source": [
    "project_dir = os.path.abspath('.')\n",
    "sys.path.append(os.path.join(project_dir, 'sonic'))"
   ]
  },
  {
   "cell_type": "code",
   "execution_count": 3,
   "metadata": {},
   "outputs": [],
   "source": [
    "from sonic import utils"
   ]
  },
  {
   "cell_type": "code",
   "execution_count": 4,
   "metadata": {},
   "outputs": [],
   "source": [
    "config = {}\n",
    "config['data_path'] = os.path.abspath(\"./data/human\")\n",
    "config['level'] = 'GreenHillZone.Act1'\n",
    "config['epochs'] = 50\n",
    "config['batches_per_epoch'] = 20\n",
    "config['batch_size'] = 32\n",
    "config['patience'] = 5"
   ]
  },
  {
   "cell_type": "code",
   "execution_count": 5,
   "metadata": {},
   "outputs": [],
   "source": [
    "states, actions, next_states, rewards, dones = utils.extract_human_data(f\"data/human/SonicTheHedgehog-Genesis-{config['level']}-0000.bk2\")"
   ]
  },
  {
   "cell_type": "code",
   "execution_count": 6,
   "metadata": {},
   "outputs": [],
   "source": [
    "unique_actions, counts = np.unique(actions, axis=0, return_counts=True)\n",
    "ordering = np.argsort(counts)[::-1]\n",
    "unique_actions = unique_actions[ordering]\n",
    "n_actions = len(unique_actions)"
   ]
  },
  {
   "cell_type": "code",
   "execution_count": 7,
   "metadata": {},
   "outputs": [
    {
     "name": "stdout",
     "output_type": "stream",
     "text": [
      "Identified 12 unique actions of 4096 possible.\n"
     ]
    }
   ],
   "source": [
    "print(f\"Identified {len(counts)} unique actions of {2**12} possible.\")"
   ]
  },
  {
   "cell_type": "code",
   "execution_count": 8,
   "metadata": {},
   "outputs": [],
   "source": [
    "import torch\n",
    "import torch.autograd as autograd \n",
    "import torch.nn as nn\n",
    "import torch.nn.functional as F\n",
    "import torch.optim as optim"
   ]
  },
  {
   "cell_type": "code",
   "execution_count": 9,
   "metadata": {},
   "outputs": [],
   "source": [
    "class ImitationModel(nn.Module):\n",
    "    \"\"\" Basic convolutional neural network \n",
    "        for imitation learning from Sonic \n",
    "        replay data.\n",
    "    \"\"\"\n",
    "    \n",
    "    def __init__(self, input_shape, output_shape):\n",
    "        super(ImitationModel, self).__init__()\n",
    "        self.input_shape = input_shape\n",
    "        self.output_shape = output_shape\n",
    "        \n",
    "        channels, height, width = self.input_shape\n",
    "        self.features = nn.Sequential(\n",
    "            nn.Conv2d(channels, 16, kernel_size=3, stride=1),\n",
    "            nn.ReLU(),\n",
    "            nn.Conv2d(16, 16, kernel_size=3, stride=3),\n",
    "            nn.ReLU(),\n",
    "            nn.Conv2d(16, 16, kernel_size=3, stride=1),\n",
    "            nn.ReLU(),\n",
    "            nn.Conv2d(16, 16, kernel_size=3, stride=3),\n",
    "            nn.Conv2d(16, 16, kernel_size=3, stride=1),\n",
    "            nn.ReLU(),\n",
    "            nn.Conv2d(16, 16, kernel_size=3, stride=3),\n",
    "            nn.ReLU()\n",
    "        )\n",
    "        \n",
    "        self.fully_connected = nn.Sequential(\n",
    "            nn.Linear(self._feature_size(), 256),\n",
    "            nn.ReLU(),\n",
    "            nn.Linear(256, self.output_shape),\n",
    "            nn.Softmax()\n",
    "        )\n",
    "        \n",
    "    def _feature_size(self):\n",
    "        \"\"\" I took this from somewhere and just applied it. \"\"\"\n",
    "        return self.features(autograd.Variable(torch.zeros(1, *self.input_shape))).view(1, -1).size(1)\n",
    "    \n",
    "    def forward(self, x):\n",
    "        x = self.features(x)\n",
    "        x = x.view(x.size(0), -1)\n",
    "        x = self.fully_connected(x)\n",
    "        return x"
   ]
  },
  {
   "cell_type": "code",
   "execution_count": 10,
   "metadata": {},
   "outputs": [],
   "source": [
    "model = ImitationModel(states[0].shape, n_actions)\n",
    "model = model.cuda()\n",
    "optimizer = optim.Adam(model.parameters(), lr=3e-4)"
   ]
  },
  {
   "cell_type": "code",
   "execution_count": 11,
   "metadata": {},
   "outputs": [],
   "source": [
    "x_train, x_test, y_train, y_test = train_test_split(\n",
    "    np.array(states), np.array(actions))"
   ]
  },
  {
   "cell_type": "code",
   "execution_count": 12,
   "metadata": {},
   "outputs": [],
   "source": [
    "class ModelTrainer:\n",
    "    \"\"\" Trainer for the imitation learning model.  Since this\n",
    "        is basic imitation learning, we will minimize the binary\n",
    "        cross-entropy between action predictions and expert actions.\n",
    "    \"\"\"\n",
    "    def __init__(self, config):\n",
    "        self.config = config\n",
    "        self.train_loss = []\n",
    "        self.train_std = []\n",
    "        self.test_loss = []\n",
    "        self.test_std = []\n",
    "        self.loss_fn = nn.BCELoss()\n",
    "\n",
    "        \n",
    "    def train(self, model, x_train, y_train, x_test, y_test):\n",
    "        \n",
    "        # Setup static objects which persist throughout\n",
    "        # the iterative training cycle. \n",
    "        index_pool = np.arange(x_train.shape[0])\n",
    "        \n",
    "        for epoch in range(self.config['epochs']):\n",
    "            epoch_loss, epoch_std = [], []\n",
    "            for batch in range(self.config['batches_per_epoch']):\n",
    "                indices = np.random.choice(index_pool, self.config['batch_size'], replace=False)\n",
    "                \n",
    "                # Convert the states and actions to pytorch tensors for \n",
    "                # input to the network. \n",
    "                x_batch = autograd.Variable(torch.FloatTensor(x_train[indices]))\n",
    "                y_batch = autograd.Variable(torch.FloatTensor(y_train[indices]))\n",
    "                x_batch, y_batch = x_batch.cuda(), y_batch.cuda()\n",
    "                \n",
    "                # Predict an action\n",
    "                y_pred = model(x_batch)\n",
    "                loss = self.loss_fn(input=y_pred, target=y_batch)\n",
    "                \n",
    "                # Optimize on this batch \n",
    "                optimizer.zero_grad()\n",
    "                loss.backward()\n",
    "                optimizer.step()\n",
    "                \n",
    "                epoch_loss.append(loss.detach().cpu().numpy())\n",
    "                \n",
    "                \n",
    "            # Perform end of epoch events.\n",
    "            self.train_loss.append(np.mean(epoch_loss))\n",
    "            self.train_std.append(np.std(epoch_loss))\n",
    "            mean, std = self.evaluate(model, x_test, y_test, self.config['batch_size'])\n",
    "            self.test_loss.append(mean)\n",
    "            self.test_std.append(std)\n",
    "            print(\"Epoch {0}, Loss {1:6.4f}, Test Loss {2:6.4f}\".format(\n",
    "                epoch, self.train_loss[-1], self.test_loss[-1]))\n",
    "            \n",
    "            \n",
    "    def evaluate(self, model, x_eval, y_eval, batch_size=32):\n",
    "        \"\"\" Evaluate the development or test data with the model\n",
    "            and return the mean performance over batches.\n",
    "        \"\"\"\n",
    "        with torch.no_grad():\n",
    "            batches = x_eval.shape[0] // batch_size\n",
    "            test_loss = []\n",
    "            for batch in range(batches):\n",
    "                x = autograd.Variable(torch.FloatTensor(x_eval[batch * batch_size : (batch + 1) * batch_size]))\n",
    "                y = autograd.Variable(torch.FloatTensor(y_eval[batch * batch_size : (batch + 1) * batch_size]))\n",
    "                x, y, = x.cuda(), y.cuda()\n",
    "                y_pred = model(x)\n",
    "                loss = self.loss_fn(input=y_pred, target=y)\n",
    "                test_loss.append(loss.detach().cpu().numpy())\n",
    "                \n",
    "        return np.mean(test_loss), np.std(test_loss)"
   ]
  },
  {
   "cell_type": "code",
   "execution_count": 13,
   "metadata": {
    "scrolled": false
   },
   "outputs": [
    {
     "name": "stderr",
     "output_type": "stream",
     "text": [
      "/home/ubuntu/anaconda3/envs/pytorch_p36/lib/python3.6/site-packages/torch/nn/modules/container.py:100: UserWarning: Implicit dimension choice for softmax has been deprecated. Change the call to include dim=X as an argument.\n",
      "  input = module(input)\n"
     ]
    },
    {
     "name": "stdout",
     "output_type": "stream",
     "text": [
      "Epoch 0, Loss 0.1604, Test Loss 0.1131\n",
      "Epoch 1, Loss 0.1129, Test Loss 0.1034\n",
      "Epoch 2, Loss 0.1078, Test Loss 0.0996\n",
      "Epoch 3, Loss 0.0983, Test Loss 0.0945\n",
      "Epoch 4, Loss 0.0986, Test Loss 0.0926\n",
      "Epoch 5, Loss 0.0870, Test Loss 0.0913\n",
      "Epoch 6, Loss 0.0947, Test Loss 0.0877\n",
      "Epoch 7, Loss 0.0834, Test Loss 0.0985\n",
      "Epoch 8, Loss 0.0848, Test Loss 0.0827\n",
      "Epoch 9, Loss 0.0779, Test Loss 0.0803\n",
      "Epoch 10, Loss 0.0728, Test Loss 0.0796\n",
      "Epoch 11, Loss 0.0722, Test Loss 0.0780\n",
      "Epoch 12, Loss 0.0665, Test Loss 0.0758\n",
      "Epoch 13, Loss 0.0662, Test Loss 0.0731\n",
      "Epoch 14, Loss 0.0666, Test Loss 0.0730\n",
      "Epoch 15, Loss 0.0661, Test Loss 0.0712\n",
      "Epoch 16, Loss 0.0603, Test Loss 0.0686\n",
      "Epoch 17, Loss 0.0567, Test Loss 0.0679\n",
      "Epoch 18, Loss 0.0579, Test Loss 0.0663\n",
      "Epoch 19, Loss 0.0596, Test Loss 0.0679\n",
      "Epoch 20, Loss 0.0558, Test Loss 0.0634\n",
      "Epoch 21, Loss 0.0550, Test Loss 0.0624\n",
      "Epoch 22, Loss 0.0528, Test Loss 0.0640\n",
      "Epoch 23, Loss 0.0513, Test Loss 0.0646\n",
      "Epoch 24, Loss 0.0525, Test Loss 0.0604\n",
      "Epoch 25, Loss 0.0460, Test Loss 0.0598\n",
      "Epoch 26, Loss 0.0524, Test Loss 0.0612\n",
      "Epoch 27, Loss 0.0490, Test Loss 0.0620\n",
      "Epoch 28, Loss 0.0497, Test Loss 0.0602\n",
      "Epoch 29, Loss 0.0525, Test Loss 0.0588\n",
      "Epoch 30, Loss 0.0462, Test Loss 0.0587\n",
      "Epoch 31, Loss 0.0502, Test Loss 0.0589\n",
      "Epoch 32, Loss 0.0492, Test Loss 0.0584\n",
      "Epoch 33, Loss 0.0432, Test Loss 0.0575\n",
      "Epoch 34, Loss 0.0463, Test Loss 0.0586\n",
      "Epoch 35, Loss 0.0464, Test Loss 0.0600\n",
      "Epoch 36, Loss 0.0464, Test Loss 0.0580\n",
      "Epoch 37, Loss 0.0471, Test Loss 0.0622\n",
      "Epoch 38, Loss 0.0465, Test Loss 0.0579\n",
      "Epoch 39, Loss 0.0460, Test Loss 0.0590\n",
      "Epoch 40, Loss 0.0490, Test Loss 0.0563\n",
      "Epoch 41, Loss 0.0462, Test Loss 0.0556\n",
      "Epoch 42, Loss 0.0452, Test Loss 0.0583\n",
      "Epoch 43, Loss 0.0442, Test Loss 0.0566\n",
      "Epoch 44, Loss 0.0438, Test Loss 0.0568\n",
      "Epoch 45, Loss 0.0433, Test Loss 0.0573\n",
      "Epoch 46, Loss 0.0418, Test Loss 0.0558\n",
      "Epoch 47, Loss 0.0405, Test Loss 0.0587\n",
      "Epoch 48, Loss 0.0457, Test Loss 0.0559\n",
      "Epoch 49, Loss 0.0419, Test Loss 0.0579\n"
     ]
    }
   ],
   "source": [
    "trainer = ModelTrainer(config)\n",
    "trainer.train(model, x_train, y_train, x_test, y_test)"
   ]
  },
  {
   "cell_type": "code",
   "execution_count": 14,
   "metadata": {},
   "outputs": [
    {
     "data": {
      "image/png": "[encoded data removed]",
      "text/plain": [
       "<Figure size 576x360 with 1 Axes>"
      ]
     },
     "metadata": {
      "needs_background": "light"
     },
     "output_type": "display_data"
    }
   ],
   "source": [
    "steps = np.arange(len(trainer.train_loss))\n",
    "\n",
    "plt.figure(figsize=(8,5))\n",
    "plt.plot(steps, trainer.train_loss, label=\"Train\")\n",
    "mu, std = np.array(trainer.train_loss), np.array(trainer.train_std)\n",
    "plt.fill_between(steps, mu - std, mu + std, alpha=0.35)\n",
    "\n",
    "plt.plot(steps, trainer.test_loss, label=\"Test\")\n",
    "mu, std = np.array(trainer.test_loss), np.array(trainer.test_std)\n",
    "plt.fill_between(steps, mu - std, mu + std, alpha=0.35)\n",
    "\n",
    "plt.grid(alpha=0.2)\n",
    "plt.xlabel(\"Epoch\")\n",
    "plt.ylabel(\"Binary Cross Entropy\")\n",
    "plt.legend(frameon=False)\n",
    "plt.savefig(\"imitation_loss.png\", bbox_inches=\"tight\")"
   ]
  },
  {
   "cell_type": "code",
   "execution_count": 16,
   "metadata": {},
   "outputs": [],
   "source": [
    "env = retro.make('SonicTheHedgehog-Genesis', state=config['level'])\n",
    "state = env.reset()"
   ]
  },
  {
   "cell_type": "code",
   "execution_count": 17,
   "metadata": {},
   "outputs": [
    {
     "name": "stderr",
     "output_type": "stream",
     "text": [
      "/home/ubuntu/anaconda3/envs/pytorch_p36/lib/python3.6/site-packages/torch/nn/modules/container.py:100: UserWarning: Implicit dimension choice for softmax has been deprecated. Change the call to include dim=X as an argument.\n",
      "  input = module(input)\n"
     ]
    },
    {
     "name": "stdout",
     "output_type": "stream",
     "text": [
      "Collected 100 frames\n",
      "Collected 200 frames\n",
      "Collected 300 frames\n",
      "Collected 400 frames\n",
      "Collected 500 frames\n",
      "Collected 600 frames\n",
      "Collected 700 frames\n",
      "Collected 800 frames\n",
      "Collected 900 frames\n",
      "Collected 1000 frames\n",
      "Collected 1100 frames\n",
      "Collected 1200 frames\n",
      "Collected 1300 frames\n",
      "Collected 1400 frames\n",
      "Collected 1500 frames\n",
      "Collected 1600 frames\n",
      "Collected 1700 frames\n",
      "Collected 1800 frames\n",
      "Collected 1900 frames\n",
      "Collected 2000 frames\n",
      "Collected 2100 frames\n",
      "Collected 2200 frames\n",
      "Collected 2300 frames\n",
      "Collected 2400 frames\n",
      "Collected 2500 frames\n",
      "Collected 2600 frames\n",
      "Collected 2700 frames\n",
      "Collected 2800 frames\n",
      "Collected 2900 frames\n",
      "Collected 3000 frames\n",
      "Collected 3100 frames\n",
      "Collected 3200 frames\n",
      "Collected 3300 frames\n",
      "Collected 3400 frames\n",
      "Collected 3500 frames\n",
      "Collected 3600 frames\n",
      "Collected 3700 frames\n",
      "Collected 3800 frames\n",
      "Collected 3900 frames\n",
      "Collected 4000 frames\n",
      "Collected 4100 frames\n",
      "Collected 4200 frames\n",
      "Collected 4300 frames\n",
      "Collected 4400 frames\n",
      "Collected 4500 frames\n",
      "Collected 4600 frames\n",
      "Collected 4700 frames\n",
      "Collected 4800 frames\n",
      "Collected 4900 frames\n",
      "Collected 5000 frames\n"
     ]
    }
   ],
   "source": [
    "frames = utils.record_imitation_game(env=env, model=model, \n",
    "                               action_transformer=utils.rounding_action_transformer,\n",
    "                               state_transformer=utils.torchify_state,\n",
    "                               rnd_steps=50, max_frames=5000)"
   ]
  },
  {
   "cell_type": "code",
   "execution_count": 19,
   "metadata": {},
   "outputs": [],
   "source": [
    "imageio.mimwrite(\n",
    "    \"torch_imitation_agent_{}.mp4\".format(config[\"level\"]), \n",
    "    frames, fps=30)"
   ]
  },
  {
   "cell_type": "code",
   "execution_count": 20,
   "metadata": {},
   "outputs": [
    {
     "name": "stderr",
     "output_type": "stream",
     "text": [
      "/home/ubuntu/anaconda3/envs/pytorch_p36/lib/python3.6/site-packages/torch/nn/modules/container.py:100: UserWarning: Implicit dimension choice for softmax has been deprecated. Change the call to include dim=X as an argument.\n",
      "  input = module(input)\n"
     ]
    },
    {
     "name": "stdout",
     "output_type": "stream",
     "text": [
      "Finished game 0 with score    200.\n",
      "Finished game 1 with score    200.\n",
      "Finished game 2 with score    300.\n",
      "Finished game 3 with score    400.\n"
     ]
    }
   ],
   "source": [
    "scores = utils.play_evaluation_games(env, model, n_games=4, \n",
    "                                     state_transformer=utils.torchify_state, \n",
    "                                    action_transformer=utils.rounding_action_transformer, \n",
    "                                     rnd_steps=50, max_frames=5000)"
   ]
  },
  {
   "cell_type": "code",
   "execution_count": 21,
   "metadata": {},
   "outputs": [
    {
     "data": {
      "text/plain": [
       "[200.0, 200.0, 300.0, 400.0]"
      ]
     },
     "execution_count": 21,
     "metadata": {},
     "output_type": "execute_result"
    }
   ],
   "source": [
    "scores"
   ]
  }
 ],
 "metadata": {
  "kernelspec": {
   "display_name": "Environment (conda_pytorch_p36)",
   "language": "python",
   "name": "conda_pytorch_p36"
  },
  "language_info": {
   "codemirror_mode": {
    "name": "ipython",
    "version": 3
   },
   "file_extension": ".py",
   "mimetype": "text/x-python",
   "name": "python",
   "nbconvert_exporter": "python",
   "pygments_lexer": "ipython3",
   "version": "3.6.10"
  }
 },
 "nbformat": 4,
 "nbformat_minor": 4
}
