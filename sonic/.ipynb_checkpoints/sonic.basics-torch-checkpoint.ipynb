{
 "cells": [
  {
   "cell_type": "markdown",
   "metadata": {},
   "source": [
    "### Technical Things To Do\n",
    "- Setup nuts/bolts and try imitation learning on one level (done)\n",
    "- Optimize imitation learning training on one level\n",
    "- Setup nuts/bolts and try imitation learning on all levels, test generalization (not strictly necessary for the goal of this work)\n",
    "- Specify a generic evaluation protocol that can be used for all agents\n",
    "    - Fixed frame score over a number of evaluation attempts at the same level, mean.\n",
    "- Try learning from scratch with an RL, record the mean episodic reward throughout training.\n",
    "- Use the same agent but pre-trained with human demonstrations, record the mean episodic reward throughout training."
   ]
  },
  {
   "cell_type": "code",
   "execution_count": 1,
   "metadata": {},
   "outputs": [
    {
     "name": "stderr",
     "output_type": "stream",
     "text": [
      "/home/ubuntu/anaconda3/envs/pytorch_p36/lib/python3.6/site-packages/tensorflow/python/framework/dtypes.py:516: FutureWarning: Passing (type, 1) or '1type' as a synonym of type is deprecated; in a future version of numpy, it will be understood as (type, (1,)) / '(1,)type'.\n",
      "  _np_qint8 = np.dtype([(\"qint8\", np.int8, 1)])\n",
      "/home/ubuntu/anaconda3/envs/pytorch_p36/lib/python3.6/site-packages/tensorflow/python/framework/dtypes.py:517: FutureWarning: Passing (type, 1) or '1type' as a synonym of type is deprecated; in a future version of numpy, it will be understood as (type, (1,)) / '(1,)type'.\n",
      "  _np_quint8 = np.dtype([(\"quint8\", np.uint8, 1)])\n",
      "/home/ubuntu/anaconda3/envs/pytorch_p36/lib/python3.6/site-packages/tensorflow/python/framework/dtypes.py:518: FutureWarning: Passing (type, 1) or '1type' as a synonym of type is deprecated; in a future version of numpy, it will be understood as (type, (1,)) / '(1,)type'.\n",
      "  _np_qint16 = np.dtype([(\"qint16\", np.int16, 1)])\n",
      "/home/ubuntu/anaconda3/envs/pytorch_p36/lib/python3.6/site-packages/tensorflow/python/framework/dtypes.py:519: FutureWarning: Passing (type, 1) or '1type' as a synonym of type is deprecated; in a future version of numpy, it will be understood as (type, (1,)) / '(1,)type'.\n",
      "  _np_quint16 = np.dtype([(\"quint16\", np.uint16, 1)])\n",
      "/home/ubuntu/anaconda3/envs/pytorch_p36/lib/python3.6/site-packages/tensorflow/python/framework/dtypes.py:520: FutureWarning: Passing (type, 1) or '1type' as a synonym of type is deprecated; in a future version of numpy, it will be understood as (type, (1,)) / '(1,)type'.\n",
      "  _np_qint32 = np.dtype([(\"qint32\", np.int32, 1)])\n",
      "/home/ubuntu/anaconda3/envs/pytorch_p36/lib/python3.6/site-packages/tensorflow/python/framework/dtypes.py:525: FutureWarning: Passing (type, 1) or '1type' as a synonym of type is deprecated; in a future version of numpy, it will be understood as (type, (1,)) / '(1,)type'.\n",
      "  np_resource = np.dtype([(\"resource\", np.ubyte, 1)])\n",
      "/home/ubuntu/anaconda3/envs/pytorch_p36/lib/python3.6/site-packages/tensorboard/compat/tensorflow_stub/dtypes.py:541: FutureWarning: Passing (type, 1) or '1type' as a synonym of type is deprecated; in a future version of numpy, it will be understood as (type, (1,)) / '(1,)type'.\n",
      "  _np_qint8 = np.dtype([(\"qint8\", np.int8, 1)])\n",
      "/home/ubuntu/anaconda3/envs/pytorch_p36/lib/python3.6/site-packages/tensorboard/compat/tensorflow_stub/dtypes.py:542: FutureWarning: Passing (type, 1) or '1type' as a synonym of type is deprecated; in a future version of numpy, it will be understood as (type, (1,)) / '(1,)type'.\n",
      "  _np_quint8 = np.dtype([(\"quint8\", np.uint8, 1)])\n",
      "/home/ubuntu/anaconda3/envs/pytorch_p36/lib/python3.6/site-packages/tensorboard/compat/tensorflow_stub/dtypes.py:543: FutureWarning: Passing (type, 1) or '1type' as a synonym of type is deprecated; in a future version of numpy, it will be understood as (type, (1,)) / '(1,)type'.\n",
      "  _np_qint16 = np.dtype([(\"qint16\", np.int16, 1)])\n",
      "/home/ubuntu/anaconda3/envs/pytorch_p36/lib/python3.6/site-packages/tensorboard/compat/tensorflow_stub/dtypes.py:544: FutureWarning: Passing (type, 1) or '1type' as a synonym of type is deprecated; in a future version of numpy, it will be understood as (type, (1,)) / '(1,)type'.\n",
      "  _np_quint16 = np.dtype([(\"quint16\", np.uint16, 1)])\n",
      "/home/ubuntu/anaconda3/envs/pytorch_p36/lib/python3.6/site-packages/tensorboard/compat/tensorflow_stub/dtypes.py:545: FutureWarning: Passing (type, 1) or '1type' as a synonym of type is deprecated; in a future version of numpy, it will be understood as (type, (1,)) / '(1,)type'.\n",
      "  _np_qint32 = np.dtype([(\"qint32\", np.int32, 1)])\n",
      "/home/ubuntu/anaconda3/envs/pytorch_p36/lib/python3.6/site-packages/tensorboard/compat/tensorflow_stub/dtypes.py:550: FutureWarning: Passing (type, 1) or '1type' as a synonym of type is deprecated; in a future version of numpy, it will be understood as (type, (1,)) / '(1,)type'.\n",
      "  np_resource = np.dtype([(\"resource\", np.ubyte, 1)])\n"
     ]
    }
   ],
   "source": [
    "import base64\n",
    "import gym\n",
    "import io\n",
    "import matplotlib.pyplot as plt\n",
    "import numpy as np\n",
    "import os\n",
    "import pandas as pd\n",
    "import retro\n",
    "import tensorflow as tf\n",
    "import time\n",
    "\n",
    "from gym import wrappers\n",
    "from IPython.display import clear_output\n",
    "from sklearn.model_selection import train_test_split\n",
    "from sklearn.preprocessing import LabelEncoder, OneHotEncoder\n",
    "\n",
    "%matplotlib inline"
   ]
  },
  {
   "cell_type": "code",
   "execution_count": 2,
   "metadata": {},
   "outputs": [
    {
     "name": "stdout",
     "output_type": "stream",
     "text": [
      "This notebook has access to 4 CPUs.\n"
     ]
    }
   ],
   "source": [
    "n_cpu = os.cpu_count()\n",
    "print(f\"This notebook has access to {n_cpu} CPUs.\")"
   ]
  },
  {
   "cell_type": "code",
   "execution_count": 3,
   "metadata": {},
   "outputs": [],
   "source": [
    "levels = [\n",
    "    'MarbleZone.Act1','MarbleZone.Act2','MarbleZone.Act3',\n",
    "    'GreenHillZone.Act1','GreenHillZone.Act2','GreenHillZone.Act3',\n",
    "    'LabyrinthZone.Act1','LabyrinthZone.Act2','LabyrinthZone.Act3', \n",
    "    'SpringYardZone.Act1','SpringYardZone.Act2','SpringYardZone.Act3', \n",
    "    'StarLightZone.Act1','StarLightZone.Act2','StarLightZone.Act3',\n",
    "    'ScrapBrainZone.Act1','ScrapBrainZone.Act2' \n",
    "]\n",
    "\n",
    "config = {}\n",
    "config['data_path'] = os.path.abspath(\"./data/human\")\n",
    "config['level'] = 'GreenHillZone.Act1'\n",
    "\n",
    "config['epochs'] = 80\n",
    "config['batches_per_epoch'] = 10\n",
    "config['batch_size'] = 32\n",
    "config['patience'] = 5"
   ]
  },
  {
   "cell_type": "code",
   "execution_count": 4,
   "metadata": {},
   "outputs": [],
   "source": [
    "def extract_human_data(movie_path):\n",
    "    \"\"\" Given a path to a replay file, load it and \n",
    "        extract the series of state-action pairs.\n",
    "    \"\"\"\n",
    "    movie = retro.Movie(movie_path)\n",
    "    movie.step()\n",
    "\n",
    "    env = retro.make(game=movie.get_game(), state=retro.State.NONE, \n",
    "                     use_restricted_actions=retro.Actions.ALL)\n",
    "    env.initial_state = movie.get_state()\n",
    "    state = env.reset()\n",
    "    state = np.swapaxes(state,0,2)\n",
    "    state = np.swapaxes(state,1,2)\n",
    "    states, actions, next_states, rewards, dones = [], [], [], [], []\n",
    "    while movie.step():\n",
    "        keys = []\n",
    "        for i in range(len(env.buttons)):\n",
    "            keys.append(movie.get_key(i, 0))\n",
    "            \n",
    "        next_state, reward, done, info = env.step(keys)\n",
    "        \n",
    "        # Switch the channels to be first for pytorch\n",
    "        next_state = np.swapaxes(next_state, 0, 2)\n",
    "        next_state = np.swapaxes(next_state, 1, 2)\n",
    "        \n",
    "        actions.append(np.int8(keys))\n",
    "        states.append(state)\n",
    "        next_states.append(next_state)\n",
    "        rewards.append(reward)\n",
    "        dones.append(done)\n",
    "        \n",
    "        state = next_state\n",
    "        \n",
    "    return states, actions, next_states, rewards, dones"
   ]
  },
  {
   "cell_type": "code",
   "execution_count": 5,
   "metadata": {},
   "outputs": [],
   "source": [
    "states, actions, next_states, rewards, dones = extract_human_data(f\"data/human/SonicTheHedgehog-Genesis-{config['level']}-0000.bk2\")"
   ]
  },
  {
   "cell_type": "code",
   "execution_count": 6,
   "metadata": {},
   "outputs": [
    {
     "name": "stdout",
     "output_type": "stream",
     "text": [
      "[[0 0 0 0 0 0 0 1 0 0 0 0]\n",
      " [0 0 0 0 0 0 0 0 0 0 0 0]\n",
      " [0 1 0 0 0 0 0 1 0 0 0 0]\n",
      " [0 0 0 0 0 0 1 0 0 0 0 0]\n",
      " [0 0 0 0 1 0 1 0 0 0 0 0]\n",
      " [0 1 0 0 0 0 0 0 0 0 0 0]\n",
      " [0 1 0 0 0 0 1 0 0 0 0 0]\n",
      " [0 0 0 0 0 1 0 0 0 0 0 0]\n",
      " [0 0 0 0 0 1 1 0 0 0 0 0]\n",
      " [0 0 0 0 0 1 0 1 0 0 0 0]\n",
      " [0 1 0 0 1 0 0 1 0 0 0 0]\n",
      " [0 0 0 0 1 0 0 0 0 0 0 0]] [1841  881  224  139   38   21   18   16    5    4    3    1]\n"
     ]
    }
   ],
   "source": [
    "unique_actions, counts = np.unique(actions, axis=0, return_counts=True)\n",
    "\n",
    "ordering = np.argsort(counts)[::-1]\n",
    "unique_actions = unique_actions[ordering]\n",
    "counts = counts[ordering]\n",
    "print(unique_actions, counts)"
   ]
  },
  {
   "cell_type": "code",
   "execution_count": 7,
   "metadata": {},
   "outputs": [
    {
     "name": "stdout",
     "output_type": "stream",
     "text": [
      "Identified 12 unique actions of 4096 possible.\n"
     ]
    }
   ],
   "source": [
    "print(f\"Identified {len(counts)} unique actions of {2**12} possible.\")"
   ]
  },
  {
   "cell_type": "markdown",
   "metadata": {},
   "source": [
    "### Reduced Action Space\n",
    "Humans are only displaying a very limited subset of the total number of actions possible.  Lets take advantage of this by encoding the action space into a simple integer."
   ]
  },
  {
   "cell_type": "code",
   "execution_count": 8,
   "metadata": {},
   "outputs": [],
   "source": [
    "def encode_actions(actions):\n",
    "    \"\"\" Cast actions to a string and then use a label encoder to \n",
    "        transform the vector into a simple integer.  \n",
    "    \"\"\"\n",
    "    str_actions = [\"\".join(str(action)) for action in actions]\n",
    "    encoder = LabelEncoder()\n",
    "    return encoder.fit_transform(str_actions)"
   ]
  },
  {
   "cell_type": "code",
   "execution_count": 9,
   "metadata": {},
   "outputs": [],
   "source": [
    "# actions = encode_actions(actions)\n",
    "# encoder = LabelEncoder()\n",
    "# str_actions = [\"\".join(str(action)) for action in actions]\n",
    "# actions = encoder.fit_transform(str_actions)\n",
    "# n_actions = len(np.unique(actions))\n",
    "# print(n_actions)"
   ]
  },
  {
   "cell_type": "code",
   "execution_count": 10,
   "metadata": {},
   "outputs": [],
   "source": [
    "# vector_encoder = OneHotEncoder(sparse=False)\n",
    "# actions = vector_encoder.fit_transform(actions.reshape(-1, 1))"
   ]
  },
  {
   "cell_type": "code",
   "execution_count": 11,
   "metadata": {},
   "outputs": [],
   "source": [
    "#imageio.mimwrite(\n",
    "#    \"imitation_agent_{}.mp4\".format(config[\"level\"]), \n",
    "#    frames, fps=30)"
   ]
  },
  {
   "cell_type": "code",
   "execution_count": 12,
   "metadata": {},
   "outputs": [],
   "source": [
    "import torch\n",
    "import torch.autograd as autograd \n",
    "import torch.nn as nn\n",
    "import torch.nn.functional as F\n",
    "import torch.optim as optim"
   ]
  },
  {
   "cell_type": "code",
   "execution_count": 13,
   "metadata": {},
   "outputs": [
    {
     "data": {
      "text/plain": [
       "(3, 224, 320)"
      ]
     },
     "execution_count": 13,
     "metadata": {},
     "output_type": "execute_result"
    }
   ],
   "source": [
    "states[0].shape"
   ]
  },
  {
   "cell_type": "code",
   "execution_count": 14,
   "metadata": {},
   "outputs": [
    {
     "data": {
      "text/plain": [
       "<matplotlib.image.AxesImage at 0x7fb9c982eb00>"
      ]
     },
     "execution_count": 14,
     "metadata": {},
     "output_type": "execute_result"
    },
    {
     "data": {
      "image/png": "[encoded data removed]",
      "text/plain": [
       "<Figure size 432x288 with 1 Axes>"
      ]
     },
     "metadata": {
      "needs_background": "light"
     },
     "output_type": "display_data"
    }
   ],
   "source": [
    "plt.imshow(states[0][0,:,:])"
   ]
  },
  {
   "cell_type": "code",
   "execution_count": 15,
   "metadata": {},
   "outputs": [],
   "source": [
    "class ImitationModel(nn.Module):\n",
    "    \"\"\" Basic convolutional neural network \n",
    "        for imitation learning from Sonic \n",
    "        replay data.\n",
    "    \"\"\"\n",
    "    \n",
    "    def __init__(self, input_shape, output_shape):\n",
    "        super(ImitationModel, self).__init__()\n",
    "        self.input_shape = input_shape\n",
    "        self.output_shape = output_shape\n",
    "        \n",
    "        channels, height, width = self.input_shape\n",
    "        self.features = nn.Sequential(\n",
    "            nn.Conv2d(channels, 16, kernel_size=3, stride=1),\n",
    "            nn.ReLU(),\n",
    "            nn.Conv2d(16, 16, kernel_size=3, stride=3),\n",
    "            nn.ReLU(),\n",
    "            nn.Conv2d(16, 16, kernel_size=3, stride=1),\n",
    "            nn.ReLU(),\n",
    "            nn.Conv2d(16, 16, kernel_size=3, stride=3),\n",
    "            nn.Conv2d(16, 16, kernel_size=3, stride=1),\n",
    "            nn.ReLU(),\n",
    "            nn.Conv2d(16, 16, kernel_size=3, stride=3),\n",
    "            nn.ReLU()\n",
    "        )\n",
    "        \n",
    "        self.fully_connected = nn.Sequential(\n",
    "            nn.Linear(self._feature_size(), 256),\n",
    "            nn.ReLU(),\n",
    "            nn.Linear(256, self.output_shape),\n",
    "            nn.Softmax()\n",
    "        )\n",
    "        \n",
    "    def _feature_size(self):\n",
    "        \"\"\" I took this from somewhere and just applied it. \"\"\"\n",
    "        return self.features(autograd.Variable(torch.zeros(1, *self.input_shape))).view(1, -1).size(1)\n",
    "    \n",
    "    def forward(self, x):\n",
    "        x = self.features(x)\n",
    "        x = x.view(x.size(0), -1)\n",
    "        x = self.fully_connected(x)\n",
    "        return x"
   ]
  },
  {
   "cell_type": "code",
   "execution_count": 16,
   "metadata": {},
   "outputs": [],
   "source": [
    "# model = ImitationModel(states[0].shape, n_actions)\n",
    "model = ImitationModel(states[0].shape, 12)\n",
    "model = model.cuda()\n",
    "optimizer = optim.Adam(model.parameters(), lr=3e-4)"
   ]
  },
  {
   "cell_type": "code",
   "execution_count": 17,
   "metadata": {},
   "outputs": [],
   "source": [
    "x_train, x_test, y_train, y_test = train_test_split(\n",
    "    np.array(states), np.array(actions))"
   ]
  },
  {
   "cell_type": "code",
   "execution_count": 18,
   "metadata": {},
   "outputs": [],
   "source": [
    "class ModelTrainer:\n",
    "    \"\"\" Trainer for the imitation learning model.  Since this\n",
    "        is basic imitation learning, we will minimize the binary\n",
    "        cross-entropy between action predictions and expert actions.\n",
    "    \"\"\"\n",
    "    def __init__(self, config):\n",
    "        self.config = config\n",
    "        self.train_loss = []\n",
    "        self.train_std = []\n",
    "        self.test_loss = []\n",
    "        self.test_std = []\n",
    "        self.loss_fn = nn.BCELoss()\n",
    "\n",
    "        \n",
    "    def train(self, model, x_train, y_train, x_test, y_test):\n",
    "        \n",
    "        # Setup static objects which persist throughout\n",
    "        # the iterative training cycle. \n",
    "        index_pool = np.arange(x_train.shape[0])\n",
    "        \n",
    "        for epoch in range(self.config['epochs']):\n",
    "            epoch_loss, epoch_std = [], []\n",
    "            for batch in range(self.config['batches_per_epoch']):\n",
    "                indices = np.random.choice(index_pool, self.config['batch_size'], replace=False)\n",
    "                \n",
    "                # Convert the states and actions to pytorch tensors for \n",
    "                # input to the network. \n",
    "                x_batch = autograd.Variable(torch.FloatTensor(x_train[indices]))\n",
    "                y_batch = autograd.Variable(torch.FloatTensor(y_train[indices]))\n",
    "                x_batch, y_batch = x_batch.cuda(), y_batch.cuda()\n",
    "                \n",
    "                # Predict an action\n",
    "                y_pred = model(x_batch)\n",
    "                loss = self.loss_fn(input=y_pred, target=y_batch)\n",
    "                \n",
    "                # Optimize on this batch \n",
    "                optimizer.zero_grad()\n",
    "                loss.backward()\n",
    "                optimizer.step()\n",
    "                \n",
    "                epoch_loss.append(loss.detach().cpu().numpy())\n",
    "                \n",
    "                \n",
    "            # Perform end of epoch events.\n",
    "            self.train_loss.append(np.mean(epoch_loss))\n",
    "            self.train_std.append(np.std(epoch_loss))\n",
    "            mean, std = self.evaluate(model, x_test, y_test, self.config['batch_size'])\n",
    "            self.test_loss.append(mean)\n",
    "            self.test_std.append(std)\n",
    "            print(\"Epoch {0}, Loss {1:6.4f}, Test Loss {2:6.4f}\".format(\n",
    "                epoch, self.train_loss[-1], self.test_loss[-1]))\n",
    "            \n",
    "            \n",
    "    def evaluate(self, model, x_eval, y_eval, batch_size=32):\n",
    "        \"\"\" Evaluate the development or test data with the model\n",
    "            and return the mean performance over batches.\n",
    "        \"\"\"\n",
    "        with torch.no_grad():\n",
    "            batches = x_eval.shape[0] // batch_size\n",
    "            test_loss = []\n",
    "            for batch in range(batches):\n",
    "                x = autograd.Variable(torch.FloatTensor(x_eval[batch * batch_size : (batch + 1) * batch_size]))\n",
    "                y = autograd.Variable(torch.FloatTensor(y_eval[batch * batch_size : (batch + 1) * batch_size]))\n",
    "                x, y, = x.cuda(), y.cuda()\n",
    "                y_pred = model(x)\n",
    "                loss = self.loss_fn(input=y_pred, target=y)\n",
    "                test_loss.append(loss.detach().cpu().numpy())\n",
    "                \n",
    "        return np.mean(test_loss), np.std(test_loss)"
   ]
  },
  {
   "cell_type": "code",
   "execution_count": 19,
   "metadata": {
    "scrolled": false
   },
   "outputs": [
    {
     "name": "stderr",
     "output_type": "stream",
     "text": [
      "/home/ubuntu/anaconda3/envs/pytorch_p36/lib/python3.6/site-packages/torch/nn/modules/container.py:100: UserWarning: Implicit dimension choice for softmax has been deprecated. Change the call to include dim=X as an argument.\n",
      "  input = module(input)\n"
     ]
    },
    {
     "name": "stdout",
     "output_type": "stream",
     "text": [
      "Epoch 0, Loss 0.1759, Test Loss 0.1300\n",
      "Epoch 1, Loss 0.1151, Test Loss 0.1240\n",
      "Epoch 2, Loss 0.1149, Test Loss 0.1165\n",
      "Epoch 3, Loss 0.1026, Test Loss 0.1138\n",
      "Epoch 4, Loss 0.1042, Test Loss 0.1122\n",
      "Epoch 5, Loss 0.1057, Test Loss 0.1099\n",
      "Epoch 6, Loss 0.1020, Test Loss 0.1052\n",
      "Epoch 7, Loss 0.1054, Test Loss 0.1053\n",
      "Epoch 8, Loss 0.0978, Test Loss 0.1021\n",
      "Epoch 9, Loss 0.0898, Test Loss 0.1062\n",
      "Epoch 10, Loss 0.0960, Test Loss 0.0968\n",
      "Epoch 11, Loss 0.0883, Test Loss 0.0928\n",
      "Epoch 12, Loss 0.0849, Test Loss 0.1041\n",
      "Epoch 13, Loss 0.1045, Test Loss 0.0982\n",
      "Epoch 14, Loss 0.0824, Test Loss 0.0930\n",
      "Epoch 15, Loss 0.0822, Test Loss 0.0889\n",
      "Epoch 16, Loss 0.0757, Test Loss 0.0884\n",
      "Epoch 17, Loss 0.0698, Test Loss 0.0855\n",
      "Epoch 18, Loss 0.0708, Test Loss 0.0833\n",
      "Epoch 19, Loss 0.0754, Test Loss 0.0774\n",
      "Epoch 20, Loss 0.0726, Test Loss 0.0775\n",
      "Epoch 21, Loss 0.0713, Test Loss 0.0768\n",
      "Epoch 22, Loss 0.0691, Test Loss 0.0742\n",
      "Epoch 23, Loss 0.0616, Test Loss 0.0769\n",
      "Epoch 24, Loss 0.0635, Test Loss 0.0760\n",
      "Epoch 25, Loss 0.0634, Test Loss 0.0714\n",
      "Epoch 26, Loss 0.0666, Test Loss 0.0689\n",
      "Epoch 27, Loss 0.0609, Test Loss 0.0695\n",
      "Epoch 28, Loss 0.0583, Test Loss 0.0685\n",
      "Epoch 29, Loss 0.0551, Test Loss 0.0696\n",
      "Epoch 30, Loss 0.0626, Test Loss 0.0668\n",
      "Epoch 31, Loss 0.0600, Test Loss 0.0655\n",
      "Epoch 32, Loss 0.0568, Test Loss 0.0659\n",
      "Epoch 33, Loss 0.0527, Test Loss 0.0671\n",
      "Epoch 34, Loss 0.0540, Test Loss 0.0658\n",
      "Epoch 35, Loss 0.0576, Test Loss 0.0693\n",
      "Epoch 36, Loss 0.0585, Test Loss 0.0670\n",
      "Epoch 37, Loss 0.0501, Test Loss 0.0634\n",
      "Epoch 38, Loss 0.0506, Test Loss 0.0646\n",
      "Epoch 39, Loss 0.0502, Test Loss 0.0682\n",
      "Epoch 40, Loss 0.0513, Test Loss 0.0635\n",
      "Epoch 41, Loss 0.0457, Test Loss 0.0647\n",
      "Epoch 42, Loss 0.0489, Test Loss 0.0631\n",
      "Epoch 43, Loss 0.0509, Test Loss 0.0631\n",
      "Epoch 44, Loss 0.0522, Test Loss 0.0654\n",
      "Epoch 45, Loss 0.0495, Test Loss 0.0598\n",
      "Epoch 46, Loss 0.0458, Test Loss 0.0601\n",
      "Epoch 47, Loss 0.0512, Test Loss 0.0610\n",
      "Epoch 48, Loss 0.0499, Test Loss 0.0593\n",
      "Epoch 49, Loss 0.0496, Test Loss 0.0584\n",
      "Epoch 50, Loss 0.0529, Test Loss 0.0589\n",
      "Epoch 51, Loss 0.0519, Test Loss 0.0589\n",
      "Epoch 52, Loss 0.0524, Test Loss 0.0609\n",
      "Epoch 53, Loss 0.0528, Test Loss 0.0597\n",
      "Epoch 54, Loss 0.0524, Test Loss 0.0590\n",
      "Epoch 55, Loss 0.0498, Test Loss 0.0586\n",
      "Epoch 56, Loss 0.0459, Test Loss 0.0568\n",
      "Epoch 57, Loss 0.0456, Test Loss 0.0575\n",
      "Epoch 58, Loss 0.0435, Test Loss 0.0578\n",
      "Epoch 59, Loss 0.0473, Test Loss 0.0584\n",
      "Epoch 60, Loss 0.0424, Test Loss 0.0574\n",
      "Epoch 61, Loss 0.0461, Test Loss 0.0578\n",
      "Epoch 62, Loss 0.0446, Test Loss 0.0593\n",
      "Epoch 63, Loss 0.0401, Test Loss 0.0573\n",
      "Epoch 64, Loss 0.0441, Test Loss 0.0585\n",
      "Epoch 65, Loss 0.0392, Test Loss 0.0586\n",
      "Epoch 66, Loss 0.0468, Test Loss 0.0564\n",
      "Epoch 67, Loss 0.0451, Test Loss 0.0567\n",
      "Epoch 68, Loss 0.0437, Test Loss 0.0577\n",
      "Epoch 69, Loss 0.0485, Test Loss 0.0567\n",
      "Epoch 70, Loss 0.0470, Test Loss 0.0566\n",
      "Epoch 71, Loss 0.0422, Test Loss 0.0578\n",
      "Epoch 72, Loss 0.0390, Test Loss 0.0579\n",
      "Epoch 73, Loss 0.0431, Test Loss 0.0591\n",
      "Epoch 74, Loss 0.0419, Test Loss 0.0578\n",
      "Epoch 75, Loss 0.0419, Test Loss 0.0565\n",
      "Epoch 76, Loss 0.0388, Test Loss 0.0559\n",
      "Epoch 77, Loss 0.0427, Test Loss 0.0584\n",
      "Epoch 78, Loss 0.0406, Test Loss 0.0558\n",
      "Epoch 79, Loss 0.0395, Test Loss 0.0576\n"
     ]
    }
   ],
   "source": [
    "trainer = ModelTrainer(config)\n",
    "trainer.train(model, x_train, y_train, x_test, y_test)"
   ]
  },
  {
   "cell_type": "code",
   "execution_count": 20,
   "metadata": {},
   "outputs": [
    {
     "data": {
      "text/plain": [
       "<matplotlib.legend.Legend at 0x7fb9c8961cc0>"
      ]
     },
     "execution_count": 20,
     "metadata": {},
     "output_type": "execute_result"
    },
    {
     "data": {
      "image/png": "[encoded data removed]",
      "text/plain": [
       "<Figure size 576x360 with 1 Axes>"
      ]
     },
     "metadata": {
      "needs_background": "light"
     },
     "output_type": "display_data"
    }
   ],
   "source": [
    "steps = np.arange(len(trainer.train_loss))\n",
    "\n",
    "plt.figure(figsize=(8,5))\n",
    "plt.plot(steps, trainer.train_loss, label=\"Train\")\n",
    "mu, std = np.array(trainer.train_loss), np.array(trainer.train_std)\n",
    "plt.fill_between(steps, mu - std, mu + std, alpha=0.35)\n",
    "\n",
    "plt.plot(steps, trainer.test_loss, label=\"Test\")\n",
    "mu, std = np.array(trainer.test_loss), np.array(trainer.test_std)\n",
    "plt.fill_between(steps, mu - std, mu + std, alpha=0.35)\n",
    "\n",
    "plt.grid(alpha=0.2)\n",
    "plt.xlabel(\"Epoch\")\n",
    "plt.ylabel(\"Binary Cross Entropy\")\n",
    "plt.legend(frameon=False)"
   ]
  },
  {
   "cell_type": "code",
   "execution_count": 21,
   "metadata": {},
   "outputs": [],
   "source": [
    "env = retro.make('SonicTheHedgehog-Genesis', state=config['level'])\n",
    "state = env.reset()"
   ]
  },
  {
   "cell_type": "code",
   "execution_count": 22,
   "metadata": {},
   "outputs": [
    {
     "data": {
      "text/plain": [
       "(224, 320, 3)"
      ]
     },
     "execution_count": 22,
     "metadata": {},
     "output_type": "execute_result"
    }
   ],
   "source": [
    "state.shape"
   ]
  },
  {
   "cell_type": "code",
   "execution_count": 23,
   "metadata": {},
   "outputs": [],
   "source": [
    "def torchify_state(state):\n",
    "    \"\"\" Convert a single state to a shape and data type that \n",
    "        can be injested by a pytoch model.\n",
    "    \"\"\"\n",
    "    reshaped_state = np.swapaxes(state, 0, 2)\n",
    "    reshaped_state = np.swapaxes(reshaped_state, 1, 2)\n",
    "    reshaped_state = np.expand_dims(reshaped_state, 0)\n",
    "    torchified_state = autograd.Variable(torch.FloatTensor(reshaped_state))\n",
    "    return torchified_state.cuda()"
   ]
  },
  {
   "cell_type": "code",
   "execution_count": 24,
   "metadata": {},
   "outputs": [
    {
     "name": "stdout",
     "output_type": "stream",
     "text": [
      "tensor([[[[0., 0., 0.,  ..., 0., 0., 0.],\n",
      "          [0., 0., 0.,  ..., 0., 0., 0.],\n",
      "          [0., 0., 0.,  ..., 0., 0., 0.],\n",
      "          ...,\n",
      "          [0., 0., 0.,  ..., 0., 0., 0.],\n",
      "          [0., 0., 0.,  ..., 0., 0., 0.],\n",
      "          [0., 0., 0.,  ..., 0., 0., 0.]],\n",
      "\n",
      "         [[0., 0., 0.,  ..., 0., 0., 0.],\n",
      "          [0., 0., 0.,  ..., 0., 0., 0.],\n",
      "          [0., 0., 0.,  ..., 0., 0., 0.],\n",
      "          ...,\n",
      "          [0., 0., 0.,  ..., 0., 0., 0.],\n",
      "          [0., 0., 0.,  ..., 0., 0., 0.],\n",
      "          [0., 0., 0.,  ..., 0., 0., 0.]],\n",
      "\n",
      "         [[0., 0., 0.,  ..., 0., 0., 0.],\n",
      "          [0., 0., 0.,  ..., 0., 0., 0.],\n",
      "          [0., 0., 0.,  ..., 0., 0., 0.],\n",
      "          ...,\n",
      "          [0., 0., 0.,  ..., 0., 0., 0.],\n",
      "          [0., 0., 0.,  ..., 0., 0., 0.],\n",
      "          [0., 0., 0.,  ..., 0., 0., 0.]]]], device='cuda:0')\n"
     ]
    }
   ],
   "source": [
    "t_state = torchify_state(state)\n",
    "print(t_state)"
   ]
  },
  {
   "cell_type": "code",
   "execution_count": 25,
   "metadata": {},
   "outputs": [
    {
     "name": "stderr",
     "output_type": "stream",
     "text": [
      "/home/ubuntu/anaconda3/envs/pytorch_p36/lib/python3.6/site-packages/torch/nn/modules/container.py:100: UserWarning: Implicit dimension choice for softmax has been deprecated. Change the call to include dim=X as an argument.\n",
      "  input = module(input)\n"
     ]
    },
    {
     "data": {
      "text/plain": [
       "tensor([[0.0039, 0.2375, 0.0058, 0.0026, 0.1778, 0.1877, 0.0907, 0.2709, 0.0028,\n",
       "         0.0055, 0.0034, 0.0115]], device='cuda:0', grad_fn=<SoftmaxBackward>)"
      ]
     },
     "execution_count": 25,
     "metadata": {},
     "output_type": "execute_result"
    }
   ],
   "source": [
    "model(t_state)"
   ]
  },
  {
   "cell_type": "code",
   "execution_count": 26,
   "metadata": {},
   "outputs": [],
   "source": [
    "def record_imitation_game(env, model, \n",
    "                          rnd_steps=50, max_frames=1000):\n",
    "    \"\"\" Record an imitation game from the provided environment which \n",
    "        should output states that are compatible with the model input\n",
    "        and receive actions which are compatible with the model output.\n",
    "    \"\"\"\n",
    "    \n",
    "    state = env.reset()\n",
    "    frames = []\n",
    "    frames.append(env.render(mode='rgb_array'))\n",
    "    for step in range(rnd_steps):\n",
    "        state, _, _, _ = env.step(env.action_space.sample())\n",
    "        frames.append(env.render(mode='rgb_array'))\n",
    "        \n",
    "    done = False\n",
    "    while not done:\n",
    "        \n",
    "        # Act according to our policy most of the time.  It \n",
    "        # seems to get stuck so I am trying to add some random\n",
    "        # elements to get Sonic unstuck.\n",
    "        if step % 5 == 0:\n",
    "            new_state, reward, done, info = env.step(env.action_space.sample())\n",
    "            state = new_state\n",
    "        \n",
    "        else:\n",
    "            state = torchify_state(state)\n",
    "            action = model(state)\n",
    "            action = action.detach().cpu().numpy()\n",
    "            action = np.round(action)[0]\n",
    "            action = np.array(action, dtype=np.int8)\n",
    "            new_state, reward, done, info = env.step(action)\n",
    "            state = new_state\n",
    "            \n",
    "        frames.append(env.render(mode='rgb_array'))\n",
    "        if len(frames) % 100 == 0:\n",
    "            print(\"Collected {} frames\".format(len(frames)))\n",
    "        \n",
    "        if len(frames) >= max_frames:\n",
    "            return frames\n",
    "        \n",
    "    return frames"
   ]
  },
  {
   "cell_type": "code",
   "execution_count": 27,
   "metadata": {},
   "outputs": [
    {
     "name": "stdout",
     "output_type": "stream",
     "text": [
      "Collected 100 frames\n",
      "Collected 200 frames\n",
      "Collected 300 frames\n",
      "Collected 400 frames\n",
      "Collected 500 frames\n",
      "Collected 600 frames\n",
      "Collected 700 frames\n",
      "Collected 800 frames\n",
      "Collected 900 frames\n",
      "Collected 1000 frames\n",
      "Collected 1100 frames\n",
      "Collected 1200 frames\n",
      "Collected 1300 frames\n",
      "Collected 1400 frames\n",
      "Collected 1500 frames\n",
      "Collected 1600 frames\n",
      "Collected 1700 frames\n",
      "Collected 1800 frames\n",
      "Collected 1900 frames\n",
      "Collected 2000 frames\n"
     ]
    }
   ],
   "source": [
    "frames = record_imitation_game(env, model, rnd_steps=50, max_frames=5000)"
   ]
  },
  {
   "cell_type": "code",
   "execution_count": 28,
   "metadata": {},
   "outputs": [],
   "source": [
    "try:\n",
    "    import imageio\n",
    "except:\n",
    "    !pip install imageio\n",
    "    !pip install imageio-ffmpeg\n",
    "    import imageio"
   ]
  },
  {
   "cell_type": "code",
   "execution_count": 29,
   "metadata": {},
   "outputs": [],
   "source": [
    "imageio.mimwrite(\n",
    "    \"torch_imitation_agent_{}.mp4\".format(config[\"level\"]), \n",
    "    frames, fps=30)"
   ]
  },
  {
   "cell_type": "code",
   "execution_count": 30,
   "metadata": {},
   "outputs": [],
   "source": [
    "def rounding_action_transformer(action):\n",
    "    \"\"\" A transformer for the actions produced in a torch.Tensor\n",
    "        format.  The action that comes out is compatible with the \n",
    "        gym.env object step() function.\n",
    "    \"\"\"\n",
    "    action = action.detach().cpu().numpy()\n",
    "    action = np.round(action)[0]\n",
    "    action = np.array(action, dtype=np.int8)\n",
    "    return action"
   ]
  },
  {
   "cell_type": "code",
   "execution_count": 31,
   "metadata": {},
   "outputs": [],
   "source": [
    "def play_evaluation_games(env, model, action_transformer, state_transformer, n_games=1, rnd_steps=50, max_frames=1000):\n",
    "    \"\"\" Play evaluation games and return the scores.\n",
    "    \"\"\"\n",
    "    \n",
    "    scores = []\n",
    "    \n",
    "    for game in range(n_games):\n",
    "        state = env.reset()\n",
    "        for step in range(rnd_steps):\n",
    "            state, _, _, _ = env.step(env.action_space.sample())\n",
    "\n",
    "        step = 0\n",
    "        score = 0\n",
    "        done = False\n",
    "        while not done:\n",
    "\n",
    "            # Act according to our policy most of the time.  It \n",
    "            # seems to get stuck so I am trying to add some random\n",
    "            # elements to get Sonic unstuck.\n",
    "            if step % 5 == 0:\n",
    "                new_state, reward, done, info = env.step(env.action_space.sample())\n",
    "                state = new_state\n",
    "\n",
    "            else:\n",
    "                state = state_transformer(state)\n",
    "                action = model(state)\n",
    "                action = action_transformer(action)\n",
    "                new_state, reward, done, info = env.step(action)\n",
    "                state = new_state\n",
    "                \n",
    "            step += 1 \n",
    "            score += reward\n",
    "            \n",
    "            if step > max_frames:\n",
    "                done = True\n",
    "        \n",
    "        print(\"Finished game {0} with score {1:6.0f}.\".format(\n",
    "            game, score\n",
    "        ))\n",
    "        scores.append(score)\n",
    "\n",
    "    return scores"
   ]
  },
  {
   "cell_type": "code",
   "execution_count": 32,
   "metadata": {},
   "outputs": [
    {
     "name": "stdout",
     "output_type": "stream",
     "text": [
      "Finished game 0 with score    100.\n",
      "Finished game 1 with score    100.\n",
      "Finished game 2 with score    500.\n",
      "Finished game 3 with score    100.\n",
      "Finished game 4 with score    200.\n",
      "Finished game 5 with score    700.\n",
      "Finished game 6 with score    200.\n",
      "Finished game 7 with score    400.\n",
      "Finished game 8 with score    500.\n",
      "Finished game 9 with score    400.\n",
      "Finished game 10 with score    400.\n",
      "Finished game 11 with score    300.\n",
      "Finished game 12 with score    200.\n",
      "Finished game 13 with score    200.\n",
      "Finished game 14 with score    200.\n",
      "Finished game 15 with score    100.\n",
      "Finished game 16 with score      0.\n",
      "Finished game 17 with score    100.\n",
      "Finished game 18 with score    400.\n",
      "Finished game 19 with score    400.\n"
     ]
    }
   ],
   "source": [
    "scores = play_evaluation_games(env, model, n_games=20, state_transformer=torchify_state, \n",
    "                               action_transformer=rounding_action_transformer, rnd_steps=50, max_frames=5000)"
   ]
  },
  {
   "cell_type": "code",
   "execution_count": 33,
   "metadata": {},
   "outputs": [
    {
     "data": {
      "text/plain": [
       "[100.0,\n",
       " 100.0,\n",
       " 500.0,\n",
       " 100.0,\n",
       " 200.0,\n",
       " 700.0,\n",
       " 200.0,\n",
       " 400.0,\n",
       " 500.0,\n",
       " 400.0,\n",
       " 400.0,\n",
       " 300.0,\n",
       " 200.0,\n",
       " 200.0,\n",
       " 200.0,\n",
       " 100.0,\n",
       " 0.0,\n",
       " 100.0,\n",
       " 400.0,\n",
       " 400.0]"
      ]
     },
     "execution_count": 33,
     "metadata": {},
     "output_type": "execute_result"
    }
   ],
   "source": [
    "scores"
   ]
  },
  {
   "cell_type": "code",
   "execution_count": 34,
   "metadata": {},
   "outputs": [
    {
     "data": {
      "text/plain": [
       "Text(0, 0.5, 'Occurances')"
      ]
     },
     "execution_count": 34,
     "metadata": {},
     "output_type": "execute_result"
    },
    {
     "data": {
      "image/png": "[encoded data removed]",
      "text/plain": [
       "<Figure size 432x288 with 1 Axes>"
      ]
     },
     "metadata": {
      "needs_background": "light"
     },
     "output_type": "display_data"
    }
   ],
   "source": [
    "plt.hist(scores, edgecolor='k', bins=8)\n",
    "plt.grid(alpha=0.2)\n",
    "plt.xlabel(\"Score\")\n",
    "plt.ylabel(\"Occurances\")"
   ]
  },
  {
   "cell_type": "code",
   "execution_count": 35,
   "metadata": {},
   "outputs": [],
   "source": [
    "def torch_td_loss(online_model, target_model, states, actions, \n",
    "                  next_states, rewards, dones, gamma=0.99):\n",
    "    \"\"\" Compute the TD-error using pytorch for a set of transitions. \"\"\"\n",
    "    \n",
    "    # Predict the value of the current and next state using the \n",
    "    # online and target networks respectively. \n",
    "    q_values = online_model(states)\n",
    "    next_q_values = target_model(next_states)\n",
    "    \n",
    "    # Mask those states for which the next state is terminal.\n",
    "    q_values = q_values.gather(1, actions.view(-1,1)).squeeze(1)\n",
    "    next_q_values = next_q_values.max(1).values\n",
    "\n",
    "    qhat = (rewards + gamma * next_q_values * (1 - dones))\n",
    "    loss = (q_values - qhat.detach()).pow(2)\n",
    "    loss = loss.mean()\n",
    "    return loss"
   ]
  },
  {
   "cell_type": "code",
   "execution_count": 36,
   "metadata": {},
   "outputs": [],
   "source": [
    "class PsuedoModel(nn.Module):\n",
    "    \"\"\" A fake DQN agent. \"\"\"\n",
    "    def __init__(self, input_shape, output_shape):\n",
    "        super(PsuedoModel, self).__init__()\n",
    "        self.input_shape = input_shape\n",
    "        self.output_shape = output_shape\n",
    "        \n",
    "        self.network = nn.Sequential(\n",
    "            nn.Linear(self.input_shape[0] * self.input_shape[1] * self.input_shape[2], output_shape)\n",
    "        )\n",
    "        \n",
    "    def forward(self, state):\n",
    "        state = state.view(state.size(0), -1)\n",
    "        return self.network(state)"
   ]
  },
  {
   "cell_type": "code",
   "execution_count": 37,
   "metadata": {},
   "outputs": [],
   "source": [
    "# Setup some fake action/states to predict \n",
    "# loss with.\n",
    "samples = 4\n",
    "input_shape = (3, 12, 12)\n",
    "output_shape = 3\n",
    "\n",
    "states = np.random.randint(0, 256, size=(samples, *input_shape))\n",
    "next_states = np.random.randint(0, 256, size=(samples, *input_shape))\n",
    "actions = np.random.randint(0, output_shape, size=(samples,))\n",
    "rewards = np.random.randint(0, 2, size=(samples,))\n",
    "dones = np.random.choice([True, False], samples, p=[0.1, 0.9])\n",
    "\n",
    "# Create a fake model for testing the loss function.\n",
    "fake_model = PsuedoModel(input_shape, output_shape)"
   ]
  },
  {
   "cell_type": "code",
   "execution_count": 38,
   "metadata": {},
   "outputs": [],
   "source": [
    "def torchify_float(x):\n",
    "    \"\"\" Convert x from numpy array to torch.FloatTensor. \"\"\"\n",
    "    return autograd.Variable(torch.FloatTensor(x))\n",
    "\n",
    "def torchify_long(x):\n",
    "    \"\"\" Convert x from numpy array to torch.LongTensor. \"\"\"\n",
    "    return autograd.Variable(torch.LongTensor(x))"
   ]
  },
  {
   "cell_type": "code",
   "execution_count": 39,
   "metadata": {},
   "outputs": [],
   "source": [
    "states = torchify_float(states)\n",
    "actions = torchify_long(np.int8(actions))\n",
    "next_states = torchify_float(next_states)\n",
    "rewards = torchify_float(rewards)\n",
    "dones = torchify_float(dones)"
   ]
  },
  {
   "cell_type": "code",
   "execution_count": 40,
   "metadata": {},
   "outputs": [
    {
     "data": {
      "text/plain": [
       "tensor([[  -6.2791,  -36.5928, -119.3426],\n",
       "        [  91.1094,  -66.2691, -153.9339],\n",
       "        [  84.7082, -111.5925, -100.4611],\n",
       "        [  62.9708, -111.1616,  -82.9127]], grad_fn=<AddmmBackward>)"
      ]
     },
     "execution_count": 40,
     "metadata": {},
     "output_type": "execute_result"
    }
   ],
   "source": [
    "fake_model(states)"
   ]
  },
  {
   "cell_type": "code",
   "execution_count": 41,
   "metadata": {},
   "outputs": [
    {
     "data": {
      "text/plain": [
       "tensor(20296.4258, grad_fn=<MeanBackward0>)"
      ]
     },
     "execution_count": 41,
     "metadata": {},
     "output_type": "execute_result"
    }
   ],
   "source": [
    "torch_td_loss(\n",
    "    online_model=fake_model, \n",
    "    target_model=fake_model,\n",
    "    states=states,\n",
    "    actions=actions,\n",
    "    next_states=next_states,\n",
    "    rewards=rewards,\n",
    "    dones=dones,\n",
    "    gamma=0.99\n",
    ")"
   ]
  },
  {
   "cell_type": "code",
   "execution_count": 42,
   "metadata": {},
   "outputs": [],
   "source": [
    "def numpy_margin_loss(q_values, action, expert_action, margin):\n",
    "    \"\"\" Margin loss for one state-action pair. \"\"\"\n",
    "    \n",
    "    # Set the margin to zero if the action chosen matches \n",
    "    # the expert action.     \n",
    "    margins = np.repeat(margin, q_values.shape)\n",
    "    margins[expert_action] = 0.\n",
    "    loss = max(q_values + margins) - q_values[expert_action]\n",
    "    return loss"
   ]
  },
  {
   "cell_type": "code",
   "execution_count": 43,
   "metadata": {},
   "outputs": [],
   "source": [
    "q_values = np.array([0.1, 0.1, 0.6, 0.2])\n",
    "action = 2\n",
    "expert_action = 3\n",
    "margin = 0.1"
   ]
  },
  {
   "cell_type": "code",
   "execution_count": 44,
   "metadata": {},
   "outputs": [
    {
     "data": {
      "text/plain": [
       "0.49999999999999994"
      ]
     },
     "execution_count": 44,
     "metadata": {},
     "output_type": "execute_result"
    }
   ],
   "source": [
    "numpy_margin_loss(q_values, action, expert_action, margin)"
   ]
  },
  {
   "cell_type": "code",
   "execution_count": 45,
   "metadata": {},
   "outputs": [],
   "source": [
    "q_values = np.array([-10, -13])\n",
    "action = 0\n",
    "expert_action = 1\n",
    "margin = 1."
   ]
  },
  {
   "cell_type": "code",
   "execution_count": 46,
   "metadata": {},
   "outputs": [
    {
     "data": {
      "text/plain": [
       "4.0"
      ]
     },
     "execution_count": 46,
     "metadata": {},
     "output_type": "execute_result"
    }
   ],
   "source": [
    "numpy_margin_loss(q_values, action, expert_action, margin)"
   ]
  },
  {
   "cell_type": "code",
   "execution_count": 47,
   "metadata": {},
   "outputs": [
    {
     "name": "stdout",
     "output_type": "stream",
     "text": [
      "Action 0, Expert Action 0, Loss 7.80\n",
      "Action 0, Expert Action 1, Loss 7.80\n",
      "Action 0, Expert Action 2, Loss 0.00\n",
      "Action 0, Expert Action 3, Loss 7.70\n",
      "Action 1, Expert Action 0, Loss 7.80\n",
      "Action 1, Expert Action 1, Loss 7.80\n",
      "Action 1, Expert Action 2, Loss 0.00\n",
      "Action 1, Expert Action 3, Loss 7.70\n",
      "Action 2, Expert Action 0, Loss 7.80\n",
      "Action 2, Expert Action 1, Loss 7.80\n",
      "Action 2, Expert Action 2, Loss 0.00\n",
      "Action 2, Expert Action 3, Loss 7.70\n",
      "Action 3, Expert Action 0, Loss 7.80\n",
      "Action 3, Expert Action 1, Loss 7.80\n",
      "Action 3, Expert Action 2, Loss 0.00\n",
      "Action 3, Expert Action 3, Loss 7.70\n"
     ]
    }
   ],
   "source": [
    "for i in range(4):\n",
    "    for j in range(4):\n",
    "        loss = numpy_margin_loss(\n",
    "            q_values=np.array([0.1, 0.1, 7.6, 0.2]), \n",
    "            action=i, \n",
    "            expert_action=j, \n",
    "            margin=0.3)\n",
    "        print(\"Action {0}, Expert Action {1}, Loss {2:4.2f}\".format(i,j,loss))"
   ]
  },
  {
   "cell_type": "code",
   "execution_count": 48,
   "metadata": {},
   "outputs": [],
   "source": [
    "def numpy_multiple_margin_loss(q_values, expert_actions, margin):\n",
    "    \"\"\" Apply the margin loss to a batch of inputs. \"\"\"\n",
    "    margins = np.ones(q_values.shape) * margin\n",
    "    margins[:, expert_actions] = 0.\n",
    "    return np.max(q_values + margins, axis=1) - np.choose(expert_actions, q_values.T)"
   ]
  },
  {
   "cell_type": "code",
   "execution_count": 49,
   "metadata": {},
   "outputs": [
    {
     "data": {
      "text/plain": [
       "array([1.1, 0.3, 1.1])"
      ]
     },
     "execution_count": 49,
     "metadata": {},
     "output_type": "execute_result"
    }
   ],
   "source": [
    "numpy_multiple_margin_loss(\n",
    "    q_values=np.array([[0.1, 0.1, 0.9], \n",
    "                        [0.1, 0.2, 0.1],\n",
    "                       [0.1, 0.1, 0.9]\n",
    "                      ]),\n",
    "    expert_actions=np.array([1, 0, 1]),\n",
    "    margin=0.3\n",
    ")"
   ]
  },
  {
   "cell_type": "code",
   "execution_count": 50,
   "metadata": {},
   "outputs": [
    {
     "data": {
      "text/plain": [
       "1.0999999999999999"
      ]
     },
     "execution_count": 50,
     "metadata": {},
     "output_type": "execute_result"
    }
   ],
   "source": [
    "numpy_margin_loss(\n",
    "    q_values=np.array([0.1, 0.1, 0.9]), \n",
    "    action=0,\n",
    "    expert_action=1, \n",
    "    margin=0.3)"
   ]
  },
  {
   "cell_type": "code",
   "execution_count": 51,
   "metadata": {},
   "outputs": [
    {
     "data": {
      "text/plain": [
       "0.4"
      ]
     },
     "execution_count": 51,
     "metadata": {},
     "output_type": "execute_result"
    }
   ],
   "source": [
    "numpy_margin_loss(\n",
    "    q_values=np.array([0.1, 0.2, 0.1]), \n",
    "    action=0, \n",
    "    expert_action=0, \n",
    "    margin=0.3)"
   ]
  },
  {
   "cell_type": "code",
   "execution_count": 52,
   "metadata": {},
   "outputs": [
    {
     "data": {
      "text/plain": [
       "1.0999999999999999"
      ]
     },
     "execution_count": 52,
     "metadata": {},
     "output_type": "execute_result"
    }
   ],
   "source": [
    "numpy_margin_loss(\n",
    "    q_values=np.array([0.1, 0.1, 0.9]), \n",
    "    action=1, \n",
    "    expert_action=1, \n",
    "    margin=0.3)"
   ]
  },
  {
   "cell_type": "code",
   "execution_count": 53,
   "metadata": {},
   "outputs": [
    {
     "data": {
      "text/plain": [
       "array([0.1, 0.1, 0.1])"
      ]
     },
     "execution_count": 53,
     "metadata": {},
     "output_type": "execute_result"
    }
   ],
   "source": [
    "x = np.array([[0.1, 0.1, 0.2], \n",
    "                        [0.1, 0.2, 0.1],\n",
    "                       [0.1, 0.1, 0.2]\n",
    "                      ])\n",
    "indices = [0, 0, 0]\n",
    "np.choose(indices, x.T)"
   ]
  },
  {
   "cell_type": "code",
   "execution_count": 54,
   "metadata": {},
   "outputs": [],
   "source": [
    "q_values = torch.FloatTensor([\n",
    "    [0.1, 0.1, 0.9], \n",
    "    [0.1, 0.2, 0.1],\n",
    "    [0.1, 0.1, 0.9]\n",
    "])\n",
    "\n",
    "actions = torch.LongTensor([0, 0, 1])\n",
    "expert_actions = torch.LongTensor([1, 0, 1])"
   ]
  },
  {
   "cell_type": "code",
   "execution_count": 55,
   "metadata": {},
   "outputs": [],
   "source": [
    "def torch_margin_loss(q_values, expert_actions, margin):\n",
    "    \"\"\" Margin loss in torch. \"\"\"\n",
    "    \n",
    "    # Calculate the margins and set them to zero where\n",
    "    # expert action and chosen action agree. \n",
    "    margins = torch.ones_like(q_values) * margin\n",
    "    margins[:, expert_actions] = 0.\n",
    "    \n",
    "    loss_term1 = torch.max(q_values + margins, axis=1)[0]\n",
    "    loss_term2 = torch.take(q_values, expert_actions)\n",
    "    \n",
    "    return loss_term1 - loss_term2"
   ]
  },
  {
   "cell_type": "code",
   "execution_count": 56,
   "metadata": {},
   "outputs": [
    {
     "data": {
      "text/plain": [
       "tensor([1.1000, 0.3000, 1.1000])"
      ]
     },
     "execution_count": 56,
     "metadata": {},
     "output_type": "execute_result"
    }
   ],
   "source": [
    "torch_margin_loss(\n",
    "    q_values=q_values,\n",
    "    expert_actions=expert_actions,\n",
    "    margin=0.3\n",
    ")"
   ]
  },
  {
   "cell_type": "code",
   "execution_count": 57,
   "metadata": {},
   "outputs": [],
   "source": [
    "def torch_nstep_td_loss(online_model, target_model, actions, states, nth_states, \n",
    "                        discounted_rewards, dones, n, gamma):\n",
    "    \"\"\" Calculate the n-step TD-loss using pytorch.  We assume that the discounted sum over\n",
    "        rewards up to the n-th state has already been performed.  \n",
    "    \"\"\"\n",
    "    \n",
    "    # Predict the value of the current and next state using the \n",
    "    # online and target networks respectively. \n",
    "    q_values = online_model(states)\n",
    "    nth_q_values = target_model(nth_states)\n",
    "    \n",
    "    # Mask those states for which the next state is terminal.\n",
    "    q_values = q_values.gather(1, actions.view(-1,1)).squeeze(1)\n",
    "    nth_q_values = nth_q_values.max(1).values\n",
    "\n",
    "    qhat = (discounted_rewards + gamma**n * nth_q_values * (1 - dones))\n",
    "    loss = (q_values - qhat.detach()).pow(2)\n",
    "    loss = loss.mean()\n",
    "    return loss"
   ]
  },
  {
   "cell_type": "code",
   "execution_count": 58,
   "metadata": {},
   "outputs": [],
   "source": [
    "# Setup some fake action/states to predict \n",
    "# loss with.\n",
    "samples = 4\n",
    "input_shape = (3, 12, 12)\n",
    "output_shape = 3\n",
    "\n",
    "states = np.random.randint(0, 256, size=(samples, *input_shape))\n",
    "next_states = np.random.randint(0, 256, size=(samples, *input_shape))\n",
    "actions = np.random.randint(0, output_shape, size=(samples,))\n",
    "rewards = np.random.randint(0, 2, size=(samples,))\n",
    "dones = np.random.choice([True, False], samples, p=[0.1, 0.9])"
   ]
  },
  {
   "cell_type": "code",
   "execution_count": 59,
   "metadata": {},
   "outputs": [],
   "source": [
    "states = torchify_float(states)\n",
    "actions = torchify_long(np.int8(actions))\n",
    "next_states = torchify_float(next_states)\n",
    "rewards = torchify_float(rewards)\n",
    "dones = torchify_float(dones)"
   ]
  },
  {
   "cell_type": "code",
   "execution_count": 60,
   "metadata": {},
   "outputs": [
    {
     "data": {
      "text/plain": [
       "tensor(38604.3906, grad_fn=<MeanBackward0>)"
      ]
     },
     "execution_count": 60,
     "metadata": {},
     "output_type": "execute_result"
    }
   ],
   "source": [
    "torch_nstep_td_loss(\n",
    "    online_model=fake_model, \n",
    "    target_model=fake_model,\n",
    "    states=states,\n",
    "    actions=actions,\n",
    "    nth_states=next_states,\n",
    "    discounted_rewards=rewards,\n",
    "    dones=dones,\n",
    "    gamma=0.99,\n",
    "    n=1\n",
    ")"
   ]
  },
  {
   "cell_type": "code",
   "execution_count": 61,
   "metadata": {},
   "outputs": [
    {
     "data": {
      "text/plain": [
       "tensor(38604.3906, grad_fn=<MeanBackward0>)"
      ]
     },
     "execution_count": 61,
     "metadata": {},
     "output_type": "execute_result"
    }
   ],
   "source": [
    "torch_td_loss(\n",
    "    online_model=fake_model, \n",
    "    target_model=fake_model,\n",
    "    states=states,\n",
    "    actions=actions,\n",
    "    next_states=next_states,\n",
    "    rewards=rewards,\n",
    "    dones=dones,\n",
    "    gamma=0.99,\n",
    ")"
   ]
  },
  {
   "cell_type": "code",
   "execution_count": 62,
   "metadata": {},
   "outputs": [
    {
     "data": {
      "text/plain": [
       "tensor(36351.0742, grad_fn=<MeanBackward0>)"
      ]
     },
     "execution_count": 62,
     "metadata": {},
     "output_type": "execute_result"
    }
   ],
   "source": [
    "torch_nstep_td_loss(\n",
    "    online_model=fake_model, \n",
    "    target_model=fake_model,\n",
    "    states=states,\n",
    "    actions=actions,\n",
    "    nth_states=next_states,\n",
    "    discounted_rewards=rewards,\n",
    "    dones=dones,\n",
    "    gamma=0.99,\n",
    "    n=8\n",
    ")"
   ]
  },
  {
   "cell_type": "code",
   "execution_count": 63,
   "metadata": {},
   "outputs": [],
   "source": [
    "def torch_l2_penalty(parameters):\n",
    "    \n",
    "    loss = 0.\n",
    "    for p in parameters:\n",
    "        loss += torch.sum(p ** 2)\n",
    "        \n",
    "    return loss"
   ]
  },
  {
   "cell_type": "code",
   "execution_count": 64,
   "metadata": {},
   "outputs": [
    {
     "data": {
      "text/plain": [
       "(tensor([1, 2, 0, 2]), tensor(9.))"
      ]
     },
     "execution_count": 64,
     "metadata": {},
     "output_type": "execute_result"
    }
   ],
   "source": [
    "actions, torch_l2_penalty(actions)"
   ]
  },
  {
   "cell_type": "code",
   "execution_count": 65,
   "metadata": {},
   "outputs": [
    {
     "name": "stdout",
     "output_type": "stream",
     "text": [
      "tensor(14.)\n"
     ]
    }
   ],
   "source": [
    "x = torch.FloatTensor([1., 2., 3.])\n",
    "print(torch_l2_penalty(x))"
   ]
  },
  {
   "cell_type": "code",
   "execution_count": 66,
   "metadata": {},
   "outputs": [
    {
     "data": {
      "text/plain": [
       "tensor(1.0050, grad_fn=<AddBackward0>)"
      ]
     },
     "execution_count": 66,
     "metadata": {},
     "output_type": "execute_result"
    }
   ],
   "source": [
    "torch_l2_penalty(fake_model.parameters())"
   ]
  },
  {
   "cell_type": "code",
   "execution_count": 69,
   "metadata": {},
   "outputs": [],
   "source": [
    "def torch_dqfd_loss(online_model, target_model, states, next_states, nth_states, \n",
    "                    rewards, discounted_rewards, dones, gamma, n, coef1, coef2, coef3,\n",
    "                    margin, expert_actions\n",
    "                   ):\n",
    "    \"\"\" Construct the full DQfD loss from the four component loss functions.\n",
    "    \"\"\"\n",
    "    \n",
    "    # Predict which action to take from the online network.\n",
    "    q_values = online_model(states)\n",
    "    actions = torch.argmax(q_values, axis=1)\n",
    "    \n",
    "    td_loss = torch_td_loss(\n",
    "        online_model=online_model, \n",
    "        target_model=target_model, \n",
    "        actions=actions, states=states, \n",
    "        next_states=next_states, rewards=rewards, \n",
    "        dones=dones, gamma=gamma)\n",
    "    \n",
    "    ntd_loss = torch_nstep_td_loss(\n",
    "        online_model=online_model, target_model=target_model, \n",
    "        actions=actions, states=states, \n",
    "        nth_states=nth_states, \n",
    "        discounted_rewards=discounted_rewards, \n",
    "        dones=dones, gamma=gamma, n=n)\n",
    "    \n",
    "    q_values = online_model(states)\n",
    "    margin_loss = torch_margin_loss(q_values, expert_actions, margin)\n",
    "    margin_loss = torch.mean(margin_loss)\n",
    "    l2_loss = torch_l2_penalty(online_model.parameters())\n",
    "    \n",
    "    loss = td_loss + coef1 * ntd_loss + coef2 * margin_loss + coef3 * l2_loss\n",
    "    \n",
    "    return loss, td_loss, ntd_loss * coef1, margin_loss * coef2, l2_loss * coef3"
   ]
  },
  {
   "cell_type": "code",
   "execution_count": 70,
   "metadata": {},
   "outputs": [
    {
     "data": {
      "text/plain": [
       "(tensor(21628.0254, grad_fn=<AddBackward0>),\n",
       " tensor(10756.9941, grad_fn=<MeanBackward0>),\n",
       " tensor(10756.9941, grad_fn=<MulBackward0>),\n",
       " tensor(114.0380, grad_fn=<MulBackward0>),\n",
       " tensor(1.0050e-05, grad_fn=<MulBackward0>))"
      ]
     },
     "execution_count": 70,
     "metadata": {},
     "output_type": "execute_result"
    }
   ],
   "source": [
    "torch_dqfd_loss(\n",
    "    online_model=fake_model,\n",
    "    target_model=fake_model,\n",
    "    states=states,\n",
    "    next_states=next_states, nth_states=next_states,\n",
    "    rewards=rewards, discounted_rewards=rewards,\n",
    "    dones=dones, gamma=0.99, n=1,\n",
    "    coef1=1., coef2=1., coef3=1e-5,\n",
    "    margin=0.8, expert_actions=actions\n",
    ")"
   ]
  },
  {
   "cell_type": "code",
   "execution_count": 71,
   "metadata": {},
   "outputs": [
    {
     "data": {
      "text/plain": [
       "array([[0, 0, 0, 0, 0, 0, 0, 1, 0, 0, 0, 0],\n",
       "       [0, 0, 0, 0, 0, 0, 0, 0, 0, 0, 0, 0],\n",
       "       [0, 1, 0, 0, 0, 0, 0, 1, 0, 0, 0, 0],\n",
       "       [0, 0, 0, 0, 0, 0, 1, 0, 0, 0, 0, 0],\n",
       "       [0, 0, 0, 0, 1, 0, 1, 0, 0, 0, 0, 0],\n",
       "       [0, 1, 0, 0, 0, 0, 0, 0, 0, 0, 0, 0],\n",
       "       [0, 1, 0, 0, 0, 0, 1, 0, 0, 0, 0, 0],\n",
       "       [0, 0, 0, 0, 0, 1, 0, 0, 0, 0, 0, 0],\n",
       "       [0, 0, 0, 0, 0, 1, 1, 0, 0, 0, 0, 0],\n",
       "       [0, 0, 0, 0, 0, 1, 0, 1, 0, 0, 0, 0],\n",
       "       [0, 1, 0, 0, 1, 0, 0, 1, 0, 0, 0, 0],\n",
       "       [0, 0, 0, 0, 1, 0, 0, 0, 0, 0, 0, 0]], dtype=int8)"
      ]
     },
     "execution_count": 71,
     "metadata": {},
     "output_type": "execute_result"
    }
   ],
   "source": [
    "unique_actions"
   ]
  },
  {
   "cell_type": "code",
   "execution_count": 72,
   "metadata": {},
   "outputs": [],
   "source": [
    "encoding = {}\n",
    "\n",
    "for i, action in enumerate(unique_actions):\n",
    "    encoding[tuple(action)] = i"
   ]
  },
  {
   "cell_type": "code",
   "execution_count": 73,
   "metadata": {},
   "outputs": [
    {
     "name": "stdout",
     "output_type": "stream",
     "text": [
      "(0, 0, 0, 0, 0, 0, 0, 1, 0, 0, 0, 0) 0\n",
      "(0, 0, 0, 0, 0, 0, 0, 0, 0, 0, 0, 0) 1\n",
      "(0, 1, 0, 0, 0, 0, 0, 1, 0, 0, 0, 0) 2\n",
      "(0, 0, 0, 0, 0, 0, 1, 0, 0, 0, 0, 0) 3\n",
      "(0, 0, 0, 0, 1, 0, 1, 0, 0, 0, 0, 0) 4\n",
      "(0, 1, 0, 0, 0, 0, 0, 0, 0, 0, 0, 0) 5\n",
      "(0, 1, 0, 0, 0, 0, 1, 0, 0, 0, 0, 0) 6\n",
      "(0, 0, 0, 0, 0, 1, 0, 0, 0, 0, 0, 0) 7\n",
      "(0, 0, 0, 0, 0, 1, 1, 0, 0, 0, 0, 0) 8\n",
      "(0, 0, 0, 0, 0, 1, 0, 1, 0, 0, 0, 0) 9\n",
      "(0, 1, 0, 0, 1, 0, 0, 1, 0, 0, 0, 0) 10\n",
      "(0, 0, 0, 0, 1, 0, 0, 0, 0, 0, 0, 0) 11\n"
     ]
    }
   ],
   "source": [
    "for key, value in encoding.items():\n",
    "    print(key, value)"
   ]
  },
  {
   "cell_type": "code",
   "execution_count": 74,
   "metadata": {},
   "outputs": [],
   "source": [
    "def encode_actions(actions, encoding):\n",
    "    \"\"\" Using the encoder dictionary, encode all of the actions\n",
    "        provided. \n",
    "    \"\"\"\n",
    "    \n",
    "    encoded = np.zeros(len(actions), dtype=np.int8)\n",
    "    for i, action in enumerate(actions):\n",
    "        \n",
    "        encoded[i] = encoding[tuple(action)]\n",
    "        \n",
    "    return encoded\n",
    "\n",
    "def decode_actions(actions, decoding):\n",
    "    \"\"\" Using the decoder dictionary, decode all of the actions\n",
    "        provided. \n",
    "    \"\"\"\n",
    "    \n",
    "    decoded = []\n",
    "    for i, action in enumerate(actions):\n",
    "        \n",
    "        decoded.append(decoding[action])\n",
    "        \n",
    "    return np.array(decoded, np.int8)"
   ]
  },
  {
   "cell_type": "code",
   "execution_count": 75,
   "metadata": {},
   "outputs": [],
   "source": [
    "y_test_encoded = encode_actions(y_test, encoding)"
   ]
  },
  {
   "cell_type": "code",
   "execution_count": 76,
   "metadata": {},
   "outputs": [
    {
     "data": {
      "text/plain": [
       "array([ 1,  0,  0,  1,  0,  1,  1,  1,  1,  1,  0,  0,  2,  0,  2,  1,  0,\n",
       "        2,  3,  0,  0,  0,  0,  1,  1,  0,  0,  0,  0,  0,  2,  0,  1,  0,\n",
       "        0,  0,  2,  0,  0,  3,  1,  1,  0,  2,  0,  1,  0,  0,  1,  1,  1,\n",
       "        0,  0,  0,  1,  0,  0,  1,  1,  0,  1,  0,  1,  0,  0,  0,  4,  3,\n",
       "        7,  0,  2,  1,  0,  2,  1,  1,  0,  1,  0,  1,  0,  0,  0,  0,  1,\n",
       "        1,  2,  0,  3,  0,  0,  1,  1,  0,  0,  1,  0,  0,  0,  0,  0,  0,\n",
       "        7,  0,  1,  0,  0,  0,  0,  0,  1,  0,  1,  0,  4,  0,  0,  0,  2,\n",
       "        0,  1,  1,  0,  7,  1,  0,  0,  0,  1,  0,  0,  0,  2,  1,  0,  0,\n",
       "        0,  1,  5,  0,  0,  1,  0,  3,  0,  0,  1,  0,  0,  0,  0,  0,  0,\n",
       "        3,  0,  1,  2,  1,  0,  1,  0,  4,  0,  1,  1,  1,  1,  0,  1,  1,\n",
       "        1,  1,  0,  0,  1,  0,  3,  0,  0,  1,  0,  0,  1,  0,  0,  0,  0,\n",
       "        1,  0,  2,  0,  0,  3,  1,  1,  1,  1,  2,  5,  0,  0,  0,  1,  2,\n",
       "        1,  1,  0,  0,  1,  2,  0,  2,  0,  1,  0,  3,  1,  0,  2,  1,  0,\n",
       "        0,  0,  0,  0,  0,  3,  0,  0,  0,  0,  2,  0,  0,  0,  1,  0,  0,\n",
       "        0,  1,  0,  1,  2,  1,  0,  1,  1,  2, 10,  2,  0,  3,  0,  0,  1,\n",
       "        0,  1,  3,  2,  3,  1,  0,  0,  1,  0,  1,  7,  0,  1,  0,  0,  2,\n",
       "        0,  0,  0,  0,  1,  0,  1,  0,  0,  0,  1,  1,  0,  0,  1,  0,  0,\n",
       "        1,  0,  0,  4,  1,  1,  0,  3,  2,  1,  1,  1,  1,  1,  0,  2,  1,\n",
       "        0,  0,  0,  2,  3,  1,  2,  1,  0,  0, 10,  0,  1,  0,  0,  0,  1,\n",
       "        0,  0,  0,  0,  1,  2,  1,  1,  0,  1,  0,  1,  9,  1,  2,  0,  1,\n",
       "        2,  1,  1,  6,  0,  0,  0,  0,  1,  0,  0,  0,  0,  0,  0,  0,  3,\n",
       "        0,  0,  0,  1,  1,  2,  1,  0,  0,  0,  1,  0,  0,  0,  1,  1,  4,\n",
       "        2,  0,  0,  0,  0,  1,  0,  1,  1,  1,  0,  1,  1,  0,  0,  1,  0,\n",
       "        1,  1,  2,  1,  1,  0,  0,  1,  0,  0,  1,  0,  4,  0,  0,  0,  1,\n",
       "        0,  0,  3,  0,  0,  1,  0,  0,  0,  0,  0,  0,  0,  0,  3,  0,  0,\n",
       "        1,  0,  3,  0,  0,  0,  0,  1,  2,  0,  0,  0,  0,  0,  0,  0,  0,\n",
       "        1,  1,  2,  0,  2,  0,  0,  0,  0,  1,  1,  2,  0,  0,  0,  0,  1,\n",
       "        0,  0,  5,  0,  0,  0,  0,  0,  0,  0,  1,  0,  0,  0,  1,  0,  0,\n",
       "        0,  0,  1,  0,  0,  1,  0,  0,  1,  6,  1,  1,  0,  1,  0,  5,  1,\n",
       "        4,  1,  0,  3,  1,  1,  1,  0,  0,  0,  0,  0,  7,  1,  0,  2,  0,\n",
       "        3,  1,  0,  0,  0,  1,  3,  0,  1,  0,  4,  1,  0,  0,  0,  0,  1,\n",
       "        1,  0,  0,  0,  0,  0,  0,  1,  4,  9,  1,  0,  0,  1,  0,  1,  1,\n",
       "        0,  0,  0,  0,  1,  0,  0,  0,  0,  1,  0,  0,  0,  1,  0,  0,  1,\n",
       "        0,  0,  0,  1,  1,  0,  0,  1,  0,  0,  0,  5,  1,  0,  1,  0,  2,\n",
       "        0,  2,  0,  0,  3,  0,  0,  1,  1,  0,  0,  1,  0,  1,  0,  1,  0,\n",
       "        0,  0,  0,  0,  0,  6,  0,  1,  0,  0,  0,  1,  4,  0,  2,  1,  3,\n",
       "        0,  2,  0,  1,  1,  0,  0,  1,  1,  0,  0,  0,  1,  3,  0,  0,  0,\n",
       "        0,  0,  0,  2,  1,  0,  0,  0,  0,  1,  3,  0,  1,  0,  0,  1,  1,\n",
       "        0,  1,  0,  1,  3,  1,  0,  3,  3,  0,  0,  0,  1,  0,  1,  0,  1,\n",
       "        0,  0,  1,  0,  1,  3,  2,  0,  0,  0,  0,  0,  0,  3,  0,  0,  1,\n",
       "        0,  3,  0,  1,  0,  0,  3,  4,  0,  0,  0,  0,  0,  0,  0,  2,  1,\n",
       "        1,  1,  0,  1,  0,  0,  0,  0,  8,  1,  0,  1,  3,  1,  0,  4,  1,\n",
       "        2,  0,  0,  0,  0,  1,  0,  0,  3,  2,  1,  0,  1,  0,  1,  1,  0,\n",
       "        0,  1,  1,  1,  1,  0,  0,  0,  0,  0,  0,  2,  4,  0,  0,  0,  0,\n",
       "        0,  1,  0,  0,  0,  1,  1,  0,  0,  1,  0,  0,  0,  0,  1,  0,  1,\n",
       "        0,  2,  0,  0,  0,  0,  0,  1,  1,  1,  0,  0,  0,  1,  4,  0,  1,\n",
       "        2,  3,  1,  1,  0,  0,  2,  1,  0,  0,  0,  0,  1,  0,  0,  0],\n",
       "      dtype=int8)"
      ]
     },
     "execution_count": 76,
     "metadata": {},
     "output_type": "execute_result"
    }
   ],
   "source": [
    "y_test_encoded"
   ]
  },
  {
   "cell_type": "code",
   "execution_count": 77,
   "metadata": {},
   "outputs": [
    {
     "name": "stdout",
     "output_type": "stream",
     "text": [
      "{0: (0, 0, 0, 0, 0, 0, 0, 1, 0, 0, 0, 0), 1: (0, 0, 0, 0, 0, 0, 0, 0, 0, 0, 0, 0), 2: (0, 1, 0, 0, 0, 0, 0, 1, 0, 0, 0, 0), 3: (0, 0, 0, 0, 0, 0, 1, 0, 0, 0, 0, 0), 4: (0, 0, 0, 0, 1, 0, 1, 0, 0, 0, 0, 0), 5: (0, 1, 0, 0, 0, 0, 0, 0, 0, 0, 0, 0), 6: (0, 1, 0, 0, 0, 0, 1, 0, 0, 0, 0, 0), 7: (0, 0, 0, 0, 0, 1, 0, 0, 0, 0, 0, 0), 8: (0, 0, 0, 0, 0, 1, 1, 0, 0, 0, 0, 0), 9: (0, 0, 0, 0, 0, 1, 0, 1, 0, 0, 0, 0), 10: (0, 1, 0, 0, 1, 0, 0, 1, 0, 0, 0, 0), 11: (0, 0, 0, 0, 1, 0, 0, 0, 0, 0, 0, 0)}\n"
     ]
    }
   ],
   "source": [
    "decoding = { value:key for key, value in encoding.items() }\n",
    "print(decoding)"
   ]
  },
  {
   "cell_type": "code",
   "execution_count": 78,
   "metadata": {},
   "outputs": [
    {
     "data": {
      "text/plain": [
       "array([[0, 0, 0, ..., 0, 0, 0],\n",
       "       [0, 0, 0, ..., 0, 0, 0],\n",
       "       [0, 0, 0, ..., 0, 0, 0],\n",
       "       ...,\n",
       "       [0, 0, 0, ..., 0, 0, 0],\n",
       "       [0, 0, 0, ..., 0, 0, 0],\n",
       "       [0, 0, 0, ..., 0, 0, 0]], dtype=int8)"
      ]
     },
     "execution_count": 78,
     "metadata": {},
     "output_type": "execute_result"
    }
   ],
   "source": [
    "decode_actions(y_test_encoded, decoding)"
   ]
  },
  {
   "cell_type": "code",
   "execution_count": 79,
   "metadata": {},
   "outputs": [],
   "source": [
    "y_train_enc = encode_actions(y_train, encoding)\n",
    "y_test_enc = encode_actions(y_test, encoding)"
   ]
  },
  {
   "cell_type": "code",
   "execution_count": 80,
   "metadata": {},
   "outputs": [
    {
     "data": {
      "text/plain": [
       "((2393,), (798,))"
      ]
     },
     "execution_count": 80,
     "metadata": {},
     "output_type": "execute_result"
    }
   ],
   "source": [
    "y_train_enc.shape, y_test_enc.shape"
   ]
  },
  {
   "cell_type": "code",
   "execution_count": 81,
   "metadata": {},
   "outputs": [],
   "source": [
    "n_actions = len(unique_actions)"
   ]
  },
  {
   "cell_type": "code",
   "execution_count": 82,
   "metadata": {},
   "outputs": [
    {
     "data": {
      "text/plain": [
       "12"
      ]
     },
     "execution_count": 82,
     "metadata": {},
     "output_type": "execute_result"
    }
   ],
   "source": [
    "n_actions"
   ]
  },
  {
   "cell_type": "code",
   "execution_count": 83,
   "metadata": {},
   "outputs": [],
   "source": [
    "class SonicNet(nn.Module):\n",
    "    \"\"\" A simple deep q-network architecture to be used for predicing \n",
    "        action-values from states.\n",
    "    \"\"\"\n",
    "    \n",
    "    def __init__(self, input_shape, output_shape):\n",
    "        super(SonicNet, self).__init__()\n",
    "        self.input_shape = input_shape\n",
    "        self.output_shape = output_shape\n",
    "        \n",
    "        channels, height, width = self.input_shape\n",
    "        self.features = nn.Sequential(\n",
    "            nn.Conv2d(channels, 16, kernel_size=3, stride=1),\n",
    "            nn.ReLU(),\n",
    "            nn.Conv2d(16, 16, kernel_size=3, stride=3),\n",
    "            nn.ReLU(),\n",
    "            nn.Conv2d(16, 16, kernel_size=3, stride=1),\n",
    "            nn.ReLU(),\n",
    "            nn.Conv2d(16, 16, kernel_size=3, stride=3),\n",
    "            nn.Conv2d(16, 16, kernel_size=3, stride=1),\n",
    "            nn.ReLU(),\n",
    "            nn.Conv2d(16, 16, kernel_size=3, stride=3),\n",
    "            nn.ReLU()\n",
    "        )\n",
    "        \n",
    "        self.fully_connected = nn.Sequential(\n",
    "            nn.Linear(self._feature_size(), 256),\n",
    "            nn.ReLU(),\n",
    "            nn.Linear(256, self.output_shape)\n",
    "        )\n",
    "        \n",
    "    def _feature_size(self):\n",
    "        \"\"\" I took this from somewhere. \"\"\"\n",
    "        return self.features(autograd.Variable(torch.zeros(1, *self.input_shape))).view(1, -1).size(1)\n",
    "    \n",
    "    def forward(self, x):\n",
    "        x = self.features(x)\n",
    "        x = x.view(x.size(0), -1)\n",
    "        x = self.fully_connected(x)\n",
    "        return x"
   ]
  },
  {
   "cell_type": "code",
   "execution_count": 84,
   "metadata": {},
   "outputs": [],
   "source": [
    "env.close()\n",
    "states, actions, next_states, rewards, dones = extract_human_data(f\"data/human/SonicTheHedgehog-Genesis-{config['level']}-0000.bk2\")"
   ]
  },
  {
   "cell_type": "code",
   "execution_count": 85,
   "metadata": {},
   "outputs": [],
   "source": [
    "online_model, target_model = SonicNet(states[0].shape, n_actions), SonicNet(states[0].shape, n_actions)"
   ]
  },
  {
   "cell_type": "code",
   "execution_count": 86,
   "metadata": {},
   "outputs": [],
   "source": [
    "# To Do: Write a code that extracts the n-th state and the \n",
    "# discounted sum of rewards up to the n-th state and builds\n",
    "# transitions for training our little model."
   ]
  },
  {
   "cell_type": "code",
   "execution_count": 87,
   "metadata": {},
   "outputs": [],
   "source": [
    "def build_nstep_transitions(states, actions, next_states, rewards, dones, n, gamma):\n",
    "    \"\"\" Assuming that the inputs are sorted temporally from early to late, \n",
    "        build n-step transitions and return them for training DQfD.\n",
    "    \"\"\"\n",
    "    \n",
    "    _states, _actions, _nth_states, _discounted_rewards, _dones = [], [], [], [], []\n",
    "    _next_states, _rewards = [], []\n",
    "    \n",
    "    # Iterate up to the point where there are fewer than\n",
    "    # n states left to process.\n",
    "    for i in range(len(states) - n):\n",
    "        \n",
    "        # Most of these could just be list copies.  The only thing we need\n",
    "        # to build on the fly is the nth_state and the discounted reward.\n",
    "        _states.append(states[i])\n",
    "        _actions.append(actions[i])\n",
    "        _next_states.append(next_states[i])\n",
    "        _nth_states.append(next_states[i + n - 1])\n",
    "        _rewards.append(rewards[i])\n",
    "        \n",
    "        discounted_reward = 0.\n",
    "        for j in range(n):\n",
    "            \n",
    "            if not dones[i + j]:\n",
    "                discounted_reward += gamma**j * rewards[i + j]\n",
    "                done = False\n",
    "            else:\n",
    "                done = True\n",
    "                break\n",
    "                \n",
    "        _discounted_rewards.append(discounted_reward)\n",
    "        _dones.append(done)\n",
    "    \n",
    "    return _states, _actions, _next_states, _nth_states, _rewards, _discounted_rewards, _dones"
   ]
  },
  {
   "cell_type": "code",
   "execution_count": 88,
   "metadata": {},
   "outputs": [],
   "source": [
    "_states, _actions, _next_states, _nth_states, _rewards, _discounted_rewards, _dones = build_nstep_transitions(\n",
    "    states, actions, next_states, rewards, dones, n=5, gamma=0.99)"
   ]
  },
  {
   "cell_type": "code",
   "execution_count": 89,
   "metadata": {},
   "outputs": [
    {
     "name": "stdout",
     "output_type": "stream",
     "text": [
      "<class 'numpy.ndarray'>\n"
     ]
    }
   ],
   "source": [
    "assertion_result = next_states[4] == _nth_states[0] \n",
    "print(type(assertion_result))"
   ]
  },
  {
   "cell_type": "code",
   "execution_count": 90,
   "metadata": {},
   "outputs": [
    {
     "data": {
      "text/plain": [
       "True"
      ]
     },
     "execution_count": 90,
     "metadata": {},
     "output_type": "execute_result"
    }
   ],
   "source": [
    "assertion_result.all()"
   ]
  },
  {
   "cell_type": "code",
   "execution_count": 91,
   "metadata": {},
   "outputs": [
    {
     "data": {
      "text/plain": [
       "(3186, 3186, 3186)"
      ]
     },
     "execution_count": 91,
     "metadata": {},
     "output_type": "execute_result"
    }
   ],
   "source": [
    "len(_states), len(_next_states), len(_nth_states)"
   ]
  },
  {
   "cell_type": "code",
   "execution_count": 92,
   "metadata": {},
   "outputs": [],
   "source": [
    "_actions = encode_actions(_actions, encoding)"
   ]
  },
  {
   "cell_type": "code",
   "execution_count": 93,
   "metadata": {},
   "outputs": [
    {
     "name": "stdout",
     "output_type": "stream",
     "text": [
      "[1 1 1 ... 0 0 0]\n"
     ]
    }
   ],
   "source": [
    "print(_actions)"
   ]
  },
  {
   "cell_type": "code",
   "execution_count": 94,
   "metadata": {},
   "outputs": [],
   "source": [
    "_states = torchify_float(_states[:32])\n",
    "_actions = torchify_long(_actions[:32])\n",
    "_next_states = torchify_float(_next_states[:32])\n",
    "_nth_states = torchify_float(_nth_states[:32])\n",
    "_rewards = torchify_float(_rewards[:32])\n",
    "_discounted_rewards = torchify_float(_discounted_rewards[:32])\n",
    "_dones = torchify_float(_dones[:32])"
   ]
  },
  {
   "cell_type": "code",
   "execution_count": 95,
   "metadata": {},
   "outputs": [
    {
     "name": "stdout",
     "output_type": "stream",
     "text": [
      "tensor([6, 6, 6, 6, 6, 6, 6, 6, 6, 6, 0, 0, 0, 0, 0, 0, 0, 0, 0, 0, 0, 0, 0, 0,\n",
      "        0, 0, 0, 0, 0, 0, 0, 0])\n"
     ]
    }
   ],
   "source": [
    "q_values = online_model(_states)\n",
    "actions = torch.argmax(q_values, axis=1)\n",
    "print(actions)"
   ]
  },
  {
   "cell_type": "code",
   "execution_count": 96,
   "metadata": {},
   "outputs": [
    {
     "name": "stdout",
     "output_type": "stream",
     "text": [
      "tensor([1, 1, 1, 1, 1, 1, 1, 1, 1, 1, 1, 1, 1, 1, 1, 1, 1, 1, 1, 1, 1, 1, 1, 1,\n",
      "        1, 1, 1, 1, 1, 1, 1, 1])\n"
     ]
    }
   ],
   "source": [
    "print(_actions)"
   ]
  },
  {
   "cell_type": "code",
   "execution_count": 97,
   "metadata": {},
   "outputs": [
    {
     "data": {
      "text/plain": [
       "(tensor(1.1949, grad_fn=<AddBackward0>),\n",
       " tensor(0.0177, grad_fn=<MeanBackward0>),\n",
       " tensor(0.0164, grad_fn=<MulBackward0>),\n",
       " tensor(1.1596, grad_fn=<MulBackward0>),\n",
       " tensor(0.0012, grad_fn=<MulBackward0>))"
      ]
     },
     "execution_count": 97,
     "metadata": {},
     "output_type": "execute_result"
    }
   ],
   "source": [
    "torch_dqfd_loss(\n",
    "    online_model=online_model,\n",
    "    target_model=target_model,\n",
    "    states=_states,\n",
    "    next_states=_next_states, nth_states=_nth_states,\n",
    "    rewards=_rewards, discounted_rewards=_discounted_rewards,\n",
    "    dones=_dones, gamma=0.99, n=5,\n",
    "    coef1=1., coef2=1., coef3=1e-5,\n",
    "    margin=0.8, expert_actions=_actions\n",
    ")"
   ]
  },
  {
   "cell_type": "code",
   "execution_count": 130,
   "metadata": {},
   "outputs": [],
   "source": [
    "env.close()\n",
    "states, actions, next_states, rewards, dones = extract_human_data(f\"data/human/SonicTheHedgehog-Genesis-{config['level']}-0000.bk2\")\n",
    "_states, _actions, _next_states, _nth_states, _rewards, _discounted_rewards, _dones = build_nstep_transitions(\n",
    "    states, actions, next_states, rewards, dones, n=10, gamma=0.99)\n",
    "_actions = encode_actions(_actions, encoding)\n",
    "\n",
    "_states = np.array(_states)\n",
    "_actions = np.array(_actions)\n",
    "_next_states = np.array(_next_states)\n",
    "_nth_states = np.array(_nth_states)\n",
    "_rewards = np.array(_rewards)\n",
    "_discounted_rewards = np.array(_discounted_rewards)\n",
    "_dones = np.array(_dones)"
   ]
  },
  {
   "cell_type": "code",
   "execution_count": 131,
   "metadata": {},
   "outputs": [],
   "source": [
    "online_model = online_model.to(device='cuda:0')\n",
    "target_model = target_model.to(device='cuda:0')\n",
    "optimizer = optim.Adam(online_model.parameters(), lr=1e-5)"
   ]
  },
  {
   "cell_type": "code",
   "execution_count": 132,
   "metadata": {
    "scrolled": false
   },
   "outputs": [
    {
     "name": "stdout",
     "output_type": "stream",
     "text": [
      "Epoch 0, Loss 142.0811, TD-Loss 0.3276, NTD-Loss 141.4925, Margin Loss 0.2610, L2 Loss 0.0000\n",
      "Epoch 1, Loss 97.7519, TD-Loss 0.1103, NTD-Loss 97.4119, Margin Loss 0.2297, L2 Loss 0.0000\n",
      "Epoch 2, Loss 82.4080, TD-Loss 0.3703, NTD-Loss 82.5834, Margin Loss -0.5457, L2 Loss 0.0000\n",
      "Epoch 3, Loss 105.8053, TD-Loss 0.6908, NTD-Loss 104.4212, Margin Loss 0.6932, L2 Loss 0.0000\n",
      "Epoch 4, Loss 184.4579, TD-Loss 0.3528, NTD-Loss 183.7116, Margin Loss 0.3934, L2 Loss 0.0000\n",
      "Epoch 5, Loss 152.5619, TD-Loss 0.1500, NTD-Loss 152.1463, Margin Loss 0.2656, L2 Loss 0.0000\n",
      "Epoch 6, Loss 68.2334, TD-Loss 0.3012, NTD-Loss 68.9808, Margin Loss -1.0487, L2 Loss 0.0000\n",
      "Epoch 7, Loss 98.1118, TD-Loss 0.1155, NTD-Loss 97.8033, Margin Loss 0.1931, L2 Loss 0.0000\n",
      "Epoch 8, Loss 81.7939, TD-Loss 0.2269, NTD-Loss 81.2302, Margin Loss 0.3368, L2 Loss 0.0000\n",
      "Epoch 9, Loss 109.4924, TD-Loss 0.2135, NTD-Loss 109.0631, Margin Loss 0.2158, L2 Loss 0.0000\n",
      "Epoch 10, Loss 116.4940, TD-Loss 0.3162, NTD-Loss 115.8485, Margin Loss 0.3294, L2 Loss 0.0000\n",
      "Epoch 11, Loss 56.0664, TD-Loss 0.2936, NTD-Loss 55.2944, Margin Loss 0.4783, L2 Loss 0.0000\n",
      "Epoch 12, Loss 71.6270, TD-Loss 0.3079, NTD-Loss 70.7380, Margin Loss 0.5810, L2 Loss 0.0000\n",
      "Epoch 13, Loss 172.1422, TD-Loss 0.3852, NTD-Loss 171.2285, Margin Loss 0.5286, L2 Loss 0.0000\n",
      "Epoch 14, Loss 134.5114, TD-Loss 0.2655, NTD-Loss 133.9890, Margin Loss 0.2570, L2 Loss 0.0000\n",
      "Epoch 15, Loss 87.0930, TD-Loss 0.3113, NTD-Loss 86.4603, Margin Loss 0.3215, L2 Loss 0.0000\n",
      "Epoch 16, Loss 93.9176, TD-Loss 0.3384, NTD-Loss 93.2672, Margin Loss 0.3120, L2 Loss 0.0000\n",
      "Epoch 17, Loss 71.3082, TD-Loss 0.4013, NTD-Loss 71.9507, Margin Loss -1.0438, L2 Loss 0.0000\n",
      "Epoch 18, Loss 117.5965, TD-Loss 0.5477, NTD-Loss 116.7310, Margin Loss 0.3177, L2 Loss 0.0000\n",
      "Epoch 19, Loss 108.4342, TD-Loss 0.7055, NTD-Loss 108.9537, Margin Loss -1.2250, L2 Loss 0.0000\n",
      "Epoch 20, Loss 122.9260, TD-Loss 0.7105, NTD-Loss 121.7905, Margin Loss 0.4251, L2 Loss 0.0000\n",
      "Epoch 21, Loss 83.6884, TD-Loss 1.0092, NTD-Loss 83.9486, Margin Loss -1.2694, L2 Loss 0.0000\n",
      "Epoch 22, Loss 90.9473, TD-Loss 1.0289, NTD-Loss 89.6251, Margin Loss 0.2933, L2 Loss 0.0000\n",
      "Epoch 23, Loss 124.2402, TD-Loss 1.8116, NTD-Loss 121.7817, Margin Loss 0.6469, L2 Loss 0.0000\n",
      "Epoch 24, Loss 103.4016, TD-Loss 1.0377, NTD-Loss 101.8833, Margin Loss 0.4806, L2 Loss 0.0000\n",
      "Epoch 25, Loss 120.2628, TD-Loss 1.1537, NTD-Loss 118.7602, Margin Loss 0.3489, L2 Loss 0.0000\n",
      "Epoch 26, Loss 121.9013, TD-Loss 2.6812, NTD-Loss 120.2963, Margin Loss -1.0763, L2 Loss 0.0000\n",
      "Epoch 27, Loss 80.8988, TD-Loss 1.5753, NTD-Loss 78.9560, Margin Loss 0.3675, L2 Loss 0.0000\n",
      "Epoch 28, Loss 72.8450, TD-Loss 2.7063, NTD-Loss 69.3328, Margin Loss 0.8059, L2 Loss 0.0000\n",
      "Epoch 29, Loss 105.0492, TD-Loss 1.2751, NTD-Loss 103.6511, Margin Loss 0.1230, L2 Loss 0.0000\n",
      "Epoch 30, Loss 93.0791, TD-Loss 1.8240, NTD-Loss 90.8119, Margin Loss 0.4432, L2 Loss 0.0000\n",
      "Epoch 31, Loss 154.2384, TD-Loss 4.2879, NTD-Loss 149.6366, Margin Loss 0.3139, L2 Loss 0.0000\n",
      "Epoch 32, Loss 108.5090, TD-Loss 2.5680, NTD-Loss 105.7857, Margin Loss 0.1553, L2 Loss 0.0000\n",
      "Epoch 33, Loss 85.7769, TD-Loss 3.2875, NTD-Loss 81.9847, Margin Loss 0.5047, L2 Loss 0.0000\n",
      "Epoch 34, Loss 133.2176, TD-Loss 3.8571, NTD-Loss 128.9950, Margin Loss 0.3655, L2 Loss 0.0000\n",
      "Epoch 35, Loss 91.9029, TD-Loss 3.0772, NTD-Loss 88.2449, Margin Loss 0.5807, L2 Loss 0.0000\n",
      "Epoch 36, Loss 101.3118, TD-Loss 4.9474, NTD-Loss 96.1267, Margin Loss 0.2377, L2 Loss 0.0000\n",
      "Epoch 37, Loss 131.6769, TD-Loss 6.7690, NTD-Loss 124.8384, Margin Loss 0.0695, L2 Loss 0.0000\n",
      "Epoch 38, Loss 83.9131, TD-Loss 4.6931, NTD-Loss 80.6230, Margin Loss -1.4029, L2 Loss 0.0000\n",
      "Epoch 39, Loss 82.7219, TD-Loss 2.9716, NTD-Loss 79.3608, Margin Loss 0.3896, L2 Loss 0.0000\n",
      "Epoch 40, Loss 149.1277, TD-Loss 10.1289, NTD-Loss 138.9491, Margin Loss 0.0496, L2 Loss 0.0000\n",
      "Epoch 41, Loss 138.2814, TD-Loss 8.1445, NTD-Loss 130.0007, Margin Loss 0.1362, L2 Loss 0.0000\n",
      "Epoch 42, Loss 137.1663, TD-Loss 8.7123, NTD-Loss 128.0084, Margin Loss 0.4457, L2 Loss 0.0000\n",
      "Epoch 43, Loss 90.5320, TD-Loss 7.5209, NTD-Loss 82.9169, Margin Loss 0.0942, L2 Loss 0.0000\n",
      "Epoch 44, Loss 97.4639, TD-Loss 5.9442, NTD-Loss 90.8293, Margin Loss 0.6903, L2 Loss 0.0000\n",
      "Epoch 45, Loss 99.6014, TD-Loss 7.3241, NTD-Loss 91.7741, Margin Loss 0.5032, L2 Loss 0.0000\n",
      "Epoch 46, Loss 84.6486, TD-Loss 5.0156, NTD-Loss 79.2140, Margin Loss 0.4191, L2 Loss 0.0000\n",
      "Epoch 47, Loss 124.1043, TD-Loss 9.3137, NTD-Loss 114.0229, Margin Loss 0.7678, L2 Loss 0.0000\n",
      "Epoch 48, Loss 109.0465, TD-Loss 16.7460, NTD-Loss 91.4656, Margin Loss 0.8350, L2 Loss 0.0000\n",
      "Epoch 49, Loss 152.4878, TD-Loss 10.5919, NTD-Loss 141.3601, Margin Loss 0.5358, L2 Loss 0.0000\n",
      "Epoch 50, Loss 82.0818, TD-Loss 5.9121, NTD-Loss 77.8387, Margin Loss -1.6689, L2 Loss 0.0000\n",
      "Epoch 51, Loss 115.4252, TD-Loss 11.6735, NTD-Loss 103.4564, Margin Loss 0.2953, L2 Loss 0.0000\n",
      "Epoch 52, Loss 78.1951, TD-Loss 9.7921, NTD-Loss 67.8624, Margin Loss 0.5406, L2 Loss 0.0000\n",
      "Epoch 53, Loss 83.2631, TD-Loss 11.0186, NTD-Loss 72.2651, Margin Loss -0.0205, L2 Loss 0.0000\n",
      "Epoch 54, Loss 117.4768, TD-Loss 8.8731, NTD-Loss 108.7189, Margin Loss -0.1152, L2 Loss 0.0000\n",
      "Epoch 55, Loss 81.5121, TD-Loss 10.9925, NTD-Loss 69.7372, Margin Loss 0.7824, L2 Loss 0.0000\n",
      "Epoch 56, Loss 105.8103, TD-Loss 10.2305, NTD-Loss 95.1148, Margin Loss 0.4649, L2 Loss 0.0000\n",
      "Epoch 57, Loss 59.2974, TD-Loss 4.7314, NTD-Loss 54.7517, Margin Loss -0.1857, L2 Loss 0.0000\n",
      "Epoch 58, Loss 76.6396, TD-Loss 13.2921, NTD-Loss 63.0793, Margin Loss 0.2683, L2 Loss 0.0000\n",
      "Epoch 59, Loss 71.0176, TD-Loss 6.6864, NTD-Loss 64.4487, Margin Loss -0.1174, L2 Loss 0.0000\n",
      "Epoch 60, Loss 111.7817, TD-Loss 13.9662, NTD-Loss 97.0580, Margin Loss 0.7575, L2 Loss 0.0000\n",
      "Epoch 61, Loss 112.9063, TD-Loss 18.4102, NTD-Loss 94.4633, Margin Loss 0.0328, L2 Loss 0.0000\n",
      "Epoch 62, Loss 83.5389, TD-Loss 10.3987, NTD-Loss 72.4241, Margin Loss 0.7161, L2 Loss 0.0000\n",
      "Epoch 63, Loss 131.2478, TD-Loss 17.4801, NTD-Loss 113.6534, Margin Loss 0.1143, L2 Loss 0.0000\n",
      "Epoch 64, Loss 79.2397, TD-Loss 15.5994, NTD-Loss 62.8889, Margin Loss 0.7514, L2 Loss 0.0000\n",
      "Epoch 65, Loss 74.4206, TD-Loss 12.2069, NTD-Loss 63.9408, Margin Loss -1.7271, L2 Loss 0.0000\n",
      "Epoch 66, Loss 90.6351, TD-Loss 11.1108, NTD-Loss 78.8518, Margin Loss 0.6725, L2 Loss 0.0000\n",
      "Epoch 67, Loss 87.6104, TD-Loss 7.9571, NTD-Loss 80.7142, Margin Loss -1.0608, L2 Loss 0.0000\n",
      "Epoch 68, Loss 63.9074, TD-Loss 7.5986, NTD-Loss 55.7081, Margin Loss 0.6008, L2 Loss 0.0000\n",
      "Epoch 69, Loss 47.8956, TD-Loss 6.7823, NTD-Loss 40.4725, Margin Loss 0.6407, L2 Loss 0.0000\n",
      "Epoch 70, Loss 82.4821, TD-Loss 12.4735, NTD-Loss 69.4263, Margin Loss 0.5823, L2 Loss 0.0000\n",
      "Epoch 71, Loss 86.8705, TD-Loss 4.3209, NTD-Loss 81.9438, Margin Loss 0.6058, L2 Loss 0.0000\n",
      "Epoch 72, Loss 73.9139, TD-Loss 13.1279, NTD-Loss 60.0597, Margin Loss 0.7263, L2 Loss 0.0000\n",
      "Epoch 73, Loss 137.8875, TD-Loss 17.6783, NTD-Loss 119.3174, Margin Loss 0.8918, L2 Loss 0.0000\n",
      "Epoch 74, Loss 91.8800, TD-Loss 16.8266, NTD-Loss 74.8673, Margin Loss 0.1861, L2 Loss 0.0000\n",
      "Epoch 75, Loss 102.2374, TD-Loss 19.3982, NTD-Loss 82.0137, Margin Loss 0.8255, L2 Loss 0.0000\n",
      "Epoch 76, Loss 91.5558, TD-Loss 22.4683, NTD-Loss 68.1266, Margin Loss 0.9610, L2 Loss 0.0000\n",
      "Epoch 77, Loss 99.1812, TD-Loss 18.2907, NTD-Loss 80.1477, Margin Loss 0.7428, L2 Loss 0.0000\n",
      "Epoch 78, Loss 124.5477, TD-Loss 18.8436, NTD-Loss 104.8477, Margin Loss 0.8564, L2 Loss 0.0000\n",
      "Epoch 79, Loss 122.2576, TD-Loss 25.3807, NTD-Loss 95.9524, Margin Loss 0.9246, L2 Loss 0.0000\n",
      "Epoch 80, Loss 76.2748, TD-Loss 11.8892, NTD-Loss 63.3729, Margin Loss 1.0127, L2 Loss 0.0000\n",
      "Epoch 81, Loss 107.9105, TD-Loss 23.7581, NTD-Loss 83.2073, Margin Loss 0.9450, L2 Loss 0.0000\n",
      "Epoch 82, Loss 87.4538, TD-Loss 16.3174, NTD-Loss 70.6348, Margin Loss 0.5016, L2 Loss 0.0000\n",
      "Epoch 83, Loss 72.4693, TD-Loss 16.0737, NTD-Loss 55.5080, Margin Loss 0.8876, L2 Loss 0.0000\n",
      "Epoch 84, Loss 123.8013, TD-Loss 23.6024, NTD-Loss 99.9345, Margin Loss 0.2644, L2 Loss 0.0000\n",
      "Epoch 85, Loss 77.1069, TD-Loss 24.1553, NTD-Loss 51.9572, Margin Loss 0.9943, L2 Loss 0.0000\n",
      "Epoch 86, Loss 102.4034, TD-Loss 14.8243, NTD-Loss 86.6256, Margin Loss 0.9536, L2 Loss 0.0000\n"
     ]
    },
    {
     "name": "stdout",
     "output_type": "stream",
     "text": [
      "Epoch 87, Loss 49.9822, TD-Loss 12.9590, NTD-Loss 36.2036, Margin Loss 0.8196, L2 Loss 0.0000\n",
      "Epoch 88, Loss 49.5392, TD-Loss 17.3759, NTD-Loss 31.2666, Margin Loss 0.8967, L2 Loss 0.0000\n",
      "Epoch 89, Loss 67.9919, TD-Loss 10.0498, NTD-Loss 57.1380, Margin Loss 0.8040, L2 Loss 0.0000\n",
      "Epoch 90, Loss 81.4758, TD-Loss 20.5538, NTD-Loss 60.1328, Margin Loss 0.7892, L2 Loss 0.0000\n",
      "Epoch 91, Loss 74.6329, TD-Loss 10.5679, NTD-Loss 63.2489, Margin Loss 0.8161, L2 Loss 0.0000\n",
      "Epoch 92, Loss 106.7709, TD-Loss 13.5712, NTD-Loss 92.5045, Margin Loss 0.6952, L2 Loss 0.0000\n",
      "Epoch 93, Loss 83.2601, TD-Loss 9.1257, NTD-Loss 73.2987, Margin Loss 0.8357, L2 Loss 0.0000\n",
      "Epoch 94, Loss 54.2620, TD-Loss 9.0026, NTD-Loss 44.7598, Margin Loss 0.4995, L2 Loss 0.0000\n",
      "Epoch 95, Loss 100.1735, TD-Loss 24.8865, NTD-Loss 75.0444, Margin Loss 0.2427, L2 Loss 0.0000\n",
      "Epoch 96, Loss 91.9993, TD-Loss 12.7894, NTD-Loss 79.3513, Margin Loss -0.1415, L2 Loss 0.0000\n",
      "Epoch 97, Loss 58.0545, TD-Loss 13.1307, NTD-Loss 44.3332, Margin Loss 0.5905, L2 Loss 0.0000\n",
      "Epoch 98, Loss 116.6948, TD-Loss 31.7334, NTD-Loss 83.7909, Margin Loss 1.1704, L2 Loss 0.0000\n",
      "Epoch 99, Loss 84.1470, TD-Loss 17.2835, NTD-Loss 66.9518, Margin Loss -0.0883, L2 Loss 0.0000\n"
     ]
    }
   ],
   "source": [
    "n_epochs = 100\n",
    "n_batches_per_epoch = 40\n",
    "batch_size = 32\n",
    "index_pool = np.arange(len(_states))\n",
    "\n",
    "history = {}\n",
    "loggables = [\"loss\", \"td-loss\", \"ntd-loss\", \"margin-loss\", \"l2-loss\"]\n",
    "for loggable in loggables:\n",
    "    history[loggable + \"-mu\"] = np.zeros(n_epochs)\n",
    "    history[loggable + \"-std\"] = np.zeros(n_epochs)\n",
    "    \n",
    "for epoch in range(n_epochs):\n",
    "    \n",
    "    epoch_loss = []\n",
    "    epoch_td_loss, epoch_ntd_loss, epoch_margin_loss, epoch_l2_loss = [], [], [], []\n",
    "    for batch in range(n_batches_per_epoch):\n",
    "        \n",
    "        # Generate a batch of transitions from the data pool.\n",
    "        batch_indices = np.random.choice(index_pool, batch_size, replace=False)\n",
    "        b_states = torchify_float(_states[batch_indices]).to(device='cuda:0')\n",
    "        b_actions = torchify_long(_actions[batch_indices]).to(device='cuda:0')\n",
    "        b_next_states = torchify_float(_next_states[batch_indices]).to(device='cuda:0')\n",
    "        b_nth_states = torchify_float(_nth_states[batch_indices]).to(device='cuda:0')\n",
    "        b_rewards = torchify_float(_rewards[batch_indices]).to(device='cuda:0')\n",
    "        b_discounted_rewards = torchify_float(_discounted_rewards[batch_indices]).to(device='cuda:0')\n",
    "        b_dones = torchify_float(_dones[batch_indices]).to(device='cuda:0')\n",
    "        \n",
    "        optimizer.zero_grad()\n",
    "        loss, td_loss, ntd_loss, margin_loss, l2_loss = torch_dqfd_loss(\n",
    "            online_model=online_model,\n",
    "            target_model=target_model,\n",
    "            states=b_states,\n",
    "            next_states=b_next_states, nth_states=b_nth_states,\n",
    "            rewards=b_rewards, discounted_rewards=b_discounted_rewards,\n",
    "            dones=b_dones, gamma=0.99, n=10,\n",
    "            coef1=1., coef2=1., coef3=0.,\n",
    "            margin=0.8, expert_actions=b_actions\n",
    "        )\n",
    "        #loss = loss.mean()\n",
    "        loss.backward()\n",
    "        optimizer.step()\n",
    "        epoch_loss.append(loss.detach().cpu().numpy())\n",
    "        epoch_td_loss.append(td_loss.detach().cpu().numpy())\n",
    "        epoch_ntd_loss.append(ntd_loss.detach().cpu().numpy())\n",
    "        epoch_margin_loss.append(margin_loss.detach().cpu().numpy())\n",
    "        epoch_l2_loss.append(l2_loss.detach().cpu().numpy())\n",
    "        \n",
    "    print(\"Epoch {0}, Loss {1:6.4f}, TD-Loss {2:6.4f}, NTD-Loss {3:6.4f}, Margin Loss {4:6.4f}, L2 Loss {5:6.4f}\".format(\n",
    "        epoch, np.mean(epoch_loss), np.mean(epoch_td_loss), \n",
    "        np.mean(epoch_ntd_loss), np.mean(epoch_margin_loss), np.mean(epoch_l2_loss))\n",
    "         )\n",
    "    \n",
    "    history[\"loss-mu\"][epoch] = np.mean(epoch_loss)\n",
    "    history[\"loss-std\"][epoch] = np.std(epoch_loss)\n",
    "    history[\"td-loss-mu\"][epoch] = np.mean(epoch_td_loss)\n",
    "    history[\"td-loss-std\"][epoch] = np.std(epoch_td_loss)\n",
    "    history[\"ntd-loss-mu\"][epoch] = np.mean(epoch_ntd_loss)\n",
    "    history[\"ntd-loss-std\"][epoch] = np.std(epoch_ntd_loss)\n",
    "    history[\"margin-loss-mu\"][epoch] = np.mean(epoch_margin_loss)\n",
    "    history[\"margin-loss-std\"][epoch] = np.std(epoch_margin_loss)\n",
    "    history[\"l2-loss-mu\"][epoch] = np.mean(epoch_l2_loss)\n",
    "    history[\"l2-loss-std\"][epoch] = np.std(epoch_l2_loss)"
   ]
  },
  {
   "cell_type": "code",
   "execution_count": 133,
   "metadata": {},
   "outputs": [
    {
     "data": {
      "text/plain": [
       "Text(0, 0.5, 'Loss')"
      ]
     },
     "execution_count": 133,
     "metadata": {},
     "output_type": "execute_result"
    },
    {
     "data": {
      "image/png": "[encoded data removed]",
      "text/plain": [
       "<Figure size 432x288 with 1 Axes>"
      ]
     },
     "metadata": {
      "needs_background": "light"
     },
     "output_type": "display_data"
    }
   ],
   "source": [
    "steps = np.arange(n_epochs)\n",
    "plt.plot(steps, history[\"loss-mu\"])\n",
    "\n",
    "plt.fill_between(steps, history[\"loss-mu\"]-history[\"loss-std\"], \n",
    "                 history[\"loss-mu\"]+history[\"loss-std\"], alpha=0.2)\n",
    "plt.grid(alpha=0.35)\n",
    "plt.xlabel(\"Epoch\")\n",
    "plt.ylabel(\"Loss\")"
   ]
  },
  {
   "cell_type": "code",
   "execution_count": 138,
   "metadata": {},
   "outputs": [
    {
     "data": {
      "text/plain": [
       "<matplotlib.legend.Legend at 0x7fb9c0ba1630>"
      ]
     },
     "execution_count": 138,
     "metadata": {},
     "output_type": "execute_result"
    },
    {
     "data": {
      "image/png": "[encoded data removed]",
      "text/plain": [
       "<Figure size 432x288 with 1 Axes>"
      ]
     },
     "metadata": {
      "needs_background": "light"
     },
     "output_type": "display_data"
    }
   ],
   "source": [
    "for loggable in loggables:\n",
    "    plt.plot(steps, history[loggable + \"-mu\"], label=loggable)\n",
    "    plt.fill_between(steps, history[loggable + \"-mu\"] - history[loggable + \"-std\"],\n",
    "                     history[loggable + \"-mu\"] + history[loggable + \"-std\"],\n",
    "                     alpha=0.2\n",
    "                    )\n",
    "plt.grid(alpha=0.35)\n",
    "plt.ylim([-5, 150])\n",
    "plt.legend(frameon=False)"
   ]
  },
  {
   "cell_type": "code",
   "execution_count": 135,
   "metadata": {},
   "outputs": [],
   "source": [
    "def action_transformer(action, decoding=decoding):\n",
    "    \"\"\" Transform the action predicted by the torch network into \n",
    "        something that can be consumed by gym.env.step().  In this \n",
    "        case, we're transforming a probability vector over actions \n",
    "        into the full 12 action space.\n",
    "    \"\"\"\n",
    "    action = action.detach().cpu().numpy()\n",
    "    action = np.argmax(action)\n",
    "    action = decoding[action]\n",
    "    return action"
   ]
  },
  {
   "cell_type": "code",
   "execution_count": 136,
   "metadata": {},
   "outputs": [
    {
     "name": "stdout",
     "output_type": "stream",
     "text": [
      "Finished game 0 with score    100.\n",
      "Finished game 1 with score      0.\n",
      "Finished game 2 with score    100.\n",
      "Finished game 3 with score    100.\n",
      "Finished game 4 with score    100.\n",
      "Finished game 5 with score      0.\n",
      "Finished game 6 with score      0.\n",
      "Finished game 7 with score      0.\n",
      "Finished game 8 with score    100.\n",
      "Finished game 9 with score      0.\n",
      "Finished game 10 with score    100.\n",
      "Finished game 11 with score      0.\n",
      "Finished game 12 with score    100.\n",
      "Finished game 13 with score      0.\n",
      "Finished game 14 with score      0.\n",
      "Finished game 15 with score    100.\n",
      "Finished game 16 with score    100.\n",
      "Finished game 17 with score    100.\n",
      "Finished game 18 with score    100.\n",
      "Finished game 19 with score    100.\n"
     ]
    },
    {
     "data": {
      "text/plain": [
       "[100.0,\n",
       " 0.0,\n",
       " 100.0,\n",
       " 100.0,\n",
       " 100.0,\n",
       " 0.0,\n",
       " 0.0,\n",
       " 0.0,\n",
       " 100.0,\n",
       " 0.0,\n",
       " 100.0,\n",
       " 0.0,\n",
       " 100.0,\n",
       " 0.0,\n",
       " 0.0,\n",
       " 100.0,\n",
       " 100.0,\n",
       " 100.0,\n",
       " 100.0,\n",
       " 100.0]"
      ]
     },
     "execution_count": 136,
     "metadata": {},
     "output_type": "execute_result"
    }
   ],
   "source": [
    "env.close()\n",
    "env = retro.make('SonicTheHedgehog-Genesis', state=config['level'])\n",
    "play_evaluation_games(env, online_model, \n",
    "                      state_transformer=torchify_state, \n",
    "                      action_transformer=action_transformer,\n",
    "                      n_games=20, rnd_steps=50, max_frames=1000)"
   ]
  },
  {
   "cell_type": "code",
   "execution_count": null,
   "metadata": {},
   "outputs": [],
   "source": []
  },
  {
   "cell_type": "code",
   "execution_count": null,
   "metadata": {},
   "outputs": [],
   "source": []
  }
 ],
 "metadata": {
  "kernelspec": {
   "display_name": "Environment (conda_pytorch_p36)",
   "language": "python",
   "name": "conda_pytorch_p36"
  },
  "language_info": {
   "codemirror_mode": {
    "name": "ipython",
    "version": 3
   },
   "file_extension": ".py",
   "mimetype": "text/x-python",
   "name": "python",
   "nbconvert_exporter": "python",
   "pygments_lexer": "ipython3",
   "version": "3.6.10"
  }
 },
 "nbformat": 4,
 "nbformat_minor": 4
}
