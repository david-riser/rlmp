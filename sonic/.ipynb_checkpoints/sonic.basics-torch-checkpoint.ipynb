{
 "cells": [
  {
   "cell_type": "markdown",
   "metadata": {},
   "source": [
    "### Technical Things To Do\n",
    "- Setup nuts/bolts and try imitation learning on one level (done)\n",
    "- Optimize imitation learning training on one level\n",
    "- Setup nuts/bolts and try imitation learning on all levels, test generalization (not strictly necessary for the goal of this work)\n",
    "- Specify a generic evaluation protocol that can be used for all agents\n",
    "    - Fixed frame score over a number of evaluation attempts at the same level, mean.\n",
    "- Try learning from scratch with an RL, record the mean episodic reward throughout training.\n",
    "- Use the same agent but pre-trained with human demonstrations, record the mean episodic reward throughout training."
   ]
  },
  {
   "cell_type": "code",
   "execution_count": 1,
   "metadata": {},
   "outputs": [
    {
     "name": "stderr",
     "output_type": "stream",
     "text": [
      "/home/ubuntu/anaconda3/envs/pytorch_p36/lib/python3.6/site-packages/tensorflow/python/framework/dtypes.py:516: FutureWarning: Passing (type, 1) or '1type' as a synonym of type is deprecated; in a future version of numpy, it will be understood as (type, (1,)) / '(1,)type'.\n",
      "  _np_qint8 = np.dtype([(\"qint8\", np.int8, 1)])\n",
      "/home/ubuntu/anaconda3/envs/pytorch_p36/lib/python3.6/site-packages/tensorflow/python/framework/dtypes.py:517: FutureWarning: Passing (type, 1) or '1type' as a synonym of type is deprecated; in a future version of numpy, it will be understood as (type, (1,)) / '(1,)type'.\n",
      "  _np_quint8 = np.dtype([(\"quint8\", np.uint8, 1)])\n",
      "/home/ubuntu/anaconda3/envs/pytorch_p36/lib/python3.6/site-packages/tensorflow/python/framework/dtypes.py:518: FutureWarning: Passing (type, 1) or '1type' as a synonym of type is deprecated; in a future version of numpy, it will be understood as (type, (1,)) / '(1,)type'.\n",
      "  _np_qint16 = np.dtype([(\"qint16\", np.int16, 1)])\n",
      "/home/ubuntu/anaconda3/envs/pytorch_p36/lib/python3.6/site-packages/tensorflow/python/framework/dtypes.py:519: FutureWarning: Passing (type, 1) or '1type' as a synonym of type is deprecated; in a future version of numpy, it will be understood as (type, (1,)) / '(1,)type'.\n",
      "  _np_quint16 = np.dtype([(\"quint16\", np.uint16, 1)])\n",
      "/home/ubuntu/anaconda3/envs/pytorch_p36/lib/python3.6/site-packages/tensorflow/python/framework/dtypes.py:520: FutureWarning: Passing (type, 1) or '1type' as a synonym of type is deprecated; in a future version of numpy, it will be understood as (type, (1,)) / '(1,)type'.\n",
      "  _np_qint32 = np.dtype([(\"qint32\", np.int32, 1)])\n",
      "/home/ubuntu/anaconda3/envs/pytorch_p36/lib/python3.6/site-packages/tensorflow/python/framework/dtypes.py:525: FutureWarning: Passing (type, 1) or '1type' as a synonym of type is deprecated; in a future version of numpy, it will be understood as (type, (1,)) / '(1,)type'.\n",
      "  np_resource = np.dtype([(\"resource\", np.ubyte, 1)])\n",
      "/home/ubuntu/anaconda3/envs/pytorch_p36/lib/python3.6/site-packages/tensorboard/compat/tensorflow_stub/dtypes.py:541: FutureWarning: Passing (type, 1) or '1type' as a synonym of type is deprecated; in a future version of numpy, it will be understood as (type, (1,)) / '(1,)type'.\n",
      "  _np_qint8 = np.dtype([(\"qint8\", np.int8, 1)])\n",
      "/home/ubuntu/anaconda3/envs/pytorch_p36/lib/python3.6/site-packages/tensorboard/compat/tensorflow_stub/dtypes.py:542: FutureWarning: Passing (type, 1) or '1type' as a synonym of type is deprecated; in a future version of numpy, it will be understood as (type, (1,)) / '(1,)type'.\n",
      "  _np_quint8 = np.dtype([(\"quint8\", np.uint8, 1)])\n",
      "/home/ubuntu/anaconda3/envs/pytorch_p36/lib/python3.6/site-packages/tensorboard/compat/tensorflow_stub/dtypes.py:543: FutureWarning: Passing (type, 1) or '1type' as a synonym of type is deprecated; in a future version of numpy, it will be understood as (type, (1,)) / '(1,)type'.\n",
      "  _np_qint16 = np.dtype([(\"qint16\", np.int16, 1)])\n",
      "/home/ubuntu/anaconda3/envs/pytorch_p36/lib/python3.6/site-packages/tensorboard/compat/tensorflow_stub/dtypes.py:544: FutureWarning: Passing (type, 1) or '1type' as a synonym of type is deprecated; in a future version of numpy, it will be understood as (type, (1,)) / '(1,)type'.\n",
      "  _np_quint16 = np.dtype([(\"quint16\", np.uint16, 1)])\n",
      "/home/ubuntu/anaconda3/envs/pytorch_p36/lib/python3.6/site-packages/tensorboard/compat/tensorflow_stub/dtypes.py:545: FutureWarning: Passing (type, 1) or '1type' as a synonym of type is deprecated; in a future version of numpy, it will be understood as (type, (1,)) / '(1,)type'.\n",
      "  _np_qint32 = np.dtype([(\"qint32\", np.int32, 1)])\n",
      "/home/ubuntu/anaconda3/envs/pytorch_p36/lib/python3.6/site-packages/tensorboard/compat/tensorflow_stub/dtypes.py:550: FutureWarning: Passing (type, 1) or '1type' as a synonym of type is deprecated; in a future version of numpy, it will be understood as (type, (1,)) / '(1,)type'.\n",
      "  np_resource = np.dtype([(\"resource\", np.ubyte, 1)])\n"
     ]
    }
   ],
   "source": [
    "import base64\n",
    "import gym\n",
    "import io\n",
    "import matplotlib.pyplot as plt\n",
    "import numpy as np\n",
    "import os\n",
    "import pandas as pd\n",
    "import retro\n",
    "import tensorflow as tf\n",
    "import time\n",
    "\n",
    "from gym import wrappers\n",
    "from IPython.display import clear_output\n",
    "from sklearn.model_selection import train_test_split\n",
    "from sklearn.preprocessing import LabelEncoder, OneHotEncoder\n",
    "\n",
    "%matplotlib inline"
   ]
  },
  {
   "cell_type": "code",
   "execution_count": 2,
   "metadata": {},
   "outputs": [],
   "source": [
    "levels = [\n",
    "    'MarbleZone.Act1','MarbleZone.Act2','MarbleZone.Act3',\n",
    "    'GreenHillZone.Act1','GreenHillZone.Act2','GreenHillZone.Act3',\n",
    "    'LabyrinthZone.Act1','LabyrinthZone.Act2','LabyrinthZone.Act3', \n",
    "    'SpringYardZone.Act1','SpringYardZone.Act2','SpringYardZone.Act3', \n",
    "    'StarLightZone.Act1','StarLightZone.Act2','StarLightZone.Act3',\n",
    "    'ScrapBrainZone.Act1','ScrapBrainZone.Act2' \n",
    "]\n",
    "\n",
    "config = {}\n",
    "config['data_path'] = os.path.abspath(\"./data/human\")\n",
    "config['level'] = 'GreenHillZone.Act1'\n",
    "\n",
    "config['epochs'] = 20\n",
    "config['batches_per_epoch'] = 40\n",
    "config['batch_size'] = 32\n",
    "config['patience'] = 5"
   ]
  },
  {
   "cell_type": "code",
   "execution_count": 42,
   "metadata": {},
   "outputs": [],
   "source": [
    "def extract_human_data(movie_path):\n",
    "    \"\"\" Given a path to a replay file, load it and \n",
    "        extract the series of state-action pairs.\n",
    "    \"\"\"\n",
    "    movie = retro.Movie(movie_path)\n",
    "    movie.step()\n",
    "\n",
    "    env = retro.make(game=movie.get_game(), state=retro.State.NONE, \n",
    "                     use_restricted_actions=retro.Actions.ALL)\n",
    "    env.initial_state = movie.get_state()\n",
    "    state = env.reset()\n",
    "    state = np.swapaxes(state,0,2)\n",
    "    state = np.swapaxes(state,1,2)\n",
    "    states, actions, next_states, rewards, dones = [], [], [], [], []\n",
    "    while movie.step():\n",
    "        keys = []\n",
    "        for i in range(len(env.buttons)):\n",
    "            keys.append(movie.get_key(i, 0))\n",
    "            \n",
    "        next_state, reward, done, info = env.step(keys)\n",
    "        \n",
    "        # Switch the channels to be first for pytorch\n",
    "        next_state = np.swapaxes(next_state, 0, 2)\n",
    "        next_state = np.swapaxes(next_state, 1, 2)\n",
    "        \n",
    "        actions.append(np.int8(keys))\n",
    "        states.append(state)\n",
    "        next_states.append(next_state)\n",
    "        rewards.append(reward)\n",
    "        dones.append(done)\n",
    "        \n",
    "        state = next_state\n",
    "        \n",
    "    return states, actions, next_states, rewards, dones"
   ]
  },
  {
   "cell_type": "code",
   "execution_count": 43,
   "metadata": {},
   "outputs": [],
   "source": [
    "states, actions, next_states, rewards, dones = extract_human_data(f\"data/human/SonicTheHedgehog-Genesis-{config['level']}-0000.bk2\")"
   ]
  },
  {
   "cell_type": "code",
   "execution_count": 44,
   "metadata": {},
   "outputs": [
    {
     "name": "stdout",
     "output_type": "stream",
     "text": [
      "[[0 0 0 0 0 0 0 1 0 0 0 0]\n",
      " [0 0 0 0 0 0 0 0 0 0 0 0]\n",
      " [0 1 0 0 0 0 0 1 0 0 0 0]\n",
      " [0 0 0 0 0 0 1 0 0 0 0 0]\n",
      " [0 0 0 0 1 0 1 0 0 0 0 0]\n",
      " [0 1 0 0 0 0 0 0 0 0 0 0]\n",
      " [0 1 0 0 0 0 1 0 0 0 0 0]\n",
      " [0 0 0 0 0 1 0 0 0 0 0 0]\n",
      " [0 0 0 0 0 1 1 0 0 0 0 0]\n",
      " [0 0 0 0 0 1 0 1 0 0 0 0]\n",
      " [0 1 0 0 1 0 0 1 0 0 0 0]\n",
      " [0 0 0 0 1 0 0 0 0 0 0 0]] [1841  881  224  139   38   21   18   16    5    4    3    1]\n"
     ]
    }
   ],
   "source": [
    "unique_actions, counts = np.unique(actions, axis=0, return_counts=True)\n",
    "\n",
    "ordering = np.argsort(counts)[::-1]\n",
    "unique_actions = unique_actions[ordering]\n",
    "counts = counts[ordering]\n",
    "print(unique_actions, counts)"
   ]
  },
  {
   "cell_type": "code",
   "execution_count": 45,
   "metadata": {},
   "outputs": [
    {
     "name": "stdout",
     "output_type": "stream",
     "text": [
      "Identified 12 unique actions of 4096 possible.\n"
     ]
    }
   ],
   "source": [
    "print(f\"Identified {len(counts)} unique actions of {2**12} possible.\")"
   ]
  },
  {
   "cell_type": "markdown",
   "metadata": {},
   "source": [
    "### Reduced Action Space\n",
    "Humans are only displaying a very limited subset of the total number of actions possible.  Lets take advantage of this by encoding the action space into a simple integer."
   ]
  },
  {
   "cell_type": "code",
   "execution_count": 46,
   "metadata": {},
   "outputs": [],
   "source": [
    "def encode_actions(actions):\n",
    "    \"\"\" Cast actions to a string and then use a label encoder to \n",
    "        transform the vector into a simple integer.  \n",
    "    \"\"\"\n",
    "    str_actions = [\"\".join(str(action)) for action in actions]\n",
    "    encoder = LabelEncoder()\n",
    "    return encoder.fit_transform(str_actions)"
   ]
  },
  {
   "cell_type": "code",
   "execution_count": 47,
   "metadata": {},
   "outputs": [
    {
     "name": "stdout",
     "output_type": "stream",
     "text": [
      "12\n"
     ]
    }
   ],
   "source": [
    "actions = encode_actions(actions)\n",
    "n_actions = len(np.unique(actions))\n",
    "print(n_actions)"
   ]
  },
  {
   "cell_type": "code",
   "execution_count": 48,
   "metadata": {},
   "outputs": [],
   "source": [
    "vector_encoder = OneHotEncoder(sparse=False)\n",
    "actions = vector_encoder.fit_transform(actions.reshape(-1, 1))"
   ]
  },
  {
   "cell_type": "code",
   "execution_count": 49,
   "metadata": {},
   "outputs": [],
   "source": [
    "def record_imitation_game(env, model, rnd_steps=50, max_frames=10000):\n",
    "    \"\"\" Docstring.\n",
    "    \"\"\"\n",
    "    \n",
    "    state = env.reset()\n",
    "    frames = []\n",
    "    frames.append(env.render(mode='rgb_array'))\n",
    "    for step in range(rnd_steps):\n",
    "        state, _, _, _ = env.step(env.action_space.sample())\n",
    "        frames.append(env.render(mode='rgb_array'))\n",
    "        \n",
    "    done = False\n",
    "    while not done:\n",
    "        \n",
    "        # Act according to our policy most of the time.  It \n",
    "        # seems to get stuck so I am trying to add some random\n",
    "        # elements to get Sonic unstuck.\n",
    "        if step % 5 == 0:\n",
    "            new_state, reward, done, info = env.step(env.action_space.sample())\n",
    "            state = new_state\n",
    "        \n",
    "        else:\n",
    "            action = model.predict(state.reshape(1, *state.shape))\n",
    "            action = np.round(action[0])\n",
    "            action = np.array(action, dtype=np.int8)\n",
    "            new_state, reward, done, info = env.step(action)\n",
    "            state = new_state\n",
    "            \n",
    "        frames.append(env.render(mode='rgb_array'))\n",
    "        if len(frames) % 500 == 0:\n",
    "            print(\"Collected {} frames\".format(len(frames)))\n",
    "        \n",
    "        if len(frames) >= max_frames:\n",
    "            return frames\n",
    "        \n",
    "    return frames"
   ]
  },
  {
   "cell_type": "code",
   "execution_count": 50,
   "metadata": {},
   "outputs": [],
   "source": [
    "try:\n",
    "    import imageio\n",
    "except:\n",
    "    !pip install imageio\n",
    "    !pip install imageio-ffmpeg\n",
    "    import imageio"
   ]
  },
  {
   "cell_type": "code",
   "execution_count": 51,
   "metadata": {},
   "outputs": [],
   "source": [
    "#imageio.mimwrite(\n",
    "#    \"imitation_agent_{}.mp4\".format(config[\"level\"]), \n",
    "#    frames, fps=30)"
   ]
  },
  {
   "cell_type": "code",
   "execution_count": 52,
   "metadata": {},
   "outputs": [],
   "source": [
    "import torch\n",
    "import torch.autograd as autograd \n",
    "import torch.nn as nn\n",
    "import torch.nn.functional as F\n",
    "import torch.optim as optim"
   ]
  },
  {
   "cell_type": "code",
   "execution_count": 53,
   "metadata": {},
   "outputs": [
    {
     "data": {
      "text/plain": [
       "(3, 224, 320)"
      ]
     },
     "execution_count": 53,
     "metadata": {},
     "output_type": "execute_result"
    }
   ],
   "source": [
    "states[0].shape"
   ]
  },
  {
   "cell_type": "code",
   "execution_count": 54,
   "metadata": {},
   "outputs": [
    {
     "data": {
      "text/plain": [
       "<matplotlib.image.AxesImage at 0x7f9ee147a208>"
      ]
     },
     "execution_count": 54,
     "metadata": {},
     "output_type": "execute_result"
    },
    {
     "data": {
      "image/png": "[encoded data removed]",
      "text/plain": [
       "<Figure size 432x288 with 1 Axes>"
      ]
     },
     "metadata": {
      "needs_background": "light"
     },
     "output_type": "display_data"
    }
   ],
   "source": [
    "plt.imshow(states[0][0,:,:])"
   ]
  },
  {
   "cell_type": "code",
   "execution_count": 55,
   "metadata": {},
   "outputs": [],
   "source": [
    "class ImitationModel(nn.Module):\n",
    "    \"\"\" Basic convolutional neural network \n",
    "        for imitation learning from Sonic \n",
    "        replay data.\n",
    "    \"\"\"\n",
    "    \n",
    "    def __init__(self, input_shape, output_shape):\n",
    "        super(ImitationModel, self).__init__()\n",
    "        self.input_shape = input_shape\n",
    "        self.output_shape = output_shape\n",
    "        \n",
    "        channels, height, width = self.input_shape\n",
    "        self.features = nn.Sequential(\n",
    "            nn.Conv2d(channels, 16, kernel_size=3, stride=1),\n",
    "            nn.ReLU(),\n",
    "            nn.Conv2d(16, 16, kernel_size=3, stride=3),\n",
    "            nn.ReLU(),\n",
    "            nn.Conv2d(16, 16, kernel_size=3, stride=1),\n",
    "            nn.ReLU(),\n",
    "            nn.Conv2d(16, 16, kernel_size=3, stride=3),\n",
    "            nn.ReLU()\n",
    "        )\n",
    "        \n",
    "        self.fully_connected = nn.Sequential(\n",
    "            nn.Linear(self._feature_size(), 256),\n",
    "            nn.ReLU(),\n",
    "            nn.Linear(256, self.output_shape),\n",
    "            nn.Softmax()\n",
    "        )\n",
    "        \n",
    "    def _feature_size(self):\n",
    "        return self.features(autograd.Variable(torch.zeros(1, *self.input_shape))).view(1, -1).size(1)\n",
    "    \n",
    "    def forward(self, x):\n",
    "        x = self.features(x)\n",
    "        x = x.view(x.size(0), -1)\n",
    "        x = self.fully_connected(x)\n",
    "        return x"
   ]
  },
  {
   "cell_type": "code",
   "execution_count": 56,
   "metadata": {},
   "outputs": [],
   "source": [
    "model = ImitationModel(states[0].shape, n_actions)\n",
    "model = model.cuda()\n",
    "optimizer = optim.Adam(model.parameters(), lr=1e-3)"
   ]
  },
  {
   "cell_type": "code",
   "execution_count": 57,
   "metadata": {},
   "outputs": [],
   "source": [
    "x_train, x_test, y_train, y_test = train_test_split(\n",
    "    np.array(states), np.array(actions))"
   ]
  },
  {
   "cell_type": "code",
   "execution_count": 66,
   "metadata": {},
   "outputs": [],
   "source": [
    "binary_crossentropy = nn.BCELoss()"
   ]
  },
  {
   "cell_type": "code",
   "execution_count": 84,
   "metadata": {},
   "outputs": [],
   "source": [
    "class ModelTrainer:\n",
    "    \"\"\" Trainer for the imitation learning model.  Since this\n",
    "        is basic imitation learning, we will minimize the binary\n",
    "        cross-entropy between action predictions and expert actions.\n",
    "    \"\"\"\n",
    "    def __init__(self, config):\n",
    "        self.config = config\n",
    "        self.train_loss = []\n",
    "        self.test_loss = []\n",
    "        \n",
    "        \n",
    "    def train(self, model, x_train, y_train, x_test, y_test):\n",
    "        index_pool = np.arange(x_train.shape[0])\n",
    "        \n",
    "        for epoch in range(self.config['epochs']):\n",
    "            epoch_loss = []\n",
    "            for batch in range(self.config['batches_per_epoch']):\n",
    "                indices = np.random.choice(index_pool, self.config['batch_size'], replace=False)\n",
    "                \n",
    "                # Convert the states and actions to pytorch tensors for \n",
    "                # input to the network. \n",
    "                x_batch = autograd.Variable(torch.FloatTensor(x_train[indices]))\n",
    "                y_batch = autograd.Variable(torch.FloatTensor(y_train[indices]))\n",
    "                x_batch, y_batch = x_batch.cuda(), y_batch.cuda()\n",
    "                \n",
    "                # Predict an action\n",
    "                y_pred = model(x_batch)\n",
    "                loss = binary_crossentropy(input=y_pred, target=y_batch)\n",
    "                \n",
    "                # Optimize on this batch \n",
    "                optimizer.zero_grad()\n",
    "                loss.backward()\n",
    "                optimizer.step()\n",
    "                \n",
    "                epoch_loss.append(loss.detach().cpu().numpy().mean())\n",
    "                \n",
    "            # End of epoch events\n",
    "            print(\"Epoch {}, Loss {}\".format(epoch, epoch_loss))\n",
    "            self.train_loss.extend(epoch_loss)"
   ]
  },
  {
   "cell_type": "code",
   "execution_count": 85,
   "metadata": {
    "scrolled": true
   },
   "outputs": [
    {
     "name": "stderr",
     "output_type": "stream",
     "text": [
      "/home/ubuntu/anaconda3/envs/pytorch_p36/lib/python3.6/site-packages/torch/nn/modules/container.py:100: UserWarning: Implicit dimension choice for softmax has been deprecated. Change the call to include dim=X as an argument.\n",
      "  input = module(input)\n"
     ]
    },
    {
     "name": "stdout",
     "output_type": "stream",
     "text": [
      "Epoch 0, Loss [0.0011706797, 0.008629814, 0.0006395184, 0.0003759875, 0.00016595666, 0.00269462, 7.717596e-05, 0.0011309515, 0.0013094066, 0.002348222, 0.00026309778, 0.0009977516, 0.0008704159, 0.0001770861, 0.00022568439, 0.0012878539, 0.00072678406, 0.00011939332, 0.0069512897, 6.321092e-05, 4.633411e-05, 9.089165e-05, 0.00015857683, 0.001119908, 2.7366894e-05, 8.467075e-05, 0.0038201986, 0.00024392795, 0.00013667815, 0.00034454116, 7.098506e-05, 0.0001214699, 3.8453985e-05, 0.0009717624, 0.00031387905, 0.00044017693, 0.0010445984, 0.00011267498, 0.0011872131, 7.818273e-05]\n",
      "Epoch 1, Loss [0.0020948492, 0.00011508341, 0.00015661068, 0.019662673, 0.048471596, 0.00012503068, 6.483208e-05, 0.000430844, 0.000104515726, 0.000817996, 0.010817775, 0.0028201826, 0.007343099, 0.00127909, 0.0011529824, 0.0004441794, 0.00039191637, 0.00039997403, 0.00023070362, 0.00067742594, 0.0008737114, 0.00025158955, 0.00010293309, 0.00015895553, 0.00024242078, 0.0013202509, 0.00037363564, 0.022506425, 0.0007214245, 0.00026327898, 0.00052514946, 0.013144742, 0.0013756695, 0.0001668252, 0.0004259219, 0.00020344862, 0.00015041996, 0.00035841228, 0.00044255482, 0.00077528885]\n",
      "Epoch 2, Loss [0.033265248, 0.0003701065, 0.017333062, 0.00038251813, 0.0025026829, 0.0011532137, 0.0006202248, 0.0002795633, 0.001093906, 0.0005164975, 0.0026915835, 0.00040090943, 0.0005976968, 0.0011846971, 0.0007470479, 0.00020992174, 0.0003358462, 0.019122181, 0.00053555385, 0.00094829424, 0.00039088042, 0.00029240843, 0.00023353193, 0.00012403015, 0.0012862696, 0.0004170691, 0.00023591726, 0.0003192892, 0.0013147899, 6.4102875e-05, 0.00083039654, 0.00030559613, 0.008544979, 0.00028189426, 0.0003949178, 0.00037919692, 0.00048834406, 0.00030673246, 0.00010793254, 0.0031335817]\n",
      "Epoch 3, Loss [6.0793293e-05, 0.00075227214, 0.0002950623, 0.00045753992, 0.00054333854, 0.02079846, 0.00046913617, 0.00038820415, 0.001904604, 0.0004080841, 0.00043659515, 0.012229982, 0.000286273, 0.0056888615, 0.00018868892, 0.000311152, 0.00023622689, 0.0010126188, 6.296376e-05, 0.0002812761, 4.65207e-05, 9.789052e-05, 9.085383e-05, 3.3920565e-05, 7.832661e-05, 2.7064343e-05, 9.20262e-05, 0.026318287, 0.0004311178, 0.0029163435, 8.4676256e-05, 4.437136e-05, 0.0011815863, 0.00016909822, 0.012340481, 0.0004335591, 0.009554801, 0.00032333855, 0.00034479564, 0.00043048637]\n",
      "Epoch 4, Loss [0.00011256488, 0.0034970704, 0.0003675227, 0.0011199274, 0.0010974618, 0.02318423, 9.229308e-05, 0.0009564793, 0.00054644176, 0.0008486864, 0.00028092094, 0.0011544582, 0.000633293, 0.00045315715, 0.00037002916, 0.00018964965, 7.3947835e-05, 0.00013359556, 9.112916e-05, 0.00021640149, 0.0006850869, 0.00025159694, 0.0008902037, 9.1035174e-05, 0.00015751384, 3.268844e-05, 8.4297004e-05, 0.0004420185, 0.026875963, 0.00017654368, 0.00047949768, 0.00026561934, 0.05172141, 0.00041940753, 0.00015251142, 0.00015367747, 0.00026816147, 0.000391399, 0.00027791408, 0.0004289413]\n",
      "Epoch 5, Loss [0.00037618398, 0.011406126, 0.00047466217, 0.0003249699, 0.0011636986, 0.00061244826, 0.026459232, 0.023901572, 0.0025651634, 0.0010492677, 0.006053818, 0.00044923843, 0.0033979916, 0.004143416, 0.00086588087, 0.002207437, 0.0021330316, 0.00060291216, 0.002050492, 0.00045329938, 0.0008998134, 0.005005604, 0.00069084734, 0.00024553822, 0.0003773621, 0.0004351669, 0.00016122301, 0.00030940442, 0.00048758523, 0.00018546812, 0.00016216845, 0.000136631, 0.00079758273, 0.00018930751, 4.3798547e-05, 0.00014699223, 0.00055126916, 3.4394452e-05, 5.1956624e-05, 5.0766266e-05]\n",
      "Epoch 6, Loss [8.910749e-05, 3.509545e-05, 3.892094e-05, 3.9045255e-05, 2.1455895e-05, 2.4265682e-05, 0.00018239982, 2.3565923e-05, 4.1576393e-05, 0.0001126286, 0.00022177973, 1.7892291e-05, 0.0064479443, 5.4853546e-05, 0.0070790737, 3.6719786e-05, 9.254265e-05, 5.687473e-05, 8.192641e-05, 7.508177e-05, 0.007578943, 5.7889545e-05, 0.00013811805, 6.923048e-05, 0.00014023452, 9.426247e-05, 0.00016781942, 0.00013430159, 0.0011460687, 6.299529e-05, 0.0002359083, 0.00011849628, 5.465646e-05, 0.008468638, 0.00011522059, 0.00018047607, 6.945305e-05, 0.0001854213, 9.651422e-05, 9.197344e-05]\n",
      "Epoch 7, Loss [0.00012520755, 0.002458119, 0.00014834321, 9.2638926e-05, 0.00506293, 0.0010526454, 0.00014034707, 4.2795113e-05, 4.1576193e-05, 0.004682342, 0.00012646258, 0.00012717476, 0.0001562827, 0.00999926, 0.00022039138, 0.0012023558, 0.00021926781, 2.7830269e-05, 0.020401636, 0.00022296201, 3.2138232e-05, 0.021575773, 0.00018949277, 0.00051421806, 0.0009394744, 0.0011552548, 0.0002549231, 0.00024994125, 0.007088235, 0.00040464566, 0.00056062965, 0.0007525976, 0.0007139507, 0.0004347527, 0.0010365477, 7.767819e-05, 0.0007013406, 0.00026605165, 0.054489646, 8.389733e-05]\n",
      "Epoch 8, Loss [0.00068284315, 0.012051683, 0.00035886944, 0.0009785449, 0.0009797633, 0.0005242056, 0.00163718, 0.0006356543, 0.0015423511, 0.00021963111, 0.0003262373, 0.00024918249, 0.00020219228, 0.00024955586, 0.00025366686, 0.0071550063, 0.00020354112, 0.00023467932, 0.0003114166, 0.0002265898, 0.00010758501, 0.00010598611, 7.631329e-05, 0.00016143096, 0.0043674177, 0.00037316768, 0.00033279927, 0.0012337806, 0.00021094945, 0.000446219, 0.00011607257, 0.02657411, 0.00056784495, 9.400528e-05, 0.00017292482, 0.00017921755, 0.010728742, 0.0004934549, 0.00013309212, 0.0004838824]\n",
      "Epoch 9, Loss [0.00042059892, 0.00068954896, 0.00074102776, 0.00012714705, 0.0034225564, 0.0004212868, 0.00025199575, 0.00013698009, 0.006024372, 0.0053899293, 0.005797226, 0.00045116103, 9.36809e-05, 6.9618014e-05, 0.0001726335, 0.00039021173, 0.00029439785, 0.00040249954, 0.00078787445, 0.00026659927, 0.00034173427, 0.001049769, 0.00032649437, 0.00019481324, 0.0005324727, 0.015913976, 0.0067401505, 0.00042516788, 0.0002443985, 0.0005561883, 0.00020354532, 0.0016992873, 0.011218497, 0.00038356244, 0.00013597989, 0.0033738024, 0.0002002886, 0.0013252503, 0.0014594458, 0.0029210078]\n",
      "Epoch 10, Loss [0.0039455094, 0.000995926, 0.00044692444, 0.00019478837, 0.00064476073, 0.0003464747, 5.4864737e-05, 0.00020042654, 5.047214e-05, 0.000421493, 0.0020114738, 0.02161754, 2.4076433e-05, 8.7981745e-05, 0.005078881, 0.0001419756, 0.00013578082, 0.00024402137, 0.0006584718, 0.00032800922, 0.0029937532, 0.0035850825, 0.0003066238, 9.427801e-05, 0.00048598857, 0.0012298294, 0.00076725247, 6.396648e-05, 0.033593927, 1.30019225e-05, 0.0002511593, 0.0013506241, 4.9982715e-05, 9.378243e-06, 0.00031558538, 9.3766e-05, 1.7962757e-05, 3.777687e-05, 2.1301632e-05, 0.000778538]\n",
      "Epoch 11, Loss [9.6060985e-06, 0.00021466448, 0.00012494001, 0.00067326473, 2.6323708e-06, 0.00044142595, 0.00011273285, 0.00043927893, 0.00062617724, 0.0500802, 3.0309393e-05, 3.431766e-05, 0.00046284232, 9.314363e-05, 7.820298e-06, 0.00015800209, 0.0002928265, 0.00022314745, 6.558805e-05, 0.0018696096, 0.0008939058, 0.00035161476, 0.02731446, 6.436325e-05, 0.00022988394, 0.00012415806, 0.000107680156, 0.00017416668, 0.002115064, 0.0014440591, 0.0020252678, 0.0004316581, 0.00013604369, 0.00070921675, 0.005451292, 0.00046470435, 0.006189428, 0.00014581536, 0.0002894046, 3.077748e-05]\n",
      "Epoch 12, Loss [0.00013924936, 0.00049009506, 0.0018095393, 0.00018669968, 0.00021406834, 0.0013892833, 0.0005250601, 0.00026205424, 0.0006199518, 0.0006994049, 0.00018484406, 0.00032606092, 0.000102339916, 0.00024520003, 0.00015071858, 0.000111772, 0.005102751, 3.545971e-05, 0.00021384422, 7.5423486e-05, 7.109053e-05, 3.268681e-05, 6.864201e-05, 0.00012093565, 3.9103645e-05, 4.2170184e-05, 5.278861e-05, 0.0005376612, 5.9117137e-05, 0.00013120967, 0.022046378, 9.451868e-05, 0.0006693585, 0.00025795898, 7.266448e-05, 0.005424217, 0.000108125976, 2.8221533e-05, 0.008943221, 6.6912755e-05]\n",
      "Epoch 13, Loss [0.00057344616, 2.6928765e-05, 0.00026126843, 0.0043950533, 0.00020984758, 0.0008094031, 9.605951e-05, 8.26574e-05, 0.00021161513, 0.0007806211, 0.01591841, 0.00019208074, 3.2969187e-05, 0.0003270499, 0.0008996203, 8.218364e-05, 0.0005035862, 0.0001918078, 0.0034863278, 0.00013067295, 0.00024668395, 0.00036161047, 0.0073878355, 0.00013092696, 0.000874805, 4.1637326e-05, 0.00018475788, 0.012373447, 0.00049290544, 0.00014332794, 0.038763016, 0.00021799044, 0.0008818621, 0.00027076222, 0.0003685203, 0.0008870738, 0.00018574849, 0.0067913025, 0.00017053024, 0.002260461]\n"
     ]
    },
    {
     "name": "stdout",
     "output_type": "stream",
     "text": [
      "Epoch 14, Loss [0.0014788033, 0.0006432044, 0.007180294, 0.0005681822, 0.0006177034, 0.03688992, 0.00015122823, 0.0073411744, 0.0016998494, 0.0014368043, 0.00054330577, 0.00042499797, 0.0001127248, 0.0002376144, 0.009261022, 0.00016980128, 0.0011068798, 0.00034321475, 0.0024476799, 0.00021103489, 0.00012556912, 0.0004109171, 0.00023394528, 2.4041074e-05, 0.00019100697, 0.0003698203, 0.0005184447, 0.00017446793, 0.003033432, 2.7296672e-05, 1.09101675e-05, 5.456238e-05, 8.471456e-05, 0.0078042406, 0.00022803705, 3.7702244e-05, 1.9328889e-05, 6.099283e-05, 5.695154e-05, 6.529953e-05]\n",
      "Epoch 15, Loss [2.1964988e-05, 8.254409e-05, 0.0068278704, 2.0134985e-05, 0.00034975013, 0.013509553, 0.00032008326, 4.8119768e-05, 2.2611712e-05, 5.1584782e-05, 0.00026708166, 0.0002491535, 1.8046665e-05, 3.0216994e-05, 0.0003202644, 1.454242e-05, 0.0012185558, 0.00017384432, 0.0011295307, 4.2649932e-05, 4.295702e-05, 9.167488e-05, 0.00037916083, 8.8181674e-05, 0.045943182, 6.8026486e-05, 0.00030237428, 0.00062956533, 0.0003251554, 0.00058570405, 0.0002749098, 0.00022388656, 0.0026385773, 0.00076228386, 0.0001864499, 0.00039713594, 7.8148136e-05, 0.0001921673, 0.00016725496, 0.0033209026]\n",
      "Epoch 16, Loss [0.00014294202, 4.4136006e-05, 0.0003359575, 0.00010278091, 0.00020287417, 0.00032644, 0.0007416469, 5.7753598e-05, 4.7349586e-05, 0.0001270774, 0.00021824318, 1.0722198e-05, 0.002188716, 0.00077961426, 0.00013949694, 4.780784e-05, 0.00045224026, 8.5607164e-05, 0.00013702107, 6.987513e-05, 3.8713843e-05, 1.0421805e-05, 1.9551304e-05, 2.5233772e-05, 4.1286676e-05, 1.828307e-05, 0.00022061825, 0.00011860562, 3.2165874e-05, 0.0016614463, 0.00012447112, 7.4382646e-05, 5.6273555e-05, 7.686148e-05, 0.0005520541, 6.6045206e-05, 0.00013787033, 0.00031793315, 5.305238e-05, 0.00075434527]\n",
      "Epoch 17, Loss [4.7618872e-05, 7.704753e-06, 3.329657e-05, 2.6195414e-05, 8.5568165e-05, 7.316692e-05, 0.0003057041, 6.9806854e-05, 3.764375e-05, 0.00014840918, 0.0058296775, 0.0038556906, 2.7529704e-05, 8.572024e-05, 7.178012e-05, 0.000679895, 2.5558367e-05, 1.9408679e-05, 7.805376e-05, 3.3588596e-05, 9.611724e-05, 0.00014358126, 0.000124263, 0.00013278589, 0.00013225917, 2.2449667e-05, 0.000332138, 4.8371516e-05, 1.6450993e-05, 9.387601e-05, 8.010394e-05, 9.2631664e-05, 2.6109885e-05, 6.295114e-05, 0.00019746523, 3.3092845e-05, 2.932192e-05, 8.52885e-06, 3.680949e-06, 3.0360337e-05]\n",
      "Epoch 18, Loss [2.8029564e-05, 2.7095957e-05, 3.2339376e-05, 3.9869945e-05, 0.0001052152, 1.1310073e-05, 1.0782362e-05, 3.936418e-05, 0.000117799, 4.0842748e-05, 1.0655585e-05, 5.1964857e-05, 0.019157914, 1.2614128e-05, 0.060535748, 7.9143276e-05, 0.0196049, 0.0004881986, 0.00016654545, 0.00042703425, 0.0007717675, 0.0014712755, 0.008151121, 0.020357529, 0.0019565753, 0.0014584484, 0.0016754094, 0.0020125078, 0.002163943, 0.0012625692, 0.0005166381, 0.059265245, 0.00040482753, 0.0004477978, 0.0005397407, 0.001076765, 0.0015082546, 0.00064352417, 0.00019583474, 0.0018848343]\n",
      "Epoch 19, Loss [0.0005219871, 0.0019557741, 0.0007512809, 0.0011026203, 0.00037049796, 0.00034537617, 0.00017733732, 0.0026027667, 0.0017000973, 0.0040397155, 5.717771e-05, 7.3071875e-05, 0.00013576001, 0.0053153024, 0.00018169846, 0.00038706601, 0.011379319, 0.0027919197, 0.0005664558, 0.00034542297, 0.00024813105, 3.9231898e-05, 0.002142411, 0.0007167648, 0.06327126, 0.016959919, 0.0005132563, 0.0007516635, 0.00047325084, 0.00014661944, 3.5189045e-05, 0.022983834, 0.00032479237, 0.00015204074, 0.0049736905, 0.0003909371, 0.00066112797, 0.00087355525, 0.0007320524, 0.0002239406]\n"
     ]
    }
   ],
   "source": [
    "trainer = ModelTrainer(config)\n",
    "trainer.train(model, x_train, y_train, x_test, y_test)"
   ]
  },
  {
   "cell_type": "code",
   "execution_count": 86,
   "metadata": {},
   "outputs": [
    {
     "data": {
      "text/plain": [
       "[<matplotlib.lines.Line2D at 0x7f9ee12d8c18>]"
      ]
     },
     "execution_count": 86,
     "metadata": {},
     "output_type": "execute_result"
    },
    {
     "data": {
      "image/png": "[encoded data removed]",
      "text/plain": [
       "<Figure size 432x288 with 1 Axes>"
      ]
     },
     "metadata": {
      "needs_background": "light"
     },
     "output_type": "display_data"
    }
   ],
   "source": [
    "plt.plot(trainer.train_loss)"
   ]
  },
  {
   "cell_type": "code",
   "execution_count": null,
   "metadata": {},
   "outputs": [],
   "source": []
  }
 ],
 "metadata": {
  "kernelspec": {
   "display_name": "Environment (conda_pytorch_p36)",
   "language": "python",
   "name": "conda_pytorch_p36"
  },
  "language_info": {
   "codemirror_mode": {
    "name": "ipython",
    "version": 3
   },
   "file_extension": ".py",
   "mimetype": "text/x-python",
   "name": "python",
   "nbconvert_exporter": "python",
   "pygments_lexer": "ipython3",
   "version": "3.6.10"
  }
 },
 "nbformat": 4,
 "nbformat_minor": 4
}
