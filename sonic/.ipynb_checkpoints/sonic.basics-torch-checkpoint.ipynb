{
 "cells": [
  {
   "cell_type": "markdown",
   "metadata": {},
   "source": [
    "### Technical Things To Do\n",
    "- Setup nuts/bolts and try imitation learning on one level (done)\n",
    "- Optimize imitation learning training on one level\n",
    "- Setup nuts/bolts and try imitation learning on all levels, test generalization (not strictly necessary for the goal of this work)\n",
    "- Specify a generic evaluation protocol that can be used for all agents\n",
    "    - Fixed frame score over a number of evaluation attempts at the same level, mean.\n",
    "- Try learning from scratch with an RL, record the mean episodic reward throughout training.\n",
    "- Use the same agent but pre-trained with human demonstrations, record the mean episodic reward throughout training."
   ]
  },
  {
   "cell_type": "code",
   "execution_count": 1,
   "metadata": {},
   "outputs": [
    {
     "name": "stderr",
     "output_type": "stream",
     "text": [
      "/home/ubuntu/anaconda3/envs/pytorch_p36/lib/python3.6/site-packages/tensorflow/python/framework/dtypes.py:516: FutureWarning: Passing (type, 1) or '1type' as a synonym of type is deprecated; in a future version of numpy, it will be understood as (type, (1,)) / '(1,)type'.\n",
      "  _np_qint8 = np.dtype([(\"qint8\", np.int8, 1)])\n",
      "/home/ubuntu/anaconda3/envs/pytorch_p36/lib/python3.6/site-packages/tensorflow/python/framework/dtypes.py:517: FutureWarning: Passing (type, 1) or '1type' as a synonym of type is deprecated; in a future version of numpy, it will be understood as (type, (1,)) / '(1,)type'.\n",
      "  _np_quint8 = np.dtype([(\"quint8\", np.uint8, 1)])\n",
      "/home/ubuntu/anaconda3/envs/pytorch_p36/lib/python3.6/site-packages/tensorflow/python/framework/dtypes.py:518: FutureWarning: Passing (type, 1) or '1type' as a synonym of type is deprecated; in a future version of numpy, it will be understood as (type, (1,)) / '(1,)type'.\n",
      "  _np_qint16 = np.dtype([(\"qint16\", np.int16, 1)])\n",
      "/home/ubuntu/anaconda3/envs/pytorch_p36/lib/python3.6/site-packages/tensorflow/python/framework/dtypes.py:519: FutureWarning: Passing (type, 1) or '1type' as a synonym of type is deprecated; in a future version of numpy, it will be understood as (type, (1,)) / '(1,)type'.\n",
      "  _np_quint16 = np.dtype([(\"quint16\", np.uint16, 1)])\n",
      "/home/ubuntu/anaconda3/envs/pytorch_p36/lib/python3.6/site-packages/tensorflow/python/framework/dtypes.py:520: FutureWarning: Passing (type, 1) or '1type' as a synonym of type is deprecated; in a future version of numpy, it will be understood as (type, (1,)) / '(1,)type'.\n",
      "  _np_qint32 = np.dtype([(\"qint32\", np.int32, 1)])\n",
      "/home/ubuntu/anaconda3/envs/pytorch_p36/lib/python3.6/site-packages/tensorflow/python/framework/dtypes.py:525: FutureWarning: Passing (type, 1) or '1type' as a synonym of type is deprecated; in a future version of numpy, it will be understood as (type, (1,)) / '(1,)type'.\n",
      "  np_resource = np.dtype([(\"resource\", np.ubyte, 1)])\n",
      "/home/ubuntu/anaconda3/envs/pytorch_p36/lib/python3.6/site-packages/tensorboard/compat/tensorflow_stub/dtypes.py:541: FutureWarning: Passing (type, 1) or '1type' as a synonym of type is deprecated; in a future version of numpy, it will be understood as (type, (1,)) / '(1,)type'.\n",
      "  _np_qint8 = np.dtype([(\"qint8\", np.int8, 1)])\n",
      "/home/ubuntu/anaconda3/envs/pytorch_p36/lib/python3.6/site-packages/tensorboard/compat/tensorflow_stub/dtypes.py:542: FutureWarning: Passing (type, 1) or '1type' as a synonym of type is deprecated; in a future version of numpy, it will be understood as (type, (1,)) / '(1,)type'.\n",
      "  _np_quint8 = np.dtype([(\"quint8\", np.uint8, 1)])\n",
      "/home/ubuntu/anaconda3/envs/pytorch_p36/lib/python3.6/site-packages/tensorboard/compat/tensorflow_stub/dtypes.py:543: FutureWarning: Passing (type, 1) or '1type' as a synonym of type is deprecated; in a future version of numpy, it will be understood as (type, (1,)) / '(1,)type'.\n",
      "  _np_qint16 = np.dtype([(\"qint16\", np.int16, 1)])\n",
      "/home/ubuntu/anaconda3/envs/pytorch_p36/lib/python3.6/site-packages/tensorboard/compat/tensorflow_stub/dtypes.py:544: FutureWarning: Passing (type, 1) or '1type' as a synonym of type is deprecated; in a future version of numpy, it will be understood as (type, (1,)) / '(1,)type'.\n",
      "  _np_quint16 = np.dtype([(\"quint16\", np.uint16, 1)])\n",
      "/home/ubuntu/anaconda3/envs/pytorch_p36/lib/python3.6/site-packages/tensorboard/compat/tensorflow_stub/dtypes.py:545: FutureWarning: Passing (type, 1) or '1type' as a synonym of type is deprecated; in a future version of numpy, it will be understood as (type, (1,)) / '(1,)type'.\n",
      "  _np_qint32 = np.dtype([(\"qint32\", np.int32, 1)])\n",
      "/home/ubuntu/anaconda3/envs/pytorch_p36/lib/python3.6/site-packages/tensorboard/compat/tensorflow_stub/dtypes.py:550: FutureWarning: Passing (type, 1) or '1type' as a synonym of type is deprecated; in a future version of numpy, it will be understood as (type, (1,)) / '(1,)type'.\n",
      "  np_resource = np.dtype([(\"resource\", np.ubyte, 1)])\n"
     ]
    }
   ],
   "source": [
    "import base64\n",
    "import gym\n",
    "import io\n",
    "import matplotlib.pyplot as plt\n",
    "import numpy as np\n",
    "import os\n",
    "import pandas as pd\n",
    "import retro\n",
    "import tensorflow as tf\n",
    "import time\n",
    "\n",
    "from gym import wrappers\n",
    "from IPython.display import clear_output\n",
    "from sklearn.model_selection import train_test_split\n",
    "from sklearn.preprocessing import LabelEncoder, OneHotEncoder\n",
    "\n",
    "%matplotlib inline"
   ]
  },
  {
   "cell_type": "code",
   "execution_count": 2,
   "metadata": {},
   "outputs": [],
   "source": [
    "levels = [\n",
    "    'MarbleZone.Act1','MarbleZone.Act2','MarbleZone.Act3',\n",
    "    'GreenHillZone.Act1','GreenHillZone.Act2','GreenHillZone.Act3',\n",
    "    'LabyrinthZone.Act1','LabyrinthZone.Act2','LabyrinthZone.Act3', \n",
    "    'SpringYardZone.Act1','SpringYardZone.Act2','SpringYardZone.Act3', \n",
    "    'StarLightZone.Act1','StarLightZone.Act2','StarLightZone.Act3',\n",
    "    'ScrapBrainZone.Act1','ScrapBrainZone.Act2' \n",
    "]\n",
    "\n",
    "config = {}\n",
    "config['data_path'] = os.path.abspath(\"./data/human\")\n",
    "config['level'] = 'GreenHillZone.Act1'\n",
    "\n",
    "config['epochs'] = 100\n",
    "config['batches_per_epoch'] = 10\n",
    "config['batch_size'] = 32\n",
    "config['patience'] = 5"
   ]
  },
  {
   "cell_type": "code",
   "execution_count": 3,
   "metadata": {},
   "outputs": [],
   "source": [
    "def extract_human_data(movie_path):\n",
    "    \"\"\" Given a path to a replay file, load it and \n",
    "        extract the series of state-action pairs.\n",
    "    \"\"\"\n",
    "    movie = retro.Movie(movie_path)\n",
    "    movie.step()\n",
    "\n",
    "    env = retro.make(game=movie.get_game(), state=retro.State.NONE, \n",
    "                     use_restricted_actions=retro.Actions.ALL)\n",
    "    env.initial_state = movie.get_state()\n",
    "    state = env.reset()\n",
    "    state = np.swapaxes(state,0,2)\n",
    "    state = np.swapaxes(state,1,2)\n",
    "    states, actions, next_states, rewards, dones = [], [], [], [], []\n",
    "    while movie.step():\n",
    "        keys = []\n",
    "        for i in range(len(env.buttons)):\n",
    "            keys.append(movie.get_key(i, 0))\n",
    "            \n",
    "        next_state, reward, done, info = env.step(keys)\n",
    "        \n",
    "        # Switch the channels to be first for pytorch\n",
    "        next_state = np.swapaxes(next_state, 0, 2)\n",
    "        next_state = np.swapaxes(next_state, 1, 2)\n",
    "        \n",
    "        actions.append(np.int8(keys))\n",
    "        states.append(state)\n",
    "        next_states.append(next_state)\n",
    "        rewards.append(reward)\n",
    "        dones.append(done)\n",
    "        \n",
    "        state = next_state\n",
    "        \n",
    "    return states, actions, next_states, rewards, dones"
   ]
  },
  {
   "cell_type": "code",
   "execution_count": 4,
   "metadata": {},
   "outputs": [],
   "source": [
    "states, actions, next_states, rewards, dones = extract_human_data(f\"data/human/SonicTheHedgehog-Genesis-{config['level']}-0000.bk2\")"
   ]
  },
  {
   "cell_type": "code",
   "execution_count": 5,
   "metadata": {},
   "outputs": [
    {
     "name": "stdout",
     "output_type": "stream",
     "text": [
      "[[0 0 0 0 0 0 0 1 0 0 0 0]\n",
      " [0 0 0 0 0 0 0 0 0 0 0 0]\n",
      " [0 1 0 0 0 0 0 1 0 0 0 0]\n",
      " [0 0 0 0 0 0 1 0 0 0 0 0]\n",
      " [0 0 0 0 1 0 1 0 0 0 0 0]\n",
      " [0 1 0 0 0 0 0 0 0 0 0 0]\n",
      " [0 1 0 0 0 0 1 0 0 0 0 0]\n",
      " [0 0 0 0 0 1 0 0 0 0 0 0]\n",
      " [0 0 0 0 0 1 1 0 0 0 0 0]\n",
      " [0 0 0 0 0 1 0 1 0 0 0 0]\n",
      " [0 1 0 0 1 0 0 1 0 0 0 0]\n",
      " [0 0 0 0 1 0 0 0 0 0 0 0]] [1841  881  224  139   38   21   18   16    5    4    3    1]\n"
     ]
    }
   ],
   "source": [
    "unique_actions, counts = np.unique(actions, axis=0, return_counts=True)\n",
    "\n",
    "ordering = np.argsort(counts)[::-1]\n",
    "unique_actions = unique_actions[ordering]\n",
    "counts = counts[ordering]\n",
    "print(unique_actions, counts)"
   ]
  },
  {
   "cell_type": "code",
   "execution_count": 6,
   "metadata": {},
   "outputs": [
    {
     "name": "stdout",
     "output_type": "stream",
     "text": [
      "Identified 12 unique actions of 4096 possible.\n"
     ]
    }
   ],
   "source": [
    "print(f\"Identified {len(counts)} unique actions of {2**12} possible.\")"
   ]
  },
  {
   "cell_type": "markdown",
   "metadata": {},
   "source": [
    "### Reduced Action Space\n",
    "Humans are only displaying a very limited subset of the total number of actions possible.  Lets take advantage of this by encoding the action space into a simple integer."
   ]
  },
  {
   "cell_type": "code",
   "execution_count": 7,
   "metadata": {},
   "outputs": [],
   "source": [
    "def encode_actions(actions):\n",
    "    \"\"\" Cast actions to a string and then use a label encoder to \n",
    "        transform the vector into a simple integer.  \n",
    "    \"\"\"\n",
    "    str_actions = [\"\".join(str(action)) for action in actions]\n",
    "    encoder = LabelEncoder()\n",
    "    return encoder.fit_transform(str_actions)"
   ]
  },
  {
   "cell_type": "code",
   "execution_count": 8,
   "metadata": {},
   "outputs": [],
   "source": [
    "# actions = encode_actions(actions)\n",
    "# encoder = LabelEncoder()\n",
    "# str_actions = [\"\".join(str(action)) for action in actions]\n",
    "# actions = encoder.fit_transform(str_actions)\n",
    "# n_actions = len(np.unique(actions))\n",
    "# print(n_actions)"
   ]
  },
  {
   "cell_type": "code",
   "execution_count": 9,
   "metadata": {},
   "outputs": [],
   "source": [
    "# vector_encoder = OneHotEncoder(sparse=False)\n",
    "# actions = vector_encoder.fit_transform(actions.reshape(-1, 1))"
   ]
  },
  {
   "cell_type": "code",
   "execution_count": null,
   "metadata": {},
   "outputs": [],
   "source": []
  },
  {
   "cell_type": "code",
   "execution_count": 10,
   "metadata": {},
   "outputs": [],
   "source": [
    "#imageio.mimwrite(\n",
    "#    \"imitation_agent_{}.mp4\".format(config[\"level\"]), \n",
    "#    frames, fps=30)"
   ]
  },
  {
   "cell_type": "code",
   "execution_count": 11,
   "metadata": {},
   "outputs": [],
   "source": [
    "import torch\n",
    "import torch.autograd as autograd \n",
    "import torch.nn as nn\n",
    "import torch.nn.functional as F\n",
    "import torch.optim as optim"
   ]
  },
  {
   "cell_type": "code",
   "execution_count": 12,
   "metadata": {},
   "outputs": [
    {
     "data": {
      "text/plain": [
       "(3, 224, 320)"
      ]
     },
     "execution_count": 12,
     "metadata": {},
     "output_type": "execute_result"
    }
   ],
   "source": [
    "states[0].shape"
   ]
  },
  {
   "cell_type": "code",
   "execution_count": 13,
   "metadata": {},
   "outputs": [
    {
     "data": {
      "text/plain": [
       "<matplotlib.image.AxesImage at 0x7f881645c630>"
      ]
     },
     "execution_count": 13,
     "metadata": {},
     "output_type": "execute_result"
    },
    {
     "data": {
      "image/png": "[encoded data removed]",
      "text/plain": [
       "<Figure size 432x288 with 1 Axes>"
      ]
     },
     "metadata": {
      "needs_background": "light"
     },
     "output_type": "display_data"
    }
   ],
   "source": [
    "plt.imshow(states[0][0,:,:])"
   ]
  },
  {
   "cell_type": "code",
   "execution_count": 14,
   "metadata": {},
   "outputs": [],
   "source": [
    "class ImitationModel(nn.Module):\n",
    "    \"\"\" Basic convolutional neural network \n",
    "        for imitation learning from Sonic \n",
    "        replay data.\n",
    "    \"\"\"\n",
    "    \n",
    "    def __init__(self, input_shape, output_shape):\n",
    "        super(ImitationModel, self).__init__()\n",
    "        self.input_shape = input_shape\n",
    "        self.output_shape = output_shape\n",
    "        \n",
    "        channels, height, width = self.input_shape\n",
    "        self.features = nn.Sequential(\n",
    "            nn.Conv2d(channels, 16, kernel_size=3, stride=1),\n",
    "            nn.ReLU(),\n",
    "            nn.Conv2d(16, 16, kernel_size=3, stride=3),\n",
    "            nn.ReLU(),\n",
    "            nn.Conv2d(16, 16, kernel_size=3, stride=1),\n",
    "            nn.ReLU(),\n",
    "            nn.Conv2d(16, 16, kernel_size=3, stride=3),\n",
    "            nn.Conv2d(16, 16, kernel_size=3, stride=1),\n",
    "            nn.ReLU(),\n",
    "            nn.Conv2d(16, 16, kernel_size=3, stride=3),\n",
    "            nn.ReLU()\n",
    "        )\n",
    "        \n",
    "        self.fully_connected = nn.Sequential(\n",
    "            nn.Linear(self._feature_size(), 256),\n",
    "            nn.ReLU(),\n",
    "            nn.Linear(256, self.output_shape),\n",
    "            nn.Softmax()\n",
    "        )\n",
    "        \n",
    "    def _feature_size(self):\n",
    "        \"\"\" I took this from somewhere and just applied it. \"\"\"\n",
    "        return self.features(autograd.Variable(torch.zeros(1, *self.input_shape))).view(1, -1).size(1)\n",
    "    \n",
    "    def forward(self, x):\n",
    "        x = self.features(x)\n",
    "        x = x.view(x.size(0), -1)\n",
    "        x = self.fully_connected(x)\n",
    "        return x"
   ]
  },
  {
   "cell_type": "code",
   "execution_count": 15,
   "metadata": {},
   "outputs": [],
   "source": [
    "# model = ImitationModel(states[0].shape, n_actions)\n",
    "model = ImitationModel(states[0].shape, 12)\n",
    "model = model.cuda()\n",
    "optimizer = optim.Adam(model.parameters(), lr=3e-4)"
   ]
  },
  {
   "cell_type": "code",
   "execution_count": 16,
   "metadata": {},
   "outputs": [],
   "source": [
    "x_train, x_test, y_train, y_test = train_test_split(\n",
    "    np.array(states), np.array(actions))"
   ]
  },
  {
   "cell_type": "code",
   "execution_count": 17,
   "metadata": {},
   "outputs": [],
   "source": [
    "class ModelTrainer:\n",
    "    \"\"\" Trainer for the imitation learning model.  Since this\n",
    "        is basic imitation learning, we will minimize the binary\n",
    "        cross-entropy between action predictions and expert actions.\n",
    "    \"\"\"\n",
    "    def __init__(self, config):\n",
    "        self.config = config\n",
    "        self.train_loss = []\n",
    "        self.train_std = []\n",
    "        self.test_loss = []\n",
    "        self.test_std = []\n",
    "        self.loss_fn = nn.BCELoss()\n",
    "\n",
    "        \n",
    "    def train(self, model, x_train, y_train, x_test, y_test):\n",
    "        \n",
    "        # Setup static objects which persist throughout\n",
    "        # the iterative training cycle. \n",
    "        index_pool = np.arange(x_train.shape[0])\n",
    "        \n",
    "        for epoch in range(self.config['epochs']):\n",
    "            epoch_loss, epoch_std = [], []\n",
    "            for batch in range(self.config['batches_per_epoch']):\n",
    "                indices = np.random.choice(index_pool, self.config['batch_size'], replace=False)\n",
    "                \n",
    "                # Convert the states and actions to pytorch tensors for \n",
    "                # input to the network. \n",
    "                x_batch = autograd.Variable(torch.FloatTensor(x_train[indices]))\n",
    "                y_batch = autograd.Variable(torch.FloatTensor(y_train[indices]))\n",
    "                x_batch, y_batch = x_batch.cuda(), y_batch.cuda()\n",
    "                \n",
    "                # Predict an action\n",
    "                y_pred = model(x_batch)\n",
    "                loss = self.loss_fn(input=y_pred, target=y_batch)\n",
    "                \n",
    "                # Optimize on this batch \n",
    "                optimizer.zero_grad()\n",
    "                loss.backward()\n",
    "                optimizer.step()\n",
    "                \n",
    "                epoch_loss.append(loss.detach().cpu().numpy())\n",
    "                \n",
    "                \n",
    "            # Perform end of epoch events.\n",
    "            self.train_loss.append(np.mean(epoch_loss))\n",
    "            self.train_std.append(np.std(epoch_loss))\n",
    "            mean, std = self.evaluate(model, x_test, y_test, self.config['batch_size'])\n",
    "            self.test_loss.append(mean)\n",
    "            self.test_std.append(std)\n",
    "            print(\"Epoch {0}, Loss {1:6.4f}, Test Loss {2:6.4f}\".format(\n",
    "                epoch, self.train_loss[-1], self.test_loss[-1]))\n",
    "            \n",
    "            \n",
    "    def evaluate(self, model, x_eval, y_eval, batch_size=32):\n",
    "        \"\"\" Evaluate the development or test data with the model\n",
    "            and return the mean performance over batches.\n",
    "        \"\"\"\n",
    "        with torch.no_grad():\n",
    "            batches = x_eval.shape[0] // batch_size\n",
    "            test_loss = []\n",
    "            for batch in range(batches):\n",
    "                x = autograd.Variable(torch.FloatTensor(x_eval[batch * batch_size : (batch + 1) * batch_size]))\n",
    "                y = autograd.Variable(torch.FloatTensor(y_eval[batch * batch_size : (batch + 1) * batch_size]))\n",
    "                x, y, = x.cuda(), y.cuda()\n",
    "                y_pred = model(x)\n",
    "                loss = self.loss_fn(input=y_pred, target=y)\n",
    "                test_loss.append(loss.detach().cpu().numpy())\n",
    "                \n",
    "        return np.mean(test_loss), np.std(test_loss)"
   ]
  },
  {
   "cell_type": "code",
   "execution_count": 18,
   "metadata": {
    "scrolled": false
   },
   "outputs": [
    {
     "name": "stderr",
     "output_type": "stream",
     "text": [
      "/home/ubuntu/anaconda3/envs/pytorch_p36/lib/python3.6/site-packages/torch/nn/modules/container.py:100: UserWarning: Implicit dimension choice for softmax has been deprecated. Change the call to include dim=X as an argument.\n",
      "  input = module(input)\n"
     ]
    },
    {
     "name": "stdout",
     "output_type": "stream",
     "text": [
      "Epoch 0, Loss 0.1635, Test Loss 0.1241\n",
      "Epoch 1, Loss 0.1100, Test Loss 0.1147\n",
      "Epoch 2, Loss 0.1089, Test Loss 0.1102\n",
      "Epoch 3, Loss 0.0937, Test Loss 0.1086\n",
      "Epoch 4, Loss 0.0966, Test Loss 0.1049\n",
      "Epoch 5, Loss 0.1023, Test Loss 0.1011\n",
      "Epoch 6, Loss 0.1043, Test Loss 0.0974\n",
      "Epoch 7, Loss 0.0892, Test Loss 0.0937\n",
      "Epoch 8, Loss 0.0800, Test Loss 0.0970\n",
      "Epoch 9, Loss 0.0903, Test Loss 0.0905\n",
      "Epoch 10, Loss 0.0886, Test Loss 0.0886\n",
      "Epoch 11, Loss 0.0749, Test Loss 0.0915\n",
      "Epoch 12, Loss 0.0760, Test Loss 0.0830\n",
      "Epoch 13, Loss 0.0810, Test Loss 0.0791\n",
      "Epoch 14, Loss 0.0652, Test Loss 0.0753\n",
      "Epoch 15, Loss 0.0767, Test Loss 0.0759\n",
      "Epoch 16, Loss 0.0840, Test Loss 0.0769\n",
      "Epoch 17, Loss 0.0732, Test Loss 0.0752\n",
      "Epoch 18, Loss 0.0795, Test Loss 0.0694\n",
      "Epoch 19, Loss 0.0631, Test Loss 0.0687\n",
      "Epoch 20, Loss 0.0653, Test Loss 0.0732\n",
      "Epoch 21, Loss 0.0657, Test Loss 0.0672\n",
      "Epoch 22, Loss 0.0578, Test Loss 0.0643\n",
      "Epoch 23, Loss 0.0541, Test Loss 0.0642\n",
      "Epoch 24, Loss 0.0558, Test Loss 0.0657\n",
      "Epoch 25, Loss 0.0565, Test Loss 0.0686\n",
      "Epoch 26, Loss 0.0548, Test Loss 0.0621\n",
      "Epoch 27, Loss 0.0536, Test Loss 0.0606\n",
      "Epoch 28, Loss 0.0507, Test Loss 0.0613\n",
      "Epoch 29, Loss 0.0535, Test Loss 0.0620\n",
      "Epoch 30, Loss 0.0622, Test Loss 0.0628\n",
      "Epoch 31, Loss 0.0549, Test Loss 0.0621\n",
      "Epoch 32, Loss 0.0529, Test Loss 0.0594\n",
      "Epoch 33, Loss 0.0561, Test Loss 0.0572\n",
      "Epoch 34, Loss 0.0530, Test Loss 0.0624\n",
      "Epoch 35, Loss 0.0590, Test Loss 0.0578\n",
      "Epoch 36, Loss 0.0485, Test Loss 0.0581\n",
      "Epoch 37, Loss 0.0510, Test Loss 0.0581\n",
      "Epoch 38, Loss 0.0563, Test Loss 0.0582\n",
      "Epoch 39, Loss 0.0512, Test Loss 0.0590\n",
      "Epoch 40, Loss 0.0498, Test Loss 0.0565\n",
      "Epoch 41, Loss 0.0511, Test Loss 0.0575\n",
      "Epoch 42, Loss 0.0528, Test Loss 0.0586\n",
      "Epoch 43, Loss 0.0462, Test Loss 0.0584\n",
      "Epoch 44, Loss 0.0495, Test Loss 0.0576\n",
      "Epoch 45, Loss 0.0526, Test Loss 0.0561\n",
      "Epoch 46, Loss 0.0487, Test Loss 0.0554\n",
      "Epoch 47, Loss 0.0420, Test Loss 0.0552\n",
      "Epoch 48, Loss 0.0434, Test Loss 0.0545\n",
      "Epoch 49, Loss 0.0467, Test Loss 0.0551\n",
      "Epoch 50, Loss 0.0477, Test Loss 0.0555\n",
      "Epoch 51, Loss 0.0483, Test Loss 0.0560\n",
      "Epoch 52, Loss 0.0499, Test Loss 0.0544\n",
      "Epoch 53, Loss 0.0482, Test Loss 0.0539\n",
      "Epoch 54, Loss 0.0461, Test Loss 0.0565\n",
      "Epoch 55, Loss 0.0470, Test Loss 0.0572\n",
      "Epoch 56, Loss 0.0480, Test Loss 0.0548\n",
      "Epoch 57, Loss 0.0470, Test Loss 0.0545\n",
      "Epoch 58, Loss 0.0437, Test Loss 0.0543\n",
      "Epoch 59, Loss 0.0459, Test Loss 0.0550\n",
      "Epoch 60, Loss 0.0398, Test Loss 0.0536\n",
      "Epoch 61, Loss 0.0453, Test Loss 0.0570\n",
      "Epoch 62, Loss 0.0447, Test Loss 0.0586\n",
      "Epoch 63, Loss 0.0488, Test Loss 0.0551\n",
      "Epoch 64, Loss 0.0499, Test Loss 0.0549\n",
      "Epoch 65, Loss 0.0444, Test Loss 0.0535\n",
      "Epoch 66, Loss 0.0455, Test Loss 0.0524\n",
      "Epoch 67, Loss 0.0412, Test Loss 0.0567\n",
      "Epoch 68, Loss 0.0507, Test Loss 0.0526\n",
      "Epoch 69, Loss 0.0464, Test Loss 0.0522\n",
      "Epoch 70, Loss 0.0458, Test Loss 0.0536\n",
      "Epoch 71, Loss 0.0407, Test Loss 0.0531\n",
      "Epoch 72, Loss 0.0371, Test Loss 0.0536\n",
      "Epoch 73, Loss 0.0388, Test Loss 0.0529\n",
      "Epoch 74, Loss 0.0382, Test Loss 0.0520\n",
      "Epoch 75, Loss 0.0413, Test Loss 0.0528\n",
      "Epoch 76, Loss 0.0392, Test Loss 0.0533\n",
      "Epoch 77, Loss 0.0402, Test Loss 0.0539\n",
      "Epoch 78, Loss 0.0451, Test Loss 0.0523\n",
      "Epoch 79, Loss 0.0422, Test Loss 0.0522\n",
      "Epoch 80, Loss 0.0390, Test Loss 0.0527\n",
      "Epoch 81, Loss 0.0442, Test Loss 0.0518\n",
      "Epoch 82, Loss 0.0418, Test Loss 0.0514\n",
      "Epoch 83, Loss 0.0395, Test Loss 0.0507\n",
      "Epoch 84, Loss 0.0441, Test Loss 0.0501\n",
      "Epoch 85, Loss 0.0428, Test Loss 0.0516\n",
      "Epoch 86, Loss 0.0435, Test Loss 0.0515\n",
      "Epoch 87, Loss 0.0395, Test Loss 0.0511\n",
      "Epoch 88, Loss 0.0374, Test Loss 0.0522\n",
      "Epoch 89, Loss 0.0388, Test Loss 0.0527\n",
      "Epoch 90, Loss 0.0389, Test Loss 0.0524\n",
      "Epoch 91, Loss 0.0396, Test Loss 0.0523\n",
      "Epoch 92, Loss 0.0399, Test Loss 0.0506\n",
      "Epoch 93, Loss 0.0496, Test Loss 0.0509\n",
      "Epoch 94, Loss 0.0440, Test Loss 0.0509\n",
      "Epoch 95, Loss 0.0422, Test Loss 0.0542\n",
      "Epoch 96, Loss 0.0460, Test Loss 0.0546\n",
      "Epoch 97, Loss 0.0386, Test Loss 0.0517\n",
      "Epoch 98, Loss 0.0389, Test Loss 0.0527\n",
      "Epoch 99, Loss 0.0385, Test Loss 0.0541\n",
      "Epoch 100, Loss 0.0397, Test Loss 0.0498\n",
      "Epoch 101, Loss 0.0400, Test Loss 0.0500\n",
      "Epoch 102, Loss 0.0377, Test Loss 0.0526\n",
      "Epoch 103, Loss 0.0409, Test Loss 0.0539\n",
      "Epoch 104, Loss 0.0402, Test Loss 0.0541\n",
      "Epoch 105, Loss 0.0432, Test Loss 0.0506\n",
      "Epoch 106, Loss 0.0388, Test Loss 0.0512\n",
      "Epoch 107, Loss 0.0415, Test Loss 0.0498\n",
      "Epoch 108, Loss 0.0385, Test Loss 0.0507\n",
      "Epoch 109, Loss 0.0399, Test Loss 0.0517\n",
      "Epoch 110, Loss 0.0372, Test Loss 0.0493\n",
      "Epoch 111, Loss 0.0421, Test Loss 0.0497\n",
      "Epoch 112, Loss 0.0413, Test Loss 0.0515\n",
      "Epoch 113, Loss 0.0394, Test Loss 0.0497\n",
      "Epoch 114, Loss 0.0462, Test Loss 0.0515\n",
      "Epoch 115, Loss 0.0399, Test Loss 0.0511\n",
      "Epoch 116, Loss 0.0360, Test Loss 0.0538\n",
      "Epoch 117, Loss 0.0416, Test Loss 0.0539\n",
      "Epoch 118, Loss 0.0397, Test Loss 0.0553\n",
      "Epoch 119, Loss 0.0405, Test Loss 0.0499\n",
      "Epoch 120, Loss 0.0405, Test Loss 0.0499\n",
      "Epoch 121, Loss 0.0398, Test Loss 0.0499\n",
      "Epoch 122, Loss 0.0396, Test Loss 0.0512\n",
      "Epoch 123, Loss 0.0387, Test Loss 0.0508\n",
      "Epoch 124, Loss 0.0392, Test Loss 0.0557\n",
      "Epoch 125, Loss 0.0383, Test Loss 0.0503\n",
      "Epoch 126, Loss 0.0402, Test Loss 0.0493\n",
      "Epoch 127, Loss 0.0393, Test Loss 0.0515\n",
      "Epoch 128, Loss 0.0399, Test Loss 0.0509\n",
      "Epoch 129, Loss 0.0415, Test Loss 0.0520\n",
      "Epoch 130, Loss 0.0336, Test Loss 0.0517\n",
      "Epoch 131, Loss 0.0422, Test Loss 0.0507\n",
      "Epoch 132, Loss 0.0366, Test Loss 0.0513\n",
      "Epoch 133, Loss 0.0387, Test Loss 0.0504\n",
      "Epoch 134, Loss 0.0376, Test Loss 0.0529\n",
      "Epoch 135, Loss 0.0420, Test Loss 0.0506\n",
      "Epoch 136, Loss 0.0369, Test Loss 0.0511\n",
      "Epoch 137, Loss 0.0371, Test Loss 0.0521\n",
      "Epoch 138, Loss 0.0401, Test Loss 0.0505\n",
      "Epoch 139, Loss 0.0371, Test Loss 0.0498\n",
      "Epoch 140, Loss 0.0381, Test Loss 0.0499\n",
      "Epoch 141, Loss 0.0374, Test Loss 0.0516\n",
      "Epoch 142, Loss 0.0376, Test Loss 0.0555\n",
      "Epoch 143, Loss 0.0388, Test Loss 0.0518\n",
      "Epoch 144, Loss 0.0421, Test Loss 0.0509\n",
      "Epoch 145, Loss 0.0393, Test Loss 0.0501\n",
      "Epoch 146, Loss 0.0332, Test Loss 0.0526\n",
      "Epoch 147, Loss 0.0400, Test Loss 0.0515\n",
      "Epoch 148, Loss 0.0392, Test Loss 0.0502\n",
      "Epoch 149, Loss 0.0396, Test Loss 0.0541\n",
      "Epoch 150, Loss 0.0374, Test Loss 0.0499\n",
      "Epoch 151, Loss 0.0334, Test Loss 0.0498\n",
      "Epoch 152, Loss 0.0381, Test Loss 0.0507\n",
      "Epoch 153, Loss 0.0382, Test Loss 0.0513\n",
      "Epoch 154, Loss 0.0414, Test Loss 0.0497\n",
      "Epoch 155, Loss 0.0370, Test Loss 0.0510\n",
      "Epoch 156, Loss 0.0369, Test Loss 0.0516\n",
      "Epoch 157, Loss 0.0424, Test Loss 0.0498\n",
      "Epoch 158, Loss 0.0380, Test Loss 0.0512\n",
      "Epoch 159, Loss 0.0339, Test Loss 0.0519\n",
      "Epoch 160, Loss 0.0373, Test Loss 0.0548\n",
      "Epoch 161, Loss 0.0374, Test Loss 0.0495\n",
      "Epoch 162, Loss 0.0386, Test Loss 0.0503\n",
      "Epoch 163, Loss 0.0398, Test Loss 0.0538\n",
      "Epoch 164, Loss 0.0386, Test Loss 0.0506\n",
      "Epoch 165, Loss 0.0376, Test Loss 0.0509\n",
      "Epoch 166, Loss 0.0355, Test Loss 0.0505\n",
      "Epoch 167, Loss 0.0372, Test Loss 0.0505\n",
      "Epoch 168, Loss 0.0428, Test Loss 0.0514\n",
      "Epoch 169, Loss 0.0378, Test Loss 0.0516\n",
      "Epoch 170, Loss 0.0382, Test Loss 0.0531\n",
      "Epoch 171, Loss 0.0405, Test Loss 0.0503\n",
      "Epoch 172, Loss 0.0389, Test Loss 0.0508\n",
      "Epoch 173, Loss 0.0380, Test Loss 0.0510\n",
      "Epoch 174, Loss 0.0402, Test Loss 0.0495\n",
      "Epoch 175, Loss 0.0381, Test Loss 0.0517\n",
      "Epoch 176, Loss 0.0342, Test Loss 0.0506\n",
      "Epoch 177, Loss 0.0379, Test Loss 0.0518\n",
      "Epoch 178, Loss 0.0372, Test Loss 0.0520\n",
      "Epoch 179, Loss 0.0424, Test Loss 0.0515\n",
      "Epoch 180, Loss 0.0374, Test Loss 0.0525\n",
      "Epoch 181, Loss 0.0359, Test Loss 0.0509\n",
      "Epoch 182, Loss 0.0384, Test Loss 0.0529\n",
      "Epoch 183, Loss 0.0382, Test Loss 0.0522\n",
      "Epoch 184, Loss 0.0386, Test Loss 0.0502\n",
      "Epoch 185, Loss 0.0379, Test Loss 0.0523\n",
      "Epoch 186, Loss 0.0397, Test Loss 0.0515\n",
      "Epoch 187, Loss 0.0387, Test Loss 0.0510\n",
      "Epoch 188, Loss 0.0361, Test Loss 0.0513\n",
      "Epoch 189, Loss 0.0341, Test Loss 0.0537\n",
      "Epoch 190, Loss 0.0396, Test Loss 0.0538\n",
      "Epoch 191, Loss 0.0403, Test Loss 0.0508\n",
      "Epoch 192, Loss 0.0387, Test Loss 0.0505\n",
      "Epoch 193, Loss 0.0327, Test Loss 0.0497\n",
      "Epoch 194, Loss 0.0372, Test Loss 0.0503\n",
      "Epoch 195, Loss 0.0339, Test Loss 0.0503\n",
      "Epoch 196, Loss 0.0404, Test Loss 0.0509\n",
      "Epoch 197, Loss 0.0360, Test Loss 0.0508\n",
      "Epoch 198, Loss 0.0391, Test Loss 0.0514\n",
      "Epoch 199, Loss 0.0407, Test Loss 0.0494\n"
     ]
    }
   ],
   "source": [
    "trainer = ModelTrainer(config)\n",
    "trainer.train(model, x_train, y_train, x_test, y_test)"
   ]
  },
  {
   "cell_type": "code",
   "execution_count": 19,
   "metadata": {},
   "outputs": [
    {
     "data": {
      "text/plain": [
       "<matplotlib.legend.Legend at 0x7f88155967f0>"
      ]
     },
     "execution_count": 19,
     "metadata": {},
     "output_type": "execute_result"
    },
    {
     "data": {
      "image/png": "[encoded data removed]",
      "text/plain": [
       "<Figure size 576x360 with 1 Axes>"
      ]
     },
     "metadata": {
      "needs_background": "light"
     },
     "output_type": "display_data"
    }
   ],
   "source": [
    "steps = np.arange(len(trainer.train_loss))\n",
    "\n",
    "plt.figure(figsize=(8,5))\n",
    "plt.plot(steps, trainer.train_loss, label=\"Train\")\n",
    "mu, std = np.array(trainer.train_loss), np.array(trainer.train_std)\n",
    "plt.fill_between(steps, mu - std, mu + std, alpha=0.35)\n",
    "\n",
    "plt.plot(steps, trainer.test_loss, label=\"Test\")\n",
    "mu, std = np.array(trainer.test_loss), np.array(trainer.test_std)\n",
    "plt.fill_between(steps, mu - std, mu + std, alpha=0.35)\n",
    "\n",
    "plt.grid(alpha=0.2)\n",
    "plt.xlabel(\"Epoch\")\n",
    "plt.ylabel(\"Binary Cross Entropy\")\n",
    "plt.legend(frameon=False)"
   ]
  },
  {
   "cell_type": "code",
   "execution_count": 20,
   "metadata": {},
   "outputs": [],
   "source": [
    "env = retro.make('SonicTheHedgehog-Genesis', state=config['level'])\n",
    "state = env.reset()"
   ]
  },
  {
   "cell_type": "code",
   "execution_count": 21,
   "metadata": {},
   "outputs": [
    {
     "data": {
      "text/plain": [
       "(224, 320, 3)"
      ]
     },
     "execution_count": 21,
     "metadata": {},
     "output_type": "execute_result"
    }
   ],
   "source": [
    "state.shape"
   ]
  },
  {
   "cell_type": "code",
   "execution_count": 22,
   "metadata": {},
   "outputs": [],
   "source": [
    "def torchify_state(state):\n",
    "    \"\"\" Convert a single state to a shape and data type that \n",
    "        can be injested by a pytoch model.\n",
    "    \"\"\"\n",
    "    reshaped_state = np.swapaxes(state, 0, 2)\n",
    "    reshaped_state = np.swapaxes(reshaped_state, 1, 2)\n",
    "    reshaped_state = np.expand_dims(reshaped_state, 0)\n",
    "    torchified_state = autograd.Variable(torch.FloatTensor(reshaped_state))\n",
    "    return torchified_state.cuda()"
   ]
  },
  {
   "cell_type": "code",
   "execution_count": 23,
   "metadata": {},
   "outputs": [
    {
     "name": "stdout",
     "output_type": "stream",
     "text": [
      "tensor([[[[0., 0., 0.,  ..., 0., 0., 0.],\n",
      "          [0., 0., 0.,  ..., 0., 0., 0.],\n",
      "          [0., 0., 0.,  ..., 0., 0., 0.],\n",
      "          ...,\n",
      "          [0., 0., 0.,  ..., 0., 0., 0.],\n",
      "          [0., 0., 0.,  ..., 0., 0., 0.],\n",
      "          [0., 0., 0.,  ..., 0., 0., 0.]],\n",
      "\n",
      "         [[0., 0., 0.,  ..., 0., 0., 0.],\n",
      "          [0., 0., 0.,  ..., 0., 0., 0.],\n",
      "          [0., 0., 0.,  ..., 0., 0., 0.],\n",
      "          ...,\n",
      "          [0., 0., 0.,  ..., 0., 0., 0.],\n",
      "          [0., 0., 0.,  ..., 0., 0., 0.],\n",
      "          [0., 0., 0.,  ..., 0., 0., 0.]],\n",
      "\n",
      "         [[0., 0., 0.,  ..., 0., 0., 0.],\n",
      "          [0., 0., 0.,  ..., 0., 0., 0.],\n",
      "          [0., 0., 0.,  ..., 0., 0., 0.],\n",
      "          ...,\n",
      "          [0., 0., 0.,  ..., 0., 0., 0.],\n",
      "          [0., 0., 0.,  ..., 0., 0., 0.],\n",
      "          [0., 0., 0.,  ..., 0., 0., 0.]]]], device='cuda:0')\n"
     ]
    }
   ],
   "source": [
    "t_state = torchify_state(state)\n",
    "print(t_state)"
   ]
  },
  {
   "cell_type": "code",
   "execution_count": 24,
   "metadata": {},
   "outputs": [
    {
     "name": "stderr",
     "output_type": "stream",
     "text": [
      "/home/ubuntu/anaconda3/envs/pytorch_p36/lib/python3.6/site-packages/torch/nn/modules/container.py:100: UserWarning: Implicit dimension choice for softmax has been deprecated. Change the call to include dim=X as an argument.\n",
      "  input = module(input)\n"
     ]
    },
    {
     "data": {
      "text/plain": [
       "tensor([[0.0770, 0.0484, 0.0828, 0.0763, 0.0675, 0.0974, 0.0836, 0.1151, 0.0876,\n",
       "         0.1008, 0.0871, 0.0764]], device='cuda:0', grad_fn=<SoftmaxBackward>)"
      ]
     },
     "execution_count": 24,
     "metadata": {},
     "output_type": "execute_result"
    }
   ],
   "source": [
    "model(t_state)"
   ]
  },
  {
   "cell_type": "code",
   "execution_count": 25,
   "metadata": {},
   "outputs": [],
   "source": [
    "def record_imitation_game(env, model, \n",
    "                          rnd_steps=50, max_frames=1000):\n",
    "    \"\"\" Record an imitation game from the provided environment which \n",
    "        should output states that are compatible with the model input\n",
    "        and receive actions which are compatible with the model output.\n",
    "    \"\"\"\n",
    "    \n",
    "    state = env.reset()\n",
    "    frames = []\n",
    "    frames.append(env.render(mode='rgb_array'))\n",
    "    for step in range(rnd_steps):\n",
    "        state, _, _, _ = env.step(env.action_space.sample())\n",
    "        frames.append(env.render(mode='rgb_array'))\n",
    "        \n",
    "    done = False\n",
    "    while not done:\n",
    "        \n",
    "        # Act according to our policy most of the time.  It \n",
    "        # seems to get stuck so I am trying to add some random\n",
    "        # elements to get Sonic unstuck.\n",
    "        if step % 5 == 0:\n",
    "            new_state, reward, done, info = env.step(env.action_space.sample())\n",
    "            state = new_state\n",
    "        \n",
    "        else:\n",
    "            state = torchify_state(state)\n",
    "            action = model(state)\n",
    "            action = action.detach().cpu().numpy()\n",
    "            action = np.round(action)[0]\n",
    "            action = np.array(action, dtype=np.int8)\n",
    "            new_state, reward, done, info = env.step(action)\n",
    "            state = new_state\n",
    "            \n",
    "        frames.append(env.render(mode='rgb_array'))\n",
    "        if len(frames) % 100 == 0:\n",
    "            print(\"Collected {} frames\".format(len(frames)))\n",
    "        \n",
    "        if len(frames) >= max_frames:\n",
    "            return frames\n",
    "        \n",
    "    return frames"
   ]
  },
  {
   "cell_type": "code",
   "execution_count": 26,
   "metadata": {},
   "outputs": [
    {
     "name": "stdout",
     "output_type": "stream",
     "text": [
      "Collected 100 frames\n",
      "Collected 200 frames\n",
      "Collected 300 frames\n",
      "Collected 400 frames\n",
      "Collected 500 frames\n",
      "Collected 600 frames\n",
      "Collected 700 frames\n",
      "Collected 800 frames\n",
      "Collected 900 frames\n",
      "Collected 1000 frames\n",
      "Collected 1100 frames\n",
      "Collected 1200 frames\n",
      "Collected 1300 frames\n",
      "Collected 1400 frames\n",
      "Collected 1500 frames\n",
      "Collected 1600 frames\n",
      "Collected 1700 frames\n",
      "Collected 1800 frames\n",
      "Collected 1900 frames\n",
      "Collected 2000 frames\n",
      "Collected 2100 frames\n",
      "Collected 2200 frames\n",
      "Collected 2300 frames\n",
      "Collected 2400 frames\n",
      "Collected 2500 frames\n",
      "Collected 2600 frames\n"
     ]
    }
   ],
   "source": [
    "frames = record_imitation_game(env, model, rnd_steps=50, max_frames=5000)"
   ]
  },
  {
   "cell_type": "code",
   "execution_count": 27,
   "metadata": {},
   "outputs": [],
   "source": [
    "try:\n",
    "    import imageio\n",
    "except:\n",
    "    !pip install imageio\n",
    "    !pip install imageio-ffmpeg\n",
    "    import imageio"
   ]
  },
  {
   "cell_type": "code",
   "execution_count": 28,
   "metadata": {},
   "outputs": [],
   "source": [
    "imageio.mimwrite(\n",
    "    \"torch_imitation_agent_{}.mp4\".format(config[\"level\"]), \n",
    "    frames, fps=30)"
   ]
  },
  {
   "cell_type": "code",
   "execution_count": 29,
   "metadata": {},
   "outputs": [],
   "source": [
    "def play_evaluation_games(env, model, n_games=1, rnd_steps=50, max_frames=1000):\n",
    "    \"\"\" Play evaluation games and return the scores.\n",
    "    \"\"\"\n",
    "    \n",
    "    scores = []\n",
    "    \n",
    "    for game in range(n_games):\n",
    "        state = env.reset()\n",
    "        for step in range(rnd_steps):\n",
    "            state, _, _, _ = env.step(env.action_space.sample())\n",
    "\n",
    "        step = 0\n",
    "        score = 0\n",
    "        done = False\n",
    "        while not done:\n",
    "\n",
    "            # Act according to our policy most of the time.  It \n",
    "            # seems to get stuck so I am trying to add some random\n",
    "            # elements to get Sonic unstuck.\n",
    "            if step % 5 == 0:\n",
    "                new_state, reward, done, info = env.step(env.action_space.sample())\n",
    "                state = new_state\n",
    "\n",
    "            else:\n",
    "                state = torchify_state(state)\n",
    "                action = model(state)\n",
    "                action = action.detach().cpu().numpy()\n",
    "                action = np.round(action)[0]\n",
    "                action = np.array(action, dtype=np.int8)\n",
    "                new_state, reward, done, info = env.step(action)\n",
    "                state = new_state\n",
    "                \n",
    "            step += 1 \n",
    "            score += reward\n",
    "            \n",
    "            if step > max_frames:\n",
    "                done = True\n",
    "        \n",
    "        print(\"Finished game {0} with score {1:6.0f}.\".format(\n",
    "            game, score\n",
    "        ))\n",
    "        scores.append(score)\n",
    "\n",
    "    return scores"
   ]
  },
  {
   "cell_type": "code",
   "execution_count": 30,
   "metadata": {},
   "outputs": [
    {
     "name": "stdout",
     "output_type": "stream",
     "text": [
      "Finished game 0 with score    200.\n",
      "Finished game 1 with score    200.\n",
      "Finished game 2 with score    400.\n",
      "Finished game 3 with score    200.\n",
      "Finished game 4 with score    400.\n",
      "Finished game 5 with score    200.\n",
      "Finished game 6 with score    400.\n",
      "Finished game 7 with score    100.\n",
      "Finished game 8 with score    200.\n",
      "Finished game 9 with score    200.\n",
      "Finished game 10 with score    200.\n",
      "Finished game 11 with score    300.\n",
      "Finished game 12 with score    200.\n",
      "Finished game 13 with score    200.\n",
      "Finished game 14 with score    300.\n",
      "Finished game 15 with score    100.\n",
      "Finished game 16 with score    200.\n",
      "Finished game 17 with score    100.\n",
      "Finished game 18 with score    500.\n",
      "Finished game 19 with score    400.\n"
     ]
    }
   ],
   "source": [
    "scores = play_evaluation_games(env, model, n_games=20, \n",
    "                               rnd_steps=50, max_frames=5000)"
   ]
  },
  {
   "cell_type": "code",
   "execution_count": 31,
   "metadata": {},
   "outputs": [
    {
     "data": {
      "text/plain": [
       "[200.0,\n",
       " 200.0,\n",
       " 400.0,\n",
       " 200.0,\n",
       " 400.0,\n",
       " 200.0,\n",
       " 400.0,\n",
       " 100.0,\n",
       " 200.0,\n",
       " 200.0,\n",
       " 200.0,\n",
       " 300.0,\n",
       " 200.0,\n",
       " 200.0,\n",
       " 300.0,\n",
       " 100.0,\n",
       " 200.0,\n",
       " 100.0,\n",
       " 500.0,\n",
       " 400.0]"
      ]
     },
     "execution_count": 31,
     "metadata": {},
     "output_type": "execute_result"
    }
   ],
   "source": [
    "scores"
   ]
  },
  {
   "cell_type": "code",
   "execution_count": 32,
   "metadata": {},
   "outputs": [
    {
     "data": {
      "text/plain": [
       "Text(0, 0.5, 'Occurances')"
      ]
     },
     "execution_count": 32,
     "metadata": {},
     "output_type": "execute_result"
    },
    {
     "data": {
      "image/png": "[encoded data removed]",
      "text/plain": [
       "<Figure size 432x288 with 1 Axes>"
      ]
     },
     "metadata": {
      "needs_background": "light"
     },
     "output_type": "display_data"
    }
   ],
   "source": [
    "plt.hist(scores, edgecolor='k', bins=8)\n",
    "plt.grid(alpha=0.2)\n",
    "plt.xlabel(\"Score\")\n",
    "plt.ylabel(\"Occurances\")"
   ]
  },
  {
   "cell_type": "code",
   "execution_count": 33,
   "metadata": {},
   "outputs": [],
   "source": [
    "def torch_td_loss(online_model, target_model, states, actions, \n",
    "                  next_states, rewards, dones, gamma=0.99):\n",
    "    \"\"\" Compute the TD-error using pytorch for a set of transitions. \"\"\"\n",
    "    \n",
    "    # Predict the value of the current and next state using the \n",
    "    # online and target networks respectively. \n",
    "    q_values = online_model(states)\n",
    "    next_q_values = target_model(next_states)\n",
    "    \n",
    "    # Mask those states for which the next state is terminal.\n",
    "    q_values = q_values.gather(1, actions.view(-1,1)).squeeze(1)\n",
    "    next_q_values = next_q_values.max(1).values\n",
    "\n",
    "    qhat = (rewards + gamma * next_q_values * (1 - dones))\n",
    "    loss = (q_values - qhat.detach()).pow(2)\n",
    "    loss = loss.mean()\n",
    "    return loss"
   ]
  },
  {
   "cell_type": "code",
   "execution_count": 34,
   "metadata": {},
   "outputs": [],
   "source": [
    "class PsuedoModel(nn.Module):\n",
    "    \"\"\" A fake DQN agent. \"\"\"\n",
    "    def __init__(self, input_shape, output_shape):\n",
    "        super(PsuedoModel, self).__init__()\n",
    "        self.input_shape = input_shape\n",
    "        self.output_shape = output_shape\n",
    "        \n",
    "        self.network = nn.Sequential(\n",
    "            nn.Linear(self.input_shape[0] * self.input_shape[1] * self.input_shape[2], output_shape)\n",
    "        )\n",
    "        \n",
    "    def forward(self, state):\n",
    "        state = state.view(state.size(0), -1)\n",
    "        return self.network(state)"
   ]
  },
  {
   "cell_type": "code",
   "execution_count": 35,
   "metadata": {},
   "outputs": [],
   "source": [
    "# Setup some fake action/states to predict \n",
    "# loss with.\n",
    "samples = 4\n",
    "input_shape = (3, 12, 12)\n",
    "output_shape = 3\n",
    "\n",
    "states = np.random.randint(0, 256, size=(samples, *input_shape))\n",
    "next_states = np.random.randint(0, 256, size=(samples, *input_shape))\n",
    "actions = np.random.randint(0, output_shape, size=(samples,))\n",
    "rewards = np.random.randint(0, 2, size=(samples,))\n",
    "dones = np.random.choice([True, False], samples, p=[0.1, 0.9])\n",
    "\n",
    "# Create a fake model for testing the loss function.\n",
    "fake_model = PsuedoModel(input_shape, output_shape)"
   ]
  },
  {
   "cell_type": "code",
   "execution_count": 36,
   "metadata": {},
   "outputs": [],
   "source": [
    "def torchify_float(x):\n",
    "    \"\"\" Convert x from numpy array to torch.FloatTensor. \"\"\"\n",
    "    return autograd.Variable(torch.FloatTensor(x))\n",
    "\n",
    "def torchify_long(x):\n",
    "    \"\"\" Convert x from numpy array to torch.LongTensor. \"\"\"\n",
    "    return autograd.Variable(torch.LongTensor(x))"
   ]
  },
  {
   "cell_type": "code",
   "execution_count": 37,
   "metadata": {},
   "outputs": [],
   "source": [
    "states = torchify_float(states)\n",
    "actions = torchify_long(np.int8(actions))\n",
    "next_states = torchify_float(next_states)\n",
    "rewards = torchify_float(rewards)\n",
    "dones = torchify_float(dones)"
   ]
  },
  {
   "cell_type": "code",
   "execution_count": 38,
   "metadata": {},
   "outputs": [
    {
     "data": {
      "text/plain": [
       "tensor([[  53.5696,  100.2733,  -22.6749],\n",
       "        [  45.6040,  157.9717,  -32.0881],\n",
       "        [   3.8990,   31.4479, -154.7951],\n",
       "        [  58.5307,  111.3624,  -54.8884]], grad_fn=<AddmmBackward>)"
      ]
     },
     "execution_count": 38,
     "metadata": {},
     "output_type": "execute_result"
    }
   ],
   "source": [
    "fake_model(states)"
   ]
  },
  {
   "cell_type": "code",
   "execution_count": 39,
   "metadata": {},
   "outputs": [
    {
     "data": {
      "text/plain": [
       "tensor(2356.1355, grad_fn=<MeanBackward0>)"
      ]
     },
     "execution_count": 39,
     "metadata": {},
     "output_type": "execute_result"
    }
   ],
   "source": [
    "torch_td_loss(\n",
    "    online_model=fake_model, \n",
    "    target_model=fake_model,\n",
    "    states=states,\n",
    "    actions=actions,\n",
    "    next_states=next_states,\n",
    "    rewards=rewards,\n",
    "    dones=dones,\n",
    "    gamma=0.99\n",
    ")"
   ]
  },
  {
   "cell_type": "code",
   "execution_count": 40,
   "metadata": {},
   "outputs": [],
   "source": [
    "def numpy_margin_loss(q_values, action, expert_action, margin):\n",
    "    \"\"\" Margin loss for one state-action pair. \"\"\"\n",
    "    \n",
    "    # Set the margin to zero if the action chosen matches \n",
    "    # the expert action.     \n",
    "    margins = np.repeat(margin, q_values.shape)\n",
    "    margins[expert_action] = 0.\n",
    "    loss = max(q_values + margins) - q_values[expert_action]\n",
    "    return loss"
   ]
  },
  {
   "cell_type": "code",
   "execution_count": 41,
   "metadata": {},
   "outputs": [],
   "source": [
    "q_values = np.array([0.1, 0.1, 0.6, 0.2])\n",
    "action = 2\n",
    "expert_action = 3\n",
    "margin = 0.1"
   ]
  },
  {
   "cell_type": "code",
   "execution_count": 42,
   "metadata": {},
   "outputs": [
    {
     "data": {
      "text/plain": [
       "0.49999999999999994"
      ]
     },
     "execution_count": 42,
     "metadata": {},
     "output_type": "execute_result"
    }
   ],
   "source": [
    "numpy_margin_loss(q_values, action, expert_action, margin)"
   ]
  },
  {
   "cell_type": "code",
   "execution_count": 43,
   "metadata": {},
   "outputs": [
    {
     "name": "stdout",
     "output_type": "stream",
     "text": [
      "Action 0, Expert Action 0, Loss 7.80\n",
      "Action 0, Expert Action 1, Loss 7.80\n",
      "Action 0, Expert Action 2, Loss 0.00\n",
      "Action 0, Expert Action 3, Loss 7.70\n",
      "Action 1, Expert Action 0, Loss 7.80\n",
      "Action 1, Expert Action 1, Loss 7.80\n",
      "Action 1, Expert Action 2, Loss 0.00\n",
      "Action 1, Expert Action 3, Loss 7.70\n",
      "Action 2, Expert Action 0, Loss 7.80\n",
      "Action 2, Expert Action 1, Loss 7.80\n",
      "Action 2, Expert Action 2, Loss 0.00\n",
      "Action 2, Expert Action 3, Loss 7.70\n",
      "Action 3, Expert Action 0, Loss 7.80\n",
      "Action 3, Expert Action 1, Loss 7.80\n",
      "Action 3, Expert Action 2, Loss 0.00\n",
      "Action 3, Expert Action 3, Loss 7.70\n"
     ]
    }
   ],
   "source": [
    "for i in range(4):\n",
    "    for j in range(4):\n",
    "        loss = numpy_margin_loss(\n",
    "            q_values=np.array([0.1, 0.1, 7.6, 0.2]), \n",
    "            action=i, \n",
    "            expert_action=j, \n",
    "            margin=0.3)\n",
    "        print(\"Action {0}, Expert Action {1}, Loss {2:4.2f}\".format(i,j,loss))"
   ]
  },
  {
   "cell_type": "code",
   "execution_count": 44,
   "metadata": {},
   "outputs": [],
   "source": [
    "def numpy_multiple_margin_loss(q_values, actions, expert_actions, margin):\n",
    "    \"\"\" Apply the margin loss to a batch of inputs. \"\"\"\n",
    "    margins = np.ones(q_values.shape) * margin\n",
    "    row_indices = np.where(actions == expert_actions)[0]\n",
    "    margins[row_indices, actions[row_indices]] = 0.\n",
    "    return np.max(q_values + margins, axis=1) - np.choose(expert_actions, q_values.T)"
   ]
  },
  {
   "cell_type": "code",
   "execution_count": 45,
   "metadata": {},
   "outputs": [
    {
     "data": {
      "text/plain": [
       "array([1.1, 0.4, 1.1])"
      ]
     },
     "execution_count": 45,
     "metadata": {},
     "output_type": "execute_result"
    }
   ],
   "source": [
    "numpy_multiple_margin_loss(\n",
    "    q_values=np.array([[0.1, 0.1, 0.9], \n",
    "                        [0.1, 0.2, 0.1],\n",
    "                       [0.1, 0.1, 0.9]\n",
    "                      ]),\n",
    "    actions=np.array([0, 0, 1]),\n",
    "    expert_actions=np.array([1, 0, 1]),\n",
    "    margin=0.3\n",
    ")"
   ]
  },
  {
   "cell_type": "code",
   "execution_count": 47,
   "metadata": {},
   "outputs": [
    {
     "data": {
      "text/plain": [
       "1.0999999999999999"
      ]
     },
     "execution_count": 47,
     "metadata": {},
     "output_type": "execute_result"
    }
   ],
   "source": [
    "numpy_margin_loss(\n",
    "    q_values=np.array([0.1, 0.1, 0.9]), \n",
    "    action=0, \n",
    "    expert_action=1, \n",
    "    margin=0.3)"
   ]
  },
  {
   "cell_type": "code",
   "execution_count": 48,
   "metadata": {},
   "outputs": [
    {
     "data": {
      "text/plain": [
       "0.4"
      ]
     },
     "execution_count": 48,
     "metadata": {},
     "output_type": "execute_result"
    }
   ],
   "source": [
    "numpy_margin_loss(\n",
    "    q_values=np.array([0.1, 0.2, 0.1]), \n",
    "    action=0, \n",
    "    expert_action=0, \n",
    "    margin=0.3)"
   ]
  },
  {
   "cell_type": "code",
   "execution_count": 49,
   "metadata": {},
   "outputs": [
    {
     "data": {
      "text/plain": [
       "1.0999999999999999"
      ]
     },
     "execution_count": 49,
     "metadata": {},
     "output_type": "execute_result"
    }
   ],
   "source": [
    "numpy_margin_loss(\n",
    "    q_values=np.array([0.1, 0.1, 0.9]), \n",
    "    action=1, \n",
    "    expert_action=1, \n",
    "    margin=0.3)"
   ]
  },
  {
   "cell_type": "code",
   "execution_count": 46,
   "metadata": {},
   "outputs": [
    {
     "data": {
      "text/plain": [
       "array([0.1, 0.1, 0.1])"
      ]
     },
     "execution_count": 46,
     "metadata": {},
     "output_type": "execute_result"
    }
   ],
   "source": [
    "x = np.array([[0.1, 0.1, 0.2], \n",
    "                        [0.1, 0.2, 0.1],\n",
    "                       [0.1, 0.1, 0.2]\n",
    "                      ])\n",
    "indices = [0, 0, 0]\n",
    "np.choose(indices, x.T)"
   ]
  },
  {
   "cell_type": "code",
   "execution_count": 78,
   "metadata": {},
   "outputs": [],
   "source": [
    "q_values = torch.FloatTensor([\n",
    "    [0.1, 0.1, 0.9], \n",
    "    [0.1, 0.2, 0.1],\n",
    "    [0.1, 0.1, 0.9]\n",
    "])\n",
    "\n",
    "actions = torch.LongTensor([0, 0, 1])\n",
    "expert_actions = torch.LongTensor([1, 0, 1])"
   ]
  },
  {
   "cell_type": "code",
   "execution_count": 126,
   "metadata": {},
   "outputs": [],
   "source": [
    "def torch_margin_loss(q_values, actions, expert_actions, margin):\n",
    "    \"\"\" Margin loss in torch. \"\"\"\n",
    "    \n",
    "    # Calculate the margins and set them to zero where\n",
    "    # expert action and chosen action agree. \n",
    "    margins = torch.ones_like(q_values) * margin\n",
    "    indices = torch.where(actions == expert_actions)[0]\n",
    "    margins[indices, expert_actions[indices]] = 0.\n",
    "\n",
    "    \n",
    "    loss_term1 = torch.max(q_values + margins, axis=1)[0]\n",
    "    loss_term2 = torch.take(q_values, expert_actions)\n",
    "    \n",
    "    return loss_term1 - loss_term2"
   ]
  },
  {
   "cell_type": "code",
   "execution_count": 127,
   "metadata": {},
   "outputs": [
    {
     "data": {
      "text/plain": [
       "tensor([1.1000, 0.4000, 1.1000])"
      ]
     },
     "execution_count": 127,
     "metadata": {},
     "output_type": "execute_result"
    }
   ],
   "source": [
    "torch_margin_loss(\n",
    "    q_values=q_values,\n",
    "    actions=actions,\n",
    "    expert_actions=expert_actions,\n",
    "    margin=0.3\n",
    ")"
   ]
  },
  {
   "cell_type": "code",
   "execution_count": 129,
   "metadata": {},
   "outputs": [],
   "source": [
    "def torch_nstep_td_loss(online_model, target_model, actions, states, nth_states, \n",
    "                        discounted_rewards, dones, n, gamma):\n",
    "    \"\"\" Calculate the n-step TD-loss using pytorch.  We assume that the discounted sum over\n",
    "        rewards up to the n-th state has already been performed.  \n",
    "    \"\"\"\n",
    "    \n",
    "    # Predict the value of the current and next state using the \n",
    "    # online and target networks respectively. \n",
    "    q_values = online_model(states)\n",
    "    nth_q_values = target_model(nth_states)\n",
    "    \n",
    "    # Mask those states for which the next state is terminal.\n",
    "    q_values = q_values.gather(1, actions.view(-1,1)).squeeze(1)\n",
    "    nth_q_values = nth_q_values.max(1).values\n",
    "\n",
    "    qhat = (discounted_rewards + gamma**n * nth_q_values * (1 - dones))\n",
    "    loss = (q_values - qhat.detach()).pow(2)\n",
    "    loss = loss.mean()\n",
    "    return loss"
   ]
  },
  {
   "cell_type": "code",
   "execution_count": 133,
   "metadata": {},
   "outputs": [],
   "source": [
    "# Setup some fake action/states to predict \n",
    "# loss with.\n",
    "samples = 4\n",
    "input_shape = (3, 12, 12)\n",
    "output_shape = 3\n",
    "\n",
    "states = np.random.randint(0, 256, size=(samples, *input_shape))\n",
    "next_states = np.random.randint(0, 256, size=(samples, *input_shape))\n",
    "actions = np.random.randint(0, output_shape, size=(samples,))\n",
    "rewards = np.random.randint(0, 2, size=(samples,))\n",
    "dones = np.random.choice([True, False], samples, p=[0.1, 0.9])"
   ]
  },
  {
   "cell_type": "code",
   "execution_count": 134,
   "metadata": {},
   "outputs": [],
   "source": [
    "states = torchify_float(states)\n",
    "actions = torchify_long(np.int8(actions))\n",
    "next_states = torchify_float(next_states)\n",
    "rewards = torchify_float(rewards)\n",
    "dones = torchify_float(dones)"
   ]
  },
  {
   "cell_type": "code",
   "execution_count": 135,
   "metadata": {},
   "outputs": [
    {
     "data": {
      "text/plain": [
       "tensor(7394.2075, grad_fn=<MeanBackward0>)"
      ]
     },
     "execution_count": 135,
     "metadata": {},
     "output_type": "execute_result"
    }
   ],
   "source": [
    "torch_nstep_td_loss(\n",
    "    online_model=fake_model, \n",
    "    target_model=fake_model,\n",
    "    states=states,\n",
    "    actions=actions,\n",
    "    nth_states=next_states,\n",
    "    discounted_rewards=rewards,\n",
    "    dones=dones,\n",
    "    gamma=0.99,\n",
    "    n=1\n",
    ")"
   ]
  },
  {
   "cell_type": "code",
   "execution_count": 136,
   "metadata": {},
   "outputs": [
    {
     "data": {
      "text/plain": [
       "tensor(7394.2075, grad_fn=<MeanBackward0>)"
      ]
     },
     "execution_count": 136,
     "metadata": {},
     "output_type": "execute_result"
    }
   ],
   "source": [
    "torch_td_loss(\n",
    "    online_model=fake_model, \n",
    "    target_model=fake_model,\n",
    "    states=states,\n",
    "    actions=actions,\n",
    "    next_states=next_states,\n",
    "    rewards=rewards,\n",
    "    dones=dones,\n",
    "    gamma=0.99,\n",
    ")"
   ]
  },
  {
   "cell_type": "code",
   "execution_count": 139,
   "metadata": {},
   "outputs": [
    {
     "data": {
      "text/plain": [
       "tensor(6218.5317, grad_fn=<MeanBackward0>)"
      ]
     },
     "execution_count": 139,
     "metadata": {},
     "output_type": "execute_result"
    }
   ],
   "source": [
    "torch_nstep_td_loss(\n",
    "    online_model=fake_model, \n",
    "    target_model=fake_model,\n",
    "    states=states,\n",
    "    actions=actions,\n",
    "    nth_states=next_states,\n",
    "    discounted_rewards=rewards,\n",
    "    dones=dones,\n",
    "    gamma=0.99,\n",
    "    n=8\n",
    ")"
   ]
  },
  {
   "cell_type": "code",
   "execution_count": 155,
   "metadata": {},
   "outputs": [],
   "source": [
    "def torch_l2_penalty(parameters):\n",
    "    \n",
    "    loss = 0.\n",
    "    for p in parameters:\n",
    "        loss += torch.sum(p ** 2)\n",
    "        \n",
    "    return loss"
   ]
  },
  {
   "cell_type": "code",
   "execution_count": 156,
   "metadata": {},
   "outputs": [
    {
     "data": {
      "text/plain": [
       "(tensor([1, 0, 1, 0]), tensor(2.))"
      ]
     },
     "execution_count": 156,
     "metadata": {},
     "output_type": "execute_result"
    }
   ],
   "source": [
    "actions, torch_l2_penalty(actions)"
   ]
  },
  {
   "cell_type": "code",
   "execution_count": 157,
   "metadata": {},
   "outputs": [
    {
     "name": "stdout",
     "output_type": "stream",
     "text": [
      "tensor(14.)\n"
     ]
    }
   ],
   "source": [
    "x = torch.FloatTensor([1., 2., 3.])\n",
    "print(torch_l2_penalty(x))"
   ]
  },
  {
   "cell_type": "code",
   "execution_count": 158,
   "metadata": {},
   "outputs": [
    {
     "data": {
      "text/plain": [
       "tensor(1.0026, grad_fn=<AddBackward0>)"
      ]
     },
     "execution_count": 158,
     "metadata": {},
     "output_type": "execute_result"
    }
   ],
   "source": [
    "torch_l2_penalty(fake_model.parameters())"
   ]
  },
  {
   "cell_type": "code",
   "execution_count": 176,
   "metadata": {},
   "outputs": [],
   "source": [
    "def torch_dqfd_loss(online_model, target_model, actions, states, next_states, nth_states, \n",
    "                    rewards, discounted_rewards, dones, gamma, n, coef1, coef2, coef3,\n",
    "                    margin, expert_actions\n",
    "                   ):\n",
    "    \"\"\" Construct the full DQfD loss from the four component loss functions. \"\"\"\n",
    "    \n",
    "    td_loss = torch_td_loss(\n",
    "        online_model=online_model, \n",
    "        target_model=target_model, \n",
    "        actions=actions, states=states, \n",
    "        next_states=next_states, rewards=rewards, \n",
    "        dones=dones, gamma=gamma)\n",
    "    \n",
    "    ntd_loss = torch_nstep_td_loss(\n",
    "        online_model=online_model, target_model=target_model, \n",
    "        actions=actions, states=states, \n",
    "        nth_states=nth_states, \n",
    "        discounted_rewards=discounted_rewards, \n",
    "        dones=dones, gamma=gamma, n=n)\n",
    "    \n",
    "    q_values = online_model(states)\n",
    "    margin_loss = torch_margin_loss(q_values, actions, expert_actions, margin)\n",
    "    l2_loss = torch_l2_penalty(online_model.parameters())\n",
    "    \n",
    "    return td_loss + coef1 * ntd_loss + coef2 * margin_loss + + coef3 * l2_loss"
   ]
  },
  {
   "cell_type": "code",
   "execution_count": 177,
   "metadata": {},
   "outputs": [
    {
     "data": {
      "text/plain": [
       "tensor([14788.4150, 14859.6572, 14791.2627, 14813.2734],\n",
       "       grad_fn=<AddBackward0>)"
      ]
     },
     "execution_count": 177,
     "metadata": {},
     "output_type": "execute_result"
    }
   ],
   "source": [
    "torch_dqfd_loss(\n",
    "    online_model=fake_model,\n",
    "    target_model=fake_model,\n",
    "    actions=actions, states=states,\n",
    "    next_states=next_states, nth_states=next_states,\n",
    "    rewards=rewards, discounted_rewards=rewards,\n",
    "    dones=dones, gamma=0.99, n=1,\n",
    "    coef1=1., coef2=1., coef3=1e-5,\n",
    "    margin=0.8, expert_actions=actions\n",
    ")"
   ]
  },
  {
   "cell_type": "code",
   "execution_count": 196,
   "metadata": {},
   "outputs": [
    {
     "data": {
      "text/plain": [
       "array([[0, 0, 0, 0, 0, 0, 0, 1, 0, 0, 0, 0],\n",
       "       [0, 0, 0, 0, 0, 0, 0, 0, 0, 0, 0, 0],\n",
       "       [0, 1, 0, 0, 0, 0, 0, 1, 0, 0, 0, 0],\n",
       "       [0, 0, 0, 0, 0, 0, 1, 0, 0, 0, 0, 0],\n",
       "       [0, 0, 0, 0, 1, 0, 1, 0, 0, 0, 0, 0],\n",
       "       [0, 1, 0, 0, 0, 0, 0, 0, 0, 0, 0, 0],\n",
       "       [0, 1, 0, 0, 0, 0, 1, 0, 0, 0, 0, 0],\n",
       "       [0, 0, 0, 0, 0, 1, 0, 0, 0, 0, 0, 0],\n",
       "       [0, 0, 0, 0, 0, 1, 1, 0, 0, 0, 0, 0],\n",
       "       [0, 0, 0, 0, 0, 1, 0, 1, 0, 0, 0, 0],\n",
       "       [0, 1, 0, 0, 1, 0, 0, 1, 0, 0, 0, 0],\n",
       "       [0, 0, 0, 0, 1, 0, 0, 0, 0, 0, 0, 0]], dtype=int8)"
      ]
     },
     "execution_count": 196,
     "metadata": {},
     "output_type": "execute_result"
    }
   ],
   "source": [
    "unique_actions"
   ]
  },
  {
   "cell_type": "code",
   "execution_count": 200,
   "metadata": {},
   "outputs": [],
   "source": [
    "encoding = {}\n",
    "\n",
    "for i, action in enumerate(unique_actions):\n",
    "    encoding[tuple(action)] = i"
   ]
  },
  {
   "cell_type": "code",
   "execution_count": 201,
   "metadata": {},
   "outputs": [
    {
     "name": "stdout",
     "output_type": "stream",
     "text": [
      "(0, 0, 0, 0, 0, 0, 0, 1, 0, 0, 0, 0) 0\n",
      "(0, 0, 0, 0, 0, 0, 0, 0, 0, 0, 0, 0) 1\n",
      "(0, 1, 0, 0, 0, 0, 0, 1, 0, 0, 0, 0) 2\n",
      "(0, 0, 0, 0, 0, 0, 1, 0, 0, 0, 0, 0) 3\n",
      "(0, 0, 0, 0, 1, 0, 1, 0, 0, 0, 0, 0) 4\n",
      "(0, 1, 0, 0, 0, 0, 0, 0, 0, 0, 0, 0) 5\n",
      "(0, 1, 0, 0, 0, 0, 1, 0, 0, 0, 0, 0) 6\n",
      "(0, 0, 0, 0, 0, 1, 0, 0, 0, 0, 0, 0) 7\n",
      "(0, 0, 0, 0, 0, 1, 1, 0, 0, 0, 0, 0) 8\n",
      "(0, 0, 0, 0, 0, 1, 0, 1, 0, 0, 0, 0) 9\n",
      "(0, 1, 0, 0, 1, 0, 0, 1, 0, 0, 0, 0) 10\n",
      "(0, 0, 0, 0, 1, 0, 0, 0, 0, 0, 0, 0) 11\n"
     ]
    }
   ],
   "source": [
    "for key, value in encoding.items():\n",
    "    print(key, value)"
   ]
  },
  {
   "cell_type": "code",
   "execution_count": 218,
   "metadata": {},
   "outputs": [],
   "source": [
    "def encode_actions(actions, encoding):\n",
    "    \"\"\" Using the encoder dictionary, encode all of the actions\n",
    "        provided. \n",
    "    \"\"\"\n",
    "    \n",
    "    encoded = np.zeros(len(actions), dtype=np.int8)\n",
    "    for i, action in enumerate(actions):\n",
    "        \n",
    "        encoded[i] = encoding[tuple(action)]\n",
    "        \n",
    "    return encoded\n",
    "\n",
    "def decode_actions(actions, decoding):\n",
    "    \"\"\" Using the encoder dictionary, encode all of the actions\n",
    "        provided. \n",
    "    \"\"\"\n",
    "    \n",
    "    decoded = []\n",
    "    for i, action in enumerate(actions):\n",
    "        \n",
    "        decoded.append(decoding[action])\n",
    "        \n",
    "    return np.array(decoded, np.int8)"
   ]
  },
  {
   "cell_type": "code",
   "execution_count": 216,
   "metadata": {},
   "outputs": [],
   "source": [
    "y_test_encoded = encode_actions(y_test, encoding)"
   ]
  },
  {
   "cell_type": "code",
   "execution_count": 217,
   "metadata": {},
   "outputs": [
    {
     "data": {
      "text/plain": [
       "array([ 1,  0,  2,  0,  0,  0,  0,  0,  8,  2,  0,  3,  1,  1,  0,  0,  0,\n",
       "        1,  0,  7,  0,  2,  1,  0,  0,  0,  1,  0,  3,  2,  0,  0,  0,  0,\n",
       "        1,  0,  2,  0,  0,  0,  0, 10,  0,  1,  4,  1,  0,  0,  0,  0,  0,\n",
       "        0,  1,  0,  0,  0,  0,  2,  0,  2,  1,  1,  0,  1,  1,  1,  1,  0,\n",
       "        1,  0,  0,  2,  1,  1,  1,  0,  0,  0,  0,  0,  2,  0,  0,  0,  1,\n",
       "        2,  2,  1,  0,  0,  0,  0,  0,  1,  1,  1,  0,  0,  0,  2,  3,  0,\n",
       "        1,  0,  0,  0,  2,  3,  1,  0,  2,  0,  0,  1,  0,  0,  0,  1,  1,\n",
       "        0,  0,  1,  0,  1,  1,  0,  0,  0,  0,  0,  1,  3,  1,  1,  0,  0,\n",
       "        1,  1,  1,  1,  0,  0,  1,  1,  0,  2,  0,  0,  0,  1,  0,  0,  0,\n",
       "        1,  1,  0,  1,  0,  1,  5,  5,  0,  1,  0,  0,  0,  1,  6,  0,  0,\n",
       "        0,  0,  0,  0,  0,  0,  1,  0,  0,  0,  0,  1,  3,  2,  6,  0,  0,\n",
       "        1,  0,  0,  0,  0,  0,  0,  0,  0,  1,  1,  2,  0,  0,  1,  3,  0,\n",
       "        1,  1,  1,  0,  0,  0,  0,  5,  0,  0,  0,  0,  0,  0,  1,  1,  0,\n",
       "        0,  0,  0,  0,  0,  0,  0,  2,  1,  0,  1,  1,  0,  1,  4,  0,  0,\n",
       "        1,  3,  0,  2,  1,  1,  1,  0,  1,  0,  0,  0,  0,  1,  0,  3,  0,\n",
       "        1,  1,  0,  0,  0,  0,  2,  1,  1,  1,  0,  0,  3,  1,  3,  1,  0,\n",
       "        1,  0,  0,  0,  0,  0,  0,  0,  0,  0,  2,  0,  0,  1,  0,  0,  0,\n",
       "        3,  1,  0,  1,  0,  1,  0,  0,  3,  0,  4,  0,  1,  1,  0,  0,  3,\n",
       "        0,  0,  0,  0,  0,  1,  0,  0,  0,  2,  0,  0,  3,  0,  1,  0,  0,\n",
       "        1,  1,  1,  0,  1,  0,  0,  0,  0,  2,  0,  0,  0,  3,  0,  2,  2,\n",
       "        0,  1,  0,  2,  0,  0,  0,  1,  1,  0,  0,  0,  0,  2,  0,  0,  1,\n",
       "        3,  1,  0,  0,  1,  1,  1,  1,  1,  2,  0,  1,  1,  0,  0,  2,  0,\n",
       "        2,  0,  3,  0,  3,  0,  0,  0,  1,  0,  2,  0,  1,  0,  3,  1,  0,\n",
       "        1,  1,  1,  1,  0,  0,  2,  0,  0,  0,  0,  0,  0,  0,  1,  2,  1,\n",
       "        0,  1,  0,  0,  0,  0,  1,  0,  1,  0,  0,  0,  0,  0,  1,  0,  0,\n",
       "        0,  0,  2,  0,  0,  0,  3,  0,  1,  0,  1,  0,  0,  1,  4,  1,  0,\n",
       "        3,  0,  1,  0,  0,  0,  4,  0,  0,  1,  1,  2,  1,  0,  2,  1,  0,\n",
       "        0,  1,  0,  2,  0,  0,  2,  1,  2,  3,  0,  0,  1,  0,  0,  2,  0,\n",
       "        1,  0,  0,  3,  0,  6,  1,  0,  0,  1,  2,  3,  0,  0,  2,  1,  3,\n",
       "        0,  1,  0,  0,  0,  1,  0,  0,  0,  0,  2,  0,  8,  0,  3,  0,  0,\n",
       "        1,  0,  0,  0,  0,  4,  0,  0,  1,  2,  0,  0,  1,  0,  2,  1,  0,\n",
       "        1,  9,  1,  0,  0,  0,  0,  0,  1,  0,  0,  0,  1,  0,  6,  0,  0,\n",
       "        0,  0,  0,  0,  1,  0,  1, 10,  0,  2,  0,  0,  0,  0,  0,  7,  1,\n",
       "        0,  1,  0,  0,  1,  4,  0,  1,  0,  0,  0,  7,  1,  0,  0,  0,  0,\n",
       "        1,  0,  0,  1,  0,  0,  0,  0,  1,  1,  3,  1,  0,  1,  0,  2,  0,\n",
       "        1,  0,  0,  1,  1,  2,  0,  0,  1,  0,  1,  1,  1,  0,  1,  0,  1,\n",
       "        0,  0,  1,  1,  1,  1,  0,  1,  0,  0,  1,  0,  0,  0,  0,  0,  0,\n",
       "        0,  0,  0,  0,  0,  0,  0,  0,  0,  1,  0,  1,  1,  6,  0,  0,  1,\n",
       "        3,  1,  2,  1,  3,  0,  0,  1,  1,  1,  0,  1,  2,  0,  0,  0,  0,\n",
       "        9,  0,  0,  1,  1,  0,  0,  0,  0,  0,  2,  0,  0,  0,  0,  1,  2,\n",
       "        1,  0,  0,  1,  0,  0,  0,  6,  0,  0,  0,  0,  2,  0,  0,  0,  0,\n",
       "        0,  3,  1,  0,  0,  3,  1,  0,  0,  3,  1,  1,  1,  1,  0,  1,  1,\n",
       "        2,  0,  1,  0,  0,  0,  0,  0,  1,  0,  0,  1,  1,  1,  0,  1,  2,\n",
       "        1,  0,  0,  0,  0,  0,  1,  3,  0,  0,  0,  0,  0,  0,  1,  1,  0,\n",
       "        0,  0,  0,  0,  0,  1,  0,  0,  0,  0,  3,  1,  0,  0,  0,  6,  0,\n",
       "        0,  1,  0,  2,  5,  0,  0,  2,  0,  1,  0,  1,  3,  0,  0,  0,  2,\n",
       "        0,  2,  1,  0,  0,  3,  4,  0,  0,  4,  4,  3,  1,  1,  3,  0],\n",
       "      dtype=int8)"
      ]
     },
     "execution_count": 217,
     "metadata": {},
     "output_type": "execute_result"
    }
   ],
   "source": [
    "y_test_encoded"
   ]
  },
  {
   "cell_type": "code",
   "execution_count": 209,
   "metadata": {},
   "outputs": [
    {
     "name": "stdout",
     "output_type": "stream",
     "text": [
      "{0: (0, 0, 0, 0, 0, 0, 0, 1, 0, 0, 0, 0), 1: (0, 0, 0, 0, 0, 0, 0, 0, 0, 0, 0, 0), 2: (0, 1, 0, 0, 0, 0, 0, 1, 0, 0, 0, 0), 3: (0, 0, 0, 0, 0, 0, 1, 0, 0, 0, 0, 0), 4: (0, 0, 0, 0, 1, 0, 1, 0, 0, 0, 0, 0), 5: (0, 1, 0, 0, 0, 0, 0, 0, 0, 0, 0, 0), 6: (0, 1, 0, 0, 0, 0, 1, 0, 0, 0, 0, 0), 7: (0, 0, 0, 0, 0, 1, 0, 0, 0, 0, 0, 0), 8: (0, 0, 0, 0, 0, 1, 1, 0, 0, 0, 0, 0), 9: (0, 0, 0, 0, 0, 1, 0, 1, 0, 0, 0, 0), 10: (0, 1, 0, 0, 1, 0, 0, 1, 0, 0, 0, 0), 11: (0, 0, 0, 0, 1, 0, 0, 0, 0, 0, 0, 0)}\n"
     ]
    }
   ],
   "source": [
    "decoding = { value:key for key, value in encoding.items() }\n",
    "print(decoding)"
   ]
  },
  {
   "cell_type": "code",
   "execution_count": 219,
   "metadata": {},
   "outputs": [
    {
     "data": {
      "text/plain": [
       "array([[0, 0, 0, ..., 0, 0, 0],\n",
       "       [0, 0, 0, ..., 0, 0, 0],\n",
       "       [0, 1, 0, ..., 0, 0, 0],\n",
       "       ...,\n",
       "       [0, 0, 0, ..., 0, 0, 0],\n",
       "       [0, 0, 0, ..., 0, 0, 0],\n",
       "       [0, 0, 0, ..., 0, 0, 0]], dtype=int8)"
      ]
     },
     "execution_count": 219,
     "metadata": {},
     "output_type": "execute_result"
    }
   ],
   "source": [
    "decode_actions(y_test_encoded, decoding)"
   ]
  },
  {
   "cell_type": "code",
   "execution_count": 220,
   "metadata": {},
   "outputs": [],
   "source": [
    "y_train_enc = encode_actions(y_train, encoding)\n",
    "y_test_enc = encode_actions(y_test, encoding)"
   ]
  },
  {
   "cell_type": "code",
   "execution_count": 223,
   "metadata": {},
   "outputs": [
    {
     "data": {
      "text/plain": [
       "((2393,), (798,))"
      ]
     },
     "execution_count": 223,
     "metadata": {},
     "output_type": "execute_result"
    }
   ],
   "source": [
    "y_train_enc.shape, y_test_enc.shape"
   ]
  },
  {
   "cell_type": "code",
   "execution_count": 225,
   "metadata": {},
   "outputs": [],
   "source": [
    "n_actions = len(unique_actions)"
   ]
  },
  {
   "cell_type": "code",
   "execution_count": 226,
   "metadata": {},
   "outputs": [
    {
     "data": {
      "text/plain": [
       "12"
      ]
     },
     "execution_count": 226,
     "metadata": {},
     "output_type": "execute_result"
    }
   ],
   "source": [
    "n_actions"
   ]
  },
  {
   "cell_type": "code",
   "execution_count": 227,
   "metadata": {},
   "outputs": [],
   "source": [
    "class SonicNet(nn.Module):\n",
    "    \"\"\" A simple deep q-network architecture to be used for predicing \n",
    "        action-values from states.\n",
    "    \"\"\"\n",
    "    \n",
    "    def __init__(self, input_shape, output_shape):\n",
    "        super(SonicNet, self).__init__()\n",
    "        self.input_shape = input_shape\n",
    "        self.output_shape = output_shape\n",
    "        \n",
    "        channels, height, width = self.input_shape\n",
    "        self.features = nn.Sequential(\n",
    "            nn.Conv2d(channels, 16, kernel_size=3, stride=1),\n",
    "            nn.ReLU(),\n",
    "            nn.Conv2d(16, 16, kernel_size=3, stride=3),\n",
    "            nn.ReLU(),\n",
    "            nn.Conv2d(16, 16, kernel_size=3, stride=1),\n",
    "            nn.ReLU(),\n",
    "            nn.Conv2d(16, 16, kernel_size=3, stride=3),\n",
    "            nn.Conv2d(16, 16, kernel_size=3, stride=1),\n",
    "            nn.ReLU(),\n",
    "            nn.Conv2d(16, 16, kernel_size=3, stride=3),\n",
    "            nn.ReLU()\n",
    "        )\n",
    "        \n",
    "        self.fully_connected = nn.Sequential(\n",
    "            nn.Linear(self._feature_size(), 256),\n",
    "            nn.ReLU(),\n",
    "            nn.Linear(256, self.output_shape)\n",
    "        )\n",
    "        \n",
    "    def _feature_size(self):\n",
    "        \"\"\" I took this from somewhere and just applied it. \"\"\"\n",
    "        return self.features(autograd.Variable(torch.zeros(1, *self.input_shape))).view(1, -1).size(1)\n",
    "    \n",
    "    def forward(self, x):\n",
    "        x = self.features(x)\n",
    "        x = x.view(x.size(0), -1)\n",
    "        x = self.fully_connected(x)\n",
    "        return x"
   ]
  },
  {
   "cell_type": "code",
   "execution_count": 229,
   "metadata": {},
   "outputs": [],
   "source": [
    "env.close()\n",
    "states, actions, next_states, rewards, dones = extract_human_data(f\"data/human/SonicTheHedgehog-Genesis-{config['level']}-0000.bk2\")"
   ]
  },
  {
   "cell_type": "code",
   "execution_count": 233,
   "metadata": {},
   "outputs": [],
   "source": [
    "online_model, target_model = SonicNet(states[0].shape, n_actions), SonicNet(states[0].shape, n_actions)"
   ]
  },
  {
   "cell_type": "code",
   "execution_count": null,
   "metadata": {},
   "outputs": [],
   "source": [
    "# To Do: Write a code that extracts the n-th state and the \n",
    "# discounted sum of rewards up to the n-th state and builds\n",
    "# transitions for training our little model."
   ]
  }
 ],
 "metadata": {
  "kernelspec": {
   "display_name": "Environment (conda_pytorch_p36)",
   "language": "python",
   "name": "conda_pytorch_p36"
  },
  "language_info": {
   "codemirror_mode": {
    "name": "ipython",
    "version": 3
   },
   "file_extension": ".py",
   "mimetype": "text/x-python",
   "name": "python",
   "nbconvert_exporter": "python",
   "pygments_lexer": "ipython3",
   "version": "3.6.10"
  }
 },
 "nbformat": 4,
 "nbformat_minor": 4
}
