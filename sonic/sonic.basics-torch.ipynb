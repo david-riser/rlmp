{
 "cells": [
  {
   "cell_type": "markdown",
   "metadata": {},
   "source": [
    "### Sonic Basics: PyTorch Edition"
   ]
  },
  {
   "cell_type": "code",
   "execution_count": 7,
   "metadata": {},
   "outputs": [],
   "source": [
    "import base64\n",
    "import gym\n",
    "import io\n",
    "import matplotlib.pyplot as plt\n",
    "import numpy as np\n",
    "import os\n",
    "import pandas as pd\n",
    "import retro\n",
    "import sys\n",
    "import tensorflow as tf\n",
    "import time\n",
    "\n",
    "from gym import wrappers\n",
    "from IPython.display import clear_output\n",
    "from sklearn.model_selection import train_test_split\n",
    "from sklearn.preprocessing import LabelEncoder, OneHotEncoder\n",
    "\n",
    "%matplotlib inline"
   ]
  },
  {
   "cell_type": "code",
   "execution_count": 8,
   "metadata": {},
   "outputs": [],
   "source": [
    "project_dir = os.path.abspath('.')\n",
    "sys.path.append(os.path.join(project_dir, 'sonic'))"
   ]
  },
  {
   "cell_type": "code",
   "execution_count": 25,
   "metadata": {},
   "outputs": [],
   "source": [
    "from sonic import utils"
   ]
  },
  {
   "cell_type": "code",
   "execution_count": 11,
   "metadata": {},
   "outputs": [
    {
     "name": "stdout",
     "output_type": "stream",
     "text": [
      "This notebook has access to 4 CPUs.\n"
     ]
    }
   ],
   "source": [
    "n_cpu = os.cpu_count()\n",
    "print(f\"This notebook has access to {n_cpu} CPUs.\")"
   ]
  },
  {
   "cell_type": "code",
   "execution_count": 12,
   "metadata": {},
   "outputs": [],
   "source": [
    "levels = [\n",
    "    'MarbleZone.Act1','MarbleZone.Act2','MarbleZone.Act3',\n",
    "    'GreenHillZone.Act1','GreenHillZone.Act2','GreenHillZone.Act3',\n",
    "    'LabyrinthZone.Act1','LabyrinthZone.Act2','LabyrinthZone.Act3', \n",
    "    'SpringYardZone.Act1','SpringYardZone.Act2','SpringYardZone.Act3', \n",
    "    'StarLightZone.Act1','StarLightZone.Act2','StarLightZone.Act3',\n",
    "    'ScrapBrainZone.Act1','ScrapBrainZone.Act2' \n",
    "]\n",
    "\n",
    "config = {}\n",
    "config['data_path'] = os.path.abspath(\"./data/human\")\n",
    "config['level'] = 'GreenHillZone.Act1'\n",
    "\n",
    "config['epochs'] = 30\n",
    "config['batches_per_epoch'] = 10\n",
    "config['batch_size'] = 32\n",
    "config['patience'] = 5"
   ]
  },
  {
   "cell_type": "code",
   "execution_count": 26,
   "metadata": {},
   "outputs": [
    {
     "ename": "RuntimeError",
     "evalue": "Cannot create multiple emulator instances per process, make sure to call env.close() on each environment before creating a new one",
     "output_type": "error",
     "traceback": [
      "\u001b[0;31m---------------------------------------------------------------------------\u001b[0m",
      "\u001b[0;31mRuntimeError\u001b[0m                              Traceback (most recent call last)",
      "\u001b[0;32m<ipython-input-26-7c923401abae>\u001b[0m in \u001b[0;36m<module>\u001b[0;34m\u001b[0m\n\u001b[0;32m----> 1\u001b[0;31m \u001b[0mstates\u001b[0m\u001b[0;34m,\u001b[0m \u001b[0mactions\u001b[0m\u001b[0;34m,\u001b[0m \u001b[0mnext_states\u001b[0m\u001b[0;34m,\u001b[0m \u001b[0mrewards\u001b[0m\u001b[0;34m,\u001b[0m \u001b[0mdones\u001b[0m \u001b[0;34m=\u001b[0m \u001b[0mutils\u001b[0m\u001b[0;34m.\u001b[0m\u001b[0mextract_human_data\u001b[0m\u001b[0;34m(\u001b[0m\u001b[0;34mf\"data/human/SonicTheHedgehog-Genesis-{config['level']}-0000.bk2\"\u001b[0m\u001b[0;34m)\u001b[0m\u001b[0;34m\u001b[0m\u001b[0;34m\u001b[0m\u001b[0m\n\u001b[0m",
      "\u001b[0;32m~/rlmp/sonic/sonic/utils.py\u001b[0m in \u001b[0;36mextract_human_data\u001b[0;34m(movie_path)\u001b[0m\n\u001b[1;32m     21\u001b[0m \u001b[0;34m\u001b[0m\u001b[0m\n\u001b[1;32m     22\u001b[0m     env = retro.make(game=movie.get_game(), state=retro.State.NONE, \n\u001b[0;32m---> 23\u001b[0;31m                      use_restricted_actions=retro.Actions.ALL)\n\u001b[0m\u001b[1;32m     24\u001b[0m     \u001b[0menv\u001b[0m\u001b[0;34m.\u001b[0m\u001b[0minitial_state\u001b[0m \u001b[0;34m=\u001b[0m \u001b[0mmovie\u001b[0m\u001b[0;34m.\u001b[0m\u001b[0mget_state\u001b[0m\u001b[0;34m(\u001b[0m\u001b[0;34m)\u001b[0m\u001b[0;34m\u001b[0m\u001b[0;34m\u001b[0m\u001b[0m\n\u001b[1;32m     25\u001b[0m     \u001b[0mstate\u001b[0m \u001b[0;34m=\u001b[0m \u001b[0menv\u001b[0m\u001b[0;34m.\u001b[0m\u001b[0mreset\u001b[0m\u001b[0;34m(\u001b[0m\u001b[0;34m)\u001b[0m\u001b[0;34m\u001b[0m\u001b[0;34m\u001b[0m\u001b[0m\n",
      "\u001b[0;32m~/anaconda3/envs/pytorch_p36/lib/python3.6/site-packages/retro/__init__.py\u001b[0m in \u001b[0;36mmake\u001b[0;34m(game, state, inttype, **kwargs)\u001b[0m\n\u001b[1;32m     53\u001b[0m         \u001b[0;32melse\u001b[0m\u001b[0;34m:\u001b[0m\u001b[0;34m\u001b[0m\u001b[0;34m\u001b[0m\u001b[0m\n\u001b[1;32m     54\u001b[0m             \u001b[0;32mraise\u001b[0m \u001b[0mFileNotFoundError\u001b[0m\u001b[0;34m(\u001b[0m\u001b[0;34m'Game not found: %s. Did you make sure to import the ROM?'\u001b[0m \u001b[0;34m%\u001b[0m \u001b[0mgame\u001b[0m\u001b[0;34m)\u001b[0m\u001b[0;34m\u001b[0m\u001b[0;34m\u001b[0m\u001b[0m\n\u001b[0;32m---> 55\u001b[0;31m     \u001b[0;32mreturn\u001b[0m \u001b[0mRetroEnv\u001b[0m\u001b[0;34m(\u001b[0m\u001b[0mgame\u001b[0m\u001b[0;34m,\u001b[0m \u001b[0mstate\u001b[0m\u001b[0;34m,\u001b[0m \u001b[0minttype\u001b[0m\u001b[0;34m=\u001b[0m\u001b[0minttype\u001b[0m\u001b[0;34m,\u001b[0m \u001b[0;34m**\u001b[0m\u001b[0mkwargs\u001b[0m\u001b[0;34m)\u001b[0m\u001b[0;34m\u001b[0m\u001b[0;34m\u001b[0m\u001b[0m\n\u001b[0m",
      "\u001b[0;32m~/anaconda3/envs/pytorch_p36/lib/python3.6/site-packages/retro/retro_env.py\u001b[0m in \u001b[0;36m__init__\u001b[0;34m(self, game, state, scenario, info, use_restricted_actions, record, players, inttype, obs_type)\u001b[0m\n\u001b[1;32m     85\u001b[0m         \u001b[0;31m# emulator, ensure that unused ones are garbage-collected\u001b[0m\u001b[0;34m\u001b[0m\u001b[0;34m\u001b[0m\u001b[0;34m\u001b[0m\u001b[0m\n\u001b[1;32m     86\u001b[0m         \u001b[0mgc\u001b[0m\u001b[0;34m.\u001b[0m\u001b[0mcollect\u001b[0m\u001b[0;34m(\u001b[0m\u001b[0;34m)\u001b[0m\u001b[0;34m\u001b[0m\u001b[0;34m\u001b[0m\u001b[0m\n\u001b[0;32m---> 87\u001b[0;31m         \u001b[0mself\u001b[0m\u001b[0;34m.\u001b[0m\u001b[0mem\u001b[0m \u001b[0;34m=\u001b[0m \u001b[0mretro\u001b[0m\u001b[0;34m.\u001b[0m\u001b[0mRetroEmulator\u001b[0m\u001b[0;34m(\u001b[0m\u001b[0mrom_path\u001b[0m\u001b[0;34m)\u001b[0m\u001b[0;34m\u001b[0m\u001b[0;34m\u001b[0m\u001b[0m\n\u001b[0m\u001b[1;32m     88\u001b[0m         \u001b[0mself\u001b[0m\u001b[0;34m.\u001b[0m\u001b[0mem\u001b[0m\u001b[0;34m.\u001b[0m\u001b[0mconfigure_data\u001b[0m\u001b[0;34m(\u001b[0m\u001b[0mself\u001b[0m\u001b[0;34m.\u001b[0m\u001b[0mdata\u001b[0m\u001b[0;34m)\u001b[0m\u001b[0;34m\u001b[0m\u001b[0;34m\u001b[0m\u001b[0m\n\u001b[1;32m     89\u001b[0m         \u001b[0mself\u001b[0m\u001b[0;34m.\u001b[0m\u001b[0mem\u001b[0m\u001b[0;34m.\u001b[0m\u001b[0mstep\u001b[0m\u001b[0;34m(\u001b[0m\u001b[0;34m)\u001b[0m\u001b[0;34m\u001b[0m\u001b[0;34m\u001b[0m\u001b[0m\n",
      "\u001b[0;31mRuntimeError\u001b[0m: Cannot create multiple emulator instances per process, make sure to call env.close() on each environment before creating a new one"
     ]
    }
   ],
   "source": [
    "states, actions, next_states, rewards, dones = utils.extract_human_data(f\"data/human/SonicTheHedgehog-Genesis-{config['level']}-0000.bk2\")"
   ]
  },
  {
   "cell_type": "code",
   "execution_count": 14,
   "metadata": {},
   "outputs": [
    {
     "name": "stdout",
     "output_type": "stream",
     "text": [
      "[[0 0 0 0 0 0 0 1 0 0 0 0]\n",
      " [0 0 0 0 0 0 0 0 0 0 0 0]\n",
      " [0 1 0 0 0 0 0 1 0 0 0 0]\n",
      " [0 0 0 0 0 0 1 0 0 0 0 0]\n",
      " [0 0 0 0 1 0 1 0 0 0 0 0]\n",
      " [0 1 0 0 0 0 0 0 0 0 0 0]\n",
      " [0 1 0 0 0 0 1 0 0 0 0 0]\n",
      " [0 0 0 0 0 1 0 0 0 0 0 0]\n",
      " [0 0 0 0 0 1 1 0 0 0 0 0]\n",
      " [0 0 0 0 0 1 0 1 0 0 0 0]\n",
      " [0 1 0 0 1 0 0 1 0 0 0 0]\n",
      " [0 0 0 0 1 0 0 0 0 0 0 0]] [1841  881  224  139   38   21   18   16    5    4    3    1]\n"
     ]
    }
   ],
   "source": [
    "unique_actions, counts = np.unique(actions, axis=0, return_counts=True)\n",
    "\n",
    "ordering = np.argsort(counts)[::-1]\n",
    "unique_actions = unique_actions[ordering]\n",
    "counts = counts[ordering]\n",
    "print(unique_actions, counts)\n",
    "\n",
    "n_actions = len(unique_actions)"
   ]
  },
  {
   "cell_type": "code",
   "execution_count": 15,
   "metadata": {},
   "outputs": [
    {
     "name": "stdout",
     "output_type": "stream",
     "text": [
      "Identified 12 unique actions of 4096 possible.\n"
     ]
    }
   ],
   "source": [
    "print(f\"Identified {len(counts)} unique actions of {2**12} possible.\")"
   ]
  },
  {
   "cell_type": "code",
   "execution_count": 16,
   "metadata": {},
   "outputs": [],
   "source": [
    "import torch\n",
    "import torch.autograd as autograd \n",
    "import torch.nn as nn\n",
    "import torch.nn.functional as F\n",
    "import torch.optim as optim"
   ]
  },
  {
   "cell_type": "code",
   "execution_count": 17,
   "metadata": {},
   "outputs": [],
   "source": [
    "class ImitationModel(nn.Module):\n",
    "    \"\"\" Basic convolutional neural network \n",
    "        for imitation learning from Sonic \n",
    "        replay data.\n",
    "    \"\"\"\n",
    "    \n",
    "    def __init__(self, input_shape, output_shape):\n",
    "        super(ImitationModel, self).__init__()\n",
    "        self.input_shape = input_shape\n",
    "        self.output_shape = output_shape\n",
    "        \n",
    "        channels, height, width = self.input_shape\n",
    "        self.features = nn.Sequential(\n",
    "            nn.Conv2d(channels, 16, kernel_size=3, stride=1),\n",
    "            nn.ReLU(),\n",
    "            nn.Conv2d(16, 16, kernel_size=3, stride=3),\n",
    "            nn.ReLU(),\n",
    "            nn.Conv2d(16, 16, kernel_size=3, stride=1),\n",
    "            nn.ReLU(),\n",
    "            nn.Conv2d(16, 16, kernel_size=3, stride=3),\n",
    "            nn.Conv2d(16, 16, kernel_size=3, stride=1),\n",
    "            nn.ReLU(),\n",
    "            nn.Conv2d(16, 16, kernel_size=3, stride=3),\n",
    "            nn.ReLU()\n",
    "        )\n",
    "        \n",
    "        self.fully_connected = nn.Sequential(\n",
    "            nn.Linear(self._feature_size(), 256),\n",
    "            nn.ReLU(),\n",
    "            nn.Linear(256, self.output_shape),\n",
    "            nn.Softmax()\n",
    "        )\n",
    "        \n",
    "    def _feature_size(self):\n",
    "        \"\"\" I took this from somewhere and just applied it. \"\"\"\n",
    "        return self.features(autograd.Variable(torch.zeros(1, *self.input_shape))).view(1, -1).size(1)\n",
    "    \n",
    "    def forward(self, x):\n",
    "        x = self.features(x)\n",
    "        x = x.view(x.size(0), -1)\n",
    "        x = self.fully_connected(x)\n",
    "        return x"
   ]
  },
  {
   "cell_type": "code",
   "execution_count": 18,
   "metadata": {},
   "outputs": [],
   "source": [
    "model = ImitationModel(states[0].shape, n_actions)\n",
    "model = model.cuda()\n",
    "optimizer = optim.Adam(model.parameters(), lr=3e-4)"
   ]
  },
  {
   "cell_type": "code",
   "execution_count": 19,
   "metadata": {},
   "outputs": [],
   "source": [
    "x_train, x_test, y_train, y_test = train_test_split(\n",
    "    np.array(states), np.array(actions))"
   ]
  },
  {
   "cell_type": "code",
   "execution_count": 20,
   "metadata": {},
   "outputs": [],
   "source": [
    "class ModelTrainer:\n",
    "    \"\"\" Trainer for the imitation learning model.  Since this\n",
    "        is basic imitation learning, we will minimize the binary\n",
    "        cross-entropy between action predictions and expert actions.\n",
    "    \"\"\"\n",
    "    def __init__(self, config):\n",
    "        self.config = config\n",
    "        self.train_loss = []\n",
    "        self.train_std = []\n",
    "        self.test_loss = []\n",
    "        self.test_std = []\n",
    "        self.loss_fn = nn.BCELoss()\n",
    "\n",
    "        \n",
    "    def train(self, model, x_train, y_train, x_test, y_test):\n",
    "        \n",
    "        # Setup static objects which persist throughout\n",
    "        # the iterative training cycle. \n",
    "        index_pool = np.arange(x_train.shape[0])\n",
    "        \n",
    "        for epoch in range(self.config['epochs']):\n",
    "            epoch_loss, epoch_std = [], []\n",
    "            for batch in range(self.config['batches_per_epoch']):\n",
    "                indices = np.random.choice(index_pool, self.config['batch_size'], replace=False)\n",
    "                \n",
    "                # Convert the states and actions to pytorch tensors for \n",
    "                # input to the network. \n",
    "                x_batch = autograd.Variable(torch.FloatTensor(x_train[indices]))\n",
    "                y_batch = autograd.Variable(torch.FloatTensor(y_train[indices]))\n",
    "                x_batch, y_batch = x_batch.cuda(), y_batch.cuda()\n",
    "                \n",
    "                # Predict an action\n",
    "                y_pred = model(x_batch)\n",
    "                loss = self.loss_fn(input=y_pred, target=y_batch)\n",
    "                \n",
    "                # Optimize on this batch \n",
    "                optimizer.zero_grad()\n",
    "                loss.backward()\n",
    "                optimizer.step()\n",
    "                \n",
    "                epoch_loss.append(loss.detach().cpu().numpy())\n",
    "                \n",
    "                \n",
    "            # Perform end of epoch events.\n",
    "            self.train_loss.append(np.mean(epoch_loss))\n",
    "            self.train_std.append(np.std(epoch_loss))\n",
    "            mean, std = self.evaluate(model, x_test, y_test, self.config['batch_size'])\n",
    "            self.test_loss.append(mean)\n",
    "            self.test_std.append(std)\n",
    "            print(\"Epoch {0}, Loss {1:6.4f}, Test Loss {2:6.4f}\".format(\n",
    "                epoch, self.train_loss[-1], self.test_loss[-1]))\n",
    "            \n",
    "            \n",
    "    def evaluate(self, model, x_eval, y_eval, batch_size=32):\n",
    "        \"\"\" Evaluate the development or test data with the model\n",
    "            and return the mean performance over batches.\n",
    "        \"\"\"\n",
    "        with torch.no_grad():\n",
    "            batches = x_eval.shape[0] // batch_size\n",
    "            test_loss = []\n",
    "            for batch in range(batches):\n",
    "                x = autograd.Variable(torch.FloatTensor(x_eval[batch * batch_size : (batch + 1) * batch_size]))\n",
    "                y = autograd.Variable(torch.FloatTensor(y_eval[batch * batch_size : (batch + 1) * batch_size]))\n",
    "                x, y, = x.cuda(), y.cuda()\n",
    "                y_pred = model(x)\n",
    "                loss = self.loss_fn(input=y_pred, target=y)\n",
    "                test_loss.append(loss.detach().cpu().numpy())\n",
    "                \n",
    "        return np.mean(test_loss), np.std(test_loss)"
   ]
  },
  {
   "cell_type": "code",
   "execution_count": 21,
   "metadata": {
    "scrolled": false
   },
   "outputs": [
    {
     "name": "stderr",
     "output_type": "stream",
     "text": [
      "/home/ubuntu/anaconda3/envs/pytorch_p36/lib/python3.6/site-packages/torch/nn/modules/container.py:100: UserWarning: Implicit dimension choice for softmax has been deprecated. Change the call to include dim=X as an argument.\n",
      "  input = module(input)\n"
     ]
    },
    {
     "name": "stdout",
     "output_type": "stream",
     "text": [
      "Epoch 0, Loss 0.1747, Test Loss 0.1200\n",
      "Epoch 1, Loss 0.1409, Test Loss 0.1203\n",
      "Epoch 2, Loss 0.1190, Test Loss 0.1048\n",
      "Epoch 3, Loss 0.1199, Test Loss 0.1016\n",
      "Epoch 4, Loss 0.1141, Test Loss 0.0994\n",
      "Epoch 5, Loss 0.1056, Test Loss 0.0973\n",
      "Epoch 6, Loss 0.1031, Test Loss 0.0957\n",
      "Epoch 7, Loss 0.0917, Test Loss 0.0933\n",
      "Epoch 8, Loss 0.0964, Test Loss 0.0896\n",
      "Epoch 9, Loss 0.0996, Test Loss 0.0896\n",
      "Epoch 10, Loss 0.0862, Test Loss 0.0868\n",
      "Epoch 11, Loss 0.0831, Test Loss 0.0851\n",
      "Epoch 12, Loss 0.0867, Test Loss 0.0839\n",
      "Epoch 13, Loss 0.0844, Test Loss 0.0819\n",
      "Epoch 14, Loss 0.0758, Test Loss 0.0857\n",
      "Epoch 15, Loss 0.0719, Test Loss 0.0829\n",
      "Epoch 16, Loss 0.0766, Test Loss 0.0792\n",
      "Epoch 17, Loss 0.0712, Test Loss 0.0759\n",
      "Epoch 18, Loss 0.0658, Test Loss 0.0765\n",
      "Epoch 19, Loss 0.0650, Test Loss 0.0714\n",
      "Epoch 20, Loss 0.0646, Test Loss 0.0711\n",
      "Epoch 21, Loss 0.0596, Test Loss 0.0714\n",
      "Epoch 22, Loss 0.0617, Test Loss 0.0737\n",
      "Epoch 23, Loss 0.0620, Test Loss 0.0680\n",
      "Epoch 24, Loss 0.0683, Test Loss 0.0700\n",
      "Epoch 25, Loss 0.0606, Test Loss 0.0687\n",
      "Epoch 26, Loss 0.0630, Test Loss 0.0671\n",
      "Epoch 27, Loss 0.0639, Test Loss 0.0639\n",
      "Epoch 28, Loss 0.0585, Test Loss 0.0663\n",
      "Epoch 29, Loss 0.0613, Test Loss 0.0625\n"
     ]
    }
   ],
   "source": [
    "trainer = ModelTrainer(config)\n",
    "trainer.train(model, x_train, y_train, x_test, y_test)"
   ]
  },
  {
   "cell_type": "code",
   "execution_count": 22,
   "metadata": {},
   "outputs": [
    {
     "data": {
      "image/png": "[encoded data removed]",
      "text/plain": [
       "<Figure size 576x360 with 1 Axes>"
      ]
     },
     "metadata": {
      "needs_background": "light"
     },
     "output_type": "display_data"
    }
   ],
   "source": [
    "steps = np.arange(len(trainer.train_loss))\n",
    "\n",
    "plt.figure(figsize=(8,5))\n",
    "plt.plot(steps, trainer.train_loss, label=\"Train\")\n",
    "mu, std = np.array(trainer.train_loss), np.array(trainer.train_std)\n",
    "plt.fill_between(steps, mu - std, mu + std, alpha=0.35)\n",
    "\n",
    "plt.plot(steps, trainer.test_loss, label=\"Test\")\n",
    "mu, std = np.array(trainer.test_loss), np.array(trainer.test_std)\n",
    "plt.fill_between(steps, mu - std, mu + std, alpha=0.35)\n",
    "\n",
    "plt.grid(alpha=0.2)\n",
    "plt.xlabel(\"Epoch\")\n",
    "plt.ylabel(\"Binary Cross Entropy\")\n",
    "plt.legend(frameon=False)\n",
    "plt.savefig(\"imitation_loss.png\", bbox_inches=\"tight\")"
   ]
  },
  {
   "cell_type": "code",
   "execution_count": 29,
   "metadata": {},
   "outputs": [],
   "source": [
    "env = retro.make('SonicTheHedgehog-Genesis', state=config['level'])\n",
    "state = env.reset()"
   ]
  },
  {
   "cell_type": "code",
   "execution_count": 30,
   "metadata": {},
   "outputs": [
    {
     "name": "stderr",
     "output_type": "stream",
     "text": [
      "/home/ubuntu/anaconda3/envs/pytorch_p36/lib/python3.6/site-packages/torch/nn/modules/container.py:100: UserWarning: Implicit dimension choice for softmax has been deprecated. Change the call to include dim=X as an argument.\n",
      "  input = module(input)\n"
     ]
    },
    {
     "name": "stdout",
     "output_type": "stream",
     "text": [
      "Collected 100 frames\n",
      "Collected 200 frames\n",
      "Collected 300 frames\n",
      "Collected 400 frames\n",
      "Collected 500 frames\n",
      "Collected 600 frames\n",
      "Collected 700 frames\n",
      "Collected 800 frames\n",
      "Collected 900 frames\n",
      "Collected 1000 frames\n",
      "Collected 1100 frames\n",
      "Collected 1200 frames\n",
      "Collected 1300 frames\n",
      "Collected 1400 frames\n",
      "Collected 1500 frames\n",
      "Collected 1600 frames\n",
      "Collected 1700 frames\n",
      "Collected 1800 frames\n",
      "Collected 1900 frames\n",
      "Collected 2000 frames\n",
      "Collected 2100 frames\n",
      "Collected 2200 frames\n",
      "Collected 2300 frames\n",
      "Collected 2400 frames\n",
      "Collected 2500 frames\n",
      "Collected 2600 frames\n",
      "Collected 2700 frames\n",
      "Collected 2800 frames\n",
      "Collected 2900 frames\n",
      "Collected 3000 frames\n",
      "Collected 3100 frames\n",
      "Collected 3200 frames\n",
      "Collected 3300 frames\n",
      "Collected 3400 frames\n",
      "Collected 3500 frames\n",
      "Collected 3600 frames\n",
      "Collected 3700 frames\n",
      "Collected 3800 frames\n",
      "Collected 3900 frames\n",
      "Collected 4000 frames\n",
      "Collected 4100 frames\n",
      "Collected 4200 frames\n",
      "Collected 4300 frames\n",
      "Collected 4400 frames\n",
      "Collected 4500 frames\n",
      "Collected 4600 frames\n",
      "Collected 4700 frames\n",
      "Collected 4800 frames\n",
      "Collected 4900 frames\n",
      "Collected 5000 frames\n"
     ]
    }
   ],
   "source": [
    "frames = utils.record_imitation_game(env=env, model=model, \n",
    "                               action_transformer=utils.rounding_action_transformer,\n",
    "                               state_transformer=utils.torchify_state,\n",
    "                               rnd_steps=50, max_frames=5000)"
   ]
  },
  {
   "cell_type": "code",
   "execution_count": 31,
   "metadata": {},
   "outputs": [],
   "source": [
    "try:\n",
    "    import imageio\n",
    "except:\n",
    "    !pip install imageio\n",
    "    !pip install imageio-ffmpeg\n",
    "    import imageio"
   ]
  },
  {
   "cell_type": "code",
   "execution_count": 32,
   "metadata": {},
   "outputs": [],
   "source": [
    "imageio.mimwrite(\n",
    "    \"torch_imitation_agent_{}.mp4\".format(config[\"level\"]), \n",
    "    frames, fps=30)"
   ]
  },
  {
   "cell_type": "code",
   "execution_count": 33,
   "metadata": {},
   "outputs": [
    {
     "name": "stdout",
     "output_type": "stream",
     "text": [
      "Finished game 0 with score    200.\n",
      "Finished game 1 with score    400.\n",
      "Finished game 2 with score    200.\n",
      "Finished game 3 with score    300.\n"
     ]
    }
   ],
   "source": [
    "scores = utils.play_evaluation_games(env, model, n_games=4, \n",
    "                                     state_transformer=utils.torchify_state, \n",
    "                                    action_transformer=utils.rounding_action_transformer, \n",
    "                                     rnd_steps=50, max_frames=5000)"
   ]
  },
  {
   "cell_type": "code",
   "execution_count": 34,
   "metadata": {},
   "outputs": [
    {
     "data": {
      "text/plain": [
       "[200.0, 400.0, 200.0, 300.0]"
      ]
     },
     "execution_count": 34,
     "metadata": {},
     "output_type": "execute_result"
    }
   ],
   "source": [
    "scores"
   ]
  },
  {
   "cell_type": "code",
   "execution_count": 36,
   "metadata": {},
   "outputs": [],
   "source": [
    "class PsuedoModel(nn.Module):\n",
    "    \"\"\" A fake DQN agent. \"\"\"\n",
    "    def __init__(self, input_shape, output_shape):\n",
    "        super(PsuedoModel, self).__init__()\n",
    "        self.input_shape = input_shape\n",
    "        self.output_shape = output_shape\n",
    "        \n",
    "        self.network = nn.Sequential(\n",
    "            nn.Linear(self.input_shape[0] * self.input_shape[1] * self.input_shape[2], output_shape)\n",
    "        )\n",
    "        \n",
    "    def forward(self, state):\n",
    "        state = state.view(state.size(0), -1)\n",
    "        return self.network(state)"
   ]
  },
  {
   "cell_type": "code",
   "execution_count": 37,
   "metadata": {},
   "outputs": [],
   "source": [
    "def torch_td_loss(online_model, target_model, states, actions, \n",
    "                  next_states, rewards, dones, gamma=0.99):\n",
    "    \"\"\" Compute the TD-error using pytorch for a set of transitions. \"\"\"\n",
    "    \n",
    "    # Predict the value of the current and next state using the \n",
    "    # online and target networks respectively. \n",
    "    q_values = online_model(states)\n",
    "    next_q_values = target_model(next_states)\n",
    "    \n",
    "    # Mask those states for which the next state is terminal.\n",
    "    q_values = q_values.gather(1, actions.view(-1,1)).squeeze(1)\n",
    "    next_q_values = next_q_values.max(1).values\n",
    "\n",
    "    qhat = (rewards + gamma * next_q_values * (1 - dones))\n",
    "    loss = (q_values - qhat.detach()).pow(2)\n",
    "    loss = loss.mean()\n",
    "    return loss"
   ]
  },
  {
   "cell_type": "code",
   "execution_count": 38,
   "metadata": {},
   "outputs": [],
   "source": [
    "# Setup some fake action/states to predict \n",
    "# loss with.\n",
    "samples = 4\n",
    "input_shape = (3, 12, 12)\n",
    "output_shape = 3\n",
    "\n",
    "states = np.random.randint(0, 256, size=(samples, *input_shape))\n",
    "next_states = np.random.randint(0, 256, size=(samples, *input_shape))\n",
    "actions = np.random.randint(0, output_shape, size=(samples,))\n",
    "rewards = np.random.randint(0, 2, size=(samples,))\n",
    "dones = np.random.choice([True, False], samples, p=[0.1, 0.9])\n",
    "\n",
    "# Create a fake model for testing the loss function.\n",
    "fake_model = PsuedoModel(input_shape, output_shape)"
   ]
  },
  {
   "cell_type": "code",
   "execution_count": 39,
   "metadata": {},
   "outputs": [],
   "source": [
    "states = utils.torchify_float(states)\n",
    "actions = utils.torchify_long(np.int8(actions))\n",
    "next_states = utils.torchify_float(next_states)\n",
    "rewards = utils.torchify_float(rewards)\n",
    "dones = utils.torchify_float(dones)"
   ]
  },
  {
   "cell_type": "code",
   "execution_count": 40,
   "metadata": {},
   "outputs": [
    {
     "data": {
      "text/plain": [
       "tensor([[ -67.9360,   -5.1477,  -23.4132],\n",
       "        [-153.0766,   40.8825,  -28.3153],\n",
       "        [ -92.5086,   -5.5874,  -65.6864],\n",
       "        [ -89.2239,  -11.2788,  -13.4264]], grad_fn=<AddmmBackward>)"
      ]
     },
     "execution_count": 40,
     "metadata": {},
     "output_type": "execute_result"
    }
   ],
   "source": [
    "fake_model(states)"
   ]
  },
  {
   "cell_type": "code",
   "execution_count": 41,
   "metadata": {},
   "outputs": [
    {
     "data": {
      "text/plain": [
       "tensor(13844.8203, grad_fn=<MeanBackward0>)"
      ]
     },
     "execution_count": 41,
     "metadata": {},
     "output_type": "execute_result"
    }
   ],
   "source": [
    "torch_td_loss(\n",
    "    online_model=fake_model, \n",
    "    target_model=fake_model,\n",
    "    states=states,\n",
    "    actions=actions,\n",
    "    next_states=next_states,\n",
    "    rewards=rewards,\n",
    "    dones=dones,\n",
    "    gamma=0.99\n",
    ")"
   ]
  },
  {
   "cell_type": "code",
   "execution_count": 42,
   "metadata": {},
   "outputs": [],
   "source": [
    "def numpy_margin_loss(q_values, action, expert_action, margin):\n",
    "    \"\"\" Margin loss for one state-action pair. \"\"\"\n",
    "    \n",
    "    # Set the margin to zero if the action chosen matches \n",
    "    # the expert action.     \n",
    "    margins = np.repeat(margin, q_values.shape)\n",
    "    margins[expert_action] = 0.\n",
    "    loss = max(q_values + margins) - q_values[expert_action]\n",
    "    return loss"
   ]
  },
  {
   "cell_type": "code",
   "execution_count": 43,
   "metadata": {},
   "outputs": [],
   "source": [
    "q_values = np.array([0.1, 0.1, 0.6, 0.2])\n",
    "action = 2\n",
    "expert_action = 3\n",
    "margin = 0.1"
   ]
  },
  {
   "cell_type": "code",
   "execution_count": 44,
   "metadata": {},
   "outputs": [
    {
     "data": {
      "text/plain": [
       "0.49999999999999994"
      ]
     },
     "execution_count": 44,
     "metadata": {},
     "output_type": "execute_result"
    }
   ],
   "source": [
    "numpy_margin_loss(q_values, action, expert_action, margin)"
   ]
  },
  {
   "cell_type": "code",
   "execution_count": 45,
   "metadata": {},
   "outputs": [],
   "source": [
    "q_values = np.array([-10, -13])\n",
    "action = 0\n",
    "expert_action = 1\n",
    "margin = 1."
   ]
  },
  {
   "cell_type": "code",
   "execution_count": 46,
   "metadata": {},
   "outputs": [
    {
     "data": {
      "text/plain": [
       "4.0"
      ]
     },
     "execution_count": 46,
     "metadata": {},
     "output_type": "execute_result"
    }
   ],
   "source": [
    "numpy_margin_loss(q_values, action, expert_action, margin)"
   ]
  },
  {
   "cell_type": "code",
   "execution_count": 47,
   "metadata": {},
   "outputs": [
    {
     "name": "stdout",
     "output_type": "stream",
     "text": [
      "Action 0, Expert Action 0, Loss 7.80\n",
      "Action 0, Expert Action 1, Loss 7.80\n",
      "Action 0, Expert Action 2, Loss 0.00\n",
      "Action 0, Expert Action 3, Loss 7.70\n",
      "Action 1, Expert Action 0, Loss 7.80\n",
      "Action 1, Expert Action 1, Loss 7.80\n",
      "Action 1, Expert Action 2, Loss 0.00\n",
      "Action 1, Expert Action 3, Loss 7.70\n",
      "Action 2, Expert Action 0, Loss 7.80\n",
      "Action 2, Expert Action 1, Loss 7.80\n",
      "Action 2, Expert Action 2, Loss 0.00\n",
      "Action 2, Expert Action 3, Loss 7.70\n",
      "Action 3, Expert Action 0, Loss 7.80\n",
      "Action 3, Expert Action 1, Loss 7.80\n",
      "Action 3, Expert Action 2, Loss 0.00\n",
      "Action 3, Expert Action 3, Loss 7.70\n"
     ]
    }
   ],
   "source": [
    "for i in range(4):\n",
    "    for j in range(4):\n",
    "        loss = numpy_margin_loss(\n",
    "            q_values=np.array([0.1, 0.1, 7.6, 0.2]), \n",
    "            action=i, \n",
    "            expert_action=j, \n",
    "            margin=0.3)\n",
    "        print(\"Action {0}, Expert Action {1}, Loss {2:4.2f}\".format(i,j,loss))"
   ]
  },
  {
   "cell_type": "code",
   "execution_count": 48,
   "metadata": {},
   "outputs": [],
   "source": [
    "def numpy_multiple_margin_loss(q_values, expert_actions, margin):\n",
    "    \"\"\" Apply the margin loss to a batch of inputs. \"\"\"\n",
    "    margins = np.ones(q_values.shape) * margin\n",
    "    margins[:, expert_actions] = 0.\n",
    "    return np.max(q_values + margins, axis=1) - np.choose(expert_actions, q_values.T)"
   ]
  },
  {
   "cell_type": "code",
   "execution_count": 49,
   "metadata": {},
   "outputs": [
    {
     "data": {
      "text/plain": [
       "array([1.1, 0.3, 1.1])"
      ]
     },
     "execution_count": 49,
     "metadata": {},
     "output_type": "execute_result"
    }
   ],
   "source": [
    "numpy_multiple_margin_loss(\n",
    "    q_values=np.array([[0.1, 0.1, 0.9], \n",
    "                        [0.1, 0.2, 0.1],\n",
    "                       [0.1, 0.1, 0.9]\n",
    "                      ]),\n",
    "    expert_actions=np.array([1, 0, 1]),\n",
    "    margin=0.3\n",
    ")"
   ]
  },
  {
   "cell_type": "code",
   "execution_count": 50,
   "metadata": {},
   "outputs": [
    {
     "data": {
      "text/plain": [
       "1.0999999999999999"
      ]
     },
     "execution_count": 50,
     "metadata": {},
     "output_type": "execute_result"
    }
   ],
   "source": [
    "numpy_margin_loss(\n",
    "    q_values=np.array([0.1, 0.1, 0.9]), \n",
    "    action=0,\n",
    "    expert_action=1, \n",
    "    margin=0.3)"
   ]
  },
  {
   "cell_type": "code",
   "execution_count": 51,
   "metadata": {},
   "outputs": [
    {
     "data": {
      "text/plain": [
       "0.4"
      ]
     },
     "execution_count": 51,
     "metadata": {},
     "output_type": "execute_result"
    }
   ],
   "source": [
    "numpy_margin_loss(\n",
    "    q_values=np.array([0.1, 0.2, 0.1]), \n",
    "    action=0, \n",
    "    expert_action=0, \n",
    "    margin=0.3)"
   ]
  },
  {
   "cell_type": "code",
   "execution_count": 52,
   "metadata": {},
   "outputs": [
    {
     "data": {
      "text/plain": [
       "1.0999999999999999"
      ]
     },
     "execution_count": 52,
     "metadata": {},
     "output_type": "execute_result"
    }
   ],
   "source": [
    "numpy_margin_loss(\n",
    "    q_values=np.array([0.1, 0.1, 0.9]), \n",
    "    action=1, \n",
    "    expert_action=1, \n",
    "    margin=0.3)"
   ]
  },
  {
   "cell_type": "code",
   "execution_count": 53,
   "metadata": {},
   "outputs": [
    {
     "data": {
      "text/plain": [
       "array([0.1, 0.1, 0.1])"
      ]
     },
     "execution_count": 53,
     "metadata": {},
     "output_type": "execute_result"
    }
   ],
   "source": [
    "x = np.array([[0.1, 0.1, 0.2], \n",
    "                        [0.1, 0.2, 0.1],\n",
    "                       [0.1, 0.1, 0.2]\n",
    "                      ])\n",
    "indices = [0, 0, 0]\n",
    "np.choose(indices, x.T)"
   ]
  },
  {
   "cell_type": "code",
   "execution_count": 54,
   "metadata": {},
   "outputs": [],
   "source": [
    "q_values = torch.FloatTensor([\n",
    "    [0.1, 0.1, 0.9], \n",
    "    [0.1, 0.2, 0.1],\n",
    "    [0.1, 0.1, 0.9]\n",
    "])\n",
    "\n",
    "actions = torch.LongTensor([0, 0, 1])\n",
    "expert_actions = torch.LongTensor([1, 0, 1])"
   ]
  },
  {
   "cell_type": "code",
   "execution_count": 55,
   "metadata": {},
   "outputs": [],
   "source": [
    "def torch_margin_loss(q_values, expert_actions, margin):\n",
    "    \"\"\" Margin loss in torch. \"\"\"\n",
    "    \n",
    "    # Calculate the margins and set them to zero where\n",
    "    # expert has chosen action. \n",
    "    margins = torch.ones_like(q_values) * margin\n",
    "    margins[:, expert_actions] = 0.\n",
    "    \n",
    "    loss_term1 = torch.max(q_values + margins, axis=1)[0]\n",
    "    loss_term2 = torch.take(q_values, expert_actions)\n",
    "    \n",
    "    return loss_term1 - loss_term2"
   ]
  },
  {
   "cell_type": "code",
   "execution_count": 56,
   "metadata": {},
   "outputs": [
    {
     "data": {
      "text/plain": [
       "tensor([1.1000, 0.3000, 1.1000])"
      ]
     },
     "execution_count": 56,
     "metadata": {},
     "output_type": "execute_result"
    }
   ],
   "source": [
    "torch_margin_loss(\n",
    "    q_values=q_values,\n",
    "    expert_actions=expert_actions,\n",
    "    margin=0.3\n",
    ")"
   ]
  },
  {
   "cell_type": "code",
   "execution_count": 57,
   "metadata": {},
   "outputs": [],
   "source": [
    "def torch_nstep_td_loss(online_model, target_model, actions, states, nth_states, \n",
    "                        discounted_rewards, dones, n, gamma):\n",
    "    \"\"\" Calculate the n-step TD-loss using pytorch.  We assume that the discounted sum over\n",
    "        rewards up to the n-th state has already been performed.  \n",
    "    \"\"\"\n",
    "    \n",
    "    # Predict the value of the current and next state using the \n",
    "    # online and target networks respectively. \n",
    "    q_values = online_model(states)\n",
    "    nth_q_values = target_model(nth_states)\n",
    "    \n",
    "    # Mask those states for which the next state is terminal.\n",
    "    q_values = q_values.gather(1, actions.view(-1,1)).squeeze(1)\n",
    "    nth_q_values = nth_q_values.max(1).values\n",
    "\n",
    "    qhat = (discounted_rewards + gamma**n * nth_q_values * (1 - dones))\n",
    "    loss = (q_values - qhat.detach()).pow(2)\n",
    "    loss = loss.mean()\n",
    "    return loss"
   ]
  },
  {
   "cell_type": "code",
   "execution_count": 58,
   "metadata": {},
   "outputs": [],
   "source": [
    "# Setup some fake action/states to predict \n",
    "# loss with.\n",
    "samples = 4\n",
    "input_shape = (3, 12, 12)\n",
    "output_shape = 3\n",
    "\n",
    "states = np.random.randint(0, 256, size=(samples, *input_shape))\n",
    "next_states = np.random.randint(0, 256, size=(samples, *input_shape))\n",
    "actions = np.random.randint(0, output_shape, size=(samples,))\n",
    "rewards = np.random.randint(0, 2, size=(samples,))\n",
    "dones = np.random.choice([True, False], samples, p=[0.1, 0.9])"
   ]
  },
  {
   "cell_type": "code",
   "execution_count": 59,
   "metadata": {},
   "outputs": [],
   "source": [
    "states = utils.torchify_float(states)\n",
    "actions = utils.torchify_long(np.int8(actions))\n",
    "next_states = utils.torchify_float(next_states)\n",
    "rewards = utils.torchify_float(rewards)\n",
    "dones = utils.torchify_float(dones)"
   ]
  },
  {
   "cell_type": "code",
   "execution_count": 60,
   "metadata": {},
   "outputs": [
    {
     "data": {
      "text/plain": [
       "tensor(3811.9150, grad_fn=<MeanBackward0>)"
      ]
     },
     "execution_count": 60,
     "metadata": {},
     "output_type": "execute_result"
    }
   ],
   "source": [
    "torch_nstep_td_loss(\n",
    "    online_model=fake_model, \n",
    "    target_model=fake_model,\n",
    "    states=states,\n",
    "    actions=actions,\n",
    "    nth_states=next_states,\n",
    "    discounted_rewards=rewards,\n",
    "    dones=dones,\n",
    "    gamma=0.99,\n",
    "    n=1\n",
    ")"
   ]
  },
  {
   "cell_type": "code",
   "execution_count": 61,
   "metadata": {},
   "outputs": [
    {
     "data": {
      "text/plain": [
       "tensor(3811.9150, grad_fn=<MeanBackward0>)"
      ]
     },
     "execution_count": 61,
     "metadata": {},
     "output_type": "execute_result"
    }
   ],
   "source": [
    "torch_td_loss(\n",
    "    online_model=fake_model, \n",
    "    target_model=fake_model,\n",
    "    states=states,\n",
    "    actions=actions,\n",
    "    next_states=next_states,\n",
    "    rewards=rewards,\n",
    "    dones=dones,\n",
    "    gamma=0.99,\n",
    ")"
   ]
  },
  {
   "cell_type": "code",
   "execution_count": 62,
   "metadata": {},
   "outputs": [
    {
     "data": {
      "text/plain": [
       "tensor(3757.5908, grad_fn=<MeanBackward0>)"
      ]
     },
     "execution_count": 62,
     "metadata": {},
     "output_type": "execute_result"
    }
   ],
   "source": [
    "torch_nstep_td_loss(\n",
    "    online_model=fake_model, \n",
    "    target_model=fake_model,\n",
    "    states=states,\n",
    "    actions=actions,\n",
    "    nth_states=next_states,\n",
    "    discounted_rewards=rewards,\n",
    "    dones=dones,\n",
    "    gamma=0.99,\n",
    "    n=8\n",
    ")"
   ]
  },
  {
   "cell_type": "code",
   "execution_count": 63,
   "metadata": {},
   "outputs": [],
   "source": [
    "def torch_l2_penalty(parameters):\n",
    "    \n",
    "    loss = 0.\n",
    "    for p in parameters:\n",
    "        loss += torch.sum(p ** 2)\n",
    "        \n",
    "    return loss"
   ]
  },
  {
   "cell_type": "code",
   "execution_count": 64,
   "metadata": {},
   "outputs": [
    {
     "data": {
      "text/plain": [
       "(tensor([1, 2, 0, 2]), tensor(9.))"
      ]
     },
     "execution_count": 64,
     "metadata": {},
     "output_type": "execute_result"
    }
   ],
   "source": [
    "actions, torch_l2_penalty(actions)"
   ]
  },
  {
   "cell_type": "code",
   "execution_count": 65,
   "metadata": {},
   "outputs": [
    {
     "name": "stdout",
     "output_type": "stream",
     "text": [
      "tensor(14.)\n"
     ]
    }
   ],
   "source": [
    "x = torch.FloatTensor([1., 2., 3.])\n",
    "print(torch_l2_penalty(x))"
   ]
  },
  {
   "cell_type": "code",
   "execution_count": 66,
   "metadata": {},
   "outputs": [
    {
     "data": {
      "text/plain": [
       "tensor(1.0006, grad_fn=<AddBackward0>)"
      ]
     },
     "execution_count": 66,
     "metadata": {},
     "output_type": "execute_result"
    }
   ],
   "source": [
    "torch_l2_penalty(fake_model.parameters())"
   ]
  },
  {
   "cell_type": "code",
   "execution_count": 67,
   "metadata": {},
   "outputs": [],
   "source": [
    "def torch_dqfd_loss(online_model, target_model, states, next_states, nth_states, \n",
    "                    rewards, discounted_rewards, dones, gamma, n, coef1, coef2, coef3,\n",
    "                    margin, expert_actions\n",
    "                   ):\n",
    "    \"\"\" Construct the full DQfD loss from the four component loss functions.\n",
    "    \"\"\"\n",
    "    \n",
    "    # Predict which action to take from the online network.\n",
    "    q_values = online_model(states)\n",
    "    actions = torch.argmax(q_values, axis=1)\n",
    "    \n",
    "    td_loss = torch_td_loss(\n",
    "        online_model=online_model, \n",
    "        target_model=target_model, \n",
    "        actions=actions, states=states, \n",
    "        next_states=next_states, rewards=rewards, \n",
    "        dones=dones, gamma=gamma)\n",
    "    \n",
    "    ntd_loss = torch_nstep_td_loss(\n",
    "        online_model=online_model, target_model=target_model, \n",
    "        actions=actions, states=states, \n",
    "        nth_states=nth_states, \n",
    "        discounted_rewards=discounted_rewards, \n",
    "        dones=dones, gamma=gamma, n=n)\n",
    "    \n",
    "    q_values = online_model(states)\n",
    "    margin_loss = torch_margin_loss(q_values, expert_actions, margin)\n",
    "    margin_loss = torch.mean(margin_loss)\n",
    "    l2_loss = torch_l2_penalty(online_model.parameters())\n",
    "    \n",
    "    loss = td_loss + coef1 * ntd_loss + coef2 * margin_loss + coef3 * l2_loss\n",
    "    \n",
    "    return loss, td_loss, ntd_loss * coef1, margin_loss * coef2, l2_loss * coef3"
   ]
  },
  {
   "cell_type": "code",
   "execution_count": 68,
   "metadata": {},
   "outputs": [
    {
     "data": {
      "text/plain": [
       "(tensor(2215.8154, grad_fn=<AddBackward0>),\n",
       " tensor(1118.3369, grad_fn=<MeanBackward0>),\n",
       " tensor(1118.3369, grad_fn=<MulBackward0>),\n",
       " tensor(-20.8584, grad_fn=<MulBackward0>),\n",
       " tensor(1.0006e-05, grad_fn=<MulBackward0>))"
      ]
     },
     "execution_count": 68,
     "metadata": {},
     "output_type": "execute_result"
    }
   ],
   "source": [
    "torch_dqfd_loss(\n",
    "    online_model=fake_model,\n",
    "    target_model=fake_model,\n",
    "    states=states,\n",
    "    next_states=next_states, nth_states=next_states,\n",
    "    rewards=rewards, discounted_rewards=rewards,\n",
    "    dones=dones, gamma=0.99, n=1,\n",
    "    coef1=1., coef2=1., coef3=1e-5,\n",
    "    margin=0.8, expert_actions=actions\n",
    ")"
   ]
  },
  {
   "cell_type": "code",
   "execution_count": 69,
   "metadata": {},
   "outputs": [],
   "source": [
    "encoding = {}\n",
    "\n",
    "for i, action in enumerate(unique_actions):\n",
    "    encoding[tuple(action)] = i"
   ]
  },
  {
   "cell_type": "code",
   "execution_count": 70,
   "metadata": {},
   "outputs": [
    {
     "name": "stdout",
     "output_type": "stream",
     "text": [
      "(0, 0, 0, 0, 0, 0, 0, 1, 0, 0, 0, 0) 0\n",
      "(0, 0, 0, 0, 0, 0, 0, 0, 0, 0, 0, 0) 1\n",
      "(0, 1, 0, 0, 0, 0, 0, 1, 0, 0, 0, 0) 2\n",
      "(0, 0, 0, 0, 0, 0, 1, 0, 0, 0, 0, 0) 3\n",
      "(0, 0, 0, 0, 1, 0, 1, 0, 0, 0, 0, 0) 4\n",
      "(0, 1, 0, 0, 0, 0, 0, 0, 0, 0, 0, 0) 5\n",
      "(0, 1, 0, 0, 0, 0, 1, 0, 0, 0, 0, 0) 6\n",
      "(0, 0, 0, 0, 0, 1, 0, 0, 0, 0, 0, 0) 7\n",
      "(0, 0, 0, 0, 0, 1, 1, 0, 0, 0, 0, 0) 8\n",
      "(0, 0, 0, 0, 0, 1, 0, 1, 0, 0, 0, 0) 9\n",
      "(0, 1, 0, 0, 1, 0, 0, 1, 0, 0, 0, 0) 10\n",
      "(0, 0, 0, 0, 1, 0, 0, 0, 0, 0, 0, 0) 11\n"
     ]
    }
   ],
   "source": [
    "for key, value in encoding.items():\n",
    "    print(key, value)"
   ]
  },
  {
   "cell_type": "code",
   "execution_count": 71,
   "metadata": {},
   "outputs": [],
   "source": [
    "y_test_encoded = utils.encode_actions(y_test, encoding)"
   ]
  },
  {
   "cell_type": "code",
   "execution_count": 72,
   "metadata": {},
   "outputs": [
    {
     "data": {
      "text/plain": [
       "array([0, 1, 1, 0, 0, 0, 0, 0, 1, 2, 0, 0, 0, 0, 1, 1, 0, 0, 0, 0, 0, 1,\n",
       "       0, 0, 2, 1, 3, 0, 1, 2, 0, 2, 0, 0, 0, 0, 1, 0, 1, 0, 0, 1, 6, 1,\n",
       "       0, 0, 2, 9, 0, 0, 0, 0, 0, 0, 0, 0, 0, 0, 0, 1, 0, 0, 1, 0, 0, 0,\n",
       "       1, 0, 0, 0, 0, 0, 0, 0, 0, 0, 2, 0, 2, 0, 0, 0, 1, 1, 0, 0, 2, 0,\n",
       "       1, 0, 0, 1, 0, 0, 0, 0, 1, 2, 0, 0, 0, 0, 0, 0, 0, 0, 0, 0, 1, 3,\n",
       "       0, 1, 0, 0, 0, 0, 2, 0, 0, 1, 0, 0, 1, 0, 0, 0, 0, 1, 0, 0, 1, 1,\n",
       "       1, 3, 0, 0, 0, 1, 0, 0, 1, 0, 0, 0, 0, 1, 1, 0, 1, 0, 0, 0, 0, 0,\n",
       "       3, 0, 1, 1, 0, 0, 0, 0, 1, 0, 1, 0, 1, 0, 2, 0, 2, 0, 1, 0, 0, 0,\n",
       "       0, 1, 1, 0, 0, 0, 0, 2, 0, 0, 0, 0, 1, 0, 1, 0, 0, 0, 1, 0, 2, 1,\n",
       "       0, 0, 0, 1, 0, 0, 0, 0, 0, 1, 0, 0, 0, 0, 0, 0, 0, 0, 1, 0, 0, 0,\n",
       "       0, 0, 1, 0, 0, 1, 0, 7, 0, 0, 0, 0, 1, 1, 0, 0, 0, 0, 3, 0, 0, 1,\n",
       "       2, 0, 0, 0, 0, 0, 0, 5, 2, 1, 0, 1, 0, 0, 1, 0, 0, 0, 0, 1, 0, 1,\n",
       "       3, 0, 0, 0, 0, 2, 1, 1, 0, 0, 0, 1, 0, 2, 1, 2, 0, 0, 0, 1, 0, 0,\n",
       "       0, 4, 0, 1, 3, 1, 0, 2, 0, 0, 0, 3, 0, 0, 0, 0, 3, 0, 0, 1, 0, 3,\n",
       "       2, 3, 0, 1, 0, 0, 1, 0, 0, 0, 0, 0, 0, 0, 3, 2, 1, 3, 2, 1, 0, 2,\n",
       "       0, 2, 2, 1, 0, 0, 0, 1, 0, 1, 3, 0, 0, 0, 0, 0, 0, 0, 3, 0, 0, 0,\n",
       "       3, 1, 1, 0, 0, 0, 4, 1, 2, 0, 3, 1, 0, 1, 1, 7, 0, 0, 1, 0, 1, 0,\n",
       "       2, 0, 6, 2, 7, 0, 0, 1, 1, 0, 0, 1, 0, 2, 0, 3, 0, 0, 0, 1, 0, 0,\n",
       "       0, 2, 3, 0, 0, 0, 1, 1, 0, 0, 1, 0, 0, 0, 1, 0, 1, 0, 0, 1, 0, 0,\n",
       "       1, 2, 1, 0, 0, 1, 0, 1, 1, 1, 6, 0, 0, 0, 0, 3, 0, 0, 0, 1, 7, 1,\n",
       "       0, 0, 0, 0, 2, 0, 1, 1, 1, 0, 0, 0, 3, 1, 1, 0, 0, 1, 1, 1, 0, 0,\n",
       "       0, 1, 1, 0, 0, 1, 0, 1, 1, 1, 0, 0, 0, 1, 2, 0, 1, 0, 0, 1, 4, 0,\n",
       "       1, 0, 2, 2, 1, 1, 2, 0, 1, 0, 1, 0, 0, 1, 0, 2, 1, 1, 0, 0, 0, 1,\n",
       "       0, 1, 2, 0, 3, 0, 0, 0, 2, 0, 0, 0, 1, 3, 1, 0, 0, 2, 0, 0, 1, 0,\n",
       "       0, 0, 0, 1, 0, 0, 1, 1, 0, 0, 1, 0, 1, 0, 1, 0, 0, 0, 0, 1, 0, 0,\n",
       "       0, 1, 0, 0, 0, 0, 4, 0, 0, 3, 0, 1, 0, 0, 1, 0, 0, 0, 0, 0, 0, 0,\n",
       "       0, 0, 0, 0, 1, 0, 0, 0, 1, 0, 0, 0, 1, 1, 2, 0, 0, 0, 1, 0, 1, 1,\n",
       "       1, 1, 1, 1, 0, 1, 1, 0, 1, 3, 0, 1, 0, 0, 0, 4, 0, 3, 1, 7, 1, 1,\n",
       "       1, 1, 0, 0, 0, 0, 0, 1, 1, 0, 1, 3, 0, 1, 1, 1, 0, 0, 0, 0, 0, 0,\n",
       "       1, 0, 1, 1, 0, 0, 2, 1, 0, 0, 1, 0, 0, 0, 0, 0, 0, 0, 0, 1, 1, 0,\n",
       "       0, 0, 0, 0, 1, 0, 2, 0, 0, 0, 3, 1, 1, 0, 0, 1, 3, 3, 0, 0, 7, 1,\n",
       "       0, 0, 0, 0, 0, 0, 0, 0, 0, 0, 1, 1, 0, 0, 0, 0, 0, 1, 0, 4, 0, 1,\n",
       "       0, 0, 0, 1, 0, 0, 6, 0, 1, 0, 0, 1, 0, 5, 0, 1, 0, 1, 0, 0, 7, 0,\n",
       "       0, 0, 0, 0, 1, 1, 1, 0, 1, 1, 1, 0, 1, 0, 3, 0, 1, 6, 1, 2, 0, 0,\n",
       "       1, 0, 0, 0, 0, 0, 0, 0, 0, 6, 0, 0, 0, 3, 0, 6, 1, 0, 0, 1, 2, 3,\n",
       "       3, 0, 0, 0, 2, 1, 2, 0, 1, 1, 0, 1, 0, 0, 0, 0, 3, 1, 0, 1, 0, 0,\n",
       "       1, 3, 0, 1, 3, 1], dtype=int8)"
      ]
     },
     "execution_count": 72,
     "metadata": {},
     "output_type": "execute_result"
    }
   ],
   "source": [
    "y_test_encoded"
   ]
  },
  {
   "cell_type": "code",
   "execution_count": 73,
   "metadata": {},
   "outputs": [
    {
     "name": "stdout",
     "output_type": "stream",
     "text": [
      "{0: (0, 0, 0, 0, 0, 0, 0, 1, 0, 0, 0, 0), 1: (0, 0, 0, 0, 0, 0, 0, 0, 0, 0, 0, 0), 2: (0, 1, 0, 0, 0, 0, 0, 1, 0, 0, 0, 0), 3: (0, 0, 0, 0, 0, 0, 1, 0, 0, 0, 0, 0), 4: (0, 0, 0, 0, 1, 0, 1, 0, 0, 0, 0, 0), 5: (0, 1, 0, 0, 0, 0, 0, 0, 0, 0, 0, 0), 6: (0, 1, 0, 0, 0, 0, 1, 0, 0, 0, 0, 0), 7: (0, 0, 0, 0, 0, 1, 0, 0, 0, 0, 0, 0), 8: (0, 0, 0, 0, 0, 1, 1, 0, 0, 0, 0, 0), 9: (0, 0, 0, 0, 0, 1, 0, 1, 0, 0, 0, 0), 10: (0, 1, 0, 0, 1, 0, 0, 1, 0, 0, 0, 0), 11: (0, 0, 0, 0, 1, 0, 0, 0, 0, 0, 0, 0)}\n"
     ]
    }
   ],
   "source": [
    "decoding = { value:key for key, value in encoding.items() }\n",
    "print(decoding)"
   ]
  },
  {
   "cell_type": "code",
   "execution_count": 74,
   "metadata": {},
   "outputs": [
    {
     "data": {
      "text/plain": [
       "array([[0, 0, 0, ..., 0, 0, 0],\n",
       "       [0, 0, 0, ..., 0, 0, 0],\n",
       "       [0, 0, 0, ..., 0, 0, 0],\n",
       "       ...,\n",
       "       [0, 0, 0, ..., 0, 0, 0],\n",
       "       [0, 0, 0, ..., 0, 0, 0],\n",
       "       [0, 0, 0, ..., 0, 0, 0]], dtype=int8)"
      ]
     },
     "execution_count": 74,
     "metadata": {},
     "output_type": "execute_result"
    }
   ],
   "source": [
    "utils.decode_actions(y_test_encoded, decoding)"
   ]
  },
  {
   "cell_type": "code",
   "execution_count": 75,
   "metadata": {},
   "outputs": [],
   "source": [
    "y_train_enc = utils.encode_actions(y_train, encoding)\n",
    "y_test_enc = utils.encode_actions(y_test, encoding)"
   ]
  },
  {
   "cell_type": "code",
   "execution_count": 76,
   "metadata": {},
   "outputs": [
    {
     "data": {
      "text/plain": [
       "((2393,), (798,))"
      ]
     },
     "execution_count": 76,
     "metadata": {},
     "output_type": "execute_result"
    }
   ],
   "source": [
    "y_train_enc.shape, y_test_enc.shape"
   ]
  },
  {
   "cell_type": "code",
   "execution_count": 77,
   "metadata": {},
   "outputs": [],
   "source": [
    "class SonicNet(nn.Module):\n",
    "    \"\"\" A simple deep q-network architecture to be used for predicing \n",
    "        action-values from states.\n",
    "    \"\"\"\n",
    "    \n",
    "    def __init__(self, input_shape, output_shape):\n",
    "        super(SonicNet, self).__init__()\n",
    "        self.input_shape = input_shape\n",
    "        self.output_shape = output_shape\n",
    "        \n",
    "        channels, height, width = self.input_shape\n",
    "        self.features = nn.Sequential(\n",
    "            nn.Conv2d(channels, 16, kernel_size=3, stride=1),\n",
    "            nn.ReLU(),\n",
    "            nn.Conv2d(16, 16, kernel_size=3, stride=3),\n",
    "            nn.ReLU(),\n",
    "            nn.Conv2d(16, 16, kernel_size=3, stride=1),\n",
    "            nn.ReLU(),\n",
    "            nn.Conv2d(16, 16, kernel_size=3, stride=3),\n",
    "            nn.Conv2d(16, 16, kernel_size=3, stride=1),\n",
    "            nn.ReLU(),\n",
    "            nn.Conv2d(16, 16, kernel_size=3, stride=3),\n",
    "            nn.ReLU()\n",
    "        )\n",
    "        \n",
    "        self.value = nn.Sequential(\n",
    "            nn.Linear(self._feature_size(), 128),\n",
    "            nn.ReLU(),\n",
    "            nn.Linear(128, 1)\n",
    "        )\n",
    "        \n",
    "        self.advantage = nn.Sequential(\n",
    "            nn.Linear(self._feature_size(), 128),\n",
    "            nn.ReLU(),\n",
    "            nn.Linear(128, self.output_shape)\n",
    "        )\n",
    "        \n",
    "    def _feature_size(self):\n",
    "        \"\"\" I took this from somewhere. \"\"\"\n",
    "        return self.features(autograd.Variable(torch.zeros(1, *self.input_shape))).view(1, -1).size(1)\n",
    "    \n",
    "    def forward(self, x):\n",
    "        x = self.features(x)\n",
    "        x = x.view(x.size(0), -1)\n",
    "        value = self.value(x)\n",
    "        advantage = self.advantage(x)\n",
    "        return value + advantage - advantage.mean()"
   ]
  },
  {
   "cell_type": "code",
   "execution_count": 79,
   "metadata": {},
   "outputs": [],
   "source": [
    "online_model, target_model = SonicNet(states[0].shape, n_actions), SonicNet(states[0].shape, n_actions)"
   ]
  },
  {
   "cell_type": "code",
   "execution_count": 80,
   "metadata": {},
   "outputs": [],
   "source": [
    "env.close()\n",
    "states, actions, next_states, rewards, dones = utils.extract_human_data(f\"data/human/SonicTheHedgehog-Genesis-{config['level']}-0000.bk2\")\n",
    "_states, _actions, _next_states, _nth_states, _rewards, _discounted_rewards, _dones = utils.build_nstep_transitions(\n",
    "    states, actions, next_states, rewards, dones, n=10, gamma=0.99)\n",
    "_actions = utils.encode_actions(_actions, encoding)\n",
    "\n",
    "_states = np.array(_states)\n",
    "_actions = np.array(_actions)\n",
    "_next_states = np.array(_next_states)\n",
    "_nth_states = np.array(_nth_states)\n",
    "_rewards = np.array(_rewards)\n",
    "_discounted_rewards = np.array(_discounted_rewards)\n",
    "_dones = np.array(_dones)"
   ]
  },
  {
   "cell_type": "code",
   "execution_count": 81,
   "metadata": {},
   "outputs": [],
   "source": [
    "online_model = online_model.to(device='cuda:0')\n",
    "target_model = target_model.to(device='cuda:0')\n",
    "optimizer = optim.Adam(online_model.parameters(), lr=1e-4)"
   ]
  },
  {
   "cell_type": "code",
   "execution_count": 82,
   "metadata": {
    "scrolled": false
   },
   "outputs": [
    {
     "name": "stdout",
     "output_type": "stream",
     "text": [
      "Epoch 0, Loss 135.7820, TD-Loss 0.1246, NTD-Loss 134.6242, Margin Loss 1.0332, L2 Loss 0.0000\n",
      "Epoch 1, Loss 138.7860, TD-Loss 0.4649, NTD-Loss 137.5166, Margin Loss 0.8044, L2 Loss 0.0000\n",
      "Epoch 2, Loss 225.6124, TD-Loss 0.9184, NTD-Loss 224.0514, Margin Loss 0.6425, L2 Loss 0.0000\n",
      "Epoch 3, Loss 80.2749, TD-Loss 1.0014, NTD-Loss 78.8514, Margin Loss 0.4221, L2 Loss 0.0000\n",
      "Epoch 4, Loss 109.6469, TD-Loss 0.1176, NTD-Loss 109.1796, Margin Loss 0.3497, L2 Loss 0.0000\n",
      "Epoch 5, Loss 139.8170, TD-Loss 0.2078, NTD-Loss 139.1671, Margin Loss 0.4421, L2 Loss 0.0000\n",
      "Epoch 6, Loss 55.8915, TD-Loss 0.4761, NTD-Loss 55.0498, Margin Loss 0.3656, L2 Loss 0.0000\n",
      "Epoch 7, Loss 192.2533, TD-Loss 31.1708, NTD-Loss 160.8280, Margin Loss 0.2544, L2 Loss 0.0000\n",
      "Epoch 8, Loss 250.3887, TD-Loss 1.7027, NTD-Loss 248.2546, Margin Loss 0.4314, L2 Loss 0.0000\n",
      "Epoch 9, Loss 218.1158, TD-Loss 31.1855, NTD-Loss 186.5130, Margin Loss 0.4173, L2 Loss 0.0000\n"
     ]
    }
   ],
   "source": [
    "n_epochs = 10\n",
    "n_batches_per_epoch = 10\n",
    "batch_size = 32\n",
    "index_pool = np.arange(len(_states))\n",
    "\n",
    "history = {}\n",
    "loggables = [\"loss\", \"td-loss\", \"ntd-loss\", \"margin-loss\", \"l2-loss\"]\n",
    "for loggable in loggables:\n",
    "    history[loggable + \"-mu\"] = np.zeros(n_epochs)\n",
    "    history[loggable + \"-std\"] = np.zeros(n_epochs)\n",
    "    \n",
    "for epoch in range(n_epochs):\n",
    "    \n",
    "    epoch_loss = []\n",
    "    epoch_td_loss, epoch_ntd_loss, epoch_margin_loss, epoch_l2_loss = [], [], [], []\n",
    "    for batch in range(n_batches_per_epoch):\n",
    "        \n",
    "        # Generate a batch of transitions from the data pool.\n",
    "        batch_indices = np.random.choice(index_pool, batch_size, replace=False)\n",
    "        b_states = utils.torchify_float(_states[batch_indices]).to(device='cuda:0')\n",
    "        b_actions = utils.torchify_long(_actions[batch_indices]).to(device='cuda:0')\n",
    "        b_next_states = utils.torchify_float(_next_states[batch_indices]).to(device='cuda:0')\n",
    "        b_nth_states = utils.torchify_float(_nth_states[batch_indices]).to(device='cuda:0')\n",
    "        b_rewards = utils.torchify_float(_rewards[batch_indices]).to(device='cuda:0')\n",
    "        b_discounted_rewards = utils.torchify_float(_discounted_rewards[batch_indices]).to(device='cuda:0')\n",
    "        b_dones = utils.torchify_float(_dones[batch_indices]).to(device='cuda:0')\n",
    "        \n",
    "        optimizer.zero_grad()\n",
    "        loss, td_loss, ntd_loss, margin_loss, l2_loss = torch_dqfd_loss(\n",
    "            online_model=online_model,\n",
    "            target_model=target_model,\n",
    "            states=b_states,\n",
    "            next_states=b_next_states, nth_states=b_nth_states,\n",
    "            rewards=b_rewards, discounted_rewards=b_discounted_rewards,\n",
    "            dones=b_dones, gamma=0.99, n=10,\n",
    "            coef1=1., coef2=1., coef3=0.,\n",
    "            margin=0.8, expert_actions=b_actions\n",
    "        )\n",
    "        #loss = loss.mean()\n",
    "        loss.backward()\n",
    "        optimizer.step()\n",
    "        epoch_loss.append(loss.detach().cpu().numpy())\n",
    "        epoch_td_loss.append(td_loss.detach().cpu().numpy())\n",
    "        epoch_ntd_loss.append(ntd_loss.detach().cpu().numpy())\n",
    "        epoch_margin_loss.append(margin_loss.detach().cpu().numpy())\n",
    "        epoch_l2_loss.append(l2_loss.detach().cpu().numpy())\n",
    "        \n",
    "    print(\"Epoch {0}, Loss {1:6.4f}, TD-Loss {2:6.4f}, NTD-Loss {3:6.4f}, Margin Loss {4:6.4f}, L2 Loss {5:6.4f}\".format(\n",
    "        epoch, np.mean(epoch_loss), np.mean(epoch_td_loss), \n",
    "        np.mean(epoch_ntd_loss), np.mean(epoch_margin_loss), np.mean(epoch_l2_loss))\n",
    "         )\n",
    "    \n",
    "    history[\"loss-mu\"][epoch] = np.mean(epoch_loss)\n",
    "    history[\"loss-std\"][epoch] = np.std(epoch_loss)\n",
    "    history[\"td-loss-mu\"][epoch] = np.mean(epoch_td_loss)\n",
    "    history[\"td-loss-std\"][epoch] = np.std(epoch_td_loss)\n",
    "    history[\"ntd-loss-mu\"][epoch] = np.mean(epoch_ntd_loss)\n",
    "    history[\"ntd-loss-std\"][epoch] = np.std(epoch_ntd_loss)\n",
    "    history[\"margin-loss-mu\"][epoch] = np.mean(epoch_margin_loss)\n",
    "    history[\"margin-loss-std\"][epoch] = np.std(epoch_margin_loss)\n",
    "    history[\"l2-loss-mu\"][epoch] = np.mean(epoch_l2_loss)\n",
    "    history[\"l2-loss-std\"][epoch] = np.std(epoch_l2_loss)"
   ]
  },
  {
   "cell_type": "code",
   "execution_count": 83,
   "metadata": {},
   "outputs": [
    {
     "data": {
      "text/plain": [
       "Text(0, 0.5, 'Loss')"
      ]
     },
     "execution_count": 83,
     "metadata": {},
     "output_type": "execute_result"
    },
    {
     "data": {
      "image/png": "[encoded data removed]",
      "text/plain": [
       "<Figure size 432x288 with 1 Axes>"
      ]
     },
     "metadata": {
      "needs_background": "light"
     },
     "output_type": "display_data"
    }
   ],
   "source": [
    "steps = np.arange(n_epochs)\n",
    "plt.plot(steps, history[\"loss-mu\"])\n",
    "\n",
    "plt.fill_between(steps, history[\"loss-mu\"]-history[\"loss-std\"], \n",
    "                 history[\"loss-mu\"]+history[\"loss-std\"], alpha=0.2)\n",
    "plt.grid(alpha=0.35)\n",
    "plt.xlabel(\"Epoch\")\n",
    "plt.ylabel(\"Loss\")"
   ]
  },
  {
   "cell_type": "code",
   "execution_count": 84,
   "metadata": {},
   "outputs": [
    {
     "data": {
      "text/plain": [
       "<matplotlib.legend.Legend at 0x7f69b36ebbe0>"
      ]
     },
     "execution_count": 84,
     "metadata": {},
     "output_type": "execute_result"
    },
    {
     "data": {
      "image/png": "[encoded data removed]",
      "text/plain": [
       "<Figure size 432x288 with 1 Axes>"
      ]
     },
     "metadata": {
      "needs_background": "light"
     },
     "output_type": "display_data"
    }
   ],
   "source": [
    "for loggable in loggables:\n",
    "    plt.plot(steps, history[loggable + \"-mu\"], label=loggable)\n",
    "    plt.fill_between(steps, history[loggable + \"-mu\"] - history[loggable + \"-std\"],\n",
    "                     history[loggable + \"-mu\"] + history[loggable + \"-std\"],\n",
    "                     alpha=0.2\n",
    "                    )\n",
    "plt.grid(alpha=0.35)\n",
    "plt.ylim([-5, 150])\n",
    "plt.legend(frameon=False)"
   ]
  },
  {
   "cell_type": "code",
   "execution_count": 85,
   "metadata": {},
   "outputs": [
    {
     "name": "stdout",
     "output_type": "stream",
     "text": [
      "Finished game 0 with score    100.\n",
      "Finished game 1 with score    100.\n",
      "Finished game 2 with score    100.\n",
      "Finished game 3 with score    100.\n",
      "Finished game 4 with score      0.\n",
      "Finished game 5 with score    100.\n",
      "Finished game 6 with score    100.\n",
      "Finished game 7 with score    100.\n",
      "Finished game 8 with score    100.\n",
      "Finished game 9 with score    100.\n",
      "Finished game 10 with score    100.\n",
      "Finished game 11 with score    100.\n",
      "Finished game 12 with score    100.\n",
      "Finished game 13 with score      0.\n",
      "Finished game 14 with score    100.\n",
      "Finished game 15 with score    100.\n",
      "Finished game 16 with score    100.\n",
      "Finished game 17 with score    100.\n",
      "Finished game 18 with score      0.\n",
      "Finished game 19 with score    100.\n"
     ]
    },
    {
     "data": {
      "text/plain": [
       "[100.0,\n",
       " 100.0,\n",
       " 100.0,\n",
       " 100.0,\n",
       " 0.0,\n",
       " 100.0,\n",
       " 100.0,\n",
       " 100.0,\n",
       " 100.0,\n",
       " 100.0,\n",
       " 100.0,\n",
       " 100.0,\n",
       " 100.0,\n",
       " 0.0,\n",
       " 100.0,\n",
       " 100.0,\n",
       " 100.0,\n",
       " 100.0,\n",
       " 0.0,\n",
       " 100.0]"
      ]
     },
     "execution_count": 85,
     "metadata": {},
     "output_type": "execute_result"
    }
   ],
   "source": [
    "env.close()\n",
    "env = retro.make('SonicTheHedgehog-Genesis', state=config['level'])\n",
    "utils.play_evaluation_games(env, online_model, \n",
    "                      state_transformer=utils.torchify_state, \n",
    "                      action_transformer=lambda x: utils.decoding_action_transformer(x, decoding),\n",
    "                      n_games=20, rnd_steps=50, max_frames=1000)"
   ]
  },
  {
   "cell_type": "code",
   "execution_count": 87,
   "metadata": {},
   "outputs": [
    {
     "name": "stdout",
     "output_type": "stream",
     "text": [
      "Collected 100 frames\n",
      "Collected 200 frames\n",
      "Collected 300 frames\n",
      "Collected 400 frames\n",
      "Collected 500 frames\n",
      "Collected 600 frames\n",
      "Collected 700 frames\n",
      "Collected 800 frames\n",
      "Collected 900 frames\n",
      "Collected 1000 frames\n",
      "Collected 1100 frames\n",
      "Collected 1200 frames\n",
      "Collected 1300 frames\n",
      "Collected 1400 frames\n"
     ]
    }
   ],
   "source": [
    "frames = utils.record_imitation_game(env=env, model=online_model, \n",
    "                               action_transformer=lambda x: utils.decoding_action_transformer(x, decoding),\n",
    "                               state_transformer=utils.torchify_state,\n",
    "                               rnd_steps=50, max_frames=5000)"
   ]
  },
  {
   "cell_type": "code",
   "execution_count": 88,
   "metadata": {},
   "outputs": [],
   "source": [
    "imageio.mimwrite(\n",
    "    \"torch_dqfd_agent_{}.mp4\".format(config[\"level\"]), \n",
    "    frames, fps=30)"
   ]
  },
  {
   "cell_type": "code",
   "execution_count": null,
   "metadata": {},
   "outputs": [],
   "source": []
  }
 ],
 "metadata": {
  "kernelspec": {
   "display_name": "Environment (conda_pytorch_p36)",
   "language": "python",
   "name": "conda_pytorch_p36"
  },
  "language_info": {
   "codemirror_mode": {
    "name": "ipython",
    "version": 3
   },
   "file_extension": ".py",
   "mimetype": "text/x-python",
   "name": "python",
   "nbconvert_exporter": "python",
   "pygments_lexer": "ipython3",
   "version": "3.6.10"
  }
 },
 "nbformat": 4,
 "nbformat_minor": 4
}
