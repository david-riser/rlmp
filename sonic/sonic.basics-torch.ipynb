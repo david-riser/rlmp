{
 "cells": [
  {
   "cell_type": "markdown",
   "metadata": {},
   "source": [
    "### Technical Things To Do\n",
    "- Setup nuts/bolts and try imitation learning on one level (done)\n",
    "- Optimize imitation learning training on one level\n",
    "- Setup nuts/bolts and try imitation learning on all levels, test generalization (not strictly necessary for the goal of this work)\n",
    "- Specify a generic evaluation protocol that can be used for all agents\n",
    "    - Fixed frame score over a number of evaluation attempts at the same level, mean.\n",
    "- Try learning from scratch with an RL, record the mean episodic reward throughout training.\n",
    "- Use the same agent but pre-trained with human demonstrations, record the mean episodic reward throughout training."
   ]
  },
  {
   "cell_type": "code",
   "execution_count": 1,
   "metadata": {},
   "outputs": [
    {
     "name": "stderr",
     "output_type": "stream",
     "text": [
      "/home/ubuntu/anaconda3/envs/pytorch_p36/lib/python3.6/site-packages/tensorflow/python/framework/dtypes.py:516: FutureWarning: Passing (type, 1) or '1type' as a synonym of type is deprecated; in a future version of numpy, it will be understood as (type, (1,)) / '(1,)type'.\n",
      "  _np_qint8 = np.dtype([(\"qint8\", np.int8, 1)])\n",
      "/home/ubuntu/anaconda3/envs/pytorch_p36/lib/python3.6/site-packages/tensorflow/python/framework/dtypes.py:517: FutureWarning: Passing (type, 1) or '1type' as a synonym of type is deprecated; in a future version of numpy, it will be understood as (type, (1,)) / '(1,)type'.\n",
      "  _np_quint8 = np.dtype([(\"quint8\", np.uint8, 1)])\n",
      "/home/ubuntu/anaconda3/envs/pytorch_p36/lib/python3.6/site-packages/tensorflow/python/framework/dtypes.py:518: FutureWarning: Passing (type, 1) or '1type' as a synonym of type is deprecated; in a future version of numpy, it will be understood as (type, (1,)) / '(1,)type'.\n",
      "  _np_qint16 = np.dtype([(\"qint16\", np.int16, 1)])\n",
      "/home/ubuntu/anaconda3/envs/pytorch_p36/lib/python3.6/site-packages/tensorflow/python/framework/dtypes.py:519: FutureWarning: Passing (type, 1) or '1type' as a synonym of type is deprecated; in a future version of numpy, it will be understood as (type, (1,)) / '(1,)type'.\n",
      "  _np_quint16 = np.dtype([(\"quint16\", np.uint16, 1)])\n",
      "/home/ubuntu/anaconda3/envs/pytorch_p36/lib/python3.6/site-packages/tensorflow/python/framework/dtypes.py:520: FutureWarning: Passing (type, 1) or '1type' as a synonym of type is deprecated; in a future version of numpy, it will be understood as (type, (1,)) / '(1,)type'.\n",
      "  _np_qint32 = np.dtype([(\"qint32\", np.int32, 1)])\n",
      "/home/ubuntu/anaconda3/envs/pytorch_p36/lib/python3.6/site-packages/tensorflow/python/framework/dtypes.py:525: FutureWarning: Passing (type, 1) or '1type' as a synonym of type is deprecated; in a future version of numpy, it will be understood as (type, (1,)) / '(1,)type'.\n",
      "  np_resource = np.dtype([(\"resource\", np.ubyte, 1)])\n",
      "/home/ubuntu/anaconda3/envs/pytorch_p36/lib/python3.6/site-packages/tensorboard/compat/tensorflow_stub/dtypes.py:541: FutureWarning: Passing (type, 1) or '1type' as a synonym of type is deprecated; in a future version of numpy, it will be understood as (type, (1,)) / '(1,)type'.\n",
      "  _np_qint8 = np.dtype([(\"qint8\", np.int8, 1)])\n",
      "/home/ubuntu/anaconda3/envs/pytorch_p36/lib/python3.6/site-packages/tensorboard/compat/tensorflow_stub/dtypes.py:542: FutureWarning: Passing (type, 1) or '1type' as a synonym of type is deprecated; in a future version of numpy, it will be understood as (type, (1,)) / '(1,)type'.\n",
      "  _np_quint8 = np.dtype([(\"quint8\", np.uint8, 1)])\n",
      "/home/ubuntu/anaconda3/envs/pytorch_p36/lib/python3.6/site-packages/tensorboard/compat/tensorflow_stub/dtypes.py:543: FutureWarning: Passing (type, 1) or '1type' as a synonym of type is deprecated; in a future version of numpy, it will be understood as (type, (1,)) / '(1,)type'.\n",
      "  _np_qint16 = np.dtype([(\"qint16\", np.int16, 1)])\n",
      "/home/ubuntu/anaconda3/envs/pytorch_p36/lib/python3.6/site-packages/tensorboard/compat/tensorflow_stub/dtypes.py:544: FutureWarning: Passing (type, 1) or '1type' as a synonym of type is deprecated; in a future version of numpy, it will be understood as (type, (1,)) / '(1,)type'.\n",
      "  _np_quint16 = np.dtype([(\"quint16\", np.uint16, 1)])\n",
      "/home/ubuntu/anaconda3/envs/pytorch_p36/lib/python3.6/site-packages/tensorboard/compat/tensorflow_stub/dtypes.py:545: FutureWarning: Passing (type, 1) or '1type' as a synonym of type is deprecated; in a future version of numpy, it will be understood as (type, (1,)) / '(1,)type'.\n",
      "  _np_qint32 = np.dtype([(\"qint32\", np.int32, 1)])\n",
      "/home/ubuntu/anaconda3/envs/pytorch_p36/lib/python3.6/site-packages/tensorboard/compat/tensorflow_stub/dtypes.py:550: FutureWarning: Passing (type, 1) or '1type' as a synonym of type is deprecated; in a future version of numpy, it will be understood as (type, (1,)) / '(1,)type'.\n",
      "  np_resource = np.dtype([(\"resource\", np.ubyte, 1)])\n"
     ]
    }
   ],
   "source": [
    "import base64\n",
    "import gym\n",
    "import io\n",
    "import matplotlib.pyplot as plt\n",
    "import numpy as np\n",
    "import os\n",
    "import pandas as pd\n",
    "import retro\n",
    "import tensorflow as tf\n",
    "import time\n",
    "\n",
    "from gym import wrappers\n",
    "from IPython.display import clear_output\n",
    "from sklearn.model_selection import train_test_split\n",
    "from sklearn.preprocessing import LabelEncoder, OneHotEncoder\n",
    "\n",
    "%matplotlib inline"
   ]
  },
  {
   "cell_type": "code",
   "execution_count": 2,
   "metadata": {},
   "outputs": [
    {
     "name": "stdout",
     "output_type": "stream",
     "text": [
      "This notebook has access to 4 CPUs.\n"
     ]
    }
   ],
   "source": [
    "n_cpu = os.cpu_count()\n",
    "print(f\"This notebook has access to {n_cpu} CPUs.\")"
   ]
  },
  {
   "cell_type": "code",
   "execution_count": 3,
   "metadata": {},
   "outputs": [],
   "source": [
    "levels = [\n",
    "    'MarbleZone.Act1','MarbleZone.Act2','MarbleZone.Act3',\n",
    "    'GreenHillZone.Act1','GreenHillZone.Act2','GreenHillZone.Act3',\n",
    "    'LabyrinthZone.Act1','LabyrinthZone.Act2','LabyrinthZone.Act3', \n",
    "    'SpringYardZone.Act1','SpringYardZone.Act2','SpringYardZone.Act3', \n",
    "    'StarLightZone.Act1','StarLightZone.Act2','StarLightZone.Act3',\n",
    "    'ScrapBrainZone.Act1','ScrapBrainZone.Act2' \n",
    "]\n",
    "\n",
    "config = {}\n",
    "config['data_path'] = os.path.abspath(\"./data/human\")\n",
    "config['level'] = 'GreenHillZone.Act1'\n",
    "\n",
    "config['epochs'] = 80\n",
    "config['batches_per_epoch'] = 10\n",
    "config['batch_size'] = 32\n",
    "config['patience'] = 5"
   ]
  },
  {
   "cell_type": "code",
   "execution_count": 4,
   "metadata": {},
   "outputs": [],
   "source": [
    "def extract_human_data(movie_path):\n",
    "    \"\"\" Given a path to a replay file, load it and \n",
    "        extract the series of state-action pairs.\n",
    "    \"\"\"\n",
    "    movie = retro.Movie(movie_path)\n",
    "    movie.step()\n",
    "\n",
    "    env = retro.make(game=movie.get_game(), state=retro.State.NONE, \n",
    "                     use_restricted_actions=retro.Actions.ALL)\n",
    "    env.initial_state = movie.get_state()\n",
    "    state = env.reset()\n",
    "    state = np.swapaxes(state,0,2)\n",
    "    state = np.swapaxes(state,1,2)\n",
    "    states, actions, next_states, rewards, dones = [], [], [], [], []\n",
    "    while movie.step():\n",
    "        keys = []\n",
    "        for i in range(len(env.buttons)):\n",
    "            keys.append(movie.get_key(i, 0))\n",
    "            \n",
    "        next_state, reward, done, info = env.step(keys)\n",
    "        \n",
    "        # Switch the channels to be first for pytorch\n",
    "        next_state = np.swapaxes(next_state, 0, 2)\n",
    "        next_state = np.swapaxes(next_state, 1, 2)\n",
    "        \n",
    "        actions.append(np.int8(keys))\n",
    "        states.append(state)\n",
    "        next_states.append(next_state)\n",
    "        rewards.append(reward)\n",
    "        dones.append(done)\n",
    "        \n",
    "        state = next_state\n",
    "        \n",
    "    return states, actions, next_states, rewards, dones"
   ]
  },
  {
   "cell_type": "code",
   "execution_count": 5,
   "metadata": {},
   "outputs": [],
   "source": [
    "states, actions, next_states, rewards, dones = extract_human_data(f\"data/human/SonicTheHedgehog-Genesis-{config['level']}-0000.bk2\")"
   ]
  },
  {
   "cell_type": "code",
   "execution_count": 6,
   "metadata": {},
   "outputs": [
    {
     "name": "stdout",
     "output_type": "stream",
     "text": [
      "[[0 0 0 0 0 0 0 1 0 0 0 0]\n",
      " [0 0 0 0 0 0 0 0 0 0 0 0]\n",
      " [0 1 0 0 0 0 0 1 0 0 0 0]\n",
      " [0 0 0 0 0 0 1 0 0 0 0 0]\n",
      " [0 0 0 0 1 0 1 0 0 0 0 0]\n",
      " [0 1 0 0 0 0 0 0 0 0 0 0]\n",
      " [0 1 0 0 0 0 1 0 0 0 0 0]\n",
      " [0 0 0 0 0 1 0 0 0 0 0 0]\n",
      " [0 0 0 0 0 1 1 0 0 0 0 0]\n",
      " [0 0 0 0 0 1 0 1 0 0 0 0]\n",
      " [0 1 0 0 1 0 0 1 0 0 0 0]\n",
      " [0 0 0 0 1 0 0 0 0 0 0 0]] [1841  881  224  139   38   21   18   16    5    4    3    1]\n"
     ]
    }
   ],
   "source": [
    "unique_actions, counts = np.unique(actions, axis=0, return_counts=True)\n",
    "\n",
    "ordering = np.argsort(counts)[::-1]\n",
    "unique_actions = unique_actions[ordering]\n",
    "counts = counts[ordering]\n",
    "print(unique_actions, counts)"
   ]
  },
  {
   "cell_type": "code",
   "execution_count": 7,
   "metadata": {},
   "outputs": [
    {
     "name": "stdout",
     "output_type": "stream",
     "text": [
      "Identified 12 unique actions of 4096 possible.\n"
     ]
    }
   ],
   "source": [
    "print(f\"Identified {len(counts)} unique actions of {2**12} possible.\")"
   ]
  },
  {
   "cell_type": "markdown",
   "metadata": {},
   "source": [
    "### Reduced Action Space\n",
    "Humans are only displaying a very limited subset of the total number of actions possible.  Lets take advantage of this by encoding the action space into a simple integer."
   ]
  },
  {
   "cell_type": "code",
   "execution_count": 8,
   "metadata": {},
   "outputs": [],
   "source": [
    "def encode_actions(actions):\n",
    "    \"\"\" Cast actions to a string and then use a label encoder to \n",
    "        transform the vector into a simple integer.  \n",
    "    \"\"\"\n",
    "    str_actions = [\"\".join(str(action)) for action in actions]\n",
    "    encoder = LabelEncoder()\n",
    "    return encoder.fit_transform(str_actions)"
   ]
  },
  {
   "cell_type": "code",
   "execution_count": 9,
   "metadata": {},
   "outputs": [],
   "source": [
    "# actions = encode_actions(actions)\n",
    "# encoder = LabelEncoder()\n",
    "# str_actions = [\"\".join(str(action)) for action in actions]\n",
    "# actions = encoder.fit_transform(str_actions)\n",
    "# n_actions = len(np.unique(actions))\n",
    "# print(n_actions)"
   ]
  },
  {
   "cell_type": "code",
   "execution_count": 10,
   "metadata": {},
   "outputs": [],
   "source": [
    "# vector_encoder = OneHotEncoder(sparse=False)\n",
    "# actions = vector_encoder.fit_transform(actions.reshape(-1, 1))"
   ]
  },
  {
   "cell_type": "code",
   "execution_count": 11,
   "metadata": {},
   "outputs": [],
   "source": [
    "#imageio.mimwrite(\n",
    "#    \"imitation_agent_{}.mp4\".format(config[\"level\"]), \n",
    "#    frames, fps=30)"
   ]
  },
  {
   "cell_type": "code",
   "execution_count": 12,
   "metadata": {},
   "outputs": [],
   "source": [
    "import torch\n",
    "import torch.autograd as autograd \n",
    "import torch.nn as nn\n",
    "import torch.nn.functional as F\n",
    "import torch.optim as optim"
   ]
  },
  {
   "cell_type": "code",
   "execution_count": 13,
   "metadata": {},
   "outputs": [
    {
     "data": {
      "text/plain": [
       "(3, 224, 320)"
      ]
     },
     "execution_count": 13,
     "metadata": {},
     "output_type": "execute_result"
    }
   ],
   "source": [
    "states[0].shape"
   ]
  },
  {
   "cell_type": "code",
   "execution_count": 14,
   "metadata": {},
   "outputs": [
    {
     "data": {
      "text/plain": [
       "<matplotlib.image.AxesImage at 0x7fa9f003dac8>"
      ]
     },
     "execution_count": 14,
     "metadata": {},
     "output_type": "execute_result"
    },
    {
     "data": {
      "image/png": "[encoded data removed]",
      "text/plain": [
       "<Figure size 432x288 with 1 Axes>"
      ]
     },
     "metadata": {
      "needs_background": "light"
     },
     "output_type": "display_data"
    }
   ],
   "source": [
    "plt.imshow(states[0][0,:,:])"
   ]
  },
  {
   "cell_type": "code",
   "execution_count": 15,
   "metadata": {},
   "outputs": [],
   "source": [
    "class ImitationModel(nn.Module):\n",
    "    \"\"\" Basic convolutional neural network \n",
    "        for imitation learning from Sonic \n",
    "        replay data.\n",
    "    \"\"\"\n",
    "    \n",
    "    def __init__(self, input_shape, output_shape):\n",
    "        super(ImitationModel, self).__init__()\n",
    "        self.input_shape = input_shape\n",
    "        self.output_shape = output_shape\n",
    "        \n",
    "        channels, height, width = self.input_shape\n",
    "        self.features = nn.Sequential(\n",
    "            nn.Conv2d(channels, 16, kernel_size=3, stride=1),\n",
    "            nn.ReLU(),\n",
    "            nn.Conv2d(16, 16, kernel_size=3, stride=3),\n",
    "            nn.ReLU(),\n",
    "            nn.Conv2d(16, 16, kernel_size=3, stride=1),\n",
    "            nn.ReLU(),\n",
    "            nn.Conv2d(16, 16, kernel_size=3, stride=3),\n",
    "            nn.Conv2d(16, 16, kernel_size=3, stride=1),\n",
    "            nn.ReLU(),\n",
    "            nn.Conv2d(16, 16, kernel_size=3, stride=3),\n",
    "            nn.ReLU()\n",
    "        )\n",
    "        \n",
    "        self.fully_connected = nn.Sequential(\n",
    "            nn.Linear(self._feature_size(), 256),\n",
    "            nn.ReLU(),\n",
    "            nn.Linear(256, self.output_shape),\n",
    "            nn.Softmax()\n",
    "        )\n",
    "        \n",
    "    def _feature_size(self):\n",
    "        \"\"\" I took this from somewhere and just applied it. \"\"\"\n",
    "        return self.features(autograd.Variable(torch.zeros(1, *self.input_shape))).view(1, -1).size(1)\n",
    "    \n",
    "    def forward(self, x):\n",
    "        x = self.features(x)\n",
    "        x = x.view(x.size(0), -1)\n",
    "        x = self.fully_connected(x)\n",
    "        return x"
   ]
  },
  {
   "cell_type": "code",
   "execution_count": 16,
   "metadata": {},
   "outputs": [],
   "source": [
    "# model = ImitationModel(states[0].shape, n_actions)\n",
    "model = ImitationModel(states[0].shape, 12)\n",
    "model = model.cuda()\n",
    "optimizer = optim.Adam(model.parameters(), lr=3e-4)"
   ]
  },
  {
   "cell_type": "code",
   "execution_count": 17,
   "metadata": {},
   "outputs": [],
   "source": [
    "x_train, x_test, y_train, y_test = train_test_split(\n",
    "    np.array(states), np.array(actions))"
   ]
  },
  {
   "cell_type": "code",
   "execution_count": 18,
   "metadata": {},
   "outputs": [],
   "source": [
    "class ModelTrainer:\n",
    "    \"\"\" Trainer for the imitation learning model.  Since this\n",
    "        is basic imitation learning, we will minimize the binary\n",
    "        cross-entropy between action predictions and expert actions.\n",
    "    \"\"\"\n",
    "    def __init__(self, config):\n",
    "        self.config = config\n",
    "        self.train_loss = []\n",
    "        self.train_std = []\n",
    "        self.test_loss = []\n",
    "        self.test_std = []\n",
    "        self.loss_fn = nn.BCELoss()\n",
    "\n",
    "        \n",
    "    def train(self, model, x_train, y_train, x_test, y_test):\n",
    "        \n",
    "        # Setup static objects which persist throughout\n",
    "        # the iterative training cycle. \n",
    "        index_pool = np.arange(x_train.shape[0])\n",
    "        \n",
    "        for epoch in range(self.config['epochs']):\n",
    "            epoch_loss, epoch_std = [], []\n",
    "            for batch in range(self.config['batches_per_epoch']):\n",
    "                indices = np.random.choice(index_pool, self.config['batch_size'], replace=False)\n",
    "                \n",
    "                # Convert the states and actions to pytorch tensors for \n",
    "                # input to the network. \n",
    "                x_batch = autograd.Variable(torch.FloatTensor(x_train[indices]))\n",
    "                y_batch = autograd.Variable(torch.FloatTensor(y_train[indices]))\n",
    "                x_batch, y_batch = x_batch.cuda(), y_batch.cuda()\n",
    "                \n",
    "                # Predict an action\n",
    "                y_pred = model(x_batch)\n",
    "                loss = self.loss_fn(input=y_pred, target=y_batch)\n",
    "                \n",
    "                # Optimize on this batch \n",
    "                optimizer.zero_grad()\n",
    "                loss.backward()\n",
    "                optimizer.step()\n",
    "                \n",
    "                epoch_loss.append(loss.detach().cpu().numpy())\n",
    "                \n",
    "                \n",
    "            # Perform end of epoch events.\n",
    "            self.train_loss.append(np.mean(epoch_loss))\n",
    "            self.train_std.append(np.std(epoch_loss))\n",
    "            mean, std = self.evaluate(model, x_test, y_test, self.config['batch_size'])\n",
    "            self.test_loss.append(mean)\n",
    "            self.test_std.append(std)\n",
    "            print(\"Epoch {0}, Loss {1:6.4f}, Test Loss {2:6.4f}\".format(\n",
    "                epoch, self.train_loss[-1], self.test_loss[-1]))\n",
    "            \n",
    "            \n",
    "    def evaluate(self, model, x_eval, y_eval, batch_size=32):\n",
    "        \"\"\" Evaluate the development or test data with the model\n",
    "            and return the mean performance over batches.\n",
    "        \"\"\"\n",
    "        with torch.no_grad():\n",
    "            batches = x_eval.shape[0] // batch_size\n",
    "            test_loss = []\n",
    "            for batch in range(batches):\n",
    "                x = autograd.Variable(torch.FloatTensor(x_eval[batch * batch_size : (batch + 1) * batch_size]))\n",
    "                y = autograd.Variable(torch.FloatTensor(y_eval[batch * batch_size : (batch + 1) * batch_size]))\n",
    "                x, y, = x.cuda(), y.cuda()\n",
    "                y_pred = model(x)\n",
    "                loss = self.loss_fn(input=y_pred, target=y)\n",
    "                test_loss.append(loss.detach().cpu().numpy())\n",
    "                \n",
    "        return np.mean(test_loss), np.std(test_loss)"
   ]
  },
  {
   "cell_type": "code",
   "execution_count": 19,
   "metadata": {
    "scrolled": false
   },
   "outputs": [
    {
     "name": "stderr",
     "output_type": "stream",
     "text": [
      "/home/ubuntu/anaconda3/envs/pytorch_p36/lib/python3.6/site-packages/torch/nn/modules/container.py:100: UserWarning: Implicit dimension choice for softmax has been deprecated. Change the call to include dim=X as an argument.\n",
      "  input = module(input)\n"
     ]
    },
    {
     "name": "stdout",
     "output_type": "stream",
     "text": [
      "Epoch 0, Loss 0.1804, Test Loss 0.1222\n",
      "Epoch 1, Loss 0.1121, Test Loss 0.1249\n",
      "Epoch 2, Loss 0.1314, Test Loss 0.1164\n",
      "Epoch 3, Loss 0.1056, Test Loss 0.1141\n",
      "Epoch 4, Loss 0.1050, Test Loss 0.1104\n",
      "Epoch 5, Loss 0.1114, Test Loss 0.1117\n",
      "Epoch 6, Loss 0.1105, Test Loss 0.1065\n",
      "Epoch 7, Loss 0.1111, Test Loss 0.1061\n",
      "Epoch 8, Loss 0.0973, Test Loss 0.1029\n",
      "Epoch 9, Loss 0.0981, Test Loss 0.1063\n",
      "Epoch 10, Loss 0.0942, Test Loss 0.1003\n",
      "Epoch 11, Loss 0.0997, Test Loss 0.0959\n",
      "Epoch 12, Loss 0.0894, Test Loss 0.0995\n",
      "Epoch 13, Loss 0.0830, Test Loss 0.0947\n",
      "Epoch 14, Loss 0.0890, Test Loss 0.0929\n",
      "Epoch 15, Loss 0.0925, Test Loss 0.0899\n",
      "Epoch 16, Loss 0.0855, Test Loss 0.0859\n",
      "Epoch 17, Loss 0.0757, Test Loss 0.0889\n",
      "Epoch 18, Loss 0.0735, Test Loss 0.0872\n",
      "Epoch 19, Loss 0.0800, Test Loss 0.0786\n",
      "Epoch 20, Loss 0.0696, Test Loss 0.0784\n",
      "Epoch 21, Loss 0.0734, Test Loss 0.0748\n",
      "Epoch 22, Loss 0.0671, Test Loss 0.0771\n",
      "Epoch 23, Loss 0.0655, Test Loss 0.0752\n",
      "Epoch 24, Loss 0.0688, Test Loss 0.0748\n",
      "Epoch 25, Loss 0.0642, Test Loss 0.0721\n",
      "Epoch 26, Loss 0.0667, Test Loss 0.0785\n",
      "Epoch 27, Loss 0.0664, Test Loss 0.0765\n",
      "Epoch 28, Loss 0.0640, Test Loss 0.0751\n",
      "Epoch 29, Loss 0.0662, Test Loss 0.0729\n",
      "Epoch 30, Loss 0.0638, Test Loss 0.0693\n",
      "Epoch 31, Loss 0.0606, Test Loss 0.0685\n",
      "Epoch 32, Loss 0.0540, Test Loss 0.0661\n",
      "Epoch 33, Loss 0.0643, Test Loss 0.0640\n",
      "Epoch 34, Loss 0.0574, Test Loss 0.0660\n",
      "Epoch 35, Loss 0.0575, Test Loss 0.0659\n",
      "Epoch 36, Loss 0.0581, Test Loss 0.0618\n",
      "Epoch 37, Loss 0.0542, Test Loss 0.0621\n",
      "Epoch 38, Loss 0.0608, Test Loss 0.0664\n",
      "Epoch 39, Loss 0.0589, Test Loss 0.0638\n",
      "Epoch 40, Loss 0.0528, Test Loss 0.0590\n",
      "Epoch 41, Loss 0.0526, Test Loss 0.0634\n",
      "Epoch 42, Loss 0.0562, Test Loss 0.0604\n",
      "Epoch 43, Loss 0.0539, Test Loss 0.0600\n",
      "Epoch 44, Loss 0.0512, Test Loss 0.0576\n",
      "Epoch 45, Loss 0.0545, Test Loss 0.0590\n",
      "Epoch 46, Loss 0.0550, Test Loss 0.0578\n",
      "Epoch 47, Loss 0.0533, Test Loss 0.0577\n",
      "Epoch 48, Loss 0.0530, Test Loss 0.0578\n",
      "Epoch 49, Loss 0.0521, Test Loss 0.0570\n",
      "Epoch 50, Loss 0.0546, Test Loss 0.0584\n",
      "Epoch 51, Loss 0.0518, Test Loss 0.0588\n",
      "Epoch 52, Loss 0.0545, Test Loss 0.0560\n",
      "Epoch 53, Loss 0.0493, Test Loss 0.0548\n",
      "Epoch 54, Loss 0.0476, Test Loss 0.0646\n",
      "Epoch 55, Loss 0.0512, Test Loss 0.0582\n",
      "Epoch 56, Loss 0.0483, Test Loss 0.0561\n",
      "Epoch 57, Loss 0.0483, Test Loss 0.0551\n",
      "Epoch 58, Loss 0.0451, Test Loss 0.0567\n",
      "Epoch 59, Loss 0.0454, Test Loss 0.0565\n",
      "Epoch 60, Loss 0.0440, Test Loss 0.0566\n",
      "Epoch 61, Loss 0.0416, Test Loss 0.0534\n",
      "Epoch 62, Loss 0.0428, Test Loss 0.0545\n",
      "Epoch 63, Loss 0.0432, Test Loss 0.0562\n",
      "Epoch 64, Loss 0.0437, Test Loss 0.0557\n",
      "Epoch 65, Loss 0.0409, Test Loss 0.0568\n",
      "Epoch 66, Loss 0.0512, Test Loss 0.0573\n",
      "Epoch 67, Loss 0.0485, Test Loss 0.0540\n",
      "Epoch 68, Loss 0.0429, Test Loss 0.0544\n",
      "Epoch 69, Loss 0.0451, Test Loss 0.0532\n",
      "Epoch 70, Loss 0.0463, Test Loss 0.0543\n",
      "Epoch 71, Loss 0.0469, Test Loss 0.0539\n",
      "Epoch 72, Loss 0.0454, Test Loss 0.0545\n",
      "Epoch 73, Loss 0.0433, Test Loss 0.0537\n",
      "Epoch 74, Loss 0.0417, Test Loss 0.0543\n",
      "Epoch 75, Loss 0.0461, Test Loss 0.0551\n",
      "Epoch 76, Loss 0.0419, Test Loss 0.0563\n",
      "Epoch 77, Loss 0.0478, Test Loss 0.0549\n",
      "Epoch 78, Loss 0.0430, Test Loss 0.0550\n",
      "Epoch 79, Loss 0.0448, Test Loss 0.0561\n"
     ]
    }
   ],
   "source": [
    "trainer = ModelTrainer(config)\n",
    "trainer.train(model, x_train, y_train, x_test, y_test)"
   ]
  },
  {
   "cell_type": "code",
   "execution_count": 20,
   "metadata": {},
   "outputs": [
    {
     "data": {
      "text/plain": [
       "<matplotlib.legend.Legend at 0x7fa9ef16ecc0>"
      ]
     },
     "execution_count": 20,
     "metadata": {},
     "output_type": "execute_result"
    },
    {
     "data": {
      "image/png": "[encoded data removed]",
      "text/plain": [
       "<Figure size 576x360 with 1 Axes>"
      ]
     },
     "metadata": {
      "needs_background": "light"
     },
     "output_type": "display_data"
    }
   ],
   "source": [
    "steps = np.arange(len(trainer.train_loss))\n",
    "\n",
    "plt.figure(figsize=(8,5))\n",
    "plt.plot(steps, trainer.train_loss, label=\"Train\")\n",
    "mu, std = np.array(trainer.train_loss), np.array(trainer.train_std)\n",
    "plt.fill_between(steps, mu - std, mu + std, alpha=0.35)\n",
    "\n",
    "plt.plot(steps, trainer.test_loss, label=\"Test\")\n",
    "mu, std = np.array(trainer.test_loss), np.array(trainer.test_std)\n",
    "plt.fill_between(steps, mu - std, mu + std, alpha=0.35)\n",
    "\n",
    "plt.grid(alpha=0.2)\n",
    "plt.xlabel(\"Epoch\")\n",
    "plt.ylabel(\"Binary Cross Entropy\")\n",
    "plt.legend(frameon=False)"
   ]
  },
  {
   "cell_type": "code",
   "execution_count": 21,
   "metadata": {},
   "outputs": [],
   "source": [
    "env = retro.make('SonicTheHedgehog-Genesis', state=config['level'])\n",
    "state = env.reset()"
   ]
  },
  {
   "cell_type": "code",
   "execution_count": 22,
   "metadata": {},
   "outputs": [
    {
     "data": {
      "text/plain": [
       "(224, 320, 3)"
      ]
     },
     "execution_count": 22,
     "metadata": {},
     "output_type": "execute_result"
    }
   ],
   "source": [
    "state.shape"
   ]
  },
  {
   "cell_type": "code",
   "execution_count": 23,
   "metadata": {},
   "outputs": [],
   "source": [
    "def torchify_state(state):\n",
    "    \"\"\" Convert a single state to a shape and data type that \n",
    "        can be injested by a pytoch model.\n",
    "    \"\"\"\n",
    "    reshaped_state = np.swapaxes(state, 0, 2)\n",
    "    reshaped_state = np.swapaxes(reshaped_state, 1, 2)\n",
    "    reshaped_state = np.expand_dims(reshaped_state, 0)\n",
    "    torchified_state = autograd.Variable(torch.FloatTensor(reshaped_state))\n",
    "    return torchified_state.cuda()"
   ]
  },
  {
   "cell_type": "code",
   "execution_count": 24,
   "metadata": {},
   "outputs": [
    {
     "name": "stdout",
     "output_type": "stream",
     "text": [
      "tensor([[[[0., 0., 0.,  ..., 0., 0., 0.],\n",
      "          [0., 0., 0.,  ..., 0., 0., 0.],\n",
      "          [0., 0., 0.,  ..., 0., 0., 0.],\n",
      "          ...,\n",
      "          [0., 0., 0.,  ..., 0., 0., 0.],\n",
      "          [0., 0., 0.,  ..., 0., 0., 0.],\n",
      "          [0., 0., 0.,  ..., 0., 0., 0.]],\n",
      "\n",
      "         [[0., 0., 0.,  ..., 0., 0., 0.],\n",
      "          [0., 0., 0.,  ..., 0., 0., 0.],\n",
      "          [0., 0., 0.,  ..., 0., 0., 0.],\n",
      "          ...,\n",
      "          [0., 0., 0.,  ..., 0., 0., 0.],\n",
      "          [0., 0., 0.,  ..., 0., 0., 0.],\n",
      "          [0., 0., 0.,  ..., 0., 0., 0.]],\n",
      "\n",
      "         [[0., 0., 0.,  ..., 0., 0., 0.],\n",
      "          [0., 0., 0.,  ..., 0., 0., 0.],\n",
      "          [0., 0., 0.,  ..., 0., 0., 0.],\n",
      "          ...,\n",
      "          [0., 0., 0.,  ..., 0., 0., 0.],\n",
      "          [0., 0., 0.,  ..., 0., 0., 0.],\n",
      "          [0., 0., 0.,  ..., 0., 0., 0.]]]], device='cuda:0')\n"
     ]
    }
   ],
   "source": [
    "t_state = torchify_state(state)\n",
    "print(t_state)"
   ]
  },
  {
   "cell_type": "code",
   "execution_count": 25,
   "metadata": {},
   "outputs": [
    {
     "name": "stderr",
     "output_type": "stream",
     "text": [
      "/home/ubuntu/anaconda3/envs/pytorch_p36/lib/python3.6/site-packages/torch/nn/modules/container.py:100: UserWarning: Implicit dimension choice for softmax has been deprecated. Change the call to include dim=X as an argument.\n",
      "  input = module(input)\n"
     ]
    },
    {
     "data": {
      "text/plain": [
       "tensor([[0.0079, 0.1890, 0.0082, 0.0050, 0.2065, 0.1410, 0.2603, 0.1632, 0.0080,\n",
       "         0.0026, 0.0044, 0.0040]], device='cuda:0', grad_fn=<SoftmaxBackward>)"
      ]
     },
     "execution_count": 25,
     "metadata": {},
     "output_type": "execute_result"
    }
   ],
   "source": [
    "model(t_state)"
   ]
  },
  {
   "cell_type": "code",
   "execution_count": 26,
   "metadata": {},
   "outputs": [],
   "source": [
    "def record_imitation_game(env, model, \n",
    "                          rnd_steps=50, max_frames=1000):\n",
    "    \"\"\" Record an imitation game from the provided environment which \n",
    "        should output states that are compatible with the model input\n",
    "        and receive actions which are compatible with the model output.\n",
    "    \"\"\"\n",
    "    \n",
    "    state = env.reset()\n",
    "    frames = []\n",
    "    frames.append(env.render(mode='rgb_array'))\n",
    "    for step in range(rnd_steps):\n",
    "        state, _, _, _ = env.step(env.action_space.sample())\n",
    "        frames.append(env.render(mode='rgb_array'))\n",
    "        \n",
    "    done = False\n",
    "    while not done:\n",
    "        \n",
    "        # Act according to our policy most of the time.  It \n",
    "        # seems to get stuck so I am trying to add some random\n",
    "        # elements to get Sonic unstuck.\n",
    "        if step % 5 == 0:\n",
    "            new_state, reward, done, info = env.step(env.action_space.sample())\n",
    "            state = new_state\n",
    "        \n",
    "        else:\n",
    "            state = torchify_state(state)\n",
    "            action = model(state)\n",
    "            action = action.detach().cpu().numpy()\n",
    "            action = np.round(action)[0]\n",
    "            action = np.array(action, dtype=np.int8)\n",
    "            new_state, reward, done, info = env.step(action)\n",
    "            state = new_state\n",
    "            \n",
    "        frames.append(env.render(mode='rgb_array'))\n",
    "        if len(frames) % 100 == 0:\n",
    "            print(\"Collected {} frames\".format(len(frames)))\n",
    "        \n",
    "        if len(frames) >= max_frames:\n",
    "            return frames\n",
    "        \n",
    "    return frames"
   ]
  },
  {
   "cell_type": "code",
   "execution_count": 27,
   "metadata": {},
   "outputs": [
    {
     "name": "stdout",
     "output_type": "stream",
     "text": [
      "Collected 100 frames\n",
      "Collected 200 frames\n",
      "Collected 300 frames\n",
      "Collected 400 frames\n",
      "Collected 500 frames\n",
      "Collected 600 frames\n",
      "Collected 700 frames\n",
      "Collected 800 frames\n",
      "Collected 900 frames\n",
      "Collected 1000 frames\n",
      "Collected 1100 frames\n",
      "Collected 1200 frames\n",
      "Collected 1300 frames\n",
      "Collected 1400 frames\n",
      "Collected 1500 frames\n",
      "Collected 1600 frames\n",
      "Collected 1700 frames\n",
      "Collected 1800 frames\n",
      "Collected 1900 frames\n",
      "Collected 2000 frames\n",
      "Collected 2100 frames\n",
      "Collected 2200 frames\n",
      "Collected 2300 frames\n",
      "Collected 2400 frames\n",
      "Collected 2500 frames\n",
      "Collected 2600 frames\n",
      "Collected 2700 frames\n",
      "Collected 2800 frames\n",
      "Collected 2900 frames\n",
      "Collected 3000 frames\n",
      "Collected 3100 frames\n",
      "Collected 3200 frames\n",
      "Collected 3300 frames\n",
      "Collected 3400 frames\n",
      "Collected 3500 frames\n",
      "Collected 3600 frames\n",
      "Collected 3700 frames\n",
      "Collected 3800 frames\n",
      "Collected 3900 frames\n",
      "Collected 4000 frames\n",
      "Collected 4100 frames\n",
      "Collected 4200 frames\n",
      "Collected 4300 frames\n",
      "Collected 4400 frames\n",
      "Collected 4500 frames\n",
      "Collected 4600 frames\n",
      "Collected 4700 frames\n",
      "Collected 4800 frames\n",
      "Collected 4900 frames\n",
      "Collected 5000 frames\n"
     ]
    }
   ],
   "source": [
    "frames = record_imitation_game(env, model, rnd_steps=50, max_frames=5000)"
   ]
  },
  {
   "cell_type": "code",
   "execution_count": 28,
   "metadata": {},
   "outputs": [],
   "source": [
    "try:\n",
    "    import imageio\n",
    "except:\n",
    "    !pip install imageio\n",
    "    !pip install imageio-ffmpeg\n",
    "    import imageio"
   ]
  },
  {
   "cell_type": "code",
   "execution_count": 29,
   "metadata": {},
   "outputs": [],
   "source": [
    "imageio.mimwrite(\n",
    "    \"torch_imitation_agent_{}.mp4\".format(config[\"level\"]), \n",
    "    frames, fps=30)"
   ]
  },
  {
   "cell_type": "code",
   "execution_count": 30,
   "metadata": {},
   "outputs": [],
   "source": [
    "def play_evaluation_games(env, model, n_games=1, rnd_steps=50, max_frames=1000):\n",
    "    \"\"\" Play evaluation games and return the scores.\n",
    "    \"\"\"\n",
    "    \n",
    "    scores = []\n",
    "    \n",
    "    for game in range(n_games):\n",
    "        state = env.reset()\n",
    "        for step in range(rnd_steps):\n",
    "            state, _, _, _ = env.step(env.action_space.sample())\n",
    "\n",
    "        step = 0\n",
    "        score = 0\n",
    "        done = False\n",
    "        while not done:\n",
    "\n",
    "            # Act according to our policy most of the time.  It \n",
    "            # seems to get stuck so I am trying to add some random\n",
    "            # elements to get Sonic unstuck.\n",
    "            if step % 5 == 0:\n",
    "                new_state, reward, done, info = env.step(env.action_space.sample())\n",
    "                state = new_state\n",
    "\n",
    "            else:\n",
    "                state = torchify_state(state)\n",
    "                action = model(state)\n",
    "                action = action.detach().cpu().numpy()\n",
    "                action = np.round(action)[0]\n",
    "                action = np.array(action, dtype=np.int8)\n",
    "                new_state, reward, done, info = env.step(action)\n",
    "                state = new_state\n",
    "                \n",
    "            step += 1 \n",
    "            score += reward\n",
    "            \n",
    "            if step > max_frames:\n",
    "                done = True\n",
    "        \n",
    "        print(\"Finished game {0} with score {1:6.0f}.\".format(\n",
    "            game, score\n",
    "        ))\n",
    "        scores.append(score)\n",
    "\n",
    "    return scores"
   ]
  },
  {
   "cell_type": "code",
   "execution_count": 31,
   "metadata": {},
   "outputs": [
    {
     "name": "stdout",
     "output_type": "stream",
     "text": [
      "Finished game 0 with score    300.\n",
      "Finished game 1 with score    200.\n",
      "Finished game 2 with score    100.\n",
      "Finished game 3 with score    100.\n",
      "Finished game 4 with score    300.\n",
      "Finished game 5 with score    200.\n",
      "Finished game 6 with score    200.\n",
      "Finished game 7 with score    200.\n",
      "Finished game 8 with score    800.\n",
      "Finished game 9 with score    300.\n",
      "Finished game 10 with score    800.\n",
      "Finished game 11 with score    200.\n",
      "Finished game 12 with score    100.\n",
      "Finished game 13 with score    200.\n",
      "Finished game 14 with score    200.\n",
      "Finished game 15 with score    200.\n",
      "Finished game 16 with score    300.\n",
      "Finished game 17 with score    100.\n",
      "Finished game 18 with score    200.\n",
      "Finished game 19 with score    300.\n"
     ]
    }
   ],
   "source": [
    "scores = play_evaluation_games(env, model, n_games=20, \n",
    "                               rnd_steps=50, max_frames=5000)"
   ]
  },
  {
   "cell_type": "code",
   "execution_count": 32,
   "metadata": {},
   "outputs": [
    {
     "data": {
      "text/plain": [
       "[300.0,\n",
       " 200.0,\n",
       " 100.0,\n",
       " 100.0,\n",
       " 300.0,\n",
       " 200.0,\n",
       " 200.0,\n",
       " 200.0,\n",
       " 800.0,\n",
       " 300.0,\n",
       " 800.0,\n",
       " 200.0,\n",
       " 100.0,\n",
       " 200.0,\n",
       " 200.0,\n",
       " 200.0,\n",
       " 300.0,\n",
       " 100.0,\n",
       " 200.0,\n",
       " 300.0]"
      ]
     },
     "execution_count": 32,
     "metadata": {},
     "output_type": "execute_result"
    }
   ],
   "source": [
    "scores"
   ]
  },
  {
   "cell_type": "code",
   "execution_count": 33,
   "metadata": {},
   "outputs": [
    {
     "data": {
      "text/plain": [
       "Text(0, 0.5, 'Occurances')"
      ]
     },
     "execution_count": 33,
     "metadata": {},
     "output_type": "execute_result"
    },
    {
     "data": {
      "image/png": "[encoded data removed]",
      "text/plain": [
       "<Figure size 432x288 with 1 Axes>"
      ]
     },
     "metadata": {
      "needs_background": "light"
     },
     "output_type": "display_data"
    }
   ],
   "source": [
    "plt.hist(scores, edgecolor='k', bins=8)\n",
    "plt.grid(alpha=0.2)\n",
    "plt.xlabel(\"Score\")\n",
    "plt.ylabel(\"Occurances\")"
   ]
  },
  {
   "cell_type": "code",
   "execution_count": 34,
   "metadata": {},
   "outputs": [],
   "source": [
    "def torch_td_loss(online_model, target_model, states, actions, \n",
    "                  next_states, rewards, dones, gamma=0.99):\n",
    "    \"\"\" Compute the TD-error using pytorch for a set of transitions. \"\"\"\n",
    "    \n",
    "    # Predict the value of the current and next state using the \n",
    "    # online and target networks respectively. \n",
    "    q_values = online_model(states)\n",
    "    next_q_values = target_model(next_states)\n",
    "    \n",
    "    # Mask those states for which the next state is terminal.\n",
    "    q_values = q_values.gather(1, actions.view(-1,1)).squeeze(1)\n",
    "    next_q_values = next_q_values.max(1).values\n",
    "\n",
    "    qhat = (rewards + gamma * next_q_values * (1 - dones))\n",
    "    loss = (q_values - qhat.detach()).pow(2)\n",
    "    loss = loss.mean()\n",
    "    return loss"
   ]
  },
  {
   "cell_type": "code",
   "execution_count": 35,
   "metadata": {},
   "outputs": [],
   "source": [
    "class PsuedoModel(nn.Module):\n",
    "    \"\"\" A fake DQN agent. \"\"\"\n",
    "    def __init__(self, input_shape, output_shape):\n",
    "        super(PsuedoModel, self).__init__()\n",
    "        self.input_shape = input_shape\n",
    "        self.output_shape = output_shape\n",
    "        \n",
    "        self.network = nn.Sequential(\n",
    "            nn.Linear(self.input_shape[0] * self.input_shape[1] * self.input_shape[2], output_shape)\n",
    "        )\n",
    "        \n",
    "    def forward(self, state):\n",
    "        state = state.view(state.size(0), -1)\n",
    "        return self.network(state)"
   ]
  },
  {
   "cell_type": "code",
   "execution_count": 36,
   "metadata": {},
   "outputs": [],
   "source": [
    "# Setup some fake action/states to predict \n",
    "# loss with.\n",
    "samples = 4\n",
    "input_shape = (3, 12, 12)\n",
    "output_shape = 3\n",
    "\n",
    "states = np.random.randint(0, 256, size=(samples, *input_shape))\n",
    "next_states = np.random.randint(0, 256, size=(samples, *input_shape))\n",
    "actions = np.random.randint(0, output_shape, size=(samples,))\n",
    "rewards = np.random.randint(0, 2, size=(samples,))\n",
    "dones = np.random.choice([True, False], samples, p=[0.1, 0.9])\n",
    "\n",
    "# Create a fake model for testing the loss function.\n",
    "fake_model = PsuedoModel(input_shape, output_shape)"
   ]
  },
  {
   "cell_type": "code",
   "execution_count": 37,
   "metadata": {},
   "outputs": [],
   "source": [
    "def torchify_float(x):\n",
    "    \"\"\" Convert x from numpy array to torch.FloatTensor. \"\"\"\n",
    "    return autograd.Variable(torch.FloatTensor(x))\n",
    "\n",
    "def torchify_long(x):\n",
    "    \"\"\" Convert x from numpy array to torch.LongTensor. \"\"\"\n",
    "    return autograd.Variable(torch.LongTensor(x))"
   ]
  },
  {
   "cell_type": "code",
   "execution_count": 38,
   "metadata": {},
   "outputs": [],
   "source": [
    "states = torchify_float(states)\n",
    "actions = torchify_long(np.int8(actions))\n",
    "next_states = torchify_float(next_states)\n",
    "rewards = torchify_float(rewards)\n",
    "dones = torchify_float(dones)"
   ]
  },
  {
   "cell_type": "code",
   "execution_count": 39,
   "metadata": {},
   "outputs": [
    {
     "data": {
      "text/plain": [
       "tensor([[ -3.9867, -71.4322,  18.8665],\n",
       "        [-39.0895, -41.3918,  54.1084],\n",
       "        [ -3.4165, -98.7879,  36.9585],\n",
       "        [ 30.5722, -50.0230,   9.4556]], grad_fn=<AddmmBackward>)"
      ]
     },
     "execution_count": 39,
     "metadata": {},
     "output_type": "execute_result"
    }
   ],
   "source": [
    "fake_model(states)"
   ]
  },
  {
   "cell_type": "code",
   "execution_count": 40,
   "metadata": {},
   "outputs": [
    {
     "data": {
      "text/plain": [
       "tensor(8346.6348, grad_fn=<MeanBackward0>)"
      ]
     },
     "execution_count": 40,
     "metadata": {},
     "output_type": "execute_result"
    }
   ],
   "source": [
    "torch_td_loss(\n",
    "    online_model=fake_model, \n",
    "    target_model=fake_model,\n",
    "    states=states,\n",
    "    actions=actions,\n",
    "    next_states=next_states,\n",
    "    rewards=rewards,\n",
    "    dones=dones,\n",
    "    gamma=0.99\n",
    ")"
   ]
  },
  {
   "cell_type": "code",
   "execution_count": 41,
   "metadata": {},
   "outputs": [],
   "source": [
    "def numpy_margin_loss(q_values, action, expert_action, margin):\n",
    "    \"\"\" Margin loss for one state-action pair. \"\"\"\n",
    "    \n",
    "    # Set the margin to zero if the action chosen matches \n",
    "    # the expert action.     \n",
    "    margins = np.repeat(margin, q_values.shape)\n",
    "    margins[expert_action] = 0.\n",
    "    loss = max(q_values + margins) - q_values[expert_action]\n",
    "    return loss"
   ]
  },
  {
   "cell_type": "code",
   "execution_count": 42,
   "metadata": {},
   "outputs": [],
   "source": [
    "q_values = np.array([0.1, 0.1, 0.6, 0.2])\n",
    "action = 2\n",
    "expert_action = 3\n",
    "margin = 0.1"
   ]
  },
  {
   "cell_type": "code",
   "execution_count": 43,
   "metadata": {},
   "outputs": [
    {
     "data": {
      "text/plain": [
       "0.49999999999999994"
      ]
     },
     "execution_count": 43,
     "metadata": {},
     "output_type": "execute_result"
    }
   ],
   "source": [
    "numpy_margin_loss(q_values, action, expert_action, margin)"
   ]
  },
  {
   "cell_type": "code",
   "execution_count": 44,
   "metadata": {},
   "outputs": [
    {
     "name": "stdout",
     "output_type": "stream",
     "text": [
      "Action 0, Expert Action 0, Loss 7.80\n",
      "Action 0, Expert Action 1, Loss 7.80\n",
      "Action 0, Expert Action 2, Loss 0.00\n",
      "Action 0, Expert Action 3, Loss 7.70\n",
      "Action 1, Expert Action 0, Loss 7.80\n",
      "Action 1, Expert Action 1, Loss 7.80\n",
      "Action 1, Expert Action 2, Loss 0.00\n",
      "Action 1, Expert Action 3, Loss 7.70\n",
      "Action 2, Expert Action 0, Loss 7.80\n",
      "Action 2, Expert Action 1, Loss 7.80\n",
      "Action 2, Expert Action 2, Loss 0.00\n",
      "Action 2, Expert Action 3, Loss 7.70\n",
      "Action 3, Expert Action 0, Loss 7.80\n",
      "Action 3, Expert Action 1, Loss 7.80\n",
      "Action 3, Expert Action 2, Loss 0.00\n",
      "Action 3, Expert Action 3, Loss 7.70\n"
     ]
    }
   ],
   "source": [
    "for i in range(4):\n",
    "    for j in range(4):\n",
    "        loss = numpy_margin_loss(\n",
    "            q_values=np.array([0.1, 0.1, 7.6, 0.2]), \n",
    "            action=i, \n",
    "            expert_action=j, \n",
    "            margin=0.3)\n",
    "        print(\"Action {0}, Expert Action {1}, Loss {2:4.2f}\".format(i,j,loss))"
   ]
  },
  {
   "cell_type": "code",
   "execution_count": 45,
   "metadata": {},
   "outputs": [],
   "source": [
    "def numpy_multiple_margin_loss(q_values, actions, expert_actions, margin):\n",
    "    \"\"\" Apply the margin loss to a batch of inputs. \"\"\"\n",
    "    margins = np.ones(q_values.shape) * margin\n",
    "    row_indices = np.where(actions == expert_actions)[0]\n",
    "    margins[row_indices, actions[row_indices]] = 0.\n",
    "    return np.max(q_values + margins, axis=1) - np.choose(expert_actions, q_values.T)"
   ]
  },
  {
   "cell_type": "code",
   "execution_count": 46,
   "metadata": {},
   "outputs": [
    {
     "data": {
      "text/plain": [
       "array([1.1, 0.4, 1.1])"
      ]
     },
     "execution_count": 46,
     "metadata": {},
     "output_type": "execute_result"
    }
   ],
   "source": [
    "numpy_multiple_margin_loss(\n",
    "    q_values=np.array([[0.1, 0.1, 0.9], \n",
    "                        [0.1, 0.2, 0.1],\n",
    "                       [0.1, 0.1, 0.9]\n",
    "                      ]),\n",
    "    actions=np.array([0, 0, 1]),\n",
    "    expert_actions=np.array([1, 0, 1]),\n",
    "    margin=0.3\n",
    ")"
   ]
  },
  {
   "cell_type": "code",
   "execution_count": 47,
   "metadata": {},
   "outputs": [
    {
     "data": {
      "text/plain": [
       "1.0999999999999999"
      ]
     },
     "execution_count": 47,
     "metadata": {},
     "output_type": "execute_result"
    }
   ],
   "source": [
    "numpy_margin_loss(\n",
    "    q_values=np.array([0.1, 0.1, 0.9]), \n",
    "    action=0, \n",
    "    expert_action=1, \n",
    "    margin=0.3)"
   ]
  },
  {
   "cell_type": "code",
   "execution_count": 48,
   "metadata": {},
   "outputs": [
    {
     "data": {
      "text/plain": [
       "0.4"
      ]
     },
     "execution_count": 48,
     "metadata": {},
     "output_type": "execute_result"
    }
   ],
   "source": [
    "numpy_margin_loss(\n",
    "    q_values=np.array([0.1, 0.2, 0.1]), \n",
    "    action=0, \n",
    "    expert_action=0, \n",
    "    margin=0.3)"
   ]
  },
  {
   "cell_type": "code",
   "execution_count": 49,
   "metadata": {},
   "outputs": [
    {
     "data": {
      "text/plain": [
       "1.0999999999999999"
      ]
     },
     "execution_count": 49,
     "metadata": {},
     "output_type": "execute_result"
    }
   ],
   "source": [
    "numpy_margin_loss(\n",
    "    q_values=np.array([0.1, 0.1, 0.9]), \n",
    "    action=1, \n",
    "    expert_action=1, \n",
    "    margin=0.3)"
   ]
  },
  {
   "cell_type": "code",
   "execution_count": 50,
   "metadata": {},
   "outputs": [
    {
     "data": {
      "text/plain": [
       "array([0.1, 0.1, 0.1])"
      ]
     },
     "execution_count": 50,
     "metadata": {},
     "output_type": "execute_result"
    }
   ],
   "source": [
    "x = np.array([[0.1, 0.1, 0.2], \n",
    "                        [0.1, 0.2, 0.1],\n",
    "                       [0.1, 0.1, 0.2]\n",
    "                      ])\n",
    "indices = [0, 0, 0]\n",
    "np.choose(indices, x.T)"
   ]
  },
  {
   "cell_type": "code",
   "execution_count": 51,
   "metadata": {},
   "outputs": [],
   "source": [
    "q_values = torch.FloatTensor([\n",
    "    [0.1, 0.1, 0.9], \n",
    "    [0.1, 0.2, 0.1],\n",
    "    [0.1, 0.1, 0.9]\n",
    "])\n",
    "\n",
    "actions = torch.LongTensor([0, 0, 1])\n",
    "expert_actions = torch.LongTensor([1, 0, 1])"
   ]
  },
  {
   "cell_type": "code",
   "execution_count": 52,
   "metadata": {},
   "outputs": [],
   "source": [
    "def torch_margin_loss(q_values, actions, expert_actions, margin):\n",
    "    \"\"\" Margin loss in torch. \"\"\"\n",
    "    \n",
    "    # Calculate the margins and set them to zero where\n",
    "    # expert action and chosen action agree. \n",
    "    margins = torch.ones_like(q_values) * margin\n",
    "    indices = torch.where(actions == expert_actions)[0]\n",
    "    margins[indices, expert_actions[indices]] = 0.\n",
    "\n",
    "    \n",
    "    loss_term1 = torch.max(q_values + margins, axis=1)[0]\n",
    "    loss_term2 = torch.take(q_values, expert_actions)\n",
    "    \n",
    "    return loss_term1 - loss_term2"
   ]
  },
  {
   "cell_type": "code",
   "execution_count": 53,
   "metadata": {},
   "outputs": [
    {
     "data": {
      "text/plain": [
       "tensor([1.1000, 0.4000, 1.1000])"
      ]
     },
     "execution_count": 53,
     "metadata": {},
     "output_type": "execute_result"
    }
   ],
   "source": [
    "torch_margin_loss(\n",
    "    q_values=q_values,\n",
    "    actions=actions,\n",
    "    expert_actions=expert_actions,\n",
    "    margin=0.3\n",
    ")"
   ]
  },
  {
   "cell_type": "code",
   "execution_count": 54,
   "metadata": {},
   "outputs": [],
   "source": [
    "def torch_nstep_td_loss(online_model, target_model, actions, states, nth_states, \n",
    "                        discounted_rewards, dones, n, gamma):\n",
    "    \"\"\" Calculate the n-step TD-loss using pytorch.  We assume that the discounted sum over\n",
    "        rewards up to the n-th state has already been performed.  \n",
    "    \"\"\"\n",
    "    \n",
    "    # Predict the value of the current and next state using the \n",
    "    # online and target networks respectively. \n",
    "    q_values = online_model(states)\n",
    "    nth_q_values = target_model(nth_states)\n",
    "    \n",
    "    # Mask those states for which the next state is terminal.\n",
    "    q_values = q_values.gather(1, actions.view(-1,1)).squeeze(1)\n",
    "    nth_q_values = nth_q_values.max(1).values\n",
    "\n",
    "    qhat = (discounted_rewards + gamma**n * nth_q_values * (1 - dones))\n",
    "    loss = (q_values - qhat.detach()).pow(2)\n",
    "    loss = loss.mean()\n",
    "    return loss"
   ]
  },
  {
   "cell_type": "code",
   "execution_count": 55,
   "metadata": {},
   "outputs": [],
   "source": [
    "# Setup some fake action/states to predict \n",
    "# loss with.\n",
    "samples = 4\n",
    "input_shape = (3, 12, 12)\n",
    "output_shape = 3\n",
    "\n",
    "states = np.random.randint(0, 256, size=(samples, *input_shape))\n",
    "next_states = np.random.randint(0, 256, size=(samples, *input_shape))\n",
    "actions = np.random.randint(0, output_shape, size=(samples,))\n",
    "rewards = np.random.randint(0, 2, size=(samples,))\n",
    "dones = np.random.choice([True, False], samples, p=[0.1, 0.9])"
   ]
  },
  {
   "cell_type": "code",
   "execution_count": 56,
   "metadata": {},
   "outputs": [],
   "source": [
    "states = torchify_float(states)\n",
    "actions = torchify_long(np.int8(actions))\n",
    "next_states = torchify_float(next_states)\n",
    "rewards = torchify_float(rewards)\n",
    "dones = torchify_float(dones)"
   ]
  },
  {
   "cell_type": "code",
   "execution_count": 57,
   "metadata": {},
   "outputs": [
    {
     "data": {
      "text/plain": [
       "tensor(9305.9287, grad_fn=<MeanBackward0>)"
      ]
     },
     "execution_count": 57,
     "metadata": {},
     "output_type": "execute_result"
    }
   ],
   "source": [
    "torch_nstep_td_loss(\n",
    "    online_model=fake_model, \n",
    "    target_model=fake_model,\n",
    "    states=states,\n",
    "    actions=actions,\n",
    "    nth_states=next_states,\n",
    "    discounted_rewards=rewards,\n",
    "    dones=dones,\n",
    "    gamma=0.99,\n",
    "    n=1\n",
    ")"
   ]
  },
  {
   "cell_type": "code",
   "execution_count": 58,
   "metadata": {},
   "outputs": [
    {
     "data": {
      "text/plain": [
       "tensor(9305.9287, grad_fn=<MeanBackward0>)"
      ]
     },
     "execution_count": 58,
     "metadata": {},
     "output_type": "execute_result"
    }
   ],
   "source": [
    "torch_td_loss(\n",
    "    online_model=fake_model, \n",
    "    target_model=fake_model,\n",
    "    states=states,\n",
    "    actions=actions,\n",
    "    next_states=next_states,\n",
    "    rewards=rewards,\n",
    "    dones=dones,\n",
    "    gamma=0.99,\n",
    ")"
   ]
  },
  {
   "cell_type": "code",
   "execution_count": 59,
   "metadata": {},
   "outputs": [
    {
     "data": {
      "text/plain": [
       "tensor(8496.7168, grad_fn=<MeanBackward0>)"
      ]
     },
     "execution_count": 59,
     "metadata": {},
     "output_type": "execute_result"
    }
   ],
   "source": [
    "torch_nstep_td_loss(\n",
    "    online_model=fake_model, \n",
    "    target_model=fake_model,\n",
    "    states=states,\n",
    "    actions=actions,\n",
    "    nth_states=next_states,\n",
    "    discounted_rewards=rewards,\n",
    "    dones=dones,\n",
    "    gamma=0.99,\n",
    "    n=8\n",
    ")"
   ]
  },
  {
   "cell_type": "code",
   "execution_count": 60,
   "metadata": {},
   "outputs": [],
   "source": [
    "def torch_l2_penalty(parameters):\n",
    "    \n",
    "    loss = 0.\n",
    "    for p in parameters:\n",
    "        loss += torch.sum(p ** 2)\n",
    "        \n",
    "    return loss"
   ]
  },
  {
   "cell_type": "code",
   "execution_count": 61,
   "metadata": {},
   "outputs": [
    {
     "data": {
      "text/plain": [
       "(tensor([2, 1, 0, 1]), tensor(6.))"
      ]
     },
     "execution_count": 61,
     "metadata": {},
     "output_type": "execute_result"
    }
   ],
   "source": [
    "actions, torch_l2_penalty(actions)"
   ]
  },
  {
   "cell_type": "code",
   "execution_count": 62,
   "metadata": {},
   "outputs": [
    {
     "name": "stdout",
     "output_type": "stream",
     "text": [
      "tensor(14.)\n"
     ]
    }
   ],
   "source": [
    "x = torch.FloatTensor([1., 2., 3.])\n",
    "print(torch_l2_penalty(x))"
   ]
  },
  {
   "cell_type": "code",
   "execution_count": 63,
   "metadata": {},
   "outputs": [
    {
     "data": {
      "text/plain": [
       "tensor(1.0224, grad_fn=<AddBackward0>)"
      ]
     },
     "execution_count": 63,
     "metadata": {},
     "output_type": "execute_result"
    }
   ],
   "source": [
    "torch_l2_penalty(fake_model.parameters())"
   ]
  },
  {
   "cell_type": "code",
   "execution_count": 160,
   "metadata": {},
   "outputs": [],
   "source": [
    "def torch_dqfd_loss(online_model, target_model, states, next_states, nth_states, \n",
    "                    rewards, discounted_rewards, dones, gamma, n, coef1, coef2, coef3,\n",
    "                    margin, expert_actions\n",
    "                   ):\n",
    "    \"\"\" Construct the full DQfD loss from the four component loss functions.\n",
    "    \"\"\"\n",
    "    \n",
    "    # Predict which action to take from the online network.\n",
    "    q_values = online_model(states)\n",
    "    actions = torch.argmax(q_values, axis=1)\n",
    "    \n",
    "    td_loss = torch_td_loss(\n",
    "        online_model=online_model, \n",
    "        target_model=target_model, \n",
    "        actions=actions, states=states, \n",
    "        next_states=next_states, rewards=rewards, \n",
    "        dones=dones, gamma=gamma)\n",
    "    \n",
    "    ntd_loss = torch_nstep_td_loss(\n",
    "        online_model=online_model, target_model=target_model, \n",
    "        actions=actions, states=states, \n",
    "        nth_states=nth_states, \n",
    "        discounted_rewards=discounted_rewards, \n",
    "        dones=dones, gamma=gamma, n=n)\n",
    "    \n",
    "    q_values = online_model(states)\n",
    "    margin_loss = torch_margin_loss(q_values, actions, expert_actions, margin)\n",
    "    margin_loss = torch.mean(margin_loss)\n",
    "    l2_loss = torch_l2_penalty(online_model.parameters())\n",
    "    \n",
    "    loss = td_loss + coef1 * ntd_loss + coef2 * margin_loss + coef3 * l2_loss\n",
    "    \n",
    "    return loss, td_loss, ntd_loss * coef1, margin_loss * coef2, l2_loss * coef3"
   ]
  },
  {
   "cell_type": "code",
   "execution_count": 141,
   "metadata": {},
   "outputs": [
    {
     "ename": "AttributeError",
     "evalue": "'list' object has no attribute 'view'",
     "output_type": "error",
     "traceback": [
      "\u001b[0;31m---------------------------------------------------------------------------\u001b[0m",
      "\u001b[0;31mAttributeError\u001b[0m                            Traceback (most recent call last)",
      "\u001b[0;32m<ipython-input-141-57dda6727a49>\u001b[0m in \u001b[0;36m<module>\u001b[0;34m\u001b[0m\n\u001b[1;32m      7\u001b[0m     \u001b[0mdones\u001b[0m\u001b[0;34m=\u001b[0m\u001b[0mdones\u001b[0m\u001b[0;34m,\u001b[0m \u001b[0mgamma\u001b[0m\u001b[0;34m=\u001b[0m\u001b[0;36m0.99\u001b[0m\u001b[0;34m,\u001b[0m \u001b[0mn\u001b[0m\u001b[0;34m=\u001b[0m\u001b[0;36m1\u001b[0m\u001b[0;34m,\u001b[0m\u001b[0;34m\u001b[0m\u001b[0;34m\u001b[0m\u001b[0m\n\u001b[1;32m      8\u001b[0m     \u001b[0mcoef1\u001b[0m\u001b[0;34m=\u001b[0m\u001b[0;36m1.\u001b[0m\u001b[0;34m,\u001b[0m \u001b[0mcoef2\u001b[0m\u001b[0;34m=\u001b[0m\u001b[0;36m1.\u001b[0m\u001b[0;34m,\u001b[0m \u001b[0mcoef3\u001b[0m\u001b[0;34m=\u001b[0m\u001b[0;36m1e-5\u001b[0m\u001b[0;34m,\u001b[0m\u001b[0;34m\u001b[0m\u001b[0;34m\u001b[0m\u001b[0m\n\u001b[0;32m----> 9\u001b[0;31m     \u001b[0mmargin\u001b[0m\u001b[0;34m=\u001b[0m\u001b[0;36m0.8\u001b[0m\u001b[0;34m,\u001b[0m \u001b[0mexpert_actions\u001b[0m\u001b[0;34m=\u001b[0m\u001b[0mactions\u001b[0m\u001b[0;34m\u001b[0m\u001b[0;34m\u001b[0m\u001b[0m\n\u001b[0m\u001b[1;32m     10\u001b[0m )\n",
      "\u001b[0;32m<ipython-input-140-170e46b69c89>\u001b[0m in \u001b[0;36mtorch_dqfd_loss\u001b[0;34m(online_model, target_model, states, next_states, nth_states, rewards, discounted_rewards, dones, gamma, n, coef1, coef2, coef3, margin, expert_actions)\u001b[0m\n\u001b[1;32m      7\u001b[0m \u001b[0;34m\u001b[0m\u001b[0m\n\u001b[1;32m      8\u001b[0m     \u001b[0;31m# Predict which action to take from the online network.\u001b[0m\u001b[0;34m\u001b[0m\u001b[0;34m\u001b[0m\u001b[0;34m\u001b[0m\u001b[0m\n\u001b[0;32m----> 9\u001b[0;31m     \u001b[0mq_values\u001b[0m \u001b[0;34m=\u001b[0m \u001b[0monline_model\u001b[0m\u001b[0;34m(\u001b[0m\u001b[0mstates\u001b[0m\u001b[0;34m)\u001b[0m\u001b[0;34m\u001b[0m\u001b[0;34m\u001b[0m\u001b[0m\n\u001b[0m\u001b[1;32m     10\u001b[0m     \u001b[0mactions\u001b[0m \u001b[0;34m=\u001b[0m \u001b[0mtorch\u001b[0m\u001b[0;34m.\u001b[0m\u001b[0margmax\u001b[0m\u001b[0;34m(\u001b[0m\u001b[0mq_values\u001b[0m\u001b[0;34m,\u001b[0m \u001b[0maxis\u001b[0m\u001b[0;34m=\u001b[0m\u001b[0;36m1\u001b[0m\u001b[0;34m)\u001b[0m\u001b[0;34m\u001b[0m\u001b[0;34m\u001b[0m\u001b[0m\n\u001b[1;32m     11\u001b[0m \u001b[0;34m\u001b[0m\u001b[0m\n",
      "\u001b[0;32m~/anaconda3/envs/pytorch_p36/lib/python3.6/site-packages/torch/nn/modules/module.py\u001b[0m in \u001b[0;36m__call__\u001b[0;34m(self, *input, **kwargs)\u001b[0m\n\u001b[1;32m    530\u001b[0m             \u001b[0mresult\u001b[0m \u001b[0;34m=\u001b[0m \u001b[0mself\u001b[0m\u001b[0;34m.\u001b[0m\u001b[0m_slow_forward\u001b[0m\u001b[0;34m(\u001b[0m\u001b[0;34m*\u001b[0m\u001b[0minput\u001b[0m\u001b[0;34m,\u001b[0m \u001b[0;34m**\u001b[0m\u001b[0mkwargs\u001b[0m\u001b[0;34m)\u001b[0m\u001b[0;34m\u001b[0m\u001b[0;34m\u001b[0m\u001b[0m\n\u001b[1;32m    531\u001b[0m         \u001b[0;32melse\u001b[0m\u001b[0;34m:\u001b[0m\u001b[0;34m\u001b[0m\u001b[0;34m\u001b[0m\u001b[0m\n\u001b[0;32m--> 532\u001b[0;31m             \u001b[0mresult\u001b[0m \u001b[0;34m=\u001b[0m \u001b[0mself\u001b[0m\u001b[0;34m.\u001b[0m\u001b[0mforward\u001b[0m\u001b[0;34m(\u001b[0m\u001b[0;34m*\u001b[0m\u001b[0minput\u001b[0m\u001b[0;34m,\u001b[0m \u001b[0;34m**\u001b[0m\u001b[0mkwargs\u001b[0m\u001b[0;34m)\u001b[0m\u001b[0;34m\u001b[0m\u001b[0;34m\u001b[0m\u001b[0m\n\u001b[0m\u001b[1;32m    533\u001b[0m         \u001b[0;32mfor\u001b[0m \u001b[0mhook\u001b[0m \u001b[0;32min\u001b[0m \u001b[0mself\u001b[0m\u001b[0;34m.\u001b[0m\u001b[0m_forward_hooks\u001b[0m\u001b[0;34m.\u001b[0m\u001b[0mvalues\u001b[0m\u001b[0;34m(\u001b[0m\u001b[0;34m)\u001b[0m\u001b[0;34m:\u001b[0m\u001b[0;34m\u001b[0m\u001b[0;34m\u001b[0m\u001b[0m\n\u001b[1;32m    534\u001b[0m             \u001b[0mhook_result\u001b[0m \u001b[0;34m=\u001b[0m \u001b[0mhook\u001b[0m\u001b[0;34m(\u001b[0m\u001b[0mself\u001b[0m\u001b[0;34m,\u001b[0m \u001b[0minput\u001b[0m\u001b[0;34m,\u001b[0m \u001b[0mresult\u001b[0m\u001b[0;34m)\u001b[0m\u001b[0;34m\u001b[0m\u001b[0;34m\u001b[0m\u001b[0m\n",
      "\u001b[0;32m<ipython-input-35-5b9317adab53>\u001b[0m in \u001b[0;36mforward\u001b[0;34m(self, state)\u001b[0m\n\u001b[1;32m     11\u001b[0m \u001b[0;34m\u001b[0m\u001b[0m\n\u001b[1;32m     12\u001b[0m     \u001b[0;32mdef\u001b[0m \u001b[0mforward\u001b[0m\u001b[0;34m(\u001b[0m\u001b[0mself\u001b[0m\u001b[0;34m,\u001b[0m \u001b[0mstate\u001b[0m\u001b[0;34m)\u001b[0m\u001b[0;34m:\u001b[0m\u001b[0;34m\u001b[0m\u001b[0;34m\u001b[0m\u001b[0m\n\u001b[0;32m---> 13\u001b[0;31m         \u001b[0mstate\u001b[0m \u001b[0;34m=\u001b[0m \u001b[0mstate\u001b[0m\u001b[0;34m.\u001b[0m\u001b[0mview\u001b[0m\u001b[0;34m(\u001b[0m\u001b[0mstate\u001b[0m\u001b[0;34m.\u001b[0m\u001b[0msize\u001b[0m\u001b[0;34m(\u001b[0m\u001b[0;36m0\u001b[0m\u001b[0;34m)\u001b[0m\u001b[0;34m,\u001b[0m \u001b[0;34m-\u001b[0m\u001b[0;36m1\u001b[0m\u001b[0;34m)\u001b[0m\u001b[0;34m\u001b[0m\u001b[0;34m\u001b[0m\u001b[0m\n\u001b[0m\u001b[1;32m     14\u001b[0m         \u001b[0;32mreturn\u001b[0m \u001b[0mself\u001b[0m\u001b[0;34m.\u001b[0m\u001b[0mnetwork\u001b[0m\u001b[0;34m(\u001b[0m\u001b[0mstate\u001b[0m\u001b[0;34m)\u001b[0m\u001b[0;34m\u001b[0m\u001b[0;34m\u001b[0m\u001b[0m\n",
      "\u001b[0;31mAttributeError\u001b[0m: 'list' object has no attribute 'view'"
     ]
    }
   ],
   "source": [
    "torch_dqfd_loss(\n",
    "    online_model=fake_model,\n",
    "    target_model=fake_model,\n",
    "    states=states,\n",
    "    next_states=next_states, nth_states=next_states,\n",
    "    rewards=rewards, discounted_rewards=rewards,\n",
    "    dones=dones, gamma=0.99, n=1,\n",
    "    coef1=1., coef2=1., coef3=1e-5,\n",
    "    margin=0.8, expert_actions=actions\n",
    ")"
   ]
  },
  {
   "cell_type": "code",
   "execution_count": 66,
   "metadata": {},
   "outputs": [
    {
     "data": {
      "text/plain": [
       "array([[0, 0, 0, 0, 0, 0, 0, 1, 0, 0, 0, 0],\n",
       "       [0, 0, 0, 0, 0, 0, 0, 0, 0, 0, 0, 0],\n",
       "       [0, 1, 0, 0, 0, 0, 0, 1, 0, 0, 0, 0],\n",
       "       [0, 0, 0, 0, 0, 0, 1, 0, 0, 0, 0, 0],\n",
       "       [0, 0, 0, 0, 1, 0, 1, 0, 0, 0, 0, 0],\n",
       "       [0, 1, 0, 0, 0, 0, 0, 0, 0, 0, 0, 0],\n",
       "       [0, 1, 0, 0, 0, 0, 1, 0, 0, 0, 0, 0],\n",
       "       [0, 0, 0, 0, 0, 1, 0, 0, 0, 0, 0, 0],\n",
       "       [0, 0, 0, 0, 0, 1, 1, 0, 0, 0, 0, 0],\n",
       "       [0, 0, 0, 0, 0, 1, 0, 1, 0, 0, 0, 0],\n",
       "       [0, 1, 0, 0, 1, 0, 0, 1, 0, 0, 0, 0],\n",
       "       [0, 0, 0, 0, 1, 0, 0, 0, 0, 0, 0, 0]], dtype=int8)"
      ]
     },
     "execution_count": 66,
     "metadata": {},
     "output_type": "execute_result"
    }
   ],
   "source": [
    "unique_actions"
   ]
  },
  {
   "cell_type": "code",
   "execution_count": 67,
   "metadata": {},
   "outputs": [],
   "source": [
    "encoding = {}\n",
    "\n",
    "for i, action in enumerate(unique_actions):\n",
    "    encoding[tuple(action)] = i"
   ]
  },
  {
   "cell_type": "code",
   "execution_count": 68,
   "metadata": {},
   "outputs": [
    {
     "name": "stdout",
     "output_type": "stream",
     "text": [
      "(0, 0, 0, 0, 0, 0, 0, 1, 0, 0, 0, 0) 0\n",
      "(0, 0, 0, 0, 0, 0, 0, 0, 0, 0, 0, 0) 1\n",
      "(0, 1, 0, 0, 0, 0, 0, 1, 0, 0, 0, 0) 2\n",
      "(0, 0, 0, 0, 0, 0, 1, 0, 0, 0, 0, 0) 3\n",
      "(0, 0, 0, 0, 1, 0, 1, 0, 0, 0, 0, 0) 4\n",
      "(0, 1, 0, 0, 0, 0, 0, 0, 0, 0, 0, 0) 5\n",
      "(0, 1, 0, 0, 0, 0, 1, 0, 0, 0, 0, 0) 6\n",
      "(0, 0, 0, 0, 0, 1, 0, 0, 0, 0, 0, 0) 7\n",
      "(0, 0, 0, 0, 0, 1, 1, 0, 0, 0, 0, 0) 8\n",
      "(0, 0, 0, 0, 0, 1, 0, 1, 0, 0, 0, 0) 9\n",
      "(0, 1, 0, 0, 1, 0, 0, 1, 0, 0, 0, 0) 10\n",
      "(0, 0, 0, 0, 1, 0, 0, 0, 0, 0, 0, 0) 11\n"
     ]
    }
   ],
   "source": [
    "for key, value in encoding.items():\n",
    "    print(key, value)"
   ]
  },
  {
   "cell_type": "code",
   "execution_count": 69,
   "metadata": {},
   "outputs": [],
   "source": [
    "def encode_actions(actions, encoding):\n",
    "    \"\"\" Using the encoder dictionary, encode all of the actions\n",
    "        provided. \n",
    "    \"\"\"\n",
    "    \n",
    "    encoded = np.zeros(len(actions), dtype=np.int8)\n",
    "    for i, action in enumerate(actions):\n",
    "        \n",
    "        encoded[i] = encoding[tuple(action)]\n",
    "        \n",
    "    return encoded\n",
    "\n",
    "def decode_actions(actions, decoding):\n",
    "    \"\"\" Using the decoder dictionary, decode all of the actions\n",
    "        provided. \n",
    "    \"\"\"\n",
    "    \n",
    "    decoded = []\n",
    "    for i, action in enumerate(actions):\n",
    "        \n",
    "        decoded.append(decoding[action])\n",
    "        \n",
    "    return np.array(decoded, np.int8)"
   ]
  },
  {
   "cell_type": "code",
   "execution_count": 70,
   "metadata": {},
   "outputs": [],
   "source": [
    "y_test_encoded = encode_actions(y_test, encoding)"
   ]
  },
  {
   "cell_type": "code",
   "execution_count": 71,
   "metadata": {},
   "outputs": [
    {
     "data": {
      "text/plain": [
       "array([ 9,  1,  0,  1,  4,  0,  1,  0,  5,  0,  1,  1,  0,  0,  0,  0,  1,\n",
       "        0,  1,  1,  1,  0,  0,  0,  4,  2,  1,  0,  0,  1,  1,  0,  0,  2,\n",
       "        0,  1,  1,  2,  1,  0,  4,  0,  0,  0,  0,  1,  1,  0,  2,  5,  0,\n",
       "        3,  1,  0,  0,  0,  0,  0,  0,  1,  2,  1,  1,  0,  3,  1,  0,  2,\n",
       "        1,  0,  0,  0,  0,  0,  0,  1,  0,  1,  0,  1,  0,  0,  0,  1,  1,\n",
       "        1,  0,  0,  3,  2,  0,  0,  1,  0,  0,  0,  1,  0,  2,  0,  0,  0,\n",
       "        0,  0,  0,  1,  0,  0,  0,  0,  2,  1,  0,  1,  0,  1,  3,  0,  0,\n",
       "        0,  1,  0,  5,  1,  1,  0,  0,  0,  1,  1,  0,  2,  2,  0,  2,  0,\n",
       "        0,  0,  7,  0,  0,  0,  0,  2,  2,  0,  1,  0,  0,  0,  0,  0,  0,\n",
       "        0,  1,  0,  1,  0,  2,  0,  2,  0,  1,  0,  2,  0,  1,  0,  1,  0,\n",
       "        1,  0,  0,  0,  3,  0,  0,  1,  2,  0,  0,  0,  0,  0,  0,  1,  1,\n",
       "        0,  0,  1,  2,  3,  1,  0,  1,  1,  0,  2,  3,  3,  1,  0,  0,  0,\n",
       "        0,  0,  3,  0,  2,  1,  2,  0,  1,  3,  0,  0,  0,  0,  0,  0,  1,\n",
       "        1,  0,  0,  0,  0,  1,  0,  2,  0,  0,  2,  0,  3,  0,  0,  1,  0,\n",
       "        0,  0,  0,  0,  1,  0,  0,  0,  1,  7,  2,  0,  3,  1, 11,  0,  0,\n",
       "        0,  0,  0,  0,  1,  0,  0,  1,  3,  0,  3,  0,  0,  0,  1,  0,  0,\n",
       "        1,  2,  0,  0,  3,  0,  2,  0,  0,  2,  0,  0,  0,  0,  2,  0,  1,\n",
       "        1,  0,  1,  2,  0,  0,  1,  0,  1,  3,  1,  0,  0,  0,  1,  0,  0,\n",
       "        1,  0,  0,  7,  3,  0,  1,  0,  1,  0,  1,  1,  1,  0,  0,  0,  7,\n",
       "        0,  0,  0,  1,  0,  7,  0,  0,  0,  1,  1,  0,  0,  3,  0,  0,  0,\n",
       "        0,  4,  0,  0,  0,  0,  1,  0,  0,  0,  0,  1,  1,  1,  1,  0,  3,\n",
       "        0,  0,  1,  3,  0,  1,  3,  1,  1,  0,  4,  1,  0,  0,  0,  0,  1,\n",
       "        0,  0,  2,  2,  0,  0,  0,  0,  0,  1,  0,  0,  0,  0,  0,  0,  1,\n",
       "        0,  0,  0,  1,  1,  0,  1,  0,  0,  1,  1,  1,  0,  0,  3,  5,  0,\n",
       "        0,  0,  0,  0,  1,  6,  0,  3,  0,  0,  1,  0,  1,  0,  0,  0,  0,\n",
       "        1,  0,  4,  1,  0,  0,  2,  0,  0,  0,  0,  0,  0,  0,  0,  1,  1,\n",
       "        1,  0,  1,  0,  0,  1,  0,  0,  0,  0,  2,  0,  0,  0,  0,  0,  0,\n",
       "        0,  4,  0,  0,  0,  0,  0,  1,  0,  0,  1,  0,  0,  2,  0,  0,  1,\n",
       "        3,  0,  0,  2,  1,  0,  0,  1,  0,  1,  0,  1,  1,  1,  0,  3,  0,\n",
       "        0,  0,  0,  1,  2,  0,  1,  0,  0,  1,  1,  0,  1,  1,  0,  1,  0,\n",
       "        2,  3,  0,  1,  0,  0,  0,  1,  1,  3,  0,  1,  2,  2,  0,  0,  2,\n",
       "        1,  0,  3,  0,  0,  0,  0,  0,  0,  1,  0,  0,  1,  0,  1,  0,  1,\n",
       "        1,  1,  0,  0,  1,  0,  1,  0,  0,  2,  2,  0,  2,  0,  4,  3,  1,\n",
       "        0,  0,  0,  0,  0,  1,  3,  0,  2,  0,  0,  1,  0,  1,  1,  0,  1,\n",
       "        2,  1,  0,  1,  1,  1,  0,  0,  1,  0,  0,  1,  0,  0,  0,  1,  0,\n",
       "        3,  0,  2,  1,  1,  0,  0,  0,  0,  1,  2,  1,  0,  0,  0,  0,  1,\n",
       "        0,  0,  0,  3,  0,  0,  0,  0,  0,  0,  2,  0,  1,  0,  1,  0,  0,\n",
       "        0,  1,  0,  0,  0,  0,  1,  0,  0,  2,  1,  1,  1,  1,  0,  0,  1,\n",
       "        0,  0,  0,  1,  1,  1,  0,  2,  1,  1,  4,  0,  0,  2,  1,  3,  3,\n",
       "        1,  3,  0,  0,  1,  1,  3,  2,  3,  1,  0,  0,  0,  1,  2,  0,  0,\n",
       "        0,  1,  0,  0,  0,  0,  1,  0,  1,  6,  1,  3,  0,  1,  0,  0,  0,\n",
       "        1,  0,  0,  3,  0,  0,  1,  1,  1,  0,  1,  1,  0,  0,  1,  7,  0,\n",
       "        2,  0,  1,  1,  1,  1,  0,  0,  0,  3,  1,  1,  0,  5,  0,  0,  1,\n",
       "        0,  0,  1,  2,  0,  0,  1,  6,  0,  0,  0,  1,  0,  3,  1,  4,  2,\n",
       "        0,  0,  3,  0,  1,  0,  0,  0,  0,  0,  0,  3,  0,  0,  2,  0,  3,\n",
       "        3,  0,  0,  0,  0,  0,  0,  1,  1,  1,  0,  1,  0,  0,  0,  0,  0,\n",
       "        0,  0,  1,  0,  1,  0,  0,  7,  0,  0,  0,  0,  0,  0,  0,  0],\n",
       "      dtype=int8)"
      ]
     },
     "execution_count": 71,
     "metadata": {},
     "output_type": "execute_result"
    }
   ],
   "source": [
    "y_test_encoded"
   ]
  },
  {
   "cell_type": "code",
   "execution_count": 72,
   "metadata": {},
   "outputs": [
    {
     "name": "stdout",
     "output_type": "stream",
     "text": [
      "{0: (0, 0, 0, 0, 0, 0, 0, 1, 0, 0, 0, 0), 1: (0, 0, 0, 0, 0, 0, 0, 0, 0, 0, 0, 0), 2: (0, 1, 0, 0, 0, 0, 0, 1, 0, 0, 0, 0), 3: (0, 0, 0, 0, 0, 0, 1, 0, 0, 0, 0, 0), 4: (0, 0, 0, 0, 1, 0, 1, 0, 0, 0, 0, 0), 5: (0, 1, 0, 0, 0, 0, 0, 0, 0, 0, 0, 0), 6: (0, 1, 0, 0, 0, 0, 1, 0, 0, 0, 0, 0), 7: (0, 0, 0, 0, 0, 1, 0, 0, 0, 0, 0, 0), 8: (0, 0, 0, 0, 0, 1, 1, 0, 0, 0, 0, 0), 9: (0, 0, 0, 0, 0, 1, 0, 1, 0, 0, 0, 0), 10: (0, 1, 0, 0, 1, 0, 0, 1, 0, 0, 0, 0), 11: (0, 0, 0, 0, 1, 0, 0, 0, 0, 0, 0, 0)}\n"
     ]
    }
   ],
   "source": [
    "decoding = { value:key for key, value in encoding.items() }\n",
    "print(decoding)"
   ]
  },
  {
   "cell_type": "code",
   "execution_count": 73,
   "metadata": {},
   "outputs": [
    {
     "data": {
      "text/plain": [
       "array([[0, 0, 0, ..., 0, 0, 0],\n",
       "       [0, 0, 0, ..., 0, 0, 0],\n",
       "       [0, 0, 0, ..., 0, 0, 0],\n",
       "       ...,\n",
       "       [0, 0, 0, ..., 0, 0, 0],\n",
       "       [0, 0, 0, ..., 0, 0, 0],\n",
       "       [0, 0, 0, ..., 0, 0, 0]], dtype=int8)"
      ]
     },
     "execution_count": 73,
     "metadata": {},
     "output_type": "execute_result"
    }
   ],
   "source": [
    "decode_actions(y_test_encoded, decoding)"
   ]
  },
  {
   "cell_type": "code",
   "execution_count": 74,
   "metadata": {},
   "outputs": [],
   "source": [
    "y_train_enc = encode_actions(y_train, encoding)\n",
    "y_test_enc = encode_actions(y_test, encoding)"
   ]
  },
  {
   "cell_type": "code",
   "execution_count": 75,
   "metadata": {},
   "outputs": [
    {
     "data": {
      "text/plain": [
       "((2393,), (798,))"
      ]
     },
     "execution_count": 75,
     "metadata": {},
     "output_type": "execute_result"
    }
   ],
   "source": [
    "y_train_enc.shape, y_test_enc.shape"
   ]
  },
  {
   "cell_type": "code",
   "execution_count": 76,
   "metadata": {},
   "outputs": [],
   "source": [
    "n_actions = len(unique_actions)"
   ]
  },
  {
   "cell_type": "code",
   "execution_count": 77,
   "metadata": {},
   "outputs": [
    {
     "data": {
      "text/plain": [
       "12"
      ]
     },
     "execution_count": 77,
     "metadata": {},
     "output_type": "execute_result"
    }
   ],
   "source": [
    "n_actions"
   ]
  },
  {
   "cell_type": "code",
   "execution_count": 78,
   "metadata": {},
   "outputs": [],
   "source": [
    "class SonicNet(nn.Module):\n",
    "    \"\"\" A simple deep q-network architecture to be used for predicing \n",
    "        action-values from states.\n",
    "    \"\"\"\n",
    "    \n",
    "    def __init__(self, input_shape, output_shape):\n",
    "        super(SonicNet, self).__init__()\n",
    "        self.input_shape = input_shape\n",
    "        self.output_shape = output_shape\n",
    "        \n",
    "        channels, height, width = self.input_shape\n",
    "        self.features = nn.Sequential(\n",
    "            nn.Conv2d(channels, 16, kernel_size=3, stride=1),\n",
    "            nn.ReLU(),\n",
    "            nn.Conv2d(16, 16, kernel_size=3, stride=3),\n",
    "            nn.ReLU(),\n",
    "            nn.Conv2d(16, 16, kernel_size=3, stride=1),\n",
    "            nn.ReLU(),\n",
    "            nn.Conv2d(16, 16, kernel_size=3, stride=3),\n",
    "            nn.Conv2d(16, 16, kernel_size=3, stride=1),\n",
    "            nn.ReLU(),\n",
    "            nn.Conv2d(16, 16, kernel_size=3, stride=3),\n",
    "            nn.ReLU()\n",
    "        )\n",
    "        \n",
    "        self.fully_connected = nn.Sequential(\n",
    "            nn.Linear(self._feature_size(), 256),\n",
    "            nn.ReLU(),\n",
    "            nn.Linear(256, self.output_shape)\n",
    "        )\n",
    "        \n",
    "    def _feature_size(self):\n",
    "        \"\"\" I took this from somewhere. \"\"\"\n",
    "        return self.features(autograd.Variable(torch.zeros(1, *self.input_shape))).view(1, -1).size(1)\n",
    "    \n",
    "    def forward(self, x):\n",
    "        x = self.features(x)\n",
    "        x = x.view(x.size(0), -1)\n",
    "        x = self.fully_connected(x)\n",
    "        return x"
   ]
  },
  {
   "cell_type": "code",
   "execution_count": 142,
   "metadata": {},
   "outputs": [],
   "source": [
    "env.close()\n",
    "states, actions, next_states, rewards, dones = extract_human_data(f\"data/human/SonicTheHedgehog-Genesis-{config['level']}-0000.bk2\")"
   ]
  },
  {
   "cell_type": "code",
   "execution_count": 143,
   "metadata": {},
   "outputs": [],
   "source": [
    "online_model, target_model = SonicNet(states[0].shape, n_actions), SonicNet(states[0].shape, n_actions)"
   ]
  },
  {
   "cell_type": "code",
   "execution_count": 144,
   "metadata": {},
   "outputs": [],
   "source": [
    "# To Do: Write a code that extracts the n-th state and the \n",
    "# discounted sum of rewards up to the n-th state and builds\n",
    "# transitions for training our little model."
   ]
  },
  {
   "cell_type": "code",
   "execution_count": 145,
   "metadata": {},
   "outputs": [],
   "source": [
    "def build_nstep_transitions(states, actions, next_states, rewards, dones, n, gamma):\n",
    "    \"\"\" Assuming that the inputs are sorted temporally from early to late, \n",
    "        build n-step transitions and return them for training DQfD.\n",
    "    \"\"\"\n",
    "    \n",
    "    _states, _actions, _nth_states, _discounted_rewards, _dones = [], [], [], [], []\n",
    "    _next_states, _rewards = [], []\n",
    "    \n",
    "    # Iterate up to the point where there are fewer than\n",
    "    # n states left to process.\n",
    "    for i in range(len(states) - n):\n",
    "        \n",
    "        # Most of these could just be list copies.  The only thing we need\n",
    "        # to build on the fly is the nth_state and the discounted reward.\n",
    "        _states.append(states[i])\n",
    "        _actions.append(actions[i])\n",
    "        _next_states.append(next_states[i])\n",
    "        _nth_states.append(next_states[i + n - 1])\n",
    "        _rewards.append(rewards[i])\n",
    "        \n",
    "        discounted_reward = 0.\n",
    "        for j in range(n):\n",
    "            \n",
    "            if not dones[i + j]:\n",
    "                discounted_reward += gamma**j * rewards[i + j]\n",
    "                done = False\n",
    "            else:\n",
    "                done = True\n",
    "                break\n",
    "                \n",
    "        _discounted_rewards.append(discounted_reward)\n",
    "        _dones.append(done)\n",
    "    \n",
    "    return _states, _actions, _next_states, _nth_states, _rewards, _discounted_rewards, _dones"
   ]
  },
  {
   "cell_type": "code",
   "execution_count": 146,
   "metadata": {},
   "outputs": [],
   "source": [
    "_states, _actions, _next_states, _nth_states, _rewards, _discounted_rewards, _dones = build_nstep_transitions(\n",
    "    states, actions, next_states, rewards, dones, n=5, gamma=0.99)"
   ]
  },
  {
   "cell_type": "code",
   "execution_count": 147,
   "metadata": {},
   "outputs": [
    {
     "name": "stdout",
     "output_type": "stream",
     "text": [
      "<class 'numpy.ndarray'>\n"
     ]
    }
   ],
   "source": [
    "assertion_result = next_states[4] == _nth_states[0] \n",
    "print(type(assertion_result))"
   ]
  },
  {
   "cell_type": "code",
   "execution_count": 148,
   "metadata": {},
   "outputs": [
    {
     "data": {
      "text/plain": [
       "True"
      ]
     },
     "execution_count": 148,
     "metadata": {},
     "output_type": "execute_result"
    }
   ],
   "source": [
    "assertion_result.all()"
   ]
  },
  {
   "cell_type": "code",
   "execution_count": 149,
   "metadata": {},
   "outputs": [
    {
     "data": {
      "text/plain": [
       "(3186, 3186, 3186)"
      ]
     },
     "execution_count": 149,
     "metadata": {},
     "output_type": "execute_result"
    }
   ],
   "source": [
    "len(_states), len(_next_states), len(_nth_states)"
   ]
  },
  {
   "cell_type": "code",
   "execution_count": 150,
   "metadata": {},
   "outputs": [],
   "source": [
    "_actions = encode_actions(_actions, encoding)"
   ]
  },
  {
   "cell_type": "code",
   "execution_count": 151,
   "metadata": {},
   "outputs": [
    {
     "name": "stdout",
     "output_type": "stream",
     "text": [
      "[1 1 1 ... 0 0 0]\n"
     ]
    }
   ],
   "source": [
    "print(_actions)"
   ]
  },
  {
   "cell_type": "code",
   "execution_count": 152,
   "metadata": {},
   "outputs": [],
   "source": [
    "_states = torchify_float(_states[:32])\n",
    "_actions = torchify_long(_actions[:32])\n",
    "_next_states = torchify_float(_next_states[:32])\n",
    "_nth_states = torchify_float(_nth_states[:32])\n",
    "_rewards = torchify_float(_rewards[:32])\n",
    "_discounted_rewards = torchify_float(_discounted_rewards[:32])\n",
    "_dones = torchify_float(_dones[:32])"
   ]
  },
  {
   "cell_type": "code",
   "execution_count": 153,
   "metadata": {},
   "outputs": [
    {
     "name": "stdout",
     "output_type": "stream",
     "text": [
      "tensor([ 8,  8,  8,  8,  8, 10, 10, 10, 10, 10, 10, 10, 10, 10, 10, 10, 10, 10,\n",
      "        10, 10, 10, 10, 10, 10, 10, 10, 10, 10, 10, 10, 10, 10])\n"
     ]
    }
   ],
   "source": [
    "q_values = online_model(_states)\n",
    "actions = torch.argmax(q_values, axis=1)\n",
    "print(actions)"
   ]
  },
  {
   "cell_type": "code",
   "execution_count": 154,
   "metadata": {},
   "outputs": [
    {
     "name": "stdout",
     "output_type": "stream",
     "text": [
      "tensor([1, 1, 1, 1, 1, 1, 1, 1, 1, 1, 1, 1, 1, 1, 1, 1, 1, 1, 1, 1, 1, 1, 1, 1,\n",
      "        1, 1, 1, 1, 1, 1, 1, 1])\n"
     ]
    }
   ],
   "source": [
    "print(_actions)"
   ]
  },
  {
   "cell_type": "code",
   "execution_count": 155,
   "metadata": {},
   "outputs": [
    {
     "data": {
      "text/plain": [
       "tensor(1.0504, grad_fn=<AddBackward0>)"
      ]
     },
     "execution_count": 155,
     "metadata": {},
     "output_type": "execute_result"
    }
   ],
   "source": [
    "torch_dqfd_loss(\n",
    "    online_model=online_model,\n",
    "    target_model=target_model,\n",
    "    states=_states,\n",
    "    next_states=_next_states, nth_states=_nth_states,\n",
    "    rewards=_rewards, discounted_rewards=_discounted_rewards,\n",
    "    dones=_dones, gamma=0.99, n=5,\n",
    "    coef1=1., coef2=1., coef3=1e-5,\n",
    "    margin=0.8, expert_actions=_actions\n",
    ")"
   ]
  },
  {
   "cell_type": "code",
   "execution_count": 156,
   "metadata": {},
   "outputs": [],
   "source": [
    "env.close()\n",
    "states, actions, next_states, rewards, dones = extract_human_data(f\"data/human/SonicTheHedgehog-Genesis-{config['level']}-0000.bk2\")\n",
    "_states, _actions, _next_states, _nth_states, _rewards, _discounted_rewards, _dones = build_nstep_transitions(\n",
    "    states, actions, next_states, rewards, dones, n=5, gamma=0.99)\n",
    "_actions = encode_actions(_actions, encoding)\n",
    "\n",
    "_states = np.array(_states)\n",
    "_actions = np.array(_actions)\n",
    "_next_states = np.array(_next_states)\n",
    "_nth_states = np.array(_nth_states)\n",
    "_rewards = np.array(_rewards)\n",
    "_discounted_rewards = np.array(_discounted_rewards)\n",
    "_dones = np.array(_dones)"
   ]
  },
  {
   "cell_type": "code",
   "execution_count": 157,
   "metadata": {},
   "outputs": [],
   "source": [
    "optimizer = optim.Adam(online_model.parameters(), lr=3e-4)"
   ]
  },
  {
   "cell_type": "code",
   "execution_count": 158,
   "metadata": {},
   "outputs": [
    {
     "name": "stdout",
     "output_type": "stream",
     "text": [
      "tensor(302.9003, grad_fn=<AddBackward0>)\n"
     ]
    }
   ],
   "source": [
    "# Get some indices for a batch of transitions \n",
    "index_pool = np.arange(len(_states))\n",
    "batch_indices = np.random.choice(index_pool, 32, replace=False)\n",
    "\n",
    "# Convert the batch for use\n",
    "b_states = torchify_float(_states[batch_indices])\n",
    "b_actions = torchify_long(_actions[batch_indices])\n",
    "b_next_states = torchify_float(_next_states[batch_indices])\n",
    "b_nth_states = torchify_float(_nth_states[batch_indices])\n",
    "b_rewards = torchify_float(_rewards[batch_indices])\n",
    "b_discounted_rewards = torchify_float(_discounted_rewards[batch_indices])\n",
    "b_dones = torchify_float(_dones[batch_indices])\n",
    "\n",
    "optimizer.zero_grad()\n",
    "loss = torch_dqfd_loss(\n",
    "    online_model=online_model,\n",
    "    target_model=target_model,\n",
    "    states=b_states,\n",
    "    next_states=b_next_states, nth_states=b_nth_states,\n",
    "    rewards=b_rewards, discounted_rewards=b_discounted_rewards,\n",
    "    dones=b_dones, gamma=0.99, n=5,\n",
    "    coef1=1., coef2=1., coef3=1e-5,\n",
    "    margin=0.8, expert_actions=b_actions\n",
    ")\n",
    "print(loss)\n",
    "loss.backward()\n",
    "optimizer.step()"
   ]
  },
  {
   "cell_type": "code",
   "execution_count": 178,
   "metadata": {},
   "outputs": [],
   "source": [
    "online_model = online_model.to(device='cuda:0')\n",
    "target_model = target_model.to(device='cuda:0')\n",
    "optimizer = optim.Adam(online_model.parameters(), lr=3e-4)"
   ]
  },
  {
   "cell_type": "code",
   "execution_count": 189,
   "metadata": {},
   "outputs": [
    {
     "name": "stdout",
     "output_type": "stream",
     "text": [
      "Epoch 0, Loss 9.5800, TD-Loss 7.6780, NTD-Loss 0.0000, Margin Loss 1.9005, L2 Loss 0.0015\n",
      "Epoch 1, Loss 6.0563, TD-Loss 4.6595, NTD-Loss 0.0000, Margin Loss 1.3954, L2 Loss 0.0015\n",
      "Epoch 2, Loss 6.2261, TD-Loss 4.5608, NTD-Loss 0.0000, Margin Loss 1.6639, L2 Loss 0.0015\n",
      "Epoch 3, Loss 4.2302, TD-Loss 2.9343, NTD-Loss 0.0000, Margin Loss 1.2944, L2 Loss 0.0015\n",
      "Epoch 4, Loss 9.2266, TD-Loss 9.8600, NTD-Loss 0.0000, Margin Loss -0.6348, L2 Loss 0.0015\n",
      "Epoch 5, Loss 3.7353, TD-Loss 2.3545, NTD-Loss 0.0000, Margin Loss 1.3793, L2 Loss 0.0015\n",
      "Epoch 6, Loss 4.3784, TD-Loss 3.2179, NTD-Loss 0.0000, Margin Loss 1.1591, L2 Loss 0.0015\n",
      "Epoch 7, Loss 1.8852, TD-Loss 0.4499, NTD-Loss 0.0000, Margin Loss 1.4339, L2 Loss 0.0015\n",
      "Epoch 8, Loss 3.3836, TD-Loss 1.8385, NTD-Loss 0.0000, Margin Loss 1.5436, L2 Loss 0.0015\n",
      "Epoch 9, Loss 2.9652, TD-Loss 1.3532, NTD-Loss 0.0000, Margin Loss 1.6105, L2 Loss 0.0015\n",
      "Epoch 10, Loss 2.2128, TD-Loss 0.8979, NTD-Loss 0.0000, Margin Loss 1.3135, L2 Loss 0.0015\n",
      "Epoch 11, Loss 1.4437, TD-Loss 1.3628, NTD-Loss 0.0000, Margin Loss 0.0794, L2 Loss 0.0015\n",
      "Epoch 12, Loss 2.1359, TD-Loss 0.6549, NTD-Loss 0.0000, Margin Loss 1.4795, L2 Loss 0.0015\n",
      "Epoch 13, Loss 1.9913, TD-Loss 0.8750, NTD-Loss 0.0000, Margin Loss 1.1148, L2 Loss 0.0015\n",
      "Epoch 14, Loss 2.6289, TD-Loss 1.0585, NTD-Loss 0.0000, Margin Loss 1.5688, L2 Loss 0.0015\n",
      "Epoch 15, Loss 1.4671, TD-Loss 0.2907, NTD-Loss 0.0000, Margin Loss 1.1749, L2 Loss 0.0015\n",
      "Epoch 16, Loss 1.6987, TD-Loss 0.7193, NTD-Loss 0.0000, Margin Loss 0.9779, L2 Loss 0.0015\n",
      "Epoch 17, Loss 2.3493, TD-Loss 1.0556, NTD-Loss 0.0000, Margin Loss 1.2921, L2 Loss 0.0015\n",
      "Epoch 18, Loss 2.6189, TD-Loss 1.2667, NTD-Loss 0.0000, Margin Loss 1.3507, L2 Loss 0.0015\n",
      "Epoch 19, Loss 1.3228, TD-Loss 0.3014, NTD-Loss 0.0000, Margin Loss 1.0198, L2 Loss 0.0015\n",
      "Epoch 20, Loss 2.4109, TD-Loss 0.8738, NTD-Loss 0.0000, Margin Loss 1.5356, L2 Loss 0.0015\n",
      "Epoch 21, Loss 1.3833, TD-Loss 0.2486, NTD-Loss 0.0000, Margin Loss 1.1333, L2 Loss 0.0015\n",
      "Epoch 22, Loss 0.1982, TD-Loss 0.4594, NTD-Loss 0.0000, Margin Loss -0.2627, L2 Loss 0.0015\n",
      "Epoch 23, Loss 1.7416, TD-Loss 0.6693, NTD-Loss 0.0000, Margin Loss 1.0708, L2 Loss 0.0015\n",
      "Epoch 24, Loss 1.5173, TD-Loss 0.5198, NTD-Loss 0.0000, Margin Loss 0.9960, L2 Loss 0.0015\n",
      "Epoch 25, Loss 1.5853, TD-Loss 0.5897, NTD-Loss 0.0000, Margin Loss 0.9940, L2 Loss 0.0015\n",
      "Epoch 26, Loss 1.1166, TD-Loss 0.2061, NTD-Loss 0.0000, Margin Loss 0.9090, L2 Loss 0.0015\n",
      "Epoch 27, Loss 1.4483, TD-Loss 0.2282, NTD-Loss 0.0000, Margin Loss 1.2185, L2 Loss 0.0015\n",
      "Epoch 28, Loss 1.1467, TD-Loss 0.1660, NTD-Loss 0.0000, Margin Loss 0.9791, L2 Loss 0.0015\n",
      "Epoch 29, Loss 1.2727, TD-Loss 0.3197, NTD-Loss 0.0000, Margin Loss 0.9515, L2 Loss 0.0015\n",
      "Epoch 30, Loss 1.2268, TD-Loss 0.2277, NTD-Loss 0.0000, Margin Loss 0.9976, L2 Loss 0.0015\n",
      "Epoch 31, Loss 2.0968, TD-Loss 1.1217, NTD-Loss 0.0000, Margin Loss 0.9736, L2 Loss 0.0015\n",
      "Epoch 32, Loss 1.1513, TD-Loss 0.2666, NTD-Loss 0.0000, Margin Loss 0.8832, L2 Loss 0.0015\n",
      "Epoch 33, Loss 1.0828, TD-Loss 0.1417, NTD-Loss 0.0000, Margin Loss 0.9395, L2 Loss 0.0016\n",
      "Epoch 34, Loss -0.2882, TD-Loss 0.2038, NTD-Loss 0.0000, Margin Loss -0.4935, L2 Loss 0.0016\n",
      "Epoch 35, Loss 1.1527, TD-Loss 0.1580, NTD-Loss 0.0000, Margin Loss 0.9931, L2 Loss 0.0016\n",
      "Epoch 36, Loss 2.1553, TD-Loss 1.1307, NTD-Loss 0.0000, Margin Loss 1.0230, L2 Loss 0.0016\n",
      "Epoch 37, Loss 1.1974, TD-Loss 0.3187, NTD-Loss 0.0000, Margin Loss 0.8772, L2 Loss 0.0016\n",
      "Epoch 38, Loss 1.3608, TD-Loss 0.3059, NTD-Loss 0.0000, Margin Loss 1.0534, L2 Loss 0.0016\n",
      "Epoch 39, Loss 1.2932, TD-Loss 0.4655, NTD-Loss 0.0000, Margin Loss 0.8261, L2 Loss 0.0016\n"
     ]
    }
   ],
   "source": [
    "n_epochs = 40\n",
    "n_batches_per_epoch = 40\n",
    "batch_size = 32\n",
    "index_pool = np.arange(len(_states))\n",
    "\n",
    "train_loss = []\n",
    "train_std = []\n",
    "for epoch in range(n_epochs):\n",
    "    \n",
    "    epoch_loss = []\n",
    "    epoch_td_loss, epoch_ntd_loss, epoch_margin_loss, epoch_l2_loss = [], [], [], []\n",
    "    for batch in range(n_batches_per_epoch):\n",
    "        \n",
    "        # Generate a batch of transitions from the data pool.\n",
    "        batch_indices = np.random.choice(index_pool, batch_size, replace=False)\n",
    "        b_states = torchify_float(_states[batch_indices]).to(device='cuda:0')\n",
    "        b_actions = torchify_long(_actions[batch_indices]).to(device='cuda:0')\n",
    "        b_next_states = torchify_float(_next_states[batch_indices]).to(device='cuda:0')\n",
    "        b_nth_states = torchify_float(_nth_states[batch_indices]).to(device='cuda:0')\n",
    "        b_rewards = torchify_float(_rewards[batch_indices]).to(device='cuda:0')\n",
    "        b_discounted_rewards = torchify_float(_discounted_rewards[batch_indices]).to(device='cuda:0')\n",
    "        b_dones = torchify_float(_dones[batch_indices]).to(device='cuda:0')\n",
    "        \n",
    "        optimizer.zero_grad()\n",
    "        loss, td_loss, ntd_loss, margin_loss, l2_loss = torch_dqfd_loss(\n",
    "            online_model=online_model,\n",
    "            target_model=target_model,\n",
    "            states=b_states,\n",
    "            next_states=b_next_states, nth_states=b_nth_states,\n",
    "            rewards=b_rewards, discounted_rewards=b_discounted_rewards,\n",
    "            dones=b_dones, gamma=0.99, n=5,\n",
    "            coef1=0., coef2=1., coef3=1e-5,\n",
    "            margin=0.8, expert_actions=b_actions\n",
    "        )\n",
    "        #loss = loss.mean()\n",
    "        loss.backward()\n",
    "        optimizer.step()\n",
    "        epoch_loss.append(loss.detach().cpu().numpy())\n",
    "        epoch_td_loss.append(td_loss.detach().cpu().numpy())\n",
    "        epoch_ntd_loss.append(ntd_loss.detach().cpu().numpy())\n",
    "        epoch_margin_loss.append(margin_loss.detach().cpu().numpy())\n",
    "        epoch_l2_loss.append(l2_loss.detach().cpu().numpy())\n",
    "        \n",
    "    print(\"Epoch {0}, Loss {1:6.4f}, TD-Loss {2:6.4f}, NTD-Loss {3:6.4f}, Margin Loss {4:6.4f}, L2 Loss {5:6.4f}\".format(\n",
    "        epoch, np.mean(epoch_loss), np.mean(epoch_td_loss), \n",
    "        np.mean(epoch_ntd_loss), np.mean(epoch_margin_loss), np.mean(epoch_l2_loss))\n",
    "         )\n",
    "    \n",
    "    train_loss.append(np.mean(epoch_loss))\n",
    "    train_std.append(np.std(epoch_loss))"
   ]
  },
  {
   "cell_type": "code",
   "execution_count": 190,
   "metadata": {},
   "outputs": [
    {
     "data": {
      "text/plain": [
       "Text(0, 0.5, 'Loss')"
      ]
     },
     "execution_count": 190,
     "metadata": {},
     "output_type": "execute_result"
    },
    {
     "data": {
      "image/png": "[encoded data removed]",
      "text/plain": [
       "<Figure size 432x288 with 1 Axes>"
      ]
     },
     "metadata": {
      "needs_background": "light"
     },
     "output_type": "display_data"
    }
   ],
   "source": [
    "steps = np.arange(n_epochs)\n",
    "plt.plot(steps, train_loss)\n",
    "\n",
    "mu = np.array(train_loss)\n",
    "std = np.array(train_std)\n",
    "plt.fill_between(steps, mu-std, mu+std, alpha=0.2)\n",
    "plt.grid(alpha=0.35)\n",
    "plt.xlabel(\"Epoch\")\n",
    "plt.ylabel(\"Loss\")"
   ]
  },
  {
   "cell_type": "code",
   "execution_count": 201,
   "metadata": {},
   "outputs": [
    {
     "ename": "TypeError",
     "evalue": "only size-1 arrays can be converted to Python scalars",
     "output_type": "error",
     "traceback": [
      "\u001b[0;31m---------------------------------------------------------------------------\u001b[0m",
      "\u001b[0;31mTypeError\u001b[0m                                 Traceback (most recent call last)",
      "\u001b[0;32m<ipython-input-201-d4488f644159>\u001b[0m in \u001b[0;36m<module>\u001b[0;34m\u001b[0m\n\u001b[1;32m      1\u001b[0m \u001b[0menv\u001b[0m\u001b[0;34m.\u001b[0m\u001b[0mclose\u001b[0m\u001b[0;34m(\u001b[0m\u001b[0;34m)\u001b[0m\u001b[0;34m\u001b[0m\u001b[0;34m\u001b[0m\u001b[0m\n\u001b[1;32m      2\u001b[0m \u001b[0menv\u001b[0m \u001b[0;34m=\u001b[0m \u001b[0mretro\u001b[0m\u001b[0;34m.\u001b[0m\u001b[0mmake\u001b[0m\u001b[0;34m(\u001b[0m\u001b[0;34m'SonicTheHedgehog-Genesis'\u001b[0m\u001b[0;34m,\u001b[0m \u001b[0mstate\u001b[0m\u001b[0;34m=\u001b[0m\u001b[0mconfig\u001b[0m\u001b[0;34m[\u001b[0m\u001b[0;34m'level'\u001b[0m\u001b[0;34m]\u001b[0m\u001b[0;34m)\u001b[0m\u001b[0;34m\u001b[0m\u001b[0;34m\u001b[0m\u001b[0m\n\u001b[0;32m----> 3\u001b[0;31m \u001b[0mplay_evaluation_games2\u001b[0m\u001b[0;34m(\u001b[0m\u001b[0menv\u001b[0m\u001b[0;34m,\u001b[0m \u001b[0monline_model\u001b[0m\u001b[0;34m,\u001b[0m \u001b[0mn_games\u001b[0m\u001b[0;34m=\u001b[0m\u001b[0;36m1\u001b[0m\u001b[0;34m,\u001b[0m \u001b[0mrnd_steps\u001b[0m\u001b[0;34m=\u001b[0m\u001b[0;36m50\u001b[0m\u001b[0;34m,\u001b[0m \u001b[0mmax_frames\u001b[0m\u001b[0;34m=\u001b[0m\u001b[0;36m1000\u001b[0m\u001b[0;34m)\u001b[0m\u001b[0;34m\u001b[0m\u001b[0;34m\u001b[0m\u001b[0m\n\u001b[0m",
      "\u001b[0;32m<ipython-input-200-67391e5bf0cb>\u001b[0m in \u001b[0;36mplay_evaluation_games2\u001b[0;34m(env, model, n_games, rnd_steps, max_frames)\u001b[0m\n\u001b[1;32m     28\u001b[0m                 \u001b[0maction\u001b[0m \u001b[0;34m=\u001b[0m \u001b[0;34m[\u001b[0m\u001b[0mnp\u001b[0m\u001b[0;34m.\u001b[0m\u001b[0margmax\u001b[0m\u001b[0;34m(\u001b[0m\u001b[0maction\u001b[0m\u001b[0;34m)\u001b[0m\u001b[0;34m]\u001b[0m\u001b[0;34m\u001b[0m\u001b[0;34m\u001b[0m\u001b[0m\n\u001b[1;32m     29\u001b[0m                 \u001b[0maction\u001b[0m \u001b[0;34m=\u001b[0m \u001b[0mdecode_actions\u001b[0m\u001b[0;34m(\u001b[0m\u001b[0maction\u001b[0m\u001b[0;34m,\u001b[0m \u001b[0mdecoding\u001b[0m\u001b[0;34m)\u001b[0m\u001b[0;34m\u001b[0m\u001b[0;34m\u001b[0m\u001b[0m\n\u001b[0;32m---> 30\u001b[0;31m                 \u001b[0mnew_state\u001b[0m\u001b[0;34m,\u001b[0m \u001b[0mreward\u001b[0m\u001b[0;34m,\u001b[0m \u001b[0mdone\u001b[0m\u001b[0;34m,\u001b[0m \u001b[0minfo\u001b[0m \u001b[0;34m=\u001b[0m \u001b[0menv\u001b[0m\u001b[0;34m.\u001b[0m\u001b[0mstep\u001b[0m\u001b[0;34m(\u001b[0m\u001b[0maction\u001b[0m\u001b[0;34m)\u001b[0m\u001b[0;34m\u001b[0m\u001b[0;34m\u001b[0m\u001b[0m\n\u001b[0m\u001b[1;32m     31\u001b[0m                 \u001b[0mstate\u001b[0m \u001b[0;34m=\u001b[0m \u001b[0mnew_state\u001b[0m\u001b[0;34m\u001b[0m\u001b[0;34m\u001b[0m\u001b[0m\n\u001b[1;32m     32\u001b[0m \u001b[0;34m\u001b[0m\u001b[0m\n",
      "\u001b[0;32m~/anaconda3/envs/pytorch_p36/lib/python3.6/site-packages/retro/retro_env.py\u001b[0m in \u001b[0;36mstep\u001b[0;34m(self, a)\u001b[0m\n\u001b[1;32m    177\u001b[0m             \u001b[0;32mraise\u001b[0m \u001b[0mRuntimeError\u001b[0m\u001b[0;34m(\u001b[0m\u001b[0;34m'Please call env.reset() before env.step()'\u001b[0m\u001b[0;34m)\u001b[0m\u001b[0;34m\u001b[0m\u001b[0;34m\u001b[0m\u001b[0m\n\u001b[1;32m    178\u001b[0m \u001b[0;34m\u001b[0m\u001b[0m\n\u001b[0;32m--> 179\u001b[0;31m         \u001b[0;32mfor\u001b[0m \u001b[0mp\u001b[0m\u001b[0;34m,\u001b[0m \u001b[0map\u001b[0m \u001b[0;32min\u001b[0m \u001b[0menumerate\u001b[0m\u001b[0;34m(\u001b[0m\u001b[0mself\u001b[0m\u001b[0;34m.\u001b[0m\u001b[0maction_to_array\u001b[0m\u001b[0;34m(\u001b[0m\u001b[0ma\u001b[0m\u001b[0;34m)\u001b[0m\u001b[0;34m)\u001b[0m\u001b[0;34m:\u001b[0m\u001b[0;34m\u001b[0m\u001b[0;34m\u001b[0m\u001b[0m\n\u001b[0m\u001b[1;32m    180\u001b[0m             \u001b[0;32mif\u001b[0m \u001b[0mself\u001b[0m\u001b[0;34m.\u001b[0m\u001b[0mmovie\u001b[0m\u001b[0;34m:\u001b[0m\u001b[0;34m\u001b[0m\u001b[0;34m\u001b[0m\u001b[0m\n\u001b[1;32m    181\u001b[0m                 \u001b[0;32mfor\u001b[0m \u001b[0mi\u001b[0m \u001b[0;32min\u001b[0m \u001b[0mrange\u001b[0m\u001b[0;34m(\u001b[0m\u001b[0mself\u001b[0m\u001b[0;34m.\u001b[0m\u001b[0mnum_buttons\u001b[0m\u001b[0;34m)\u001b[0m\u001b[0;34m:\u001b[0m\u001b[0;34m\u001b[0m\u001b[0;34m\u001b[0m\u001b[0m\n",
      "\u001b[0;32m~/anaconda3/envs/pytorch_p36/lib/python3.6/site-packages/retro/retro_env.py\u001b[0m in \u001b[0;36maction_to_array\u001b[0;34m(self, a)\u001b[0m\n\u001b[1;32m    164\u001b[0m                 \u001b[0map\u001b[0m \u001b[0;34m=\u001b[0m \u001b[0ma\u001b[0m\u001b[0;34m[\u001b[0m\u001b[0mself\u001b[0m\u001b[0;34m.\u001b[0m\u001b[0mnum_buttons\u001b[0m \u001b[0;34m*\u001b[0m \u001b[0mp\u001b[0m\u001b[0;34m:\u001b[0m\u001b[0mself\u001b[0m\u001b[0;34m.\u001b[0m\u001b[0mnum_buttons\u001b[0m \u001b[0;34m*\u001b[0m \u001b[0;34m(\u001b[0m\u001b[0mp\u001b[0m \u001b[0;34m+\u001b[0m \u001b[0;36m1\u001b[0m\u001b[0;34m)\u001b[0m\u001b[0;34m]\u001b[0m\u001b[0;34m\u001b[0m\u001b[0;34m\u001b[0m\u001b[0m\n\u001b[1;32m    165\u001b[0m                 \u001b[0;32mfor\u001b[0m \u001b[0mi\u001b[0m \u001b[0;32min\u001b[0m \u001b[0mrange\u001b[0m\u001b[0;34m(\u001b[0m\u001b[0mlen\u001b[0m\u001b[0;34m(\u001b[0m\u001b[0map\u001b[0m\u001b[0;34m)\u001b[0m\u001b[0;34m)\u001b[0m\u001b[0;34m:\u001b[0m\u001b[0;34m\u001b[0m\u001b[0;34m\u001b[0m\u001b[0m\n\u001b[0;32m--> 166\u001b[0;31m                     \u001b[0maction\u001b[0m \u001b[0;34m|=\u001b[0m \u001b[0mint\u001b[0m\u001b[0;34m(\u001b[0m\u001b[0map\u001b[0m\u001b[0;34m[\u001b[0m\u001b[0mi\u001b[0m\u001b[0;34m]\u001b[0m\u001b[0;34m)\u001b[0m \u001b[0;34m<<\u001b[0m \u001b[0mi\u001b[0m\u001b[0;34m\u001b[0m\u001b[0;34m\u001b[0m\u001b[0m\n\u001b[0m\u001b[1;32m    167\u001b[0m                 \u001b[0;32mif\u001b[0m \u001b[0mself\u001b[0m\u001b[0;34m.\u001b[0m\u001b[0muse_restricted_actions\u001b[0m \u001b[0;34m==\u001b[0m \u001b[0mretro\u001b[0m\u001b[0;34m.\u001b[0m\u001b[0mActions\u001b[0m\u001b[0;34m.\u001b[0m\u001b[0mFILTERED\u001b[0m\u001b[0;34m:\u001b[0m\u001b[0;34m\u001b[0m\u001b[0;34m\u001b[0m\u001b[0m\n\u001b[1;32m    168\u001b[0m                     \u001b[0maction\u001b[0m \u001b[0;34m=\u001b[0m \u001b[0mself\u001b[0m\u001b[0;34m.\u001b[0m\u001b[0mdata\u001b[0m\u001b[0;34m.\u001b[0m\u001b[0mfilter_action\u001b[0m\u001b[0;34m(\u001b[0m\u001b[0maction\u001b[0m\u001b[0;34m)\u001b[0m\u001b[0;34m\u001b[0m\u001b[0;34m\u001b[0m\u001b[0m\n",
      "\u001b[0;31mTypeError\u001b[0m: only size-1 arrays can be converted to Python scalars"
     ]
    }
   ],
   "source": [
    "env.close()\n",
    "env = retro.make('SonicTheHedgehog-Genesis', state=config['level'])\n",
    "play_evaluation_games2(env, online_model, n_games=1, rnd_steps=50, max_frames=1000)"
   ]
  },
  {
   "cell_type": "code",
   "execution_count": null,
   "metadata": {},
   "outputs": [],
   "source": []
  }
 ],
 "metadata": {
  "kernelspec": {
   "display_name": "Environment (conda_pytorch_p36)",
   "language": "python",
   "name": "conda_pytorch_p36"
  },
  "language_info": {
   "codemirror_mode": {
    "name": "ipython",
    "version": 3
   },
   "file_extension": ".py",
   "mimetype": "text/x-python",
   "name": "python",
   "nbconvert_exporter": "python",
   "pygments_lexer": "ipython3",
   "version": "3.6.10"
  }
 },
 "nbformat": 4,
 "nbformat_minor": 4
}
